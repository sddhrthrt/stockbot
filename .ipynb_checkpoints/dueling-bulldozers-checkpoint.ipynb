{
 "cells": [
  {
   "cell_type": "code",
   "execution_count": 34,
   "metadata": {
    "collapsed": false
   },
   "outputs": [],
   "source": [
    "from bidder import *\n",
    "import websocket\n",
    "import json\n",
    "\n",
    "account = \"LMB73474977\"\n",
    "venue = \"LMJBEX\"\n",
    "stock = \"PMII\"\n",
    "\n",
    "import sqlite3\n",
    "\n",
    "import functools\n",
    "import random"
   ]
  },
  {
   "cell_type": "code",
   "execution_count": 35,
   "metadata": {
    "collapsed": true
   },
   "outputs": [],
   "source": [
    "conn = sqlite3.connect(\"sell-side.db\")"
   ]
  },
  {
   "cell_type": "code",
   "execution_count": 36,
   "metadata": {
    "collapsed": false
   },
   "outputs": [],
   "source": [
    "conn.execute('''drop table if exists details''')\n",
    "conn.execute('''create table details (account string primary key, amount int, nav int, position int)''')\n",
    "conn.commit()"
   ]
  },
  {
   "cell_type": "code",
   "execution_count": 37,
   "metadata": {
    "collapsed": true
   },
   "outputs": [],
   "source": [
    "def get_status(db, account):\n",
    "    res = db.execute('''select amount, nav, position from details where account = '%s' '''%(account,))\n",
    "    row = res.fetchall()[0]\n",
    "    return row"
   ]
  },
  {
   "cell_type": "code",
   "execution_count": 38,
   "metadata": {
    "collapsed": true
   },
   "outputs": [],
   "source": [
    "def save_status(db, account, amount, nav, position):\n",
    "    res = db.execute('''insert or replace into details (account, amount, nav, position) values ('%s', %s, %s, %s)'''%(account, amount, nav, position))\n",
    "    db.commit()"
   ]
  },
  {
   "cell_type": "code",
   "execution_count": 39,
   "metadata": {
    "collapsed": false
   },
   "outputs": [],
   "source": [
    "save_status(conn, account, 0, 0, 0)"
   ]
  },
  {
   "cell_type": "code",
   "execution_count": 40,
   "metadata": {
    "collapsed": false
   },
   "outputs": [
    {
     "data": {
      "text/plain": [
       "(0, 0, 0)"
      ]
     },
     "execution_count": 40,
     "metadata": {},
     "output_type": "execute_result"
    }
   ],
   "source": [
    "get_status(conn, account)"
   ]
  },
  {
   "cell_type": "code",
   "execution_count": 49,
   "metadata": {
    "collapsed": false
   },
   "outputs": [],
   "source": [
    "def quote_listener(account, ws, message):\n",
    "    quote = json.loads(message)['quote']\n",
    "    db = sqlite3.connect(\"sell-side.db\")\n",
    "    ask, askSize, bid, bidSize, venue, stock = quote.get('ask', None), quote.get('askSize', None), quote.get('bid', None), quote.get('bidSize', None), quote.get('venue'), quote.get('symbol')\n",
    "    amount, nav, position = get_status(db, account)\n",
    "    print amount, nav, position\n",
    "    if bid is not None and position > 0: # sell if you can get profit\n",
    "        print \"avgrate: \", (amount/position) if position else 0, \"bid: \", bid, \"bidsize: \", bidSize, \"position: \", position\n",
    "        if abs(amount/position) < bid-1000:\n",
    "            qty = position if (position-bidSize < -200) else bidSize\n",
    "            print sell(account, venue, stock, bid+1000, qty, 'limit')\n",
    "    if ask is not None and position < 200: # buy for cheap\n",
    "        if position == 0 or ask < abs(amount/position):\n",
    "            qty = askSize if (200-position > askSize) else 200-position\n",
    "            print buy(account, venue, stock, ask-1000, qty, 'limit')\n",
    "    "
   ]
  },
  {
   "cell_type": "code",
   "execution_count": 50,
   "metadata": {
    "collapsed": false
   },
   "outputs": [],
   "source": [
    "def fills_listener(account, ws, message):\n",
    "    fill = json.loads(message)\n",
    "    db = sqlite3.connect(\"sell-side.db\")\n",
    "    amount, nav, position = get_status(db, account)\n",
    "    if 'order' in fill:\n",
    "        price, filled = fill['price'], fill['filled']\n",
    "        if fill['order']['direction'] == 'buy':\n",
    "            amount -= price * filled\n",
    "            position += filled\n",
    "        elif fill['order']['direction'] == 'sell':\n",
    "            amount += price * filled\n",
    "            position -= filled\n",
    "    save_status(db, account, amount, nav, position)\n",
    "            "
   ]
  },
  {
   "cell_type": "code",
   "execution_count": 47,
   "metadata": {
    "collapsed": false
   },
   "outputs": [
    {
     "name": "stdout",
     "output_type": "stream",
     "text": [
      "24669 0 0\n",
      "ordering with data:  {'account': 'LMB73474977', 'orderType': 'limit', 'price': 3495, 'venue': u'LMJBEX', 'direction': 'buy', 'qty': 26, 'stock': u'PMII'}\n"
     ]
    },
    {
     "data": {
      "text/plain": [
       "<Thread(Thread-9, started daemon 139811889727232)>"
      ]
     },
     "execution_count": 47,
     "metadata": {},
     "output_type": "execute_result"
    },
    {
     "name": "stderr",
     "output_type": "stream",
     "text": [
      "DEBUG:root:--- request header ---\n",
      "DEBUG:root:GET /ob/api/ws/LMB73474977/venues/LMJBEX/executions/stocks/PMII HTTP/1.1\n",
      "Upgrade: websocket\n",
      "Connection: Upgrade\n",
      "Host: api.stockfighter.io:443\n",
      "Origin: http://api.stockfighter.io:443\n",
      "Sec-WebSocket-Key: tQv0NV7yH4QQn5nNdCk1bw==\n",
      "Sec-WebSocket-Version: 13\n",
      "\n",
      "\n",
      "DEBUG:root:-----------------------\n",
      "DEBUG:root:--- response header ---\n",
      "DEBUG:root:HTTP/1.1 101 Switching Protocols\n",
      "DEBUG:root:Server: nginx/1.8.0\n",
      "DEBUG:root:Date: Fri, 08 Jan 2016 11:18:48 GMT\n",
      "DEBUG:root:Connection: upgrade\n",
      "DEBUG:root:Upgrade: websocket\n",
      "DEBUG:root:Sec-WebSocket-Accept: gyHshpd0NDk2YhV/mp2rpeaSSSE=\n",
      "DEBUG:root:-----------------------\n",
      "DEBUG:requests.packages.urllib3.connectionpool:\"POST /ob/api/venues/LMJBEX/stocks/PMII/orders HTTP/1.1\" 200 289\n",
      "INFO:requests.packages.urllib3.connectionpool:Starting new HTTPS connection (1): api.stockfighter.io\n",
      "DEBUG:root:--- request header ---\n",
      "DEBUG:root:GET /ob/api/ws/LMB73474977/venues/LMJBEX/tickertape/stocks/PMII HTTP/1.1\n",
      "Upgrade: websocket\n",
      "Connection: Upgrade\n",
      "Host: api.stockfighter.io:443\n",
      "Origin: http://api.stockfighter.io:443\n",
      "Sec-WebSocket-Key: U4Qels0kY7qzaA9ulynp5g==\n",
      "Sec-WebSocket-Version: 13\n",
      "\n",
      "\n",
      "DEBUG:root:-----------------------\n",
      "DEBUG:root:--- response header ---\n",
      "DEBUG:root:HTTP/1.1 101 Switching Protocols\n",
      "DEBUG:root:Server: nginx/1.8.0\n",
      "DEBUG:root:Date: Fri, 08 Jan 2016 11:18:49 GMT\n",
      "DEBUG:root:Connection: upgrade\n",
      "DEBUG:root:Upgrade: websocket\n",
      "DEBUG:root:Sec-WebSocket-Accept: /QsuHCD5wSeVZl+lh26ITmv00Fk=\n",
      "DEBUG:root:-----------------------\n",
      "DEBUG:requests.packages.urllib3.connectionpool:\"POST /ob/api/venues/LMJBEX/stocks/PMII/orders HTTP/1.1\" 200 289\n"
     ]
    },
    {
     "name": "stdout",
     "output_type": "stream",
     "text": [
      "24669 0 0\n",
      "ordering with data:  {'account': 'LMB73474977', 'orderType': 'limit', 'price': 3495, 'venue': u'LMJBEX', 'direction': 'buy', 'qty': 26, 'stock': u'PMII'}\n",
      "24669 0 0\n",
      "ordering with data:  {'account': 'LMB73474977', 'orderType': 'limit', 'price': 3942, 'venue': u'LMJBEX', 'direction': 'buy', 'qty': 10, 'stock': u'PMII'}\n",
      "24669 0 0\n",
      "ordering with data:  {'account': 'LMB73474977', 'orderType': 'limit', 'price': 3495, 'venue': u'LMJBEX', 'direction': 'buy', 'qty': 26, 'stock': u'PMII'}\n"
     ]
    },
    {
     "name": "stderr",
     "output_type": "stream",
     "text": [
      "INFO:requests.packages.urllib3.connectionpool:Starting new HTTPS connection (1): api.stockfighter.io\n",
      "INFO:requests.packages.urllib3.connectionpool:Starting new HTTPS connection (1): api.stockfighter.io\n",
      "DEBUG:requests.packages.urllib3.connectionpool:\"POST /ob/api/venues/LMJBEX/stocks/PMII/orders HTTP/1.1\" 200 388\n"
     ]
    },
    {
     "name": "stdout",
     "output_type": "stream",
     "text": [
      "{u'direction': u'buy', u'ok': True, u'ts': u'2016-01-08T11:18:38.378437161Z', u'fills': [{u'price': 3942, u'ts': u'2016-01-08T11:18:38.378440939Z', u'qty': 10}], u'originalQty': 10, u'orderType': u'limit', u'symbol': u'PMII', u'venue': u'LMJBEX', u'account': u'LMB73474977', u'qty': 0, u'id': 2615, u'totalFilled': 10, u'open': False, u'price': 3942}\n",
      "-54171 0 20\n",
      "avgrate:  -2709 bid:  3904 bidsize:  490 position:  20\n",
      "ordering with data:  {'account': 'LMB73474977', 'orderType': 'limit', 'price': 3904, 'venue': u'LMJBEX', 'direction': 'sell', 'qty': 20, 'stock': u'PMII'}\n"
     ]
    },
    {
     "name": "stderr",
     "output_type": "stream",
     "text": [
      "INFO:requests.packages.urllib3.connectionpool:Starting new HTTPS connection (1): api.stockfighter.io\n",
      "DEBUG:requests.packages.urllib3.connectionpool:\"POST /ob/api/venues/LMJBEX/stocks/PMII/orders HTTP/1.1\" 200 289\n",
      "INFO:requests.packages.urllib3.connectionpool:Starting new HTTPS connection (1): api.stockfighter.io\n",
      "DEBUG:requests.packages.urllib3.connectionpool:\"POST /ob/api/venues/LMJBEX/stocks/PMII/orders HTTP/1.1\" 200 388\n"
     ]
    },
    {
     "name": "stdout",
     "output_type": "stream",
     "text": [
      "-54171 0 20\n",
      "avgrate:  -2709 bid:  3490 bidsize:  177 position:  20\n",
      "ordering with data:  {'account': 'LMB73474977', 'orderType': 'limit', 'price': 3490, 'venue': u'LMJBEX', 'direction': 'sell', 'qty': 177, 'stock': u'PMII'}\n",
      "{u'direction': u'sell', u'ok': True, u'ts': u'2016-01-08T11:18:39.772737509Z', u'fills': [{u'price': 3904, u'ts': u'2016-01-08T11:18:39.77273989Z', u'qty': 20}], u'originalQty': 20, u'orderType': u'limit', u'symbol': u'PMII', u'venue': u'LMJBEX', u'account': u'LMB73474977', u'qty': 0, u'id': 2617, u'totalFilled': 20, u'open': False, u'price': 3904}\n"
     ]
    },
    {
     "name": "stderr",
     "output_type": "stream",
     "text": [
      "DEBUG:requests.packages.urllib3.connectionpool:\"POST /ob/api/venues/LMJBEX/stocks/PMII/orders HTTP/1.1\" 200 392\n",
      "INFO:requests.packages.urllib3.connectionpool:Starting new HTTPS connection (1): api.stockfighter.io\n"
     ]
    },
    {
     "name": "stdout",
     "output_type": "stream",
     "text": [
      "23909 0 0\n",
      "ordering with data:  {'account': 'LMB73474977', 'orderType': 'limit', 'price': 3495, 'venue': u'LMJBEX', 'direction': 'buy', 'qty': 26, 'stock': u'PMII'}\n",
      "762707 0 -177\n",
      "ordering with data:  {'account': 'LMB73474977', 'orderType': 'limit', 'price': 3961, 'venue': u'LMJBEX', 'direction': 'buy', 'qty': 10, 'stock': u'PMII'}\n"
     ]
    },
    {
     "name": "stderr",
     "output_type": "stream",
     "text": [
      "INFO:requests.packages.urllib3.connectionpool:Starting new HTTPS connection (1): api.stockfighter.io\n",
      "DEBUG:requests.packages.urllib3.connectionpool:\"POST /ob/api/venues/LMJBEX/stocks/PMII/orders HTTP/1.1\" 200 289\n",
      "INFO:requests.packages.urllib3.connectionpool:Starting new HTTPS connection (1): api.stockfighter.io\n",
      "DEBUG:requests.packages.urllib3.connectionpool:\"POST /ob/api/venues/LMJBEX/stocks/PMII/orders HTTP/1.1\" 200 289\n",
      "INFO:requests.packages.urllib3.connectionpool:Starting new HTTPS connection (1): api.stockfighter.io\n",
      "DEBUG:requests.packages.urllib3.connectionpool:\"POST /ob/api/venues/LMJBEX/stocks/PMII/orders HTTP/1.1\" 200 289\n"
     ]
    },
    {
     "name": "stdout",
     "output_type": "stream",
     "text": [
      "{u'direction': u'buy', u'ok': True, u'ts': u'2016-01-08T11:18:41.272217709Z', u'fills': [], u'originalQty': 10, u'orderType': u'limit', u'symbol': u'PMII', u'venue': u'LMJBEX', u'account': u'LMB73474977', u'qty': 10, u'id': 2646, u'totalFilled': 0, u'open': True, u'price': 3961}\n",
      "762707 0 -177\n",
      "ordering with data:  {'account': 'LMB73474977', 'orderType': 'limit', 'price': 3961, 'venue': u'LMJBEX', 'direction': 'buy', 'qty': 10, 'stock': u'PMII'}\n",
      "762707 0 -177\n",
      "ordering with data:  {'account': 'LMB73474977', 'orderType': 'limit', 'price': 3495, 'venue': u'LMJBEX', 'direction': 'buy', 'qty': 26, 'stock': u'PMII'}\n",
      "{u'direction': u'buy', u'ok': True, u'ts': u'2016-01-08T11:18:42.481270631Z', u'fills': [], u'originalQty': 10, u'orderType': u'limit', u'symbol': u'PMII', u'venue': u'LMJBEX', u'account': u'LMB73474977', u'qty': 10, u'id': 2648, u'totalFilled': 0, u'open': True, u'price': 3961}\n"
     ]
    },
    {
     "name": "stderr",
     "output_type": "stream",
     "text": [
      "INFO:requests.packages.urllib3.connectionpool:Starting new HTTPS connection (1): api.stockfighter.io\n",
      "DEBUG:requests.packages.urllib3.connectionpool:\"POST /ob/api/venues/LMJBEX/stocks/PMII/orders HTTP/1.1\" 200 289\n"
     ]
    },
    {
     "name": "stdout",
     "output_type": "stream",
     "text": [
      "762707 0 -177\n",
      "ordering with data:  {'account': 'LMB73474977', 'orderType': 'limit', 'price': 3961, 'venue': u'LMJBEX', 'direction': 'buy', 'qty': 10, 'stock': u'PMII'}\n",
      "762707 0 -177\n",
      "ordering with data:  {'account': 'LMB73474977', 'orderType': 'limit', 'price': 3495, 'venue': u'LMJBEX', 'direction': 'buy', 'qty': 26, 'stock': u'PMII'}\n"
     ]
    },
    {
     "name": "stderr",
     "output_type": "stream",
     "text": [
      "INFO:requests.packages.urllib3.connectionpool:Starting new HTTPS connection (1): api.stockfighter.io\n",
      "DEBUG:requests.packages.urllib3.connectionpool:\"POST /ob/api/venues/LMJBEX/stocks/PMII/orders HTTP/1.1\" 200 289\n",
      "INFO:requests.packages.urllib3.connectionpool:Starting new HTTPS connection (1): api.stockfighter.io\n",
      "DEBUG:requests.packages.urllib3.connectionpool:\"POST /ob/api/venues/LMJBEX/stocks/PMII/orders HTTP/1.1\" 200 289\n"
     ]
    },
    {
     "name": "stdout",
     "output_type": "stream",
     "text": [
      "{u'direction': u'buy', u'ok': True, u'ts': u'2016-01-08T11:18:43.674289285Z', u'fills': [], u'originalQty': 10, u'orderType': u'limit', u'symbol': u'PMII', u'venue': u'LMJBEX', u'account': u'LMB73474977', u'qty': 10, u'id': 2650, u'totalFilled': 0, u'open': True, u'price': 3961}\n",
      "762707 0 -177\n",
      "ordering with data:  {'account': 'LMB73474977', 'orderType': 'limit', 'price': 3961, 'venue': u'LMJBEX', 'direction': 'buy', 'qty': 10, 'stock': u'PMII'}\n",
      "762707 0 -177\n"
     ]
    },
    {
     "name": "stderr",
     "output_type": "stream",
     "text": [
      "INFO:requests.packages.urllib3.connectionpool:Starting new HTTPS connection (1): api.stockfighter.io\n",
      "DEBUG:requests.packages.urllib3.connectionpool:\"POST /ob/api/venues/LMJBEX/stocks/PMII/orders HTTP/1.1\" 200 388\n"
     ]
    },
    {
     "name": "stdout",
     "output_type": "stream",
     "text": [
      "762707 0 -177\n",
      "762707 0 -177\n",
      "762707 0 -177\n",
      "762707 0 -177\n",
      "ordering with data:  {'account': 'LMB73474977', 'orderType': 'limit', 'price': 3624, 'venue': u'LMJBEX', 'direction': 'buy', 'qty': 21, 'stock': u'PMII'}\n",
      "{u'direction': u'buy', u'ok': True, u'ts': u'2016-01-08T11:18:44.903974651Z', u'fills': [{u'price': 3882, u'ts': u'2016-01-08T11:18:44.903976386Z', u'qty': 10}], u'originalQty': 10, u'orderType': u'limit', u'symbol': u'PMII', u'venue': u'LMJBEX', u'account': u'LMB73474977', u'qty': 0, u'id': 2660, u'totalFilled': 10, u'open': False, u'price': 3961}\n"
     ]
    },
    {
     "name": "stderr",
     "output_type": "stream",
     "text": [
      "DEBUG:requests.packages.urllib3.connectionpool:\"POST /ob/api/venues/LMJBEX/stocks/PMII/orders HTTP/1.1\" 200 287\n",
      "INFO:requests.packages.urllib3.connectionpool:Starting new HTTPS connection (1): api.stockfighter.io\n",
      "INFO:requests.packages.urllib3.connectionpool:Starting new HTTPS connection (1): api.stockfighter.io\n",
      "DEBUG:requests.packages.urllib3.connectionpool:\"POST /ob/api/venues/LMJBEX/stocks/PMII/orders HTTP/1.1\" 200 385\n"
     ]
    },
    {
     "name": "stdout",
     "output_type": "stream",
     "text": [
      "605057 0 -137\n",
      "ordering with data:  {'account': 'LMB73474977', 'orderType': 'limit', 'price': 3607, 'venue': u'LMJBEX', 'direction': 'buy', 'qty': 21, 'stock': u'PMII'}\n",
      "605057 0 -137\n",
      "605057 0 -137\n",
      "605057 0 -137\n",
      "605057 0 -137\n",
      "605057 0 -137\n",
      "605057 0 -137\n",
      "605057 0 -137\n",
      "605057 0 -137\n",
      "605057 0 -137\n",
      "605057 0 -137\n",
      "605057 0 -137\n",
      "605057 0 -137\n",
      "605057 0 -137\n",
      "605057 0 -137\n",
      "605057 0 -137\n",
      "605057 0 -137\n",
      "ordering with data:  {'account': 'LMB73474977', 'orderType': 'limit', 'price': 4337, 'venue': u'LMJBEX', 'direction': 'buy', 'qty': 9, 'stock': u'PMII'}\n",
      "{u'direction': u'buy', u'ok': True, u'ts': u'2016-01-08T11:18:46.658094104Z', u'fills': [{u'price': 4074, u'ts': u'2016-01-08T11:18:46.658096547Z', u'qty': 9}], u'originalQty': 9, u'orderType': u'limit', u'symbol': u'PMII', u'venue': u'LMJBEX', u'account': u'LMB73474977', u'qty': 0, u'id': 2687, u'totalFilled': 9, u'open': False, u'price': 4337}\n"
     ]
    },
    {
     "name": "stderr",
     "output_type": "stream",
     "text": [
      "INFO:requests.packages.urllib3.connectionpool:Starting new HTTPS connection (1): api.stockfighter.io\n",
      "DEBUG:requests.packages.urllib3.connectionpool:\"POST /ob/api/venues/LMJBEX/stocks/PMII/orders HTTP/1.1\" 200 289\n",
      "INFO:requests.packages.urllib3.connectionpool:Starting new HTTPS connection (1): api.stockfighter.io\n",
      "DEBUG:requests.packages.urllib3.connectionpool:\"POST /ob/api/venues/LMJBEX/stocks/PMII/orders HTTP/1.1\" 200 385\n"
     ]
    },
    {
     "name": "stdout",
     "output_type": "stream",
     "text": [
      "568391 0 -128\n",
      "ordering with data:  {'account': 'LMB73474977', 'orderType': 'limit', 'price': 4316, 'venue': u'LMJBEX', 'direction': 'buy', 'qty': 9, 'stock': u'PMII'}\n",
      "568391 0 -128\n",
      "ordering with data:  {'account': 'LMB73474977', 'orderType': 'limit', 'price': 3590, 'venue': u'LMJBEX', 'direction': 'buy', 'qty': 21, 'stock': u'PMII'}\n",
      "{u'direction': u'buy', u'ok': True, u'ts': u'2016-01-08T11:18:48.013048069Z', u'fills': [{u'price': 4074, u'ts': u'2016-01-08T11:18:48.013051623Z', u'qty': 9}], u'originalQty': 9, u'orderType': u'limit', u'symbol': u'PMII', u'venue': u'LMJBEX', u'account': u'LMB73474977', u'qty': 0, u'id': 2689, u'totalFilled': 9, u'open': False, u'price': 4316}\n"
     ]
    },
    {
     "name": "stderr",
     "output_type": "stream",
     "text": [
      "DEBUG:requests.packages.urllib3.connectionpool:\"POST /ob/api/venues/LMJBEX/stocks/PMII/orders HTTP/1.1\" 200 289\n",
      "INFO:requests.packages.urllib3.connectionpool:Starting new HTTPS connection (1): api.stockfighter.io\n",
      "INFO:requests.packages.urllib3.connectionpool:Starting new HTTPS connection (1): api.stockfighter.io\n",
      "DEBUG:requests.packages.urllib3.connectionpool:\"POST /ob/api/venues/LMJBEX/stocks/PMII/orders HTTP/1.1\" 200 385\n"
     ]
    },
    {
     "name": "stdout",
     "output_type": "stream",
     "text": [
      "531725 0 -119\n",
      "ordering with data:  {'account': 'LMB73474977', 'orderType': 'limit', 'price': 3590, 'venue': u'LMJBEX', 'direction': 'buy', 'qty': 21, 'stock': u'PMII'}\n",
      "531725 0 -119\n",
      "ordering with data:  {'account': 'LMB73474977', 'orderType': 'limit', 'price': 4295, 'venue': u'LMJBEX', 'direction': 'buy', 'qty': 9, 'stock': u'PMII'}\n",
      "{u'direction': u'buy', u'ok': True, u'ts': u'2016-01-08T11:18:49.374138799Z', u'fills': [{u'price': 4074, u'ts': u'2016-01-08T11:18:49.374141298Z', u'qty': 9}], u'originalQty': 9, u'orderType': u'limit', u'symbol': u'PMII', u'venue': u'LMJBEX', u'account': u'LMB73474977', u'qty': 0, u'id': 2691, u'totalFilled': 9, u'open': False, u'price': 4295}\n"
     ]
    },
    {
     "name": "stderr",
     "output_type": "stream",
     "text": [
      "DEBUG:requests.packages.urllib3.connectionpool:\"POST /ob/api/venues/LMJBEX/stocks/PMII/orders HTTP/1.1\" 200 289\n",
      "INFO:requests.packages.urllib3.connectionpool:Starting new HTTPS connection (1): api.stockfighter.io\n"
     ]
    },
    {
     "name": "stdout",
     "output_type": "stream",
     "text": [
      "495059 0 -110\n",
      "ordering with data:  {'account': 'LMB73474977', 'orderType': 'limit', 'price': 3590, 'venue': u'LMJBEX', 'direction': 'buy', 'qty': 21, 'stock': u'PMII'}\n",
      "458393 0 -101\n",
      "ordering with data:  {'account': 'LMB73474977', 'orderType': 'limit', 'price': 4295, 'venue': u'LMJBEX', 'direction': 'buy', 'qty': 9, 'stock': u'PMII'}\n"
     ]
    },
    {
     "name": "stderr",
     "output_type": "stream",
     "text": [
      "INFO:requests.packages.urllib3.connectionpool:Starting new HTTPS connection (1): api.stockfighter.io\n",
      "DEBUG:requests.packages.urllib3.connectionpool:\"POST /ob/api/venues/LMJBEX/stocks/PMII/orders HTTP/1.1\" 200 573\n",
      "INFO:requests.packages.urllib3.connectionpool:Starting new HTTPS connection (1): api.stockfighter.io\n",
      "DEBUG:requests.packages.urllib3.connectionpool:\"POST /ob/api/venues/LMJBEX/stocks/PMII/orders HTTP/1.1\" 200 289\n"
     ]
    },
    {
     "name": "stdout",
     "output_type": "stream",
     "text": [
      "{u'direction': u'buy', u'ok': True, u'ts': u'2016-01-08T11:18:50.74376906Z', u'fills': [{u'price': 4075, u'ts': u'2016-01-08T11:18:50.743771312Z', u'qty': 4}, {u'price': 4095, u'ts': u'2016-01-08T11:18:50.743772529Z', u'qty': 4}, {u'price': 4115, u'ts': u'2016-01-08T11:18:50.74377348Z', u'qty': 1}], u'originalQty': 9, u'orderType': u'limit', u'symbol': u'PMII', u'venue': u'LMJBEX', u'account': u'LMB73474977', u'qty': 0, u'id': 2722, u'totalFilled': 9, u'open': False, u'price': 4295}\n",
      "458393 0 -101\n",
      "ordering with data:  {'account': 'LMB73474977', 'orderType': 'limit', 'price': 4295, 'venue': u'LMJBEX', 'direction': 'buy', 'qty': 9, 'stock': u'PMII'}\n",
      "421598 0 -92\n",
      "ordering with data:  {'account': 'LMB73474977', 'orderType': 'limit', 'price': 3590, 'venue': u'LMJBEX', 'direction': 'buy', 'qty': 21, 'stock': u'PMII'}\n"
     ]
    },
    {
     "name": "stderr",
     "output_type": "stream",
     "text": [
      "INFO:requests.packages.urllib3.connectionpool:Starting new HTTPS connection (1): api.stockfighter.io\n",
      "DEBUG:requests.packages.urllib3.connectionpool:\"POST /ob/api/venues/LMJBEX/stocks/PMII/orders HTTP/1.1\" 200 384\n"
     ]
    },
    {
     "name": "stdout",
     "output_type": "stream",
     "text": [
      "{u'direction': u'buy', u'ok': True, u'ts': u'2016-01-08T11:18:51.934327524Z', u'fills': [{u'price': 4115, u'ts': u'2016-01-08T11:18:51.934328957Z', u'qty': 3}], u'originalQty': 9, u'orderType': u'limit', u'symbol': u'PMII', u'venue': u'LMJBEX', u'account': u'LMB73474977', u'qty': 6, u'id': 2724, u'totalFilled': 3, u'open': True, u'price': 4295}\n",
      "409253 0 -89\n",
      "ordering with data:  {'account': 'LMB73474977', 'orderType': 'limit', 'price': 4295, 'venue': u'LMJBEX', 'direction': 'buy', 'qty': 9, 'stock': u'PMII'}\n"
     ]
    },
    {
     "name": "stderr",
     "output_type": "stream",
     "text": [
      "INFO:requests.packages.urllib3.connectionpool:Starting new HTTPS connection (1): api.stockfighter.io\n",
      "DEBUG:requests.packages.urllib3.connectionpool:\"POST /ob/api/venues/LMJBEX/stocks/PMII/orders HTTP/1.1\" 200 289\n",
      "INFO:requests.packages.urllib3.connectionpool:Starting new HTTPS connection (1): api.stockfighter.io\n",
      "DEBUG:requests.packages.urllib3.connectionpool:\"POST /ob/api/venues/LMJBEX/stocks/PMII/orders HTTP/1.1\" 200 287\n"
     ]
    },
    {
     "name": "stdout",
     "output_type": "stream",
     "text": [
      "409253 0 -89\n",
      "ordering with data:  {'account': 'LMB73474977', 'orderType': 'limit', 'price': 3590, 'venue': u'LMJBEX', 'direction': 'buy', 'qty': 21, 'stock': u'PMII'}\n",
      "{u'direction': u'buy', u'ok': True, u'ts': u'2016-01-08T11:18:53.344176721Z', u'fills': [], u'originalQty': 9, u'orderType': u'limit', u'symbol': u'PMII', u'venue': u'LMJBEX', u'account': u'LMB73474977', u'qty': 9, u'id': 2726, u'totalFilled': 0, u'open': True, u'price': 4295}\n"
     ]
    },
    {
     "name": "stderr",
     "output_type": "stream",
     "text": [
      "INFO:requests.packages.urllib3.connectionpool:Starting new HTTPS connection (1): api.stockfighter.io\n",
      "DEBUG:requests.packages.urllib3.connectionpool:\"POST /ob/api/venues/LMJBEX/stocks/PMII/orders HTTP/1.1\" 200 289\n"
     ]
    },
    {
     "name": "stdout",
     "output_type": "stream",
     "text": [
      "409253 0 -89\n",
      "ordering with data:  {'account': 'LMB73474977', 'orderType': 'limit', 'price': 4295, 'venue': u'LMJBEX', 'direction': 'buy', 'qty': 9, 'stock': u'PMII'}\n",
      "409253 0 -89\n",
      "ordering with data:  {'account': 'LMB73474977', 'orderType': 'limit', 'price': 3590, 'venue': u'LMJBEX', 'direction': 'buy', 'qty': 21, 'stock': u'PMII'}\n"
     ]
    },
    {
     "name": "stderr",
     "output_type": "stream",
     "text": [
      "INFO:requests.packages.urllib3.connectionpool:Starting new HTTPS connection (1): api.stockfighter.io\n",
      "DEBUG:root:send: '\\x8a\\x80R@\\x18\\x0c'\n",
      "DEBUG:requests.packages.urllib3.connectionpool:\"POST /ob/api/venues/LMJBEX/stocks/PMII/orders HTTP/1.1\" 200 287\n",
      "INFO:requests.packages.urllib3.connectionpool:Starting new HTTPS connection (1): api.stockfighter.io\n",
      "DEBUG:requests.packages.urllib3.connectionpool:\"POST /ob/api/venues/LMJBEX/stocks/PMII/orders HTTP/1.1\" 200 289\n"
     ]
    },
    {
     "name": "stdout",
     "output_type": "stream",
     "text": [
      "{u'direction': u'buy', u'ok': True, u'ts': u'2016-01-08T11:18:54.530408889Z', u'fills': [], u'originalQty': 9, u'orderType': u'limit', u'symbol': u'PMII', u'venue': u'LMJBEX', u'account': u'LMB73474977', u'qty': 9, u'id': 2728, u'totalFilled': 0, u'open': True, u'price': 4295}\n",
      "409253 0 -89\n",
      "ordering with data:  {'account': 'LMB73474977', 'orderType': 'limit', 'price': 4295, 'venue': u'LMJBEX', 'direction': 'buy', 'qty': 9, 'stock': u'PMII'}\n",
      "203093 0 -41\n",
      "ordering with data:  {'account': 'LMB73474977', 'orderType': 'limit', 'price': 3590, 'venue': u'LMJBEX', 'direction': 'buy', 'qty': 21, 'stock': u'PMII'}\n"
     ]
    },
    {
     "name": "stderr",
     "output_type": "stream",
     "text": [
      "INFO:requests.packages.urllib3.connectionpool:Starting new HTTPS connection (1): api.stockfighter.io\n",
      "DEBUG:requests.packages.urllib3.connectionpool:\"POST /ob/api/venues/LMJBEX/stocks/PMII/orders HTTP/1.1\" 200 289\n",
      "INFO:requests.packages.urllib3.connectionpool:Starting new HTTPS connection (1): api.stockfighter.io\n",
      "DEBUG:requests.packages.urllib3.connectionpool:\"POST /ob/api/venues/LMJBEX/stocks/PMII/orders HTTP/1.1\" 200 289\n"
     ]
    },
    {
     "name": "stdout",
     "output_type": "stream",
     "text": [
      "203093 0 -41\n",
      "ordering with data:  {'account': 'LMB73474977', 'orderType': 'limit', 'price': 3590, 'venue': u'LMJBEX', 'direction': 'buy', 'qty': 21, 'stock': u'PMII'}\n",
      "203093 0 -41\n",
      "ordering with data:  {'account': 'LMB73474977', 'orderType': 'limit', 'price': 3590, 'venue': u'LMJBEX', 'direction': 'buy', 'qty': 21, 'stock': u'PMII'}\n"
     ]
    },
    {
     "name": "stderr",
     "output_type": "stream",
     "text": [
      "INFO:requests.packages.urllib3.connectionpool:Starting new HTTPS connection (1): api.stockfighter.io\n",
      "DEBUG:requests.packages.urllib3.connectionpool:\"POST /ob/api/venues/LMJBEX/stocks/PMII/orders HTTP/1.1\" 200 289\n",
      "INFO:requests.packages.urllib3.connectionpool:Starting new HTTPS connection (1): api.stockfighter.io\n",
      "DEBUG:requests.packages.urllib3.connectionpool:\"POST /ob/api/venues/LMJBEX/stocks/PMII/orders HTTP/1.1\" 200 289\n"
     ]
    },
    {
     "name": "stdout",
     "output_type": "stream",
     "text": [
      "203093 0 -41\n",
      "ordering with data:  {'account': 'LMB73474977', 'orderType': 'limit', 'price': 3590, 'venue': u'LMJBEX', 'direction': 'buy', 'qty': 21, 'stock': u'PMII'}\n",
      "203093 0 -41\n",
      "ordering with data:  {'account': 'LMB73474977', 'orderType': 'limit', 'price': 3590, 'venue': u'LMJBEX', 'direction': 'buy', 'qty': 21, 'stock': u'PMII'}\n"
     ]
    },
    {
     "name": "stderr",
     "output_type": "stream",
     "text": [
      "INFO:requests.packages.urllib3.connectionpool:Starting new HTTPS connection (1): api.stockfighter.io\n",
      "DEBUG:requests.packages.urllib3.connectionpool:\"POST /ob/api/venues/LMJBEX/stocks/PMII/orders HTTP/1.1\" 200 574\n"
     ]
    },
    {
     "name": "stdout",
     "output_type": "stream",
     "text": [
      "{u'direction': u'buy', u'ok': True, u'ts': u'2016-01-08T11:19:00.736954235Z', u'fills': [{u'price': 4244, u'ts': u'2016-01-08T11:19:00.736955946Z', u'qty': 2}, {u'price': 4265, u'ts': u'2016-01-08T11:19:00.736957296Z', u'qty': 2}, {u'price': 4286, u'ts': u'2016-01-08T11:19:00.736958531Z', u'qty': 2}], u'originalQty': 9, u'orderType': u'limit', u'symbol': u'PMII', u'venue': u'LMJBEX', u'account': u'LMB73474977', u'qty': 3, u'id': 2791, u'totalFilled': 6, u'open': True, u'price': 4295}\n",
      "151913 0 -29\n",
      "ordering with data:  {'account': 'LMB73474977', 'orderType': 'limit', 'price': 4295, 'venue': u'LMJBEX', 'direction': 'buy', 'qty': 9, 'stock': u'PMII'}\n"
     ]
    },
    {
     "name": "stderr",
     "output_type": "stream",
     "text": [
      "INFO:requests.packages.urllib3.connectionpool:Starting new HTTPS connection (1): api.stockfighter.io\n",
      "DEBUG:requests.packages.urllib3.connectionpool:\"POST /ob/api/venues/LMJBEX/stocks/PMII/orders HTTP/1.1\" 200 288\n",
      "INFO:requests.packages.urllib3.connectionpool:Starting new HTTPS connection (1): api.stockfighter.io\n",
      "DEBUG:requests.packages.urllib3.connectionpool:\"POST /ob/api/venues/LMJBEX/stocks/PMII/orders HTTP/1.1\" 200 287\n"
     ]
    },
    {
     "name": "stdout",
     "output_type": "stream",
     "text": [
      "151913 0 -29\n",
      "ordering with data:  {'account': 'LMB73474977', 'orderType': 'limit', 'price': 3590, 'venue': u'LMJBEX', 'direction': 'buy', 'qty': 21, 'stock': u'PMII'}\n",
      "{u'direction': u'buy', u'ok': True, u'ts': u'2016-01-08T11:19:02.342526321Z', u'fills': [], u'originalQty': 9, u'orderType': u'limit', u'symbol': u'PMII', u'venue': u'LMJBEX', u'account': u'LMB73474977', u'qty': 9, u'id': 2793, u'totalFilled': 0, u'open': True, u'price': 4295}\n"
     ]
    },
    {
     "name": "stderr",
     "output_type": "stream",
     "text": [
      "INFO:requests.packages.urllib3.connectionpool:Starting new HTTPS connection (1): api.stockfighter.io\n",
      "DEBUG:requests.packages.urllib3.connectionpool:\"POST /ob/api/venues/LMJBEX/stocks/PMII/orders HTTP/1.1\" 200 289\n"
     ]
    },
    {
     "name": "stdout",
     "output_type": "stream",
     "text": [
      "151913 0 -29\n",
      "ordering with data:  {'account': 'LMB73474977', 'orderType': 'limit', 'price': 4295, 'venue': u'LMJBEX', 'direction': 'buy', 'qty': 9, 'stock': u'PMII'}\n",
      "151913 0 -29\n",
      "ordering with data:  {'account': 'LMB73474977', 'orderType': 'limit', 'price': 3590, 'venue': u'LMJBEX', 'direction': 'buy', 'qty': 21, 'stock': u'PMII'}\n"
     ]
    },
    {
     "name": "stderr",
     "output_type": "stream",
     "text": [
      "INFO:requests.packages.urllib3.connectionpool:Starting new HTTPS connection (1): api.stockfighter.io\n",
      "DEBUG:requests.packages.urllib3.connectionpool:\"POST /ob/api/venues/LMJBEX/stocks/PMII/orders HTTP/1.1\" 200 287\n",
      "INFO:requests.packages.urllib3.connectionpool:Starting new HTTPS connection (1): api.stockfighter.io\n",
      "DEBUG:requests.packages.urllib3.connectionpool:\"POST /ob/api/venues/LMJBEX/stocks/PMII/orders HTTP/1.1\" 200 289\n"
     ]
    },
    {
     "name": "stdout",
     "output_type": "stream",
     "text": [
      "{u'direction': u'buy', u'ok': True, u'ts': u'2016-01-08T11:19:03.514590775Z', u'fills': [], u'originalQty': 9, u'orderType': u'limit', u'symbol': u'PMII', u'venue': u'LMJBEX', u'account': u'LMB73474977', u'qty': 9, u'id': 2795, u'totalFilled': 0, u'open': True, u'price': 4295}\n",
      "151913 0 -29\n",
      "ordering with data:  {'account': 'LMB73474977', 'orderType': 'limit', 'price': 4295, 'venue': u'LMJBEX', 'direction': 'buy', 'qty': 9, 'stock': u'PMII'}\n",
      "151913 0 -29\n",
      "ordering with data:  {'account': 'LMB73474977', 'orderType': 'limit', 'price': 3590, 'venue': u'LMJBEX', 'direction': 'buy', 'qty': 21, 'stock': u'PMII'}\n"
     ]
    },
    {
     "name": "stderr",
     "output_type": "stream",
     "text": [
      "INFO:requests.packages.urllib3.connectionpool:Starting new HTTPS connection (1): api.stockfighter.io\n",
      "DEBUG:requests.packages.urllib3.connectionpool:\"POST /ob/api/venues/LMJBEX/stocks/PMII/orders HTTP/1.1\" 200 287\n",
      "INFO:requests.packages.urllib3.connectionpool:Starting new HTTPS connection (1): api.stockfighter.io\n",
      "DEBUG:requests.packages.urllib3.connectionpool:\"POST /ob/api/venues/LMJBEX/stocks/PMII/orders HTTP/1.1\" 200 287\n"
     ]
    },
    {
     "name": "stdout",
     "output_type": "stream",
     "text": [
      "{u'direction': u'buy', u'ok': True, u'ts': u'2016-01-08T11:19:04.769927676Z', u'fills': [], u'originalQty': 9, u'orderType': u'limit', u'symbol': u'PMII', u'venue': u'LMJBEX', u'account': u'LMB73474977', u'qty': 9, u'id': 2797, u'totalFilled': 0, u'open': True, u'price': 4295}\n",
      "151913 0 -29\n",
      "ordering with data:  {'account': 'LMB73474977', 'orderType': 'limit', 'price': 4295, 'venue': u'LMJBEX', 'direction': 'buy', 'qty': 9, 'stock': u'PMII'}\n",
      "{u'direction': u'buy', u'ok': True, u'ts': u'2016-01-08T11:19:06.001538042Z', u'fills': [], u'originalQty': 9, u'orderType': u'limit', u'symbol': u'PMII', u'venue': u'LMJBEX', u'account': u'LMB73474977', u'qty': 9, u'id': 2827, u'totalFilled': 0, u'open': True, u'price': 4295}\n"
     ]
    },
    {
     "name": "stderr",
     "output_type": "stream",
     "text": [
      "INFO:requests.packages.urllib3.connectionpool:Starting new HTTPS connection (1): api.stockfighter.io\n",
      "DEBUG:requests.packages.urllib3.connectionpool:\"POST /ob/api/venues/LMJBEX/stocks/PMII/orders HTTP/1.1\" 200 289\n"
     ]
    },
    {
     "name": "stdout",
     "output_type": "stream",
     "text": [
      "35948 0 -2\n",
      "ordering with data:  {'account': 'LMB73474977', 'orderType': 'limit', 'price': 4295, 'venue': u'LMJBEX', 'direction': 'buy', 'qty': 9, 'stock': u'PMII'}\n",
      "35948 0 -2\n",
      "ordering with data:  {'account': 'LMB73474977', 'orderType': 'limit', 'price': 3590, 'venue': u'LMJBEX', 'direction': 'buy', 'qty': 21, 'stock': u'PMII'}\n"
     ]
    },
    {
     "name": "stderr",
     "output_type": "stream",
     "text": [
      "INFO:requests.packages.urllib3.connectionpool:Starting new HTTPS connection (1): api.stockfighter.io\n",
      "DEBUG:requests.packages.urllib3.connectionpool:\"POST /ob/api/venues/LMJBEX/stocks/PMII/orders HTTP/1.1\" 200 287\n",
      "INFO:requests.packages.urllib3.connectionpool:Starting new HTTPS connection (1): api.stockfighter.io\n",
      "DEBUG:requests.packages.urllib3.connectionpool:\"POST /ob/api/venues/LMJBEX/stocks/PMII/orders HTTP/1.1\" 200 289\n"
     ]
    },
    {
     "name": "stdout",
     "output_type": "stream",
     "text": [
      "{u'direction': u'buy', u'ok': True, u'ts': u'2016-01-08T11:19:07.201690853Z', u'fills': [], u'originalQty': 9, u'orderType': u'limit', u'symbol': u'PMII', u'venue': u'LMJBEX', u'account': u'LMB73474977', u'qty': 9, u'id': 2829, u'totalFilled': 0, u'open': True, u'price': 4295}\n",
      "35948 0 -2\n",
      "ordering with data:  {'account': 'LMB73474977', 'orderType': 'limit', 'price': 4295, 'venue': u'LMJBEX', 'direction': 'buy', 'qty': 9, 'stock': u'PMII'}\n",
      "35948 0 -2\n",
      "ordering with data:  {'account': 'LMB73474977', 'orderType': 'limit', 'price': 3590, 'venue': u'LMJBEX', 'direction': 'buy', 'qty': 21, 'stock': u'PMII'}\n"
     ]
    },
    {
     "name": "stderr",
     "output_type": "stream",
     "text": [
      "INFO:requests.packages.urllib3.connectionpool:Starting new HTTPS connection (1): api.stockfighter.io\n",
      "DEBUG:requests.packages.urllib3.connectionpool:\"POST /ob/api/venues/LMJBEX/stocks/PMII/orders HTTP/1.1\" 200 287\n",
      "INFO:requests.packages.urllib3.connectionpool:Starting new HTTPS connection (1): api.stockfighter.io\n",
      "DEBUG:requests.packages.urllib3.connectionpool:\"POST /ob/api/venues/LMJBEX/stocks/PMII/orders HTTP/1.1\" 200 289\n"
     ]
    },
    {
     "name": "stdout",
     "output_type": "stream",
     "text": [
      "{u'direction': u'buy', u'ok': True, u'ts': u'2016-01-08T11:19:08.448482776Z', u'fills': [], u'originalQty': 9, u'orderType': u'limit', u'symbol': u'PMII', u'venue': u'LMJBEX', u'account': u'LMB73474977', u'qty': 9, u'id': 2831, u'totalFilled': 0, u'open': True, u'price': 4295}\n",
      "35948 0 -2\n",
      "ordering with data:  {'account': 'LMB73474977', 'orderType': 'limit', 'price': 4295, 'venue': u'LMJBEX', 'direction': 'buy', 'qty': 9, 'stock': u'PMII'}\n",
      "35948 0 -2\n",
      "ordering with data:  {'account': 'LMB73474977', 'orderType': 'limit', 'price': 3607, 'venue': u'LMJBEX', 'direction': 'buy', 'qty': 21, 'stock': u'PMII'}\n"
     ]
    },
    {
     "name": "stderr",
     "output_type": "stream",
     "text": [
      "INFO:requests.packages.urllib3.connectionpool:Starting new HTTPS connection (1): api.stockfighter.io\n",
      "DEBUG:requests.packages.urllib3.connectionpool:\"POST /ob/api/venues/LMJBEX/stocks/PMII/orders HTTP/1.1\" 200 287\n",
      "INFO:requests.packages.urllib3.connectionpool:Starting new HTTPS connection (1): api.stockfighter.io\n",
      "DEBUG:requests.packages.urllib3.connectionpool:\"POST /ob/api/venues/LMJBEX/stocks/PMII/orders HTTP/1.1\" 200 385\n"
     ]
    },
    {
     "name": "stdout",
     "output_type": "stream",
     "text": [
      "{u'direction': u'buy', u'ok': True, u'ts': u'2016-01-08T11:19:09.677645132Z', u'fills': [], u'originalQty': 9, u'orderType': u'limit', u'symbol': u'PMII', u'venue': u'LMJBEX', u'account': u'LMB73474977', u'qty': 9, u'id': 2833, u'totalFilled': 0, u'open': True, u'price': 4295}\n",
      "35948 0 -2\n",
      "ordering with data:  {'account': 'LMB73474977', 'orderType': 'limit', 'price': 4295, 'venue': u'LMJBEX', 'direction': 'buy', 'qty': 9, 'stock': u'PMII'}\n",
      "{u'direction': u'buy', u'ok': True, u'ts': u'2016-01-08T11:19:10.908134462Z', u'fills': [{u'price': 4191, u'ts': u'2016-01-08T11:19:10.908136762Z', u'qty': 9}], u'originalQty': 9, u'orderType': u'limit', u'symbol': u'PMII', u'venue': u'LMJBEX', u'account': u'LMB73474977', u'qty': 0, u'id': 2865, u'totalFilled': 9, u'open': False, u'price': 4295}\n"
     ]
    },
    {
     "name": "stderr",
     "output_type": "stream",
     "text": [
      "INFO:requests.packages.urllib3.connectionpool:Starting new HTTPS connection (1): api.stockfighter.io\n",
      "DEBUG:requests.packages.urllib3.connectionpool:\"POST /ob/api/venues/LMJBEX/stocks/PMII/orders HTTP/1.1\" 200 290\n"
     ]
    },
    {
     "name": "stdout",
     "output_type": "stream",
     "text": [
      "-206995 0 55\n",
      "avgrate:  -3764 bid:  4174 bidsize:  427 position:  55\n",
      "ordering with data:  {'account': 'LMB73474977', 'orderType': 'limit', 'price': 4174, 'venue': u'LMJBEX', 'direction': 'sell', 'qty': 55, 'stock': u'PMII'}\n",
      "{u'direction': u'sell', u'ok': True, u'ts': u'2016-01-08T11:19:12.200540205Z', u'fills': [], u'originalQty': 55, u'orderType': u'limit', u'symbol': u'PMII', u'venue': u'LMJBEX', u'account': u'LMB73474977', u'qty': 55, u'id': 2866, u'totalFilled': 0, u'open': True, u'price': 4174}\n"
     ]
    },
    {
     "name": "stderr",
     "output_type": "stream",
     "text": [
      "INFO:requests.packages.urllib3.connectionpool:Starting new HTTPS connection (1): api.stockfighter.io\n",
      "DEBUG:requests.packages.urllib3.connectionpool:\"POST /ob/api/venues/LMJBEX/stocks/PMII/orders HTTP/1.1\" 200 290\n"
     ]
    },
    {
     "name": "stdout",
     "output_type": "stream",
     "text": [
      "-206995 0 55\n",
      "avgrate:  -3764 bid:  4174 bidsize:  427 position:  55\n",
      "ordering with data:  {'account': 'LMB73474977', 'orderType': 'limit', 'price': 4174, 'venue': u'LMJBEX', 'direction': 'sell', 'qty': 55, 'stock': u'PMII'}\n",
      "{u'direction': u'sell', u'ok': True, u'ts': u'2016-01-08T11:19:13.439785675Z', u'fills': [], u'originalQty': 55, u'orderType': u'limit', u'symbol': u'PMII', u'venue': u'LMJBEX', u'account': u'LMB73474977', u'qty': 55, u'id': 2867, u'totalFilled': 0, u'open': True, u'price': 4174}\n"
     ]
    },
    {
     "name": "stderr",
     "output_type": "stream",
     "text": [
      "INFO:requests.packages.urllib3.connectionpool:Starting new HTTPS connection (1): api.stockfighter.io\n",
      "DEBUG:requests.packages.urllib3.connectionpool:\"POST /ob/api/venues/LMJBEX/stocks/PMII/orders HTTP/1.1\" 200 290\n"
     ]
    },
    {
     "name": "stdout",
     "output_type": "stream",
     "text": [
      "-206995 0 55\n",
      "avgrate:  -3764 bid:  4174 bidsize:  411 position:  55\n",
      "ordering with data:  {'account': 'LMB73474977', 'orderType': 'limit', 'price': 4174, 'venue': u'LMJBEX', 'direction': 'sell', 'qty': 55, 'stock': u'PMII'}\n",
      "{u'direction': u'sell', u'ok': True, u'ts': u'2016-01-08T11:19:14.615909695Z', u'fills': [], u'originalQty': 55, u'orderType': u'limit', u'symbol': u'PMII', u'venue': u'LMJBEX', u'account': u'LMB73474977', u'qty': 55, u'id': 2868, u'totalFilled': 0, u'open': True, u'price': 4174}\n"
     ]
    },
    {
     "name": "stderr",
     "output_type": "stream",
     "text": [
      "INFO:requests.packages.urllib3.connectionpool:Starting new HTTPS connection (1): api.stockfighter.io\n",
      "DEBUG:requests.packages.urllib3.connectionpool:\"POST /ob/api/venues/LMJBEX/stocks/PMII/orders HTTP/1.1\" 200 288\n"
     ]
    },
    {
     "name": "stdout",
     "output_type": "stream",
     "text": [
      "-206995 0 55\n",
      "avgrate:  -3764 bid:  4174 bidsize:  411 position:  55\n",
      "ordering with data:  {'account': 'LMB73474977', 'orderType': 'limit', 'price': 4174, 'venue': u'LMJBEX', 'direction': 'sell', 'qty': 55, 'stock': u'PMII'}\n",
      "252145 0 -55\n",
      "ordering with data:  {'account': 'LMB73474977', 'orderType': 'limit', 'price': 3624, 'venue': u'LMJBEX', 'direction': 'buy', 'qty': 21, 'stock': u'PMII'}\n"
     ]
    },
    {
     "name": "stderr",
     "output_type": "stream",
     "text": [
      "INFO:requests.packages.urllib3.connectionpool:Starting new HTTPS connection (1): api.stockfighter.io\n",
      "DEBUG:requests.packages.urllib3.connectionpool:\"POST /ob/api/venues/LMJBEX/stocks/PMII/orders HTTP/1.1\" 200 290\n",
      "INFO:requests.packages.urllib3.connectionpool:Starting new HTTPS connection (1): api.stockfighter.io\n",
      "DEBUG:requests.packages.urllib3.connectionpool:\"POST /ob/api/venues/LMJBEX/stocks/PMII/orders HTTP/1.1\" 200 289\n"
     ]
    },
    {
     "name": "stdout",
     "output_type": "stream",
     "text": [
      "{u'direction': u'sell', u'ok': True, u'ts': u'2016-01-08T11:19:15.835560925Z', u'fills': [], u'originalQty': 55, u'orderType': u'limit', u'symbol': u'PMII', u'venue': u'LMJBEX', u'account': u'LMB73474977', u'qty': 55, u'id': 2897, u'totalFilled': 0, u'open': True, u'price': 4174}\n",
      "252145 0 -55\n",
      "ordering with data:  {'account': 'LMB73474977', 'orderType': 'limit', 'price': 4295, 'venue': u'LMJBEX', 'direction': 'buy', 'qty': 9, 'stock': u'PMII'}\n",
      "252145 0 -55\n"
     ]
    },
    {
     "name": "stderr",
     "output_type": "stream",
     "text": [
      "INFO:requests.packages.urllib3.connectionpool:Starting new HTTPS connection (1): api.stockfighter.io\n",
      "DEBUG:requests.packages.urllib3.connectionpool:\"POST /ob/api/venues/LMJBEX/stocks/PMII/orders HTTP/1.1\" 200 385\n"
     ]
    },
    {
     "name": "stdout",
     "output_type": "stream",
     "text": [
      "252145 0 -55\n",
      "252145 0 -55\n",
      "252145 0 -55\n",
      "252145 0 -55\n",
      "ordering with data:  {'account': 'LMB73474977', 'orderType': 'limit', 'price': 3624, 'venue': u'LMJBEX', 'direction': 'buy', 'qty': 13, 'stock': u'PMII'}\n",
      "{u'direction': u'buy', u'ok': True, u'ts': u'2016-01-08T11:19:17.001189098Z', u'fills': [{u'price': 4174, u'ts': u'2016-01-08T11:19:17.001191646Z', u'qty': 9}], u'originalQty': 9, u'orderType': u'limit', u'symbol': u'PMII', u'venue': u'LMJBEX', u'account': u'LMB73474977', u'qty': 0, u'id': 2899, u'totalFilled': 9, u'open': False, u'price': 4295}\n"
     ]
    },
    {
     "name": "stderr",
     "output_type": "stream",
     "text": [
      "INFO:requests.packages.urllib3.connectionpool:Starting new HTTPS connection (1): api.stockfighter.io\n",
      "DEBUG:requests.packages.urllib3.connectionpool:\"POST /ob/api/venues/LMJBEX/stocks/PMII/orders HTTP/1.1\" 200 289\n"
     ]
    },
    {
     "name": "stdout",
     "output_type": "stream",
     "text": [
      "252145 0 -55\n",
      "ordering with data:  {'account': 'LMB73474977', 'orderType': 'limit', 'price': 4295, 'venue': u'LMJBEX', 'direction': 'buy', 'qty': 9, 'stock': u'PMII'}\n",
      "711285 0 -165\n",
      "ordering with data:  {'account': 'LMB73474977', 'orderType': 'limit', 'price': 3607, 'venue': u'LMJBEX', 'direction': 'buy', 'qty': 13, 'stock': u'PMII'}\n"
     ]
    },
    {
     "name": "stderr",
     "output_type": "stream",
     "text": [
      "INFO:requests.packages.urllib3.connectionpool:Starting new HTTPS connection (1): api.stockfighter.io\n",
      "DEBUG:requests.packages.urllib3.connectionpool:\"POST /ob/api/venues/LMJBEX/stocks/PMII/orders HTTP/1.1\" 200 384\n",
      "INFO:requests.packages.urllib3.connectionpool:Starting new HTTPS connection (1): api.stockfighter.io\n",
      "DEBUG:requests.packages.urllib3.connectionpool:\"POST /ob/api/venues/LMJBEX/stocks/PMII/orders HTTP/1.1\" 200 288\n"
     ]
    },
    {
     "name": "stdout",
     "output_type": "stream",
     "text": [
      "{u'direction': u'buy', u'ok': True, u'ts': u'2016-01-08T11:19:18.187211115Z', u'fills': [{u'price': 4174, u'ts': u'2016-01-08T11:19:18.18721393Z', u'qty': 9}], u'originalQty': 9, u'orderType': u'limit', u'symbol': u'PMII', u'venue': u'LMJBEX', u'account': u'LMB73474977', u'qty': 0, u'id': 2901, u'totalFilled': 9, u'open': False, u'price': 4295}\n",
      "711285 0 -165\n",
      "ordering with data:  {'account': 'LMB73474977', 'orderType': 'limit', 'price': 4295, 'venue': u'LMJBEX', 'direction': 'buy', 'qty': 9, 'stock': u'PMII'}\n",
      "673719 0 -156\n",
      "ordering with data:  {'account': 'LMB73474977', 'orderType': 'limit', 'price': 3590, 'venue': u'LMJBEX', 'direction': 'buy', 'qty': 13, 'stock': u'PMII'}\n"
     ]
    },
    {
     "name": "stderr",
     "output_type": "stream",
     "text": [
      "INFO:requests.packages.urllib3.connectionpool:Starting new HTTPS connection (1): api.stockfighter.io\n",
      "DEBUG:requests.packages.urllib3.connectionpool:\"POST /ob/api/venues/LMJBEX/stocks/PMII/orders HTTP/1.1\" 200 385\n",
      "INFO:requests.packages.urllib3.connectionpool:Starting new HTTPS connection (1): api.stockfighter.io\n",
      "DEBUG:requests.packages.urllib3.connectionpool:\"POST /ob/api/venues/LMJBEX/stocks/PMII/orders HTTP/1.1\" 200 384\n"
     ]
    },
    {
     "name": "stdout",
     "output_type": "stream",
     "text": [
      "{u'direction': u'buy', u'ok': True, u'ts': u'2016-01-08T11:19:19.363364083Z', u'fills': [{u'price': 4174, u'ts': u'2016-01-08T11:19:19.363365948Z', u'qty': 9}], u'originalQty': 9, u'orderType': u'limit', u'symbol': u'PMII', u'venue': u'LMJBEX', u'account': u'LMB73474977', u'qty': 0, u'id': 2903, u'totalFilled': 9, u'open': False, u'price': 4295}\n",
      "673719 0 -156\n",
      "ordering with data:  {'account': 'LMB73474977', 'orderType': 'limit', 'price': 4295, 'venue': u'LMJBEX', 'direction': 'buy', 'qty': 9, 'stock': u'PMII'}\n",
      "{u'direction': u'buy', u'ok': True, u'ts': u'2016-01-08T11:19:20.57416119Z', u'fills': [{u'price': 4208, u'ts': u'2016-01-08T11:19:20.574163544Z', u'qty': 9}], u'originalQty': 9, u'orderType': u'limit', u'symbol': u'PMII', u'venue': u'LMJBEX', u'account': u'LMB73474977', u'qty': 0, u'id': 2931, u'totalFilled': 9, u'open': False, u'price': 4295}\n"
     ]
    },
    {
     "name": "stderr",
     "output_type": "stream",
     "text": [
      "DEBUG:requests.packages.urllib3.connectionpool:\"POST /ob/api/venues/LMJBEX/stocks/PMII/orders HTTP/1.1\" 200 289\n",
      "INFO:requests.packages.urllib3.connectionpool:Starting new HTTPS connection (1): api.stockfighter.io\n",
      "INFO:requests.packages.urllib3.connectionpool:Starting new HTTPS connection (1): api.stockfighter.io\n",
      "DEBUG:requests.packages.urllib3.connectionpool:\"POST /ob/api/venues/LMJBEX/stocks/PMII/orders HTTP/1.1\" 200 385\n"
     ]
    },
    {
     "name": "stdout",
     "output_type": "stream",
     "text": [
      "714847 0 -166\n",
      "ordering with data:  {'account': 'LMB73474977', 'orderType': 'limit', 'price': 3590, 'venue': u'LMJBEX', 'direction': 'buy', 'qty': 13, 'stock': u'PMII'}\n",
      "714847 0 -166\n",
      "ordering with data:  {'account': 'LMB73474977', 'orderType': 'limit', 'price': 4295, 'venue': u'LMJBEX', 'direction': 'buy', 'qty': 9, 'stock': u'PMII'}\n",
      "{u'direction': u'buy', u'ok': True, u'ts': u'2016-01-08T11:19:21.971613276Z', u'fills': [{u'price': 4208, u'ts': u'2016-01-08T11:19:21.971615913Z', u'qty': 9}], u'originalQty': 9, u'orderType': u'limit', u'symbol': u'PMII', u'venue': u'LMJBEX', u'account': u'LMB73474977', u'qty': 0, u'id': 2933, u'totalFilled': 9, u'open': False, u'price': 4295}\n"
     ]
    },
    {
     "name": "stderr",
     "output_type": "stream",
     "text": [
      "INFO:requests.packages.urllib3.connectionpool:Starting new HTTPS connection (1): api.stockfighter.io\n",
      "DEBUG:requests.packages.urllib3.connectionpool:\"POST /ob/api/venues/LMJBEX/stocks/PMII/orders HTTP/1.1\" 200 289\n",
      "INFO:requests.packages.urllib3.connectionpool:Starting new HTTPS connection (1): api.stockfighter.io\n",
      "DEBUG:requests.packages.urllib3.connectionpool:\"POST /ob/api/venues/LMJBEX/stocks/PMII/orders HTTP/1.1\" 200 385\n"
     ]
    },
    {
     "name": "stdout",
     "output_type": "stream",
     "text": [
      "676975 0 -157\n",
      "ordering with data:  {'account': 'LMB73474977', 'orderType': 'limit', 'price': 4295, 'venue': u'LMJBEX', 'direction': 'buy', 'qty': 9, 'stock': u'PMII'}\n",
      "676975 0 -157\n",
      "ordering with data:  {'account': 'LMB73474977', 'orderType': 'limit', 'price': 3590, 'venue': u'LMJBEX', 'direction': 'buy', 'qty': 13, 'stock': u'PMII'}\n",
      "{u'direction': u'buy', u'ok': True, u'ts': u'2016-01-08T11:19:23.261251964Z', u'fills': [{u'price': 4208, u'ts': u'2016-01-08T11:19:23.261254417Z', u'qty': 9}], u'originalQty': 9, u'orderType': u'limit', u'symbol': u'PMII', u'venue': u'LMJBEX', u'account': u'LMB73474977', u'qty': 0, u'id': 2935, u'totalFilled': 9, u'open': False, u'price': 4295}\n"
     ]
    },
    {
     "name": "stderr",
     "output_type": "stream",
     "text": [
      "INFO:requests.packages.urllib3.connectionpool:Starting new HTTPS connection (1): api.stockfighter.io\n",
      "DEBUG:requests.packages.urllib3.connectionpool:\"POST /ob/api/venues/LMJBEX/stocks/PMII/orders HTTP/1.1\" 200 289\n"
     ]
    },
    {
     "name": "stdout",
     "output_type": "stream",
     "text": [
      "676975 0 -157\n",
      "ordering with data:  {'account': 'LMB73474977', 'orderType': 'limit', 'price': 4295, 'venue': u'LMJBEX', 'direction': 'buy', 'qty': 9, 'stock': u'PMII'}\n",
      "601231 0 -139\n",
      "ordering with data:  {'account': 'LMB73474977', 'orderType': 'limit', 'price': 3590, 'venue': u'LMJBEX', 'direction': 'buy', 'qty': 13, 'stock': u'PMII'}\n"
     ]
    },
    {
     "name": "stderr",
     "output_type": "stream",
     "text": [
      "INFO:requests.packages.urllib3.connectionpool:Starting new HTTPS connection (1): api.stockfighter.io\n",
      "DEBUG:requests.packages.urllib3.connectionpool:\"POST /ob/api/venues/LMJBEX/stocks/PMII/orders HTTP/1.1\" 200 480\n"
     ]
    },
    {
     "name": "stdout",
     "output_type": "stream",
     "text": [
      "{u'direction': u'buy', u'ok': True, u'ts': u'2016-01-08T11:19:24.458919152Z', u'fills': [{u'price': 4208, u'ts': u'2016-01-08T11:19:24.458921424Z', u'qty': 5}, {u'price': 4228, u'ts': u'2016-01-08T11:19:24.458923136Z', u'qty': 4}], u'originalQty': 9, u'orderType': u'limit', u'symbol': u'PMII', u'venue': u'LMJBEX', u'account': u'LMB73474977', u'qty': 0, u'id': 2937, u'totalFilled': 9, u'open': False, u'price': 4295}\n",
      "563279 0 -130\n",
      "ordering with data:  {'account': 'LMB73474977', 'orderType': 'limit', 'price': 4295, 'venue': u'LMJBEX', 'direction': 'buy', 'qty': 9, 'stock': u'PMII'}\n"
     ]
    },
    {
     "name": "stderr",
     "output_type": "stream",
     "text": [
      "INFO:requests.packages.urllib3.connectionpool:Starting new HTTPS connection (1): api.stockfighter.io\n",
      "DEBUG:requests.packages.urllib3.connectionpool:\"POST /ob/api/venues/LMJBEX/stocks/PMII/orders HTTP/1.1\" 200 289\n",
      "INFO:requests.packages.urllib3.connectionpool:Starting new HTTPS connection (1): api.stockfighter.io\n",
      "DEBUG:requests.packages.urllib3.connectionpool:\"POST /ob/api/venues/LMJBEX/stocks/PMII/orders HTTP/1.1\" 200 287\n"
     ]
    },
    {
     "name": "stdout",
     "output_type": "stream",
     "text": [
      "563279 0 -130\n",
      "ordering with data:  {'account': 'LMB73474977', 'orderType': 'limit', 'price': 3590, 'venue': u'LMJBEX', 'direction': 'buy', 'qty': 13, 'stock': u'PMII'}\n",
      "{u'direction': u'buy', u'ok': True, u'ts': u'2016-01-08T11:19:25.997100909Z', u'fills': [], u'originalQty': 9, u'orderType': u'limit', u'symbol': u'PMII', u'venue': u'LMJBEX', u'account': u'LMB73474977', u'qty': 9, u'id': 2966, u'totalFilled': 0, u'open': True, u'price': 4295}\n"
     ]
    },
    {
     "name": "stderr",
     "output_type": "stream",
     "text": [
      "INFO:requests.packages.urllib3.connectionpool:Starting new HTTPS connection (1): api.stockfighter.io\n",
      "DEBUG:requests.packages.urllib3.connectionpool:\"POST /ob/api/venues/LMJBEX/stocks/PMII/orders HTTP/1.1\" 200 289\n"
     ]
    },
    {
     "name": "stdout",
     "output_type": "stream",
     "text": [
      "563279 0 -130\n",
      "ordering with data:  {'account': 'LMB73474977', 'orderType': 'limit', 'price': 4316, 'venue': u'LMJBEX', 'direction': 'buy', 'qty': 9, 'stock': u'PMII'}\n",
      "563279 0 -130\n",
      "ordering with data:  {'account': 'LMB73474977', 'orderType': 'limit', 'price': 3607, 'venue': u'LMJBEX', 'direction': 'buy', 'qty': 13, 'stock': u'PMII'}\n"
     ]
    },
    {
     "name": "stderr",
     "output_type": "stream",
     "text": [
      "INFO:requests.packages.urllib3.connectionpool:Starting new HTTPS connection (1): api.stockfighter.io\n",
      "DEBUG:requests.packages.urllib3.connectionpool:\"POST /ob/api/venues/LMJBEX/stocks/PMII/orders HTTP/1.1\" 200 287\n",
      "INFO:requests.packages.urllib3.connectionpool:Starting new HTTPS connection (1): api.stockfighter.io\n",
      "DEBUG:requests.packages.urllib3.connectionpool:\"POST /ob/api/venues/LMJBEX/stocks/PMII/orders HTTP/1.1\" 200 289\n"
     ]
    },
    {
     "name": "stdout",
     "output_type": "stream",
     "text": [
      "{u'direction': u'buy', u'ok': True, u'ts': u'2016-01-08T11:19:27.221550497Z', u'fills': [], u'originalQty': 9, u'orderType': u'limit', u'symbol': u'PMII', u'venue': u'LMJBEX', u'account': u'LMB73474977', u'qty': 9, u'id': 2968, u'totalFilled': 0, u'open': True, u'price': 4316}\n",
      "563279 0 -130\n",
      "563279 0 -130\n",
      "563279 0 -130\n",
      "563279 0 -130\n",
      "563279 0 -130\n",
      "563279 0 -130\n",
      "ordering with data:  {'account': 'LMB73474977', 'orderType': 'limit', 'price': 4060, 'venue': u'LMJBEX', 'direction': 'buy', 'qty': 9, 'stock': u'PMII'}\n",
      "563279 0 -130\n",
      "ordering with data:  {'account': 'LMB73474977', 'orderType': 'limit', 'price': 3624, 'venue': u'LMJBEX', 'direction': 'buy', 'qty': 13, 'stock': u'PMII'}\n"
     ]
    },
    {
     "name": "stderr",
     "output_type": "stream",
     "text": [
      "INFO:requests.packages.urllib3.connectionpool:Starting new HTTPS connection (1): api.stockfighter.io\n",
      "DEBUG:requests.packages.urllib3.connectionpool:\"POST /ob/api/venues/LMJBEX/stocks/PMII/orders HTTP/1.1\" 200 287\n",
      "INFO:requests.packages.urllib3.connectionpool:Starting new HTTPS connection (1): api.stockfighter.io\n",
      "DEBUG:requests.packages.urllib3.connectionpool:\"POST /ob/api/venues/LMJBEX/stocks/PMII/orders HTTP/1.1\" 200 288\n"
     ]
    },
    {
     "name": "stdout",
     "output_type": "stream",
     "text": [
      "{u'direction': u'buy', u'ok': True, u'ts': u'2016-01-08T11:19:28.432396656Z', u'fills': [], u'originalQty': 9, u'orderType': u'limit', u'symbol': u'PMII', u'venue': u'LMJBEX', u'account': u'LMB73474977', u'qty': 9, u'id': 2970, u'totalFilled': 0, u'open': True, u'price': 4060}\n",
      "563279 0 -130\n",
      "ordering with data:  {'account': 'LMB73474977', 'orderType': 'limit', 'price': 4040, 'venue': u'LMJBEX', 'direction': 'buy', 'qty': 9, 'stock': u'PMII'}\n",
      "563279 0 -130\n"
     ]
    },
    {
     "name": "stderr",
     "output_type": "stream",
     "text": [
      "INFO:requests.packages.urllib3.connectionpool:Starting new HTTPS connection (1): api.stockfighter.io\n",
      "DEBUG:root:send: '\\x8a\\x80j\\xb7\\xaa\\x88'\n",
      "DEBUG:requests.packages.urllib3.connectionpool:\"POST /ob/api/venues/LMJBEX/stocks/PMII/orders HTTP/1.1\" 200 286\n"
     ]
    },
    {
     "name": "stdout",
     "output_type": "stream",
     "text": [
      "563279 0 -130\n",
      "563279 0 -130\n",
      "563279 0 -130\n",
      "563279 0 -130\n",
      "ordering with data:  {'account': 'LMB73474977', 'orderType': 'limit', 'price': 3624, 'venue': u'LMJBEX', 'direction': 'buy', 'qty': 21, 'stock': u'PMII'}\n",
      "{u'direction': u'buy', u'ok': True, u'ts': u'2016-01-08T11:19:29.63335343Z', u'fills': [], u'originalQty': 9, u'orderType': u'limit', u'symbol': u'PMII', u'venue': u'LMJBEX', u'account': u'LMB73474977', u'qty': 9, u'id': 2972, u'totalFilled': 0, u'open': True, u'price': 4040}\n"
     ]
    },
    {
     "name": "stderr",
     "output_type": "stream",
     "text": [
      "INFO:requests.packages.urllib3.connectionpool:Starting new HTTPS connection (1): api.stockfighter.io\n",
      "DEBUG:requests.packages.urllib3.connectionpool:\"POST /ob/api/venues/LMJBEX/stocks/PMII/orders HTTP/1.1\" 200 289\n"
     ]
    },
    {
     "name": "stdout",
     "output_type": "stream",
     "text": [
      "563279 0 -130\n",
      "ordering with data:  {'account': 'LMB73474977', 'orderType': 'limit', 'price': 4020, 'venue': u'LMJBEX', 'direction': 'buy', 'qty': 9, 'stock': u'PMII'}\n",
      "524435 0 -121\n",
      "ordering with data:  {'account': 'LMB73474977', 'orderType': 'limit', 'price': 3607, 'venue': u'LMJBEX', 'direction': 'buy', 'qty': 21, 'stock': u'PMII'}\n"
     ]
    },
    {
     "name": "stderr",
     "output_type": "stream",
     "text": [
      "INFO:requests.packages.urllib3.connectionpool:Starting new HTTPS connection (1): api.stockfighter.io\n",
      "DEBUG:requests.packages.urllib3.connectionpool:\"POST /ob/api/venues/LMJBEX/stocks/PMII/orders HTTP/1.1\" 200 287\n",
      "INFO:requests.packages.urllib3.connectionpool:Starting new HTTPS connection (1): api.stockfighter.io\n",
      "DEBUG:requests.packages.urllib3.connectionpool:\"POST /ob/api/venues/LMJBEX/stocks/PMII/orders HTTP/1.1\" 200 289\n"
     ]
    },
    {
     "name": "stdout",
     "output_type": "stream",
     "text": [
      "{u'direction': u'buy', u'ok': True, u'ts': u'2016-01-08T11:19:30.820468163Z', u'fills': [], u'originalQty': 9, u'orderType': u'limit', u'symbol': u'PMII', u'venue': u'LMJBEX', u'account': u'LMB73474977', u'qty': 9, u'id': 2999, u'totalFilled': 0, u'open': True, u'price': 4020}\n",
      "524435 0 -121\n",
      "ordering with data:  {'account': 'LMB73474977', 'orderType': 'limit', 'price': 4040, 'venue': u'LMJBEX', 'direction': 'buy', 'qty': 9, 'stock': u'PMII'}\n",
      "524435 0 -121\n",
      "ordering with data:  {'account': 'LMB73474977', 'orderType': 'limit', 'price': 3590, 'venue': u'LMJBEX', 'direction': 'buy', 'qty': 21, 'stock': u'PMII'}\n"
     ]
    },
    {
     "name": "stderr",
     "output_type": "stream",
     "text": [
      "INFO:requests.packages.urllib3.connectionpool:Starting new HTTPS connection (1): api.stockfighter.io\n",
      "DEBUG:requests.packages.urllib3.connectionpool:\"POST /ob/api/venues/LMJBEX/stocks/PMII/orders HTTP/1.1\" 200 287\n",
      "INFO:requests.packages.urllib3.connectionpool:Starting new HTTPS connection (1): api.stockfighter.io\n",
      "DEBUG:requests.packages.urllib3.connectionpool:\"POST /ob/api/venues/LMJBEX/stocks/PMII/orders HTTP/1.1\" 200 289\n"
     ]
    },
    {
     "name": "stdout",
     "output_type": "stream",
     "text": [
      "{u'direction': u'buy', u'ok': True, u'ts': u'2016-01-08T11:19:32.080729575Z', u'fills': [], u'originalQty': 9, u'orderType': u'limit', u'symbol': u'PMII', u'venue': u'LMJBEX', u'account': u'LMB73474977', u'qty': 9, u'id': 3001, u'totalFilled': 0, u'open': True, u'price': 4040}\n",
      "524435 0 -121\n",
      "ordering with data:  {'account': 'LMB73474977', 'orderType': 'limit', 'price': 4060, 'venue': u'LMJBEX', 'direction': 'buy', 'qty': 9, 'stock': u'PMII'}\n",
      "524435 0 -121\n",
      "ordering with data:  {'account': 'LMB73474977', 'orderType': 'limit', 'price': 3590, 'venue': u'LMJBEX', 'direction': 'buy', 'qty': 21, 'stock': u'PMII'}\n"
     ]
    },
    {
     "name": "stderr",
     "output_type": "stream",
     "text": [
      "INFO:requests.packages.urllib3.connectionpool:Starting new HTTPS connection (1): api.stockfighter.io\n",
      "DEBUG:requests.packages.urllib3.connectionpool:\"POST /ob/api/venues/LMJBEX/stocks/PMII/orders HTTP/1.1\" 200 287\n",
      "INFO:requests.packages.urllib3.connectionpool:Starting new HTTPS connection (1): api.stockfighter.io\n",
      "DEBUG:requests.packages.urllib3.connectionpool:\"POST /ob/api/venues/LMJBEX/stocks/PMII/orders HTTP/1.1\" 200 289\n",
      "DEBUG:root:send: '\\x8a\\x80k\\x1c\\xbf\\xe7'\n",
      "DEBUG:root:send: '\\x88\\x82]K%\\xdd^\\xa3'\n",
      "DEBUG:requests.packages.urllib3.connectionpool:\"POST /ob/api/venues/LMJBEX/stocks/PMII/orders HTTP/1.1\" 200 287\n"
     ]
    },
    {
     "name": "stdout",
     "output_type": "stream",
     "text": [
      "{u'direction': u'buy', u'ok': True, u'ts': u'2016-01-08T11:19:33.329291914Z', u'fills': [], u'originalQty': 9, u'orderType': u'limit', u'symbol': u'PMII', u'venue': u'LMJBEX', u'account': u'LMB73474977', u'qty': 9, u'id': 3003, u'totalFilled': 0, u'open': True, u'price': 4060}\n",
      "524435 0 -121\n",
      "524435 0 -121\n",
      "524435 0 -121\n",
      "524435 0 -121\n",
      "524435 0 -121\n",
      "524435 0 -121\n",
      "524435 0 -121\n",
      "524435 0 -121\n",
      "524435 0 -121\n",
      "524435 0 -121\n",
      "524435 0 -121\n",
      "524435 0 -121\n",
      "524435 0 -121\n",
      "524435 0 -121\n",
      "ordering with data:  {'account': 'LMB73474977', 'orderType': 'limit', 'price': 4037, 'venue': u'LMJBEX', 'direction': 'buy', 'qty': 9, 'stock': u'PMII'}\n",
      "{u'direction': u'buy', u'ok': True, u'ts': u'2016-01-08T11:19:34.537832509Z', u'fills': [], u'originalQty': 9, u'orderType': u'limit', u'symbol': u'PMII', u'venue': u'LMJBEX', u'account': u'LMB73474977', u'qty': 9, u'id': 3005, u'totalFilled': 0, u'open': True, u'price': 4037}\n"
     ]
    },
    {
     "name": "stderr",
     "output_type": "stream",
     "text": [
      "INFO:requests.packages.urllib3.connectionpool:Starting new HTTPS connection (1): api.stockfighter.io\n",
      "DEBUG:requests.packages.urllib3.connectionpool:\"POST /ob/api/venues/LMJBEX/stocks/PMII/orders HTTP/1.1\" 200 287\n"
     ]
    },
    {
     "name": "stdout",
     "output_type": "stream",
     "text": [
      "524435 0 -121\n",
      "ordering with data:  {'account': 'LMB73474977', 'orderType': 'limit', 'price': 4018, 'venue': u'LMJBEX', 'direction': 'buy', 'qty': 9, 'stock': u'PMII'}\n",
      "{u'direction': u'buy', u'ok': True, u'ts': u'2016-01-08T11:19:35.772364836Z', u'fills': [], u'originalQty': 9, u'orderType': u'limit', u'symbol': u'PMII', u'venue': u'LMJBEX', u'account': u'LMB73474977', u'qty': 9, u'id': 3027, u'totalFilled': 0, u'open': True, u'price': 4018}\n"
     ]
    },
    {
     "name": "stderr",
     "output_type": "stream",
     "text": [
      "INFO:requests.packages.urllib3.connectionpool:Starting new HTTPS connection (1): api.stockfighter.io\n",
      "DEBUG:requests.packages.urllib3.connectionpool:\"POST /ob/api/venues/LMJBEX/stocks/PMII/orders HTTP/1.1\" 200 287\n"
     ]
    },
    {
     "name": "stdout",
     "output_type": "stream",
     "text": [
      "524435 0 -121\n",
      "ordering with data:  {'account': 'LMB73474977', 'orderType': 'limit', 'price': 3999, 'venue': u'LMJBEX', 'direction': 'buy', 'qty': 9, 'stock': u'PMII'}\n",
      "{u'direction': u'buy', u'ok': True, u'ts': u'2016-01-08T11:19:36.975718623Z', u'fills': [], u'originalQty': 9, u'orderType': u'limit', u'symbol': u'PMII', u'venue': u'LMJBEX', u'account': u'LMB73474977', u'qty': 9, u'id': 3028, u'totalFilled': 0, u'open': True, u'price': 3999}\n"
     ]
    },
    {
     "name": "stderr",
     "output_type": "stream",
     "text": [
      "INFO:requests.packages.urllib3.connectionpool:Starting new HTTPS connection (1): api.stockfighter.io\n",
      "DEBUG:requests.packages.urllib3.connectionpool:\"POST /ob/api/venues/LMJBEX/stocks/PMII/orders HTTP/1.1\" 200 286\n"
     ]
    },
    {
     "name": "stdout",
     "output_type": "stream",
     "text": [
      "524435 0 -121\n",
      "ordering with data:  {'account': 'LMB73474977', 'orderType': 'limit', 'price': 3999, 'venue': u'LMJBEX', 'direction': 'buy', 'qty': 9, 'stock': u'PMII'}\n",
      "{u'direction': u'buy', u'ok': True, u'ts': u'2016-01-08T11:19:38.17421628Z', u'fills': [], u'originalQty': 9, u'orderType': u'limit', u'symbol': u'PMII', u'venue': u'LMJBEX', u'account': u'LMB73474977', u'qty': 9, u'id': 3029, u'totalFilled': 0, u'open': True, u'price': 3999}\n"
     ]
    },
    {
     "name": "stderr",
     "output_type": "stream",
     "text": [
      "INFO:requests.packages.urllib3.connectionpool:Starting new HTTPS connection (1): api.stockfighter.io\n",
      "DEBUG:requests.packages.urllib3.connectionpool:\"POST /ob/api/venues/LMJBEX/stocks/PMII/orders HTTP/1.1\" 200 285\n"
     ]
    },
    {
     "name": "stdout",
     "output_type": "stream",
     "text": [
      "524435 0 -121\n",
      "ordering with data:  {'account': 'LMB73474977', 'orderType': 'limit', 'price': 3999, 'venue': u'LMJBEX', 'direction': 'buy', 'qty': 9, 'stock': u'PMII'}\n",
      "{u'direction': u'buy', u'ok': True, u'ts': u'2016-01-08T11:19:39.3848421Z', u'fills': [], u'originalQty': 9, u'orderType': u'limit', u'symbol': u'PMII', u'venue': u'LMJBEX', u'account': u'LMB73474977', u'qty': 9, u'id': 3030, u'totalFilled': 0, u'open': True, u'price': 3999}\n"
     ]
    },
    {
     "name": "stderr",
     "output_type": "stream",
     "text": [
      "INFO:requests.packages.urllib3.connectionpool:Starting new HTTPS connection (1): api.stockfighter.io\n",
      "DEBUG:requests.packages.urllib3.connectionpool:\"POST /ob/api/venues/LMJBEX/stocks/PMII/orders HTTP/1.1\" 200 287\n"
     ]
    },
    {
     "name": "stdout",
     "output_type": "stream",
     "text": [
      "524435 0 -121\n",
      "ordering with data:  {'account': 'LMB73474977', 'orderType': 'limit', 'price': 3999, 'venue': u'LMJBEX', 'direction': 'buy', 'qty': 9, 'stock': u'PMII'}\n",
      "{u'direction': u'buy', u'ok': True, u'ts': u'2016-01-08T11:19:40.585976951Z', u'fills': [], u'originalQty': 9, u'orderType': u'limit', u'symbol': u'PMII', u'venue': u'LMJBEX', u'account': u'LMB73474977', u'qty': 9, u'id': 3052, u'totalFilled': 0, u'open': True, u'price': 3999}\n"
     ]
    },
    {
     "name": "stderr",
     "output_type": "stream",
     "text": [
      "INFO:requests.packages.urllib3.connectionpool:Starting new HTTPS connection (1): api.stockfighter.io\n",
      "DEBUG:requests.packages.urllib3.connectionpool:\"POST /ob/api/venues/LMJBEX/stocks/PMII/orders HTTP/1.1\" 200 289\n"
     ]
    },
    {
     "name": "stdout",
     "output_type": "stream",
     "text": [
      "524435 0 -121\n",
      "ordering with data:  {'account': 'LMB73474977', 'orderType': 'limit', 'price': 3894, 'venue': u'LMJBEX', 'direction': 'buy', 'qty': 67, 'stock': u'PMII'}\n",
      "{u'direction': u'buy', u'ok': True, u'ts': u'2016-01-08T11:19:41.769297591Z', u'fills': [], u'originalQty': 67, u'orderType': u'limit', u'symbol': u'PMII', u'venue': u'LMJBEX', u'account': u'LMB73474977', u'qty': 67, u'id': 3053, u'totalFilled': 0, u'open': True, u'price': 3894}\n"
     ]
    },
    {
     "name": "stderr",
     "output_type": "stream",
     "text": [
      "INFO:requests.packages.urllib3.connectionpool:Starting new HTTPS connection (1): api.stockfighter.io\n",
      "DEBUG:requests.packages.urllib3.connectionpool:\"POST /ob/api/venues/LMJBEX/stocks/PMII/orders HTTP/1.1\" 200 289\n"
     ]
    },
    {
     "name": "stdout",
     "output_type": "stream",
     "text": [
      "524435 0 -121\n",
      "ordering with data:  {'account': 'LMB73474977', 'orderType': 'limit', 'price': 3894, 'venue': u'LMJBEX', 'direction': 'buy', 'qty': 67, 'stock': u'PMII'}\n",
      "{u'direction': u'buy', u'ok': True, u'ts': u'2016-01-08T11:19:42.966102589Z', u'fills': [], u'originalQty': 67, u'orderType': u'limit', u'symbol': u'PMII', u'venue': u'LMJBEX', u'account': u'LMB73474977', u'qty': 67, u'id': 3054, u'totalFilled': 0, u'open': True, u'price': 3894}\n"
     ]
    },
    {
     "name": "stderr",
     "output_type": "stream",
     "text": [
      "INFO:requests.packages.urllib3.connectionpool:Starting new HTTPS connection (1): api.stockfighter.io\n",
      "DEBUG:requests.packages.urllib3.connectionpool:\"POST /ob/api/venues/LMJBEX/stocks/PMII/orders HTTP/1.1\" 200 289\n"
     ]
    },
    {
     "name": "stdout",
     "output_type": "stream",
     "text": [
      "524435 0 -121\n",
      "ordering with data:  {'account': 'LMB73474977', 'orderType': 'limit', 'price': 3894, 'venue': u'LMJBEX', 'direction': 'buy', 'qty': 67, 'stock': u'PMII'}\n",
      "{u'direction': u'buy', u'ok': True, u'ts': u'2016-01-08T11:19:44.167765054Z', u'fills': [], u'originalQty': 67, u'orderType': u'limit', u'symbol': u'PMII', u'venue': u'LMJBEX', u'account': u'LMB73474977', u'qty': 67, u'id': 3055, u'totalFilled': 0, u'open': True, u'price': 3894}\n"
     ]
    },
    {
     "name": "stderr",
     "output_type": "stream",
     "text": [
      "INFO:requests.packages.urllib3.connectionpool:Starting new HTTPS connection (1): api.stockfighter.io\n",
      "DEBUG:requests.packages.urllib3.connectionpool:\"POST /ob/api/venues/LMJBEX/stocks/PMII/orders HTTP/1.1\" 200 289\n"
     ]
    },
    {
     "name": "stdout",
     "output_type": "stream",
     "text": [
      "524435 0 -121\n",
      "ordering with data:  {'account': 'LMB73474977', 'orderType': 'limit', 'price': 3894, 'venue': u'LMJBEX', 'direction': 'buy', 'qty': 67, 'stock': u'PMII'}\n",
      "{u'direction': u'buy', u'ok': True, u'ts': u'2016-01-08T11:19:45.392285951Z', u'fills': [], u'originalQty': 67, u'orderType': u'limit', u'symbol': u'PMII', u'venue': u'LMJBEX', u'account': u'LMB73474977', u'qty': 67, u'id': 3086, u'totalFilled': 0, u'open': True, u'price': 3894}\n"
     ]
    },
    {
     "name": "stderr",
     "output_type": "stream",
     "text": [
      "INFO:requests.packages.urllib3.connectionpool:Starting new HTTPS connection (1): api.stockfighter.io\n",
      "DEBUG:requests.packages.urllib3.connectionpool:\"POST /ob/api/venues/LMJBEX/stocks/PMII/orders HTTP/1.1\" 200 289\n"
     ]
    },
    {
     "name": "stdout",
     "output_type": "stream",
     "text": [
      "524435 0 -121\n",
      "ordering with data:  {'account': 'LMB73474977', 'orderType': 'limit', 'price': 3882, 'venue': u'LMJBEX', 'direction': 'buy', 'qty': 64, 'stock': u'PMII'}\n",
      "{u'direction': u'buy', u'ok': True, u'ts': u'2016-01-08T11:19:46.609035671Z', u'fills': [], u'originalQty': 64, u'orderType': u'limit', u'symbol': u'PMII', u'venue': u'LMJBEX', u'account': u'LMB73474977', u'qty': 64, u'id': 3087, u'totalFilled': 0, u'open': True, u'price': 3882}\n"
     ]
    },
    {
     "name": "stderr",
     "output_type": "stream",
     "text": [
      "INFO:requests.packages.urllib3.connectionpool:Starting new HTTPS connection (1): api.stockfighter.io\n",
      "DEBUG:root:send: '\\x8a\\x80\\x82_\\x0f\\xbf'\n",
      "DEBUG:requests.packages.urllib3.connectionpool:\"POST /ob/api/venues/LMJBEX/stocks/PMII/orders HTTP/1.1\" 200 289\n"
     ]
    },
    {
     "name": "stdout",
     "output_type": "stream",
     "text": [
      "524435 0 -121\n",
      "ordering with data:  {'account': 'LMB73474977', 'orderType': 'limit', 'price': 3882, 'venue': u'LMJBEX', 'direction': 'buy', 'qty': 54, 'stock': u'PMII'}\n",
      "{u'direction': u'buy', u'ok': True, u'ts': u'2016-01-08T11:19:47.835663709Z', u'fills': [], u'originalQty': 54, u'orderType': u'limit', u'symbol': u'PMII', u'venue': u'LMJBEX', u'account': u'LMB73474977', u'qty': 54, u'id': 3088, u'totalFilled': 0, u'open': True, u'price': 3882}\n"
     ]
    },
    {
     "name": "stderr",
     "output_type": "stream",
     "text": [
      "INFO:requests.packages.urllib3.connectionpool:Starting new HTTPS connection (1): api.stockfighter.io\n",
      "DEBUG:requests.packages.urllib3.connectionpool:\"POST /ob/api/venues/LMJBEX/stocks/PMII/orders HTTP/1.1\" 200 289\n"
     ]
    },
    {
     "name": "stdout",
     "output_type": "stream",
     "text": [
      "485780 0 -112\n",
      "ordering with data:  {'account': 'LMB73474977', 'orderType': 'limit', 'price': 3882, 'venue': u'LMJBEX', 'direction': 'buy', 'qty': 54, 'stock': u'PMII'}\n",
      "{u'direction': u'buy', u'ok': True, u'ts': u'2016-01-08T11:19:54.224806561Z', u'fills': [], u'originalQty': 54, u'orderType': u'limit', u'symbol': u'PMII', u'venue': u'LMJBEX', u'account': u'LMB73474977', u'qty': 54, u'id': 3114, u'totalFilled': 0, u'open': True, u'price': 3882}\n"
     ]
    },
    {
     "name": "stderr",
     "output_type": "stream",
     "text": [
      "INFO:requests.packages.urllib3.connectionpool:Starting new HTTPS connection (1): api.stockfighter.io\n",
      "DEBUG:requests.packages.urllib3.connectionpool:\"POST /ob/api/venues/LMJBEX/stocks/PMII/orders HTTP/1.1\" 200 287\n"
     ]
    },
    {
     "name": "stdout",
     "output_type": "stream",
     "text": [
      "485780 0 -112\n",
      "485780 0 -112\n",
      "485780 0 -112\n",
      "485780 0 -112\n",
      "485780 0 -112\n",
      "485780 0 -112\n",
      "485780 0 -112\n",
      "485780 0 -112\n",
      "485780 0 -112\n",
      "485780 0 -112\n",
      "485780 0 -112\n",
      "485780 0 -112\n",
      "485780 0 -112\n",
      "485780 0 -112\n",
      "485780 0 -112\n",
      "485780 0 -112\n",
      "ordering with data:  {'account': 'LMB73474977', 'orderType': 'limit', 'price': 4279, 'venue': u'LMJBEX', 'direction': 'buy', 'qty': 6, 'stock': u'PMII'}\n",
      "{u'direction': u'buy', u'ok': True, u'ts': u'2016-01-08T11:19:55.595045457Z', u'fills': [], u'originalQty': 6, u'orderType': u'limit', u'symbol': u'PMII', u'venue': u'LMJBEX', u'account': u'LMB73474977', u'qty': 6, u'id': 3141, u'totalFilled': 0, u'open': True, u'price': 4279}\n"
     ]
    },
    {
     "name": "stderr",
     "output_type": "stream",
     "text": [
      "INFO:requests.packages.urllib3.connectionpool:Starting new HTTPS connection (1): api.stockfighter.io\n",
      "DEBUG:requests.packages.urllib3.connectionpool:\"POST /ob/api/venues/LMJBEX/stocks/PMII/orders HTTP/1.1\" 200 287\n"
     ]
    },
    {
     "name": "stdout",
     "output_type": "stream",
     "text": [
      "485780 0 -112\n",
      "ordering with data:  {'account': 'LMB73474977', 'orderType': 'limit', 'price': 4258, 'venue': u'LMJBEX', 'direction': 'buy', 'qty': 6, 'stock': u'PMII'}\n",
      "{u'direction': u'buy', u'ok': True, u'ts': u'2016-01-08T11:19:56.972386479Z', u'fills': [], u'originalQty': 6, u'orderType': u'limit', u'symbol': u'PMII', u'venue': u'LMJBEX', u'account': u'LMB73474977', u'qty': 6, u'id': 3142, u'totalFilled': 0, u'open': True, u'price': 4258}\n"
     ]
    },
    {
     "name": "stderr",
     "output_type": "stream",
     "text": [
      "INFO:requests.packages.urllib3.connectionpool:Starting new HTTPS connection (1): api.stockfighter.io\n",
      "DEBUG:requests.packages.urllib3.connectionpool:\"POST /ob/api/venues/LMJBEX/stocks/PMII/orders HTTP/1.1\" 200 287\n"
     ]
    },
    {
     "name": "stdout",
     "output_type": "stream",
     "text": [
      "485780 0 -112\n",
      "ordering with data:  {'account': 'LMB73474977', 'orderType': 'limit', 'price': 4237, 'venue': u'LMJBEX', 'direction': 'buy', 'qty': 6, 'stock': u'PMII'}\n",
      "{u'direction': u'buy', u'ok': True, u'ts': u'2016-01-08T11:19:58.341195149Z', u'fills': [], u'originalQty': 6, u'orderType': u'limit', u'symbol': u'PMII', u'venue': u'LMJBEX', u'account': u'LMB73474977', u'qty': 6, u'id': 3143, u'totalFilled': 0, u'open': True, u'price': 4237}\n"
     ]
    },
    {
     "name": "stderr",
     "output_type": "stream",
     "text": [
      "INFO:requests.packages.urllib3.connectionpool:Starting new HTTPS connection (1): api.stockfighter.io\n",
      "DEBUG:requests.packages.urllib3.connectionpool:\"POST /ob/api/venues/LMJBEX/stocks/PMII/orders HTTP/1.1\" 200 287\n"
     ]
    },
    {
     "name": "stdout",
     "output_type": "stream",
     "text": [
      "485780 0 -112\n",
      "ordering with data:  {'account': 'LMB73474977', 'orderType': 'limit', 'price': 4237, 'venue': u'LMJBEX', 'direction': 'buy', 'qty': 6, 'stock': u'PMII'}\n",
      "{u'direction': u'buy', u'ok': True, u'ts': u'2016-01-08T11:19:59.703511216Z', u'fills': [], u'originalQty': 6, u'orderType': u'limit', u'symbol': u'PMII', u'venue': u'LMJBEX', u'account': u'LMB73474977', u'qty': 6, u'id': 3144, u'totalFilled': 0, u'open': True, u'price': 4237}\n"
     ]
    },
    {
     "name": "stderr",
     "output_type": "stream",
     "text": [
      "INFO:requests.packages.urllib3.connectionpool:Starting new HTTPS connection (1): api.stockfighter.io\n",
      "DEBUG:requests.packages.urllib3.connectionpool:\"POST /ob/api/venues/LMJBEX/stocks/PMII/orders HTTP/1.1\" 200 287\n"
     ]
    },
    {
     "name": "stdout",
     "output_type": "stream",
     "text": [
      "485780 0 -112\n",
      "ordering with data:  {'account': 'LMB73474977', 'orderType': 'limit', 'price': 4237, 'venue': u'LMJBEX', 'direction': 'buy', 'qty': 6, 'stock': u'PMII'}\n",
      "{u'direction': u'buy', u'ok': True, u'ts': u'2016-01-08T11:20:01.069918381Z', u'fills': [], u'originalQty': 6, u'orderType': u'limit', u'symbol': u'PMII', u'venue': u'LMJBEX', u'account': u'LMB73474977', u'qty': 6, u'id': 3170, u'totalFilled': 0, u'open': True, u'price': 4237}\n"
     ]
    },
    {
     "name": "stderr",
     "output_type": "stream",
     "text": [
      "INFO:requests.packages.urllib3.connectionpool:Starting new HTTPS connection (1): api.stockfighter.io\n",
      "DEBUG:requests.packages.urllib3.connectionpool:\"POST /ob/api/venues/LMJBEX/stocks/PMII/orders HTTP/1.1\" 200 287\n"
     ]
    },
    {
     "name": "stdout",
     "output_type": "stream",
     "text": [
      "344681 0 -79\n",
      "ordering with data:  {'account': 'LMB73474977', 'orderType': 'limit', 'price': 4237, 'venue': u'LMJBEX', 'direction': 'buy', 'qty': 6, 'stock': u'PMII'}\n",
      "{u'direction': u'buy', u'ok': True, u'ts': u'2016-01-08T11:20:02.432070991Z', u'fills': [], u'originalQty': 6, u'orderType': u'limit', u'symbol': u'PMII', u'venue': u'LMJBEX', u'account': u'LMB73474977', u'qty': 6, u'id': 3171, u'totalFilled': 0, u'open': True, u'price': 4237}\n"
     ]
    },
    {
     "name": "stderr",
     "output_type": "stream",
     "text": [
      "INFO:requests.packages.urllib3.connectionpool:Starting new HTTPS connection (1): api.stockfighter.io\n",
      "DEBUG:requests.packages.urllib3.connectionpool:\"POST /ob/api/venues/LMJBEX/stocks/PMII/orders HTTP/1.1\" 200 286\n"
     ]
    },
    {
     "name": "stdout",
     "output_type": "stream",
     "text": [
      "344681 0 -79\n",
      "ordering with data:  {'account': 'LMB73474977', 'orderType': 'limit', 'price': 4237, 'venue': u'LMJBEX', 'direction': 'buy', 'qty': 6, 'stock': u'PMII'}\n",
      "{u'direction': u'buy', u'ok': True, u'ts': u'2016-01-08T11:20:03.76994527Z', u'fills': [], u'originalQty': 6, u'orderType': u'limit', u'symbol': u'PMII', u'venue': u'LMJBEX', u'account': u'LMB73474977', u'qty': 6, u'id': 3172, u'totalFilled': 0, u'open': True, u'price': 4237}\n"
     ]
    },
    {
     "name": "stderr",
     "output_type": "stream",
     "text": [
      "INFO:requests.packages.urllib3.connectionpool:Starting new HTTPS connection (1): api.stockfighter.io\n",
      "DEBUG:requests.packages.urllib3.connectionpool:\"POST /ob/api/venues/LMJBEX/stocks/PMII/orders HTTP/1.1\" 200 286\n"
     ]
    },
    {
     "name": "stdout",
     "output_type": "stream",
     "text": [
      "344681 0 -79\n",
      "ordering with data:  {'account': 'LMB73474977', 'orderType': 'limit', 'price': 4237, 'venue': u'LMJBEX', 'direction': 'buy', 'qty': 6, 'stock': u'PMII'}\n",
      "{u'direction': u'buy', u'ok': True, u'ts': u'2016-01-08T11:20:05.10391188Z', u'fills': [], u'originalQty': 6, u'orderType': u'limit', u'symbol': u'PMII', u'venue': u'LMJBEX', u'account': u'LMB73474977', u'qty': 6, u'id': 3198, u'totalFilled': 0, u'open': True, u'price': 4237}\n"
     ]
    },
    {
     "name": "stderr",
     "output_type": "stream",
     "text": [
      "INFO:requests.packages.urllib3.connectionpool:Starting new HTTPS connection (1): api.stockfighter.io\n",
      "DEBUG:requests.packages.urllib3.connectionpool:\"POST /ob/api/venues/LMJBEX/stocks/PMII/orders HTTP/1.1\" 200 285\n"
     ]
    },
    {
     "name": "stdout",
     "output_type": "stream",
     "text": [
      "344681 0 -79\n",
      "ordering with data:  {'account': 'LMB73474977', 'orderType': 'limit', 'price': 4237, 'venue': u'LMJBEX', 'direction': 'buy', 'qty': 6, 'stock': u'PMII'}\n",
      "{u'direction': u'buy', u'ok': True, u'ts': u'2016-01-08T11:20:06.4574101Z', u'fills': [], u'originalQty': 6, u'orderType': u'limit', u'symbol': u'PMII', u'venue': u'LMJBEX', u'account': u'LMB73474977', u'qty': 6, u'id': 3199, u'totalFilled': 0, u'open': True, u'price': 4237}\n"
     ]
    },
    {
     "name": "stderr",
     "output_type": "stream",
     "text": [
      "INFO:requests.packages.urllib3.connectionpool:Starting new HTTPS connection (1): api.stockfighter.io\n",
      "DEBUG:requests.packages.urllib3.connectionpool:\"POST /ob/api/venues/LMJBEX/stocks/PMII/orders HTTP/1.1\" 200 287\n"
     ]
    },
    {
     "name": "stdout",
     "output_type": "stream",
     "text": [
      "344681 0 -79\n",
      "ordering with data:  {'account': 'LMB73474977', 'orderType': 'limit', 'price': 4237, 'venue': u'LMJBEX', 'direction': 'buy', 'qty': 6, 'stock': u'PMII'}\n",
      "{u'direction': u'buy', u'ok': True, u'ts': u'2016-01-08T11:20:07.826082359Z', u'fills': [], u'originalQty': 6, u'orderType': u'limit', u'symbol': u'PMII', u'venue': u'LMJBEX', u'account': u'LMB73474977', u'qty': 6, u'id': 3200, u'totalFilled': 0, u'open': True, u'price': 4237}\n"
     ]
    },
    {
     "name": "stderr",
     "output_type": "stream",
     "text": [
      "INFO:requests.packages.urllib3.connectionpool:Starting new HTTPS connection (1): api.stockfighter.io\n",
      "DEBUG:requests.packages.urllib3.connectionpool:\"POST /ob/api/venues/LMJBEX/stocks/PMII/orders HTTP/1.1\" 200 287\n"
     ]
    },
    {
     "name": "stdout",
     "output_type": "stream",
     "text": [
      "344681 0 -79\n",
      "ordering with data:  {'account': 'LMB73474977', 'orderType': 'limit', 'price': 4237, 'venue': u'LMJBEX', 'direction': 'buy', 'qty': 6, 'stock': u'PMII'}\n",
      "{u'direction': u'buy', u'ok': True, u'ts': u'2016-01-08T11:20:09.184915526Z', u'fills': [], u'originalQty': 6, u'orderType': u'limit', u'symbol': u'PMII', u'venue': u'LMJBEX', u'account': u'LMB73474977', u'qty': 6, u'id': 3201, u'totalFilled': 0, u'open': True, u'price': 4237}\n"
     ]
    },
    {
     "name": "stderr",
     "output_type": "stream",
     "text": [
      "INFO:requests.packages.urllib3.connectionpool:Starting new HTTPS connection (1): api.stockfighter.io\n",
      "DEBUG:requests.packages.urllib3.connectionpool:\"POST /ob/api/venues/LMJBEX/stocks/PMII/orders HTTP/1.1\" 200 287\n"
     ]
    },
    {
     "name": "stdout",
     "output_type": "stream",
     "text": [
      "344681 0 -79\n",
      "ordering with data:  {'account': 'LMB73474977', 'orderType': 'limit', 'price': 4237, 'venue': u'LMJBEX', 'direction': 'buy', 'qty': 6, 'stock': u'PMII'}\n",
      "{u'direction': u'buy', u'ok': True, u'ts': u'2016-01-08T11:20:10.597665348Z', u'fills': [], u'originalQty': 6, u'orderType': u'limit', u'symbol': u'PMII', u'venue': u'LMJBEX', u'account': u'LMB73474977', u'qty': 6, u'id': 3225, u'totalFilled': 0, u'open': True, u'price': 4237}\n"
     ]
    },
    {
     "name": "stderr",
     "output_type": "stream",
     "text": [
      "INFO:requests.packages.urllib3.connectionpool:Starting new HTTPS connection (1): api.stockfighter.io\n",
      "DEBUG:requests.packages.urllib3.connectionpool:\"POST /ob/api/venues/LMJBEX/stocks/PMII/orders HTTP/1.1\" 200 287\n"
     ]
    },
    {
     "name": "stdout",
     "output_type": "stream",
     "text": [
      "344681 0 -79\n",
      "ordering with data:  {'account': 'LMB73474977', 'orderType': 'limit', 'price': 4237, 'venue': u'LMJBEX', 'direction': 'buy', 'qty': 6, 'stock': u'PMII'}\n",
      "{u'direction': u'buy', u'ok': True, u'ts': u'2016-01-08T11:20:11.929503581Z', u'fills': [], u'originalQty': 6, u'orderType': u'limit', u'symbol': u'PMII', u'venue': u'LMJBEX', u'account': u'LMB73474977', u'qty': 6, u'id': 3226, u'totalFilled': 0, u'open': True, u'price': 4237}\n"
     ]
    },
    {
     "name": "stderr",
     "output_type": "stream",
     "text": [
      "INFO:requests.packages.urllib3.connectionpool:Starting new HTTPS connection (1): api.stockfighter.io\n",
      "DEBUG:requests.packages.urllib3.connectionpool:\"POST /ob/api/venues/LMJBEX/stocks/PMII/orders HTTP/1.1\" 200 287\n"
     ]
    },
    {
     "name": "stdout",
     "output_type": "stream",
     "text": [
      "344681 0 -79\n",
      "ordering with data:  {'account': 'LMB73474977', 'orderType': 'limit', 'price': 4237, 'venue': u'LMJBEX', 'direction': 'buy', 'qty': 6, 'stock': u'PMII'}\n",
      "{u'direction': u'buy', u'ok': True, u'ts': u'2016-01-08T11:20:13.271155511Z', u'fills': [], u'originalQty': 6, u'orderType': u'limit', u'symbol': u'PMII', u'venue': u'LMJBEX', u'account': u'LMB73474977', u'qty': 6, u'id': 3227, u'totalFilled': 0, u'open': True, u'price': 4237}\n",
      "344681 0 -79\n",
      "ordering with data:  {'account': 'LMB73474977', 'orderType': 'limit', 'price': 4237, 'venue': u'LMJBEX', 'direction': 'buy', 'qty': 6, 'stock': u'PMII'}\n"
     ]
    },
    {
     "name": "stderr",
     "output_type": "stream",
     "text": [
      "INFO:requests.packages.urllib3.connectionpool:Starting new HTTPS connection (1): api.stockfighter.io\n",
      "DEBUG:requests.packages.urllib3.connectionpool:\"POST /ob/api/venues/LMJBEX/stocks/PMII/orders HTTP/1.1\" 200 287\n",
      "INFO:requests.packages.urllib3.connectionpool:Starting new HTTPS connection (1): api.stockfighter.io\n",
      "DEBUG:requests.packages.urllib3.connectionpool:\"POST /ob/api/venues/LMJBEX/stocks/PMII/orders HTTP/1.1\" 200 286\n"
     ]
    },
    {
     "name": "stdout",
     "output_type": "stream",
     "text": [
      "{u'direction': u'buy', u'ok': True, u'ts': u'2016-01-08T11:20:14.597712107Z', u'fills': [], u'originalQty': 6, u'orderType': u'limit', u'symbol': u'PMII', u'venue': u'LMJBEX', u'account': u'LMB73474977', u'qty': 6, u'id': 3228, u'totalFilled': 0, u'open': True, u'price': 4237}\n",
      "344681 0 -79\n",
      "ordering with data:  {'account': 'LMB73474977', 'orderType': 'limit', 'price': 4237, 'venue': u'LMJBEX', 'direction': 'buy', 'qty': 6, 'stock': u'PMII'}\n",
      "{u'direction': u'buy', u'ok': True, u'ts': u'2016-01-08T11:20:15.92637107Z', u'fills': [], u'originalQty': 6, u'orderType': u'limit', u'symbol': u'PMII', u'venue': u'LMJBEX', u'account': u'LMB73474977', u'qty': 6, u'id': 3259, u'totalFilled': 0, u'open': True, u'price': 4237}\n"
     ]
    },
    {
     "name": "stderr",
     "output_type": "stream",
     "text": [
      "INFO:requests.packages.urllib3.connectionpool:Starting new HTTPS connection (1): api.stockfighter.io\n",
      "DEBUG:requests.packages.urllib3.connectionpool:\"POST /ob/api/venues/LMJBEX/stocks/PMII/orders HTTP/1.1\" 200 389\n"
     ]
    },
    {
     "name": "stdout",
     "output_type": "stream",
     "text": [
      "-240025 0 59\n",
      "avgrate:  -4069 bid:  4190 bidsize:  435 position:  59\n",
      "ordering with data:  {'account': 'LMB73474977', 'orderType': 'limit', 'price': 4190, 'venue': u'LMJBEX', 'direction': 'sell', 'qty': 59, 'stock': u'PMII'}\n",
      "{u'direction': u'sell', u'ok': True, u'ts': u'2016-01-08T11:20:17.902543082Z', u'fills': [{u'price': 4369, u'ts': u'2016-01-08T11:20:17.902546456Z', u'qty': 59}], u'originalQty': 59, u'orderType': u'limit', u'symbol': u'PMII', u'venue': u'LMJBEX', u'account': u'LMB73474977', u'qty': 0, u'id': 3260, u'totalFilled': 59, u'open': False, u'price': 4190}\n"
     ]
    },
    {
     "name": "stderr",
     "output_type": "stream",
     "text": [
      "INFO:requests.packages.urllib3.connectionpool:Starting new HTTPS connection (1): api.stockfighter.io\n",
      "DEBUG:requests.packages.urllib3.connectionpool:\"POST /ob/api/venues/LMJBEX/stocks/PMII/orders HTTP/1.1\" 200 386\n"
     ]
    },
    {
     "name": "stdout",
     "output_type": "stream",
     "text": [
      "-7676 0 6\n",
      "avgrate:  -1280 bid:  4190 bidsize:  435 position:  6\n",
      "ordering with data:  {'account': 'LMB73474977', 'orderType': 'limit', 'price': 4190, 'venue': u'LMJBEX', 'direction': 'sell', 'qty': 6, 'stock': u'PMII'}\n",
      "{u'direction': u'sell', u'ok': True, u'ts': u'2016-01-08T11:20:19.574888967Z', u'fills': [{u'price': 4369, u'ts': u'2016-01-08T11:20:19.574891677Z', u'qty': 6}], u'originalQty': 6, u'orderType': u'limit', u'symbol': u'PMII', u'venue': u'LMJBEX', u'account': u'LMB73474977', u'qty': 0, u'id': 3261, u'totalFilled': 6, u'open': False, u'price': 4190}\n"
     ]
    },
    {
     "name": "stderr",
     "output_type": "stream",
     "text": [
      "INFO:requests.packages.urllib3.connectionpool:Starting new HTTPS connection (1): api.stockfighter.io\n",
      "DEBUG:requests.packages.urllib3.connectionpool:\"POST /ob/api/venues/LMJBEX/stocks/PMII/orders HTTP/1.1\" 200 386\n"
     ]
    },
    {
     "name": "stdout",
     "output_type": "stream",
     "text": [
      "-7676 0 6\n",
      "avgrate:  -1280 bid:  4190 bidsize:  435 position:  6\n",
      "ordering with data:  {'account': 'LMB73474977', 'orderType': 'limit', 'price': 4190, 'venue': u'LMJBEX', 'direction': 'sell', 'qty': 6, 'stock': u'PMII'}\n",
      "{u'direction': u'sell', u'ok': True, u'ts': u'2016-01-08T11:20:20.924795865Z', u'fills': [{u'price': 4199, u'ts': u'2016-01-08T11:20:20.924798326Z', u'qty': 6}], u'originalQty': 6, u'orderType': u'limit', u'symbol': u'PMII', u'venue': u'LMJBEX', u'account': u'LMB73474977', u'qty': 0, u'id': 3287, u'totalFilled': 6, u'open': False, u'price': 4190}\n"
     ]
    },
    {
     "name": "stderr",
     "output_type": "stream",
     "text": [
      "INFO:requests.packages.urllib3.connectionpool:Starting new HTTPS connection (1): api.stockfighter.io\n",
      "DEBUG:requests.packages.urllib3.connectionpool:\"POST /ob/api/venues/LMJBEX/stocks/PMII/orders HTTP/1.1\" 200 389\n"
     ]
    },
    {
     "name": "stdout",
     "output_type": "stream",
     "text": [
      "-32306 0 12\n",
      "avgrate:  -2693 bid:  4190 bidsize:  435 position:  12\n",
      "ordering with data:  {'account': 'LMB73474977', 'orderType': 'limit', 'price': 4190, 'venue': u'LMJBEX', 'direction': 'sell', 'qty': 12, 'stock': u'PMII'}\n",
      "{u'direction': u'sell', u'ok': True, u'ts': u'2016-01-08T11:20:22.308831787Z', u'fills': [{u'price': 4199, u'ts': u'2016-01-08T11:20:22.308835275Z', u'qty': 12}], u'originalQty': 12, u'orderType': u'limit', u'symbol': u'PMII', u'venue': u'LMJBEX', u'account': u'LMB73474977', u'qty': 0, u'id': 3288, u'totalFilled': 12, u'open': False, u'price': 4190}\n"
     ]
    },
    {
     "name": "stderr",
     "output_type": "stream",
     "text": [
      "INFO:requests.packages.urllib3.connectionpool:Starting new HTTPS connection (1): api.stockfighter.io\n",
      "DEBUG:root:send: '\\x8a\\x80`\\xbf\\x94\\xf5'\n",
      "DEBUG:requests.packages.urllib3.connectionpool:\"POST /ob/api/venues/LMJBEX/stocks/PMII/orders HTTP/1.1\" 200 385\n"
     ]
    },
    {
     "name": "stdout",
     "output_type": "stream",
     "text": [
      "93664 0 -18\n",
      "93664 0 -18\n",
      "93664 0 -18\n",
      "93664 0 -18\n",
      "ordering with data:  {'account': 'LMB73474977', 'orderType': 'limit', 'price': 4250, 'venue': u'LMJBEX', 'direction': 'buy', 'qty': 6, 'stock': u'PMII'}\n",
      "{u'direction': u'buy', u'ok': True, u'ts': u'2016-01-08T11:20:23.835229823Z', u'fills': [{u'price': 4241, u'ts': u'2016-01-08T11:20:23.835232115Z', u'qty': 6}], u'originalQty': 6, u'orderType': u'limit', u'symbol': u'PMII', u'venue': u'LMJBEX', u'account': u'LMB73474977', u'qty': 0, u'id': 3289, u'totalFilled': 6, u'open': False, u'price': 4250}\n",
      "93664 0 -18\n",
      "ordering with data:  {'account': 'LMB73474977', 'orderType': 'limit', 'price': 4230, 'venue': u'LMJBEX', 'direction': 'buy', 'qty': 6, 'stock': u'PMII'}\n"
     ]
    },
    {
     "name": "stderr",
     "output_type": "stream",
     "text": [
      "INFO:requests.packages.urllib3.connectionpool:Starting new HTTPS connection (1): api.stockfighter.io\n",
      "DEBUG:requests.packages.urllib3.connectionpool:\"POST /ob/api/venues/LMJBEX/stocks/PMII/orders HTTP/1.1\" 200 287\n",
      "INFO:requests.packages.urllib3.connectionpool:Starting new HTTPS connection (1): api.stockfighter.io\n",
      "DEBUG:requests.packages.urllib3.connectionpool:\"POST /ob/api/venues/LMJBEX/stocks/PMII/orders HTTP/1.1\" 200 287\n"
     ]
    },
    {
     "name": "stdout",
     "output_type": "stream",
     "text": [
      "{u'direction': u'buy', u'ok': True, u'ts': u'2016-01-08T11:20:25.165731803Z', u'fills': [], u'originalQty': 6, u'orderType': u'limit', u'symbol': u'PMII', u'venue': u'LMJBEX', u'account': u'LMB73474977', u'qty': 6, u'id': 3315, u'totalFilled': 0, u'open': True, u'price': 4230}\n",
      "42772 0 -6\n",
      "ordering with data:  {'account': 'LMB73474977', 'orderType': 'limit', 'price': 4210, 'venue': u'LMJBEX', 'direction': 'buy', 'qty': 6, 'stock': u'PMII'}\n",
      "{u'direction': u'buy', u'ok': True, u'ts': u'2016-01-08T11:20:26.523140603Z', u'fills': [], u'originalQty': 6, u'orderType': u'limit', u'symbol': u'PMII', u'venue': u'LMJBEX', u'account': u'LMB73474977', u'qty': 6, u'id': 3316, u'totalFilled': 0, u'open': True, u'price': 4210}\n"
     ]
    },
    {
     "name": "stderr",
     "output_type": "stream",
     "text": [
      "INFO:requests.packages.urllib3.connectionpool:Starting new HTTPS connection (1): api.stockfighter.io\n",
      "DEBUG:requests.packages.urllib3.connectionpool:\"POST /ob/api/venues/LMJBEX/stocks/PMII/orders HTTP/1.1\" 200 286\n"
     ]
    },
    {
     "name": "stdout",
     "output_type": "stream",
     "text": [
      "42772 0 -6\n",
      "ordering with data:  {'account': 'LMB73474977', 'orderType': 'limit', 'price': 4210, 'venue': u'LMJBEX', 'direction': 'buy', 'qty': 6, 'stock': u'PMII'}\n",
      "{u'direction': u'buy', u'ok': True, u'ts': u'2016-01-08T11:20:27.85926299Z', u'fills': [], u'originalQty': 6, u'orderType': u'limit', u'symbol': u'PMII', u'venue': u'LMJBEX', u'account': u'LMB73474977', u'qty': 6, u'id': 3317, u'totalFilled': 0, u'open': True, u'price': 4210}\n"
     ]
    },
    {
     "name": "stderr",
     "output_type": "stream",
     "text": [
      "INFO:requests.packages.urllib3.connectionpool:Starting new HTTPS connection (1): api.stockfighter.io\n",
      "DEBUG:requests.packages.urllib3.connectionpool:\"POST /ob/api/venues/LMJBEX/stocks/PMII/orders HTTP/1.1\" 404 62\n"
     ]
    },
    {
     "name": "stdout",
     "output_type": "stream",
     "text": [
      "42772 0 -6\n",
      "ordering with data:  {'account': 'LMB73474977', 'orderType': 'limit', 'price': 4210, 'venue': u'LMJBEX', 'direction': 'buy', 'qty': 6, 'stock': u'PMII'}\n",
      "{u'ok': False, u'error': u'No venue exists with the symbol LMJBEX'}\n"
     ]
    },
    {
     "name": "stderr",
     "output_type": "stream",
     "text": [
      "INFO:requests.packages.urllib3.connectionpool:Starting new HTTPS connection (1): api.stockfighter.io\n",
      "DEBUG:requests.packages.urllib3.connectionpool:\"POST /ob/api/venues/LMJBEX/stocks/PMII/orders HTTP/1.1\" 404 62\n"
     ]
    },
    {
     "name": "stdout",
     "output_type": "stream",
     "text": [
      "42772 0 -6\n",
      "ordering with data:  {'account': 'LMB73474977', 'orderType': 'limit', 'price': 4210, 'venue': u'LMJBEX', 'direction': 'buy', 'qty': 6, 'stock': u'PMII'}\n",
      "{u'ok': False, u'error': u'No venue exists with the symbol LMJBEX'}\n"
     ]
    },
    {
     "name": "stderr",
     "output_type": "stream",
     "text": [
      "INFO:requests.packages.urllib3.connectionpool:Starting new HTTPS connection (1): api.stockfighter.io\n",
      "DEBUG:requests.packages.urllib3.connectionpool:\"POST /ob/api/venues/LMJBEX/stocks/PMII/orders HTTP/1.1\" 404 62\n"
     ]
    },
    {
     "name": "stdout",
     "output_type": "stream",
     "text": [
      "42772 0 -6\n",
      "ordering with data:  {'account': 'LMB73474977', 'orderType': 'limit', 'price': 4210, 'venue': u'LMJBEX', 'direction': 'buy', 'qty': 6, 'stock': u'PMII'}\n",
      "{u'ok': False, u'error': u'No venue exists with the symbol LMJBEX'}\n"
     ]
    },
    {
     "name": "stderr",
     "output_type": "stream",
     "text": [
      "INFO:requests.packages.urllib3.connectionpool:Starting new HTTPS connection (1): api.stockfighter.io\n",
      "DEBUG:requests.packages.urllib3.connectionpool:\"POST /ob/api/venues/LMJBEX/stocks/PMII/orders HTTP/1.1\" 404 62\n"
     ]
    },
    {
     "name": "stdout",
     "output_type": "stream",
     "text": [
      "42772 0 -6\n",
      "ordering with data:  {'account': 'LMB73474977', 'orderType': 'limit', 'price': 4210, 'venue': u'LMJBEX', 'direction': 'buy', 'qty': 6, 'stock': u'PMII'}\n",
      "{u'ok': False, u'error': u'No venue exists with the symbol LMJBEX'}\n"
     ]
    },
    {
     "name": "stderr",
     "output_type": "stream",
     "text": [
      "INFO:requests.packages.urllib3.connectionpool:Starting new HTTPS connection (1): api.stockfighter.io\n",
      "DEBUG:requests.packages.urllib3.connectionpool:\"POST /ob/api/venues/LMJBEX/stocks/PMII/orders HTTP/1.1\" 404 62\n"
     ]
    },
    {
     "name": "stdout",
     "output_type": "stream",
     "text": [
      "42772 0 -6\n",
      "ordering with data:  {'account': 'LMB73474977', 'orderType': 'limit', 'price': 4210, 'venue': u'LMJBEX', 'direction': 'buy', 'qty': 6, 'stock': u'PMII'}\n",
      "{u'ok': False, u'error': u'No venue exists with the symbol LMJBEX'}\n"
     ]
    },
    {
     "name": "stderr",
     "output_type": "stream",
     "text": [
      "INFO:requests.packages.urllib3.connectionpool:Starting new HTTPS connection (1): api.stockfighter.io\n",
      "DEBUG:requests.packages.urllib3.connectionpool:\"POST /ob/api/venues/LMJBEX/stocks/PMII/orders HTTP/1.1\" 404 62\n"
     ]
    },
    {
     "name": "stdout",
     "output_type": "stream",
     "text": [
      "42772 0 -6\n",
      "ordering with data:  {'account': 'LMB73474977', 'orderType': 'limit', 'price': 4210, 'venue': u'LMJBEX', 'direction': 'buy', 'qty': 6, 'stock': u'PMII'}\n",
      "{u'ok': False, u'error': u'No venue exists with the symbol LMJBEX'}\n"
     ]
    },
    {
     "name": "stderr",
     "output_type": "stream",
     "text": [
      "INFO:requests.packages.urllib3.connectionpool:Starting new HTTPS connection (1): api.stockfighter.io\n",
      "DEBUG:requests.packages.urllib3.connectionpool:\"POST /ob/api/venues/LMJBEX/stocks/PMII/orders HTTP/1.1\" 404 62\n"
     ]
    },
    {
     "name": "stdout",
     "output_type": "stream",
     "text": [
      "42772 0 -6\n",
      "ordering with data:  {'account': 'LMB73474977', 'orderType': 'limit', 'price': 4210, 'venue': u'LMJBEX', 'direction': 'buy', 'qty': 6, 'stock': u'PMII'}\n",
      "{u'ok': False, u'error': u'No venue exists with the symbol LMJBEX'}\n"
     ]
    },
    {
     "name": "stderr",
     "output_type": "stream",
     "text": [
      "INFO:requests.packages.urllib3.connectionpool:Starting new HTTPS connection (1): api.stockfighter.io\n",
      "DEBUG:requests.packages.urllib3.connectionpool:\"POST /ob/api/venues/LMJBEX/stocks/PMII/orders HTTP/1.1\" 404 62\n"
     ]
    },
    {
     "name": "stdout",
     "output_type": "stream",
     "text": [
      "42772 0 -6\n",
      "ordering with data:  {'account': 'LMB73474977', 'orderType': 'limit', 'price': 4210, 'venue': u'LMJBEX', 'direction': 'buy', 'qty': 6, 'stock': u'PMII'}\n",
      "{u'ok': False, u'error': u'No venue exists with the symbol LMJBEX'}\n"
     ]
    },
    {
     "name": "stderr",
     "output_type": "stream",
     "text": [
      "INFO:requests.packages.urllib3.connectionpool:Starting new HTTPS connection (1): api.stockfighter.io\n",
      "DEBUG:requests.packages.urllib3.connectionpool:\"POST /ob/api/venues/LMJBEX/stocks/PMII/orders HTTP/1.1\" 404 62\n"
     ]
    },
    {
     "name": "stdout",
     "output_type": "stream",
     "text": [
      "42772 0 -6\n",
      "ordering with data:  {'account': 'LMB73474977', 'orderType': 'limit', 'price': 4074, 'venue': u'LMJBEX', 'direction': 'buy', 'qty': 68, 'stock': u'PMII'}\n",
      "{u'ok': False, u'error': u'No venue exists with the symbol LMJBEX'}\n"
     ]
    },
    {
     "name": "stderr",
     "output_type": "stream",
     "text": [
      "INFO:requests.packages.urllib3.connectionpool:Starting new HTTPS connection (1): api.stockfighter.io\n",
      "DEBUG:requests.packages.urllib3.connectionpool:\"POST /ob/api/venues/LMJBEX/stocks/PMII/orders HTTP/1.1\" 404 62\n"
     ]
    },
    {
     "name": "stdout",
     "output_type": "stream",
     "text": [
      "42772 0 -6\n",
      "ordering with data:  {'account': 'LMB73474977', 'orderType': 'limit', 'price': 4074, 'venue': u'LMJBEX', 'direction': 'buy', 'qty': 68, 'stock': u'PMII'}\n",
      "{u'ok': False, u'error': u'No venue exists with the symbol LMJBEX'}\n"
     ]
    },
    {
     "name": "stderr",
     "output_type": "stream",
     "text": [
      "INFO:requests.packages.urllib3.connectionpool:Starting new HTTPS connection (1): api.stockfighter.io\n",
      "DEBUG:requests.packages.urllib3.connectionpool:\"POST /ob/api/venues/LMJBEX/stocks/PMII/orders HTTP/1.1\" 404 62\n"
     ]
    },
    {
     "name": "stdout",
     "output_type": "stream",
     "text": [
      "42772 0 -6\n",
      "ordering with data:  {'account': 'LMB73474977', 'orderType': 'limit', 'price': 4074, 'venue': u'LMJBEX', 'direction': 'buy', 'qty': 59, 'stock': u'PMII'}\n",
      "{u'ok': False, u'error': u'No venue exists with the symbol LMJBEX'}\n"
     ]
    },
    {
     "name": "stderr",
     "output_type": "stream",
     "text": [
      "INFO:requests.packages.urllib3.connectionpool:Starting new HTTPS connection (1): api.stockfighter.io\n",
      "DEBUG:requests.packages.urllib3.connectionpool:\"POST /ob/api/venues/LMJBEX/stocks/PMII/orders HTTP/1.1\" 404 62\n"
     ]
    },
    {
     "name": "stdout",
     "output_type": "stream",
     "text": [
      "42772 0 -6\n",
      "ordering with data:  {'account': 'LMB73474977', 'orderType': 'limit', 'price': 4074, 'venue': u'LMJBEX', 'direction': 'buy', 'qty': 59, 'stock': u'PMII'}\n",
      "{u'ok': False, u'error': u'No venue exists with the symbol LMJBEX'}\n"
     ]
    },
    {
     "name": "stderr",
     "output_type": "stream",
     "text": [
      "INFO:requests.packages.urllib3.connectionpool:Starting new HTTPS connection (1): api.stockfighter.io\n",
      "DEBUG:requests.packages.urllib3.connectionpool:\"POST /ob/api/venues/LMJBEX/stocks/PMII/orders HTTP/1.1\" 404 62\n"
     ]
    },
    {
     "name": "stdout",
     "output_type": "stream",
     "text": [
      "42772 0 -6\n",
      "ordering with data:  {'account': 'LMB73474977', 'orderType': 'limit', 'price': 4074, 'venue': u'LMJBEX', 'direction': 'buy', 'qty': 59, 'stock': u'PMII'}\n",
      "{u'ok': False, u'error': u'No venue exists with the symbol LMJBEX'}\n"
     ]
    },
    {
     "name": "stderr",
     "output_type": "stream",
     "text": [
      "INFO:requests.packages.urllib3.connectionpool:Starting new HTTPS connection (1): api.stockfighter.io\n",
      "DEBUG:requests.packages.urllib3.connectionpool:\"POST /ob/api/venues/LMJBEX/stocks/PMII/orders HTTP/1.1\" 404 62\n"
     ]
    },
    {
     "name": "stdout",
     "output_type": "stream",
     "text": [
      "42772 0 -6\n",
      "ordering with data:  {'account': 'LMB73474977', 'orderType': 'limit', 'price': 4074, 'venue': u'LMJBEX', 'direction': 'buy', 'qty': 50, 'stock': u'PMII'}\n",
      "{u'ok': False, u'error': u'No venue exists with the symbol LMJBEX'}\n"
     ]
    },
    {
     "name": "stderr",
     "output_type": "stream",
     "text": [
      "INFO:requests.packages.urllib3.connectionpool:Starting new HTTPS connection (1): api.stockfighter.io\n",
      "DEBUG:requests.packages.urllib3.connectionpool:\"POST /ob/api/venues/LMJBEX/stocks/PMII/orders HTTP/1.1\" 404 62\n"
     ]
    },
    {
     "name": "stdout",
     "output_type": "stream",
     "text": [
      "42772 0 -6\n",
      "ordering with data:  {'account': 'LMB73474977', 'orderType': 'limit', 'price': 4074, 'venue': u'LMJBEX', 'direction': 'buy', 'qty': 50, 'stock': u'PMII'}\n",
      "{u'ok': False, u'error': u'No venue exists with the symbol LMJBEX'}\n"
     ]
    },
    {
     "name": "stderr",
     "output_type": "stream",
     "text": [
      "INFO:requests.packages.urllib3.connectionpool:Starting new HTTPS connection (1): api.stockfighter.io\n",
      "DEBUG:requests.packages.urllib3.connectionpool:\"POST /ob/api/venues/LMJBEX/stocks/PMII/orders HTTP/1.1\" 404 62\n"
     ]
    },
    {
     "name": "stdout",
     "output_type": "stream",
     "text": [
      "42772 0 -6\n",
      "ordering with data:  {'account': 'LMB73474977', 'orderType': 'limit', 'price': 4074, 'venue': u'LMJBEX', 'direction': 'buy', 'qty': 50, 'stock': u'PMII'}\n",
      "{u'ok': False, u'error': u'No venue exists with the symbol LMJBEX'}\n"
     ]
    },
    {
     "name": "stderr",
     "output_type": "stream",
     "text": [
      "INFO:requests.packages.urllib3.connectionpool:Starting new HTTPS connection (1): api.stockfighter.io\n",
      "DEBUG:requests.packages.urllib3.connectionpool:\"POST /ob/api/venues/LMJBEX/stocks/PMII/orders HTTP/1.1\" 404 62\n"
     ]
    },
    {
     "name": "stdout",
     "output_type": "stream",
     "text": [
      "42772 0 -6\n",
      "ordering with data:  {'account': 'LMB73474977', 'orderType': 'limit', 'price': 4074, 'venue': u'LMJBEX', 'direction': 'buy', 'qty': 41, 'stock': u'PMII'}\n",
      "{u'ok': False, u'error': u'No venue exists with the symbol LMJBEX'}\n"
     ]
    },
    {
     "name": "stderr",
     "output_type": "stream",
     "text": [
      "INFO:requests.packages.urllib3.connectionpool:Starting new HTTPS connection (1): api.stockfighter.io\n",
      "DEBUG:requests.packages.urllib3.connectionpool:\"POST /ob/api/venues/LMJBEX/stocks/PMII/orders HTTP/1.1\" 404 62\n"
     ]
    },
    {
     "name": "stdout",
     "output_type": "stream",
     "text": [
      "42772 0 -6\n",
      "ordering with data:  {'account': 'LMB73474977', 'orderType': 'limit', 'price': 4074, 'venue': u'LMJBEX', 'direction': 'buy', 'qty': 41, 'stock': u'PMII'}\n",
      "{u'ok': False, u'error': u'No venue exists with the symbol LMJBEX'}\n"
     ]
    },
    {
     "name": "stderr",
     "output_type": "stream",
     "text": [
      "INFO:requests.packages.urllib3.connectionpool:Starting new HTTPS connection (1): api.stockfighter.io\n",
      "DEBUG:requests.packages.urllib3.connectionpool:\"POST /ob/api/venues/LMJBEX/stocks/PMII/orders HTTP/1.1\" 404 62\n"
     ]
    },
    {
     "name": "stdout",
     "output_type": "stream",
     "text": [
      "42772 0 -6\n",
      "ordering with data:  {'account': 'LMB73474977', 'orderType': 'limit', 'price': 4074, 'venue': u'LMJBEX', 'direction': 'buy', 'qty': 41, 'stock': u'PMII'}\n",
      "{u'ok': False, u'error': u'No venue exists with the symbol LMJBEX'}\n"
     ]
    },
    {
     "name": "stderr",
     "output_type": "stream",
     "text": [
      "INFO:requests.packages.urllib3.connectionpool:Starting new HTTPS connection (1): api.stockfighter.io\n",
      "DEBUG:requests.packages.urllib3.connectionpool:\"POST /ob/api/venues/LMJBEX/stocks/PMII/orders HTTP/1.1\" 404 62\n"
     ]
    },
    {
     "name": "stdout",
     "output_type": "stream",
     "text": [
      "42772 0 -6\n",
      "ordering with data:  {'account': 'LMB73474977', 'orderType': 'limit', 'price': 4074, 'venue': u'LMJBEX', 'direction': 'buy', 'qty': 41, 'stock': u'PMII'}\n",
      "{u'ok': False, u'error': u'No venue exists with the symbol LMJBEX'}\n"
     ]
    },
    {
     "name": "stderr",
     "output_type": "stream",
     "text": [
      "INFO:requests.packages.urllib3.connectionpool:Starting new HTTPS connection (1): api.stockfighter.io\n",
      "DEBUG:requests.packages.urllib3.connectionpool:\"POST /ob/api/venues/LMJBEX/stocks/PMII/orders HTTP/1.1\" 404 62\n"
     ]
    },
    {
     "name": "stdout",
     "output_type": "stream",
     "text": [
      "42772 0 -6\n",
      "ordering with data:  {'account': 'LMB73474977', 'orderType': 'limit', 'price': 4074, 'venue': u'LMJBEX', 'direction': 'buy', 'qty': 41, 'stock': u'PMII'}\n",
      "{u'ok': False, u'error': u'No venue exists with the symbol LMJBEX'}\n"
     ]
    },
    {
     "name": "stderr",
     "output_type": "stream",
     "text": [
      "INFO:requests.packages.urllib3.connectionpool:Starting new HTTPS connection (1): api.stockfighter.io\n",
      "DEBUG:requests.packages.urllib3.connectionpool:\"POST /ob/api/venues/LMJBEX/stocks/PMII/orders HTTP/1.1\" 404 62\n"
     ]
    },
    {
     "name": "stdout",
     "output_type": "stream",
     "text": [
      "42772 0 -6\n",
      "ordering with data:  {'account': 'LMB73474977', 'orderType': 'limit', 'price': 4074, 'venue': u'LMJBEX', 'direction': 'buy', 'qty': 41, 'stock': u'PMII'}\n",
      "{u'ok': False, u'error': u'No venue exists with the symbol LMJBEX'}\n"
     ]
    },
    {
     "name": "stderr",
     "output_type": "stream",
     "text": [
      "INFO:requests.packages.urllib3.connectionpool:Starting new HTTPS connection (1): api.stockfighter.io\n",
      "DEBUG:requests.packages.urllib3.connectionpool:\"POST /ob/api/venues/LMJBEX/stocks/PMII/orders HTTP/1.1\" 404 62\n"
     ]
    },
    {
     "name": "stdout",
     "output_type": "stream",
     "text": [
      "42772 0 -6\n",
      "ordering with data:  {'account': 'LMB73474977', 'orderType': 'limit', 'price': 4074, 'venue': u'LMJBEX', 'direction': 'buy', 'qty': 41, 'stock': u'PMII'}\n",
      "{u'ok': False, u'error': u'No venue exists with the symbol LMJBEX'}\n"
     ]
    },
    {
     "name": "stderr",
     "output_type": "stream",
     "text": [
      "INFO:requests.packages.urllib3.connectionpool:Starting new HTTPS connection (1): api.stockfighter.io\n",
      "DEBUG:requests.packages.urllib3.connectionpool:\"POST /ob/api/venues/LMJBEX/stocks/PMII/orders HTTP/1.1\" 404 62\n"
     ]
    },
    {
     "name": "stdout",
     "output_type": "stream",
     "text": [
      "42772 0 -6\n",
      "ordering with data:  {'account': 'LMB73474977', 'orderType': 'limit', 'price': 4074, 'venue': u'LMJBEX', 'direction': 'buy', 'qty': 41, 'stock': u'PMII'}\n",
      "{u'ok': False, u'error': u'No venue exists with the symbol LMJBEX'}\n"
     ]
    },
    {
     "name": "stderr",
     "output_type": "stream",
     "text": [
      "INFO:requests.packages.urllib3.connectionpool:Starting new HTTPS connection (1): api.stockfighter.io\n",
      "DEBUG:requests.packages.urllib3.connectionpool:\"POST /ob/api/venues/LMJBEX/stocks/PMII/orders HTTP/1.1\" 404 62\n"
     ]
    },
    {
     "name": "stdout",
     "output_type": "stream",
     "text": [
      "42772 0 -6\n",
      "ordering with data:  {'account': 'LMB73474977', 'orderType': 'limit', 'price': 4074, 'venue': u'LMJBEX', 'direction': 'buy', 'qty': 41, 'stock': u'PMII'}\n",
      "{u'ok': False, u'error': u'No venue exists with the symbol LMJBEX'}\n"
     ]
    },
    {
     "name": "stderr",
     "output_type": "stream",
     "text": [
      "INFO:requests.packages.urllib3.connectionpool:Starting new HTTPS connection (1): api.stockfighter.io\n",
      "DEBUG:requests.packages.urllib3.connectionpool:\"POST /ob/api/venues/LMJBEX/stocks/PMII/orders HTTP/1.1\" 404 62\n"
     ]
    },
    {
     "name": "stdout",
     "output_type": "stream",
     "text": [
      "42772 0 -6\n",
      "ordering with data:  {'account': 'LMB73474977', 'orderType': 'limit', 'price': 3976, 'venue': u'LMJBEX', 'direction': 'buy', 'qty': 6, 'stock': u'PMII'}\n",
      "{u'ok': False, u'error': u'No venue exists with the symbol LMJBEX'}\n"
     ]
    },
    {
     "name": "stderr",
     "output_type": "stream",
     "text": [
      "INFO:requests.packages.urllib3.connectionpool:Starting new HTTPS connection (1): api.stockfighter.io\n",
      "DEBUG:requests.packages.urllib3.connectionpool:\"POST /ob/api/venues/LMJBEX/stocks/PMII/orders HTTP/1.1\" 404 62\n"
     ]
    },
    {
     "name": "stdout",
     "output_type": "stream",
     "text": [
      "42772 0 -6\n",
      "ordering with data:  {'account': 'LMB73474977', 'orderType': 'limit', 'price': 3957, 'venue': u'LMJBEX', 'direction': 'buy', 'qty': 6, 'stock': u'PMII'}\n",
      "{u'ok': False, u'error': u'No venue exists with the symbol LMJBEX'}\n"
     ]
    },
    {
     "name": "stderr",
     "output_type": "stream",
     "text": [
      "INFO:requests.packages.urllib3.connectionpool:Starting new HTTPS connection (1): api.stockfighter.io\n",
      "DEBUG:requests.packages.urllib3.connectionpool:\"POST /ob/api/venues/LMJBEX/stocks/PMII/orders HTTP/1.1\" 404 62\n"
     ]
    },
    {
     "name": "stdout",
     "output_type": "stream",
     "text": [
      "42772 0 -6\n",
      "ordering with data:  {'account': 'LMB73474977', 'orderType': 'limit', 'price': 3938, 'venue': u'LMJBEX', 'direction': 'buy', 'qty': 6, 'stock': u'PMII'}\n",
      "{u'ok': False, u'error': u'No venue exists with the symbol LMJBEX'}\n"
     ]
    },
    {
     "name": "stderr",
     "output_type": "stream",
     "text": [
      "INFO:requests.packages.urllib3.connectionpool:Starting new HTTPS connection (1): api.stockfighter.io\n",
      "DEBUG:requests.packages.urllib3.connectionpool:\"POST /ob/api/venues/LMJBEX/stocks/PMII/orders HTTP/1.1\" 404 62\n"
     ]
    },
    {
     "name": "stdout",
     "output_type": "stream",
     "text": [
      "42772 0 -6\n",
      "ordering with data:  {'account': 'LMB73474977', 'orderType': 'limit', 'price': 3938, 'venue': u'LMJBEX', 'direction': 'buy', 'qty': 6, 'stock': u'PMII'}\n",
      "{u'ok': False, u'error': u'No venue exists with the symbol LMJBEX'}\n"
     ]
    },
    {
     "name": "stderr",
     "output_type": "stream",
     "text": [
      "INFO:requests.packages.urllib3.connectionpool:Starting new HTTPS connection (1): api.stockfighter.io\n",
      "DEBUG:requests.packages.urllib3.connectionpool:\"POST /ob/api/venues/LMJBEX/stocks/PMII/orders HTTP/1.1\" 404 62\n"
     ]
    },
    {
     "name": "stdout",
     "output_type": "stream",
     "text": [
      "42772 0 -6\n",
      "ordering with data:  {'account': 'LMB73474977', 'orderType': 'limit', 'price': 3938, 'venue': u'LMJBEX', 'direction': 'buy', 'qty': 6, 'stock': u'PMII'}\n",
      "{u'ok': False, u'error': u'No venue exists with the symbol LMJBEX'}\n"
     ]
    },
    {
     "name": "stderr",
     "output_type": "stream",
     "text": [
      "INFO:requests.packages.urllib3.connectionpool:Starting new HTTPS connection (1): api.stockfighter.io\n",
      "DEBUG:requests.packages.urllib3.connectionpool:\"POST /ob/api/venues/LMJBEX/stocks/PMII/orders HTTP/1.1\" 404 62\n"
     ]
    },
    {
     "name": "stdout",
     "output_type": "stream",
     "text": [
      "42772 0 -6\n",
      "ordering with data:  {'account': 'LMB73474977', 'orderType': 'limit', 'price': 3938, 'venue': u'LMJBEX', 'direction': 'buy', 'qty': 6, 'stock': u'PMII'}\n",
      "{u'ok': False, u'error': u'No venue exists with the symbol LMJBEX'}\n"
     ]
    },
    {
     "name": "stderr",
     "output_type": "stream",
     "text": [
      "INFO:requests.packages.urllib3.connectionpool:Starting new HTTPS connection (1): api.stockfighter.io\n",
      "DEBUG:requests.packages.urllib3.connectionpool:\"POST /ob/api/venues/LMJBEX/stocks/PMII/orders HTTP/1.1\" 404 62\n"
     ]
    },
    {
     "name": "stdout",
     "output_type": "stream",
     "text": [
      "42772 0 -6\n",
      "42772 0 -6\n",
      "42772 0 -6\n",
      "42772 0 -6\n",
      "42772 0 -6\n",
      "42772 0 -6\n",
      "42772 0 -6\n",
      "42772 0 -6\n",
      "42772 0 -6\n",
      "42772 0 -6\n",
      "42772 0 -6\n",
      "42772 0 -6\n",
      "42772 0 -6\n",
      "42772 0 -6\n",
      "42772 0 -6\n",
      "42772 0 -6\n",
      "42772 0 -6\n",
      "42772 0 -6\n",
      "42772 0 -6\n",
      "42772 0 -6\n",
      "42772 0 -6\n",
      "42772 0 -6\n",
      "42772 0 -6\n",
      "ordering with data:  {'account': 'LMB73474977', 'orderType': 'limit', 'price': 4240, 'venue': u'LMJBEX', 'direction': 'buy', 'qty': 4, 'stock': u'PMII'}\n",
      "{u'ok': False, u'error': u'No venue exists with the symbol LMJBEX'}\n"
     ]
    },
    {
     "name": "stderr",
     "output_type": "stream",
     "text": [
      "INFO:requests.packages.urllib3.connectionpool:Starting new HTTPS connection (1): api.stockfighter.io\n",
      "DEBUG:requests.packages.urllib3.connectionpool:\"POST /ob/api/venues/LMJBEX/stocks/PMII/orders HTTP/1.1\" 404 62\n"
     ]
    },
    {
     "name": "stdout",
     "output_type": "stream",
     "text": [
      "42772 0 -6\n",
      "ordering with data:  {'account': 'LMB73474977', 'orderType': 'limit', 'price': 4220, 'venue': u'LMJBEX', 'direction': 'buy', 'qty': 4, 'stock': u'PMII'}\n",
      "{u'ok': False, u'error': u'No venue exists with the symbol LMJBEX'}\n"
     ]
    },
    {
     "name": "stderr",
     "output_type": "stream",
     "text": [
      "INFO:requests.packages.urllib3.connectionpool:Starting new HTTPS connection (1): api.stockfighter.io\n",
      "DEBUG:requests.packages.urllib3.connectionpool:\"POST /ob/api/venues/LMJBEX/stocks/PMII/orders HTTP/1.1\" 404 62\n"
     ]
    },
    {
     "name": "stdout",
     "output_type": "stream",
     "text": [
      "42772 0 -6\n",
      "ordering with data:  {'account': 'LMB73474977', 'orderType': 'limit', 'price': 4200, 'venue': u'LMJBEX', 'direction': 'buy', 'qty': 4, 'stock': u'PMII'}\n",
      "{u'ok': False, u'error': u'No venue exists with the symbol LMJBEX'}\n"
     ]
    },
    {
     "name": "stderr",
     "output_type": "stream",
     "text": [
      "INFO:requests.packages.urllib3.connectionpool:Starting new HTTPS connection (1): api.stockfighter.io\n",
      "DEBUG:requests.packages.urllib3.connectionpool:\"POST /ob/api/venues/LMJBEX/stocks/PMII/orders HTTP/1.1\" 404 62\n"
     ]
    },
    {
     "name": "stdout",
     "output_type": "stream",
     "text": [
      "42772 0 -6\n",
      "ordering with data:  {'account': 'LMB73474977', 'orderType': 'limit', 'price': 4200, 'venue': u'LMJBEX', 'direction': 'buy', 'qty': 4, 'stock': u'PMII'}\n",
      "{u'ok': False, u'error': u'No venue exists with the symbol LMJBEX'}\n"
     ]
    },
    {
     "name": "stderr",
     "output_type": "stream",
     "text": [
      "INFO:requests.packages.urllib3.connectionpool:Starting new HTTPS connection (1): api.stockfighter.io\n",
      "DEBUG:requests.packages.urllib3.connectionpool:\"POST /ob/api/venues/LMJBEX/stocks/PMII/orders HTTP/1.1\" 404 62\n"
     ]
    },
    {
     "name": "stdout",
     "output_type": "stream",
     "text": [
      "42772 0 -6\n",
      "ordering with data:  {'account': 'LMB73474977', 'orderType': 'limit', 'price': 4200, 'venue': u'LMJBEX', 'direction': 'buy', 'qty': 4, 'stock': u'PMII'}\n",
      "{u'ok': False, u'error': u'No venue exists with the symbol LMJBEX'}\n"
     ]
    },
    {
     "name": "stderr",
     "output_type": "stream",
     "text": [
      "INFO:requests.packages.urllib3.connectionpool:Starting new HTTPS connection (1): api.stockfighter.io\n",
      "DEBUG:requests.packages.urllib3.connectionpool:\"POST /ob/api/venues/LMJBEX/stocks/PMII/orders HTTP/1.1\" 404 62\n"
     ]
    },
    {
     "name": "stdout",
     "output_type": "stream",
     "text": [
      "42772 0 -6\n",
      "ordering with data:  {'account': 'LMB73474977', 'orderType': 'limit', 'price': 4200, 'venue': u'LMJBEX', 'direction': 'buy', 'qty': 4, 'stock': u'PMII'}\n",
      "{u'ok': False, u'error': u'No venue exists with the symbol LMJBEX'}\n"
     ]
    },
    {
     "name": "stderr",
     "output_type": "stream",
     "text": [
      "INFO:requests.packages.urllib3.connectionpool:Starting new HTTPS connection (1): api.stockfighter.io\n",
      "DEBUG:requests.packages.urllib3.connectionpool:\"POST /ob/api/venues/LMJBEX/stocks/PMII/orders HTTP/1.1\" 404 62\n"
     ]
    },
    {
     "name": "stdout",
     "output_type": "stream",
     "text": [
      "42772 0 -6\n",
      "ordering with data:  {'account': 'LMB73474977', 'orderType': 'limit', 'price': 4200, 'venue': u'LMJBEX', 'direction': 'buy', 'qty': 4, 'stock': u'PMII'}\n",
      "{u'ok': False, u'error': u'No venue exists with the symbol LMJBEX'}\n"
     ]
    },
    {
     "name": "stderr",
     "output_type": "stream",
     "text": [
      "INFO:requests.packages.urllib3.connectionpool:Starting new HTTPS connection (1): api.stockfighter.io\n",
      "DEBUG:requests.packages.urllib3.connectionpool:\"POST /ob/api/venues/LMJBEX/stocks/PMII/orders HTTP/1.1\" 404 62\n"
     ]
    },
    {
     "name": "stdout",
     "output_type": "stream",
     "text": [
      "42772 0 -6\n",
      "ordering with data:  {'account': 'LMB73474977', 'orderType': 'limit', 'price': 4200, 'venue': u'LMJBEX', 'direction': 'buy', 'qty': 4, 'stock': u'PMII'}\n",
      "{u'ok': False, u'error': u'No venue exists with the symbol LMJBEX'}\n"
     ]
    },
    {
     "name": "stderr",
     "output_type": "stream",
     "text": [
      "INFO:requests.packages.urllib3.connectionpool:Starting new HTTPS connection (1): api.stockfighter.io\n",
      "DEBUG:requests.packages.urllib3.connectionpool:\"POST /ob/api/venues/LMJBEX/stocks/PMII/orders HTTP/1.1\" 404 62\n"
     ]
    },
    {
     "name": "stdout",
     "output_type": "stream",
     "text": [
      "42772 0 -6\n",
      "ordering with data:  {'account': 'LMB73474977', 'orderType': 'limit', 'price': 4200, 'venue': u'LMJBEX', 'direction': 'buy', 'qty': 4, 'stock': u'PMII'}\n",
      "{u'ok': False, u'error': u'No venue exists with the symbol LMJBEX'}\n"
     ]
    },
    {
     "name": "stderr",
     "output_type": "stream",
     "text": [
      "INFO:requests.packages.urllib3.connectionpool:Starting new HTTPS connection (1): api.stockfighter.io\n",
      "DEBUG:requests.packages.urllib3.connectionpool:\"POST /ob/api/venues/LMJBEX/stocks/PMII/orders HTTP/1.1\" 404 62\n"
     ]
    },
    {
     "name": "stdout",
     "output_type": "stream",
     "text": [
      "42772 0 -6\n",
      "ordering with data:  {'account': 'LMB73474977', 'orderType': 'limit', 'price': 4015, 'venue': u'LMJBEX', 'direction': 'buy', 'qty': 64, 'stock': u'PMII'}\n",
      "{u'ok': False, u'error': u'No venue exists with the symbol LMJBEX'}\n"
     ]
    },
    {
     "name": "stderr",
     "output_type": "stream",
     "text": [
      "INFO:requests.packages.urllib3.connectionpool:Starting new HTTPS connection (1): api.stockfighter.io\n",
      "DEBUG:requests.packages.urllib3.connectionpool:\"POST /ob/api/venues/LMJBEX/stocks/PMII/orders HTTP/1.1\" 404 62\n"
     ]
    },
    {
     "name": "stdout",
     "output_type": "stream",
     "text": [
      "42772 0 -6\n",
      "ordering with data:  {'account': 'LMB73474977', 'orderType': 'limit', 'price': 4200, 'venue': u'LMJBEX', 'direction': 'buy', 'qty': 4, 'stock': u'PMII'}\n",
      "{u'ok': False, u'error': u'No venue exists with the symbol LMJBEX'}\n"
     ]
    },
    {
     "name": "stderr",
     "output_type": "stream",
     "text": [
      "INFO:requests.packages.urllib3.connectionpool:Starting new HTTPS connection (1): api.stockfighter.io\n",
      "DEBUG:requests.packages.urllib3.connectionpool:\"POST /ob/api/venues/LMJBEX/stocks/PMII/orders HTTP/1.1\" 404 62\n"
     ]
    },
    {
     "name": "stdout",
     "output_type": "stream",
     "text": [
      "42772 0 -6\n",
      "ordering with data:  {'account': 'LMB73474977', 'orderType': 'limit', 'price': 4200, 'venue': u'LMJBEX', 'direction': 'buy', 'qty': 4, 'stock': u'PMII'}\n",
      "{u'ok': False, u'error': u'No venue exists with the symbol LMJBEX'}\n"
     ]
    },
    {
     "name": "stderr",
     "output_type": "stream",
     "text": [
      "INFO:requests.packages.urllib3.connectionpool:Starting new HTTPS connection (1): api.stockfighter.io\n",
      "DEBUG:requests.packages.urllib3.connectionpool:\"POST /ob/api/venues/LMJBEX/stocks/PMII/orders HTTP/1.1\" 404 62\n"
     ]
    },
    {
     "name": "stdout",
     "output_type": "stream",
     "text": [
      "42772 0 -6\n",
      "ordering with data:  {'account': 'LMB73474977', 'orderType': 'limit', 'price': 4220, 'venue': u'LMJBEX', 'direction': 'buy', 'qty': 4, 'stock': u'PMII'}\n",
      "{u'ok': False, u'error': u'No venue exists with the symbol LMJBEX'}\n"
     ]
    },
    {
     "name": "stderr",
     "output_type": "stream",
     "text": [
      "INFO:requests.packages.urllib3.connectionpool:Starting new HTTPS connection (1): api.stockfighter.io\n",
      "DEBUG:requests.packages.urllib3.connectionpool:\"POST /ob/api/venues/LMJBEX/stocks/PMII/orders HTTP/1.1\" 404 62\n"
     ]
    },
    {
     "name": "stdout",
     "output_type": "stream",
     "text": [
      "42772 0 -6\n",
      "ordering with data:  {'account': 'LMB73474977', 'orderType': 'limit', 'price': 4240, 'venue': u'LMJBEX', 'direction': 'buy', 'qty': 4, 'stock': u'PMII'}\n",
      "{u'ok': False, u'error': u'No venue exists with the symbol LMJBEX'}\n"
     ]
    },
    {
     "name": "stderr",
     "output_type": "stream",
     "text": [
      "INFO:requests.packages.urllib3.connectionpool:Starting new HTTPS connection (1): api.stockfighter.io\n",
      "DEBUG:requests.packages.urllib3.connectionpool:\"POST /ob/api/venues/LMJBEX/stocks/PMII/orders HTTP/1.1\" 404 62\n"
     ]
    },
    {
     "name": "stdout",
     "output_type": "stream",
     "text": [
      "42772 0 -6\n",
      "42772 0 -6\n",
      "42772 0 -6\n",
      "42772 0 -6\n",
      "42772 0 -6\n",
      "ordering with data:  {'account': 'LMB73474977', 'orderType': 'limit', 'price': 4115, 'venue': u'LMJBEX', 'direction': 'buy', 'qty': 4, 'stock': u'PMII'}\n",
      "{u'ok': False, u'error': u'No venue exists with the symbol LMJBEX'}\n"
     ]
    },
    {
     "name": "stderr",
     "output_type": "stream",
     "text": [
      "INFO:requests.packages.urllib3.connectionpool:Starting new HTTPS connection (1): api.stockfighter.io\n",
      "DEBUG:requests.packages.urllib3.connectionpool:\"POST /ob/api/venues/LMJBEX/stocks/PMII/orders HTTP/1.1\" 404 62\n"
     ]
    },
    {
     "name": "stdout",
     "output_type": "stream",
     "text": [
      "42772 0 -6\n",
      "ordering with data:  {'account': 'LMB73474977', 'orderType': 'limit', 'price': 4095, 'venue': u'LMJBEX', 'direction': 'buy', 'qty': 4, 'stock': u'PMII'}\n",
      "{u'ok': False, u'error': u'No venue exists with the symbol LMJBEX'}\n"
     ]
    },
    {
     "name": "stderr",
     "output_type": "stream",
     "text": [
      "INFO:requests.packages.urllib3.connectionpool:Starting new HTTPS connection (1): api.stockfighter.io\n",
      "DEBUG:requests.packages.urllib3.connectionpool:\"POST /ob/api/venues/LMJBEX/stocks/PMII/orders HTTP/1.1\" 404 62\n"
     ]
    },
    {
     "name": "stdout",
     "output_type": "stream",
     "text": [
      "42772 0 -6\n",
      "ordering with data:  {'account': 'LMB73474977', 'orderType': 'limit', 'price': 4075, 'venue': u'LMJBEX', 'direction': 'buy', 'qty': 4, 'stock': u'PMII'}\n",
      "{u'ok': False, u'error': u'No venue exists with the symbol LMJBEX'}\n"
     ]
    },
    {
     "name": "stderr",
     "output_type": "stream",
     "text": [
      "INFO:requests.packages.urllib3.connectionpool:Starting new HTTPS connection (1): api.stockfighter.io\n",
      "DEBUG:requests.packages.urllib3.connectionpool:\"POST /ob/api/venues/LMJBEX/stocks/PMII/orders HTTP/1.1\" 404 62\n"
     ]
    },
    {
     "name": "stdout",
     "output_type": "stream",
     "text": [
      "42772 0 -6\n",
      "ordering with data:  {'account': 'LMB73474977', 'orderType': 'limit', 'price': 4075, 'venue': u'LMJBEX', 'direction': 'buy', 'qty': 4, 'stock': u'PMII'}\n",
      "{u'ok': False, u'error': u'No venue exists with the symbol LMJBEX'}\n"
     ]
    },
    {
     "name": "stderr",
     "output_type": "stream",
     "text": [
      "INFO:requests.packages.urllib3.connectionpool:Starting new HTTPS connection (1): api.stockfighter.io\n",
      "DEBUG:requests.packages.urllib3.connectionpool:\"POST /ob/api/venues/LMJBEX/stocks/PMII/orders HTTP/1.1\" 404 62\n"
     ]
    },
    {
     "name": "stdout",
     "output_type": "stream",
     "text": [
      "42772 0 -6\n",
      "ordering with data:  {'account': 'LMB73474977', 'orderType': 'limit', 'price': 4075, 'venue': u'LMJBEX', 'direction': 'buy', 'qty': 4, 'stock': u'PMII'}\n",
      "{u'ok': False, u'error': u'No venue exists with the symbol LMJBEX'}\n"
     ]
    },
    {
     "name": "stderr",
     "output_type": "stream",
     "text": [
      "INFO:requests.packages.urllib3.connectionpool:Starting new HTTPS connection (1): api.stockfighter.io\n",
      "DEBUG:requests.packages.urllib3.connectionpool:\"POST /ob/api/venues/LMJBEX/stocks/PMII/orders HTTP/1.1\" 404 62\n"
     ]
    },
    {
     "name": "stdout",
     "output_type": "stream",
     "text": [
      "42772 0 -6\n",
      "ordering with data:  {'account': 'LMB73474977', 'orderType': 'limit', 'price': 4075, 'venue': u'LMJBEX', 'direction': 'buy', 'qty': 4, 'stock': u'PMII'}\n",
      "{u'ok': False, u'error': u'No venue exists with the symbol LMJBEX'}\n"
     ]
    },
    {
     "name": "stderr",
     "output_type": "stream",
     "text": [
      "INFO:requests.packages.urllib3.connectionpool:Starting new HTTPS connection (1): api.stockfighter.io\n",
      "DEBUG:requests.packages.urllib3.connectionpool:\"POST /ob/api/venues/LMJBEX/stocks/PMII/orders HTTP/1.1\" 404 62\n"
     ]
    },
    {
     "name": "stdout",
     "output_type": "stream",
     "text": [
      "42772 0 -6\n",
      "ordering with data:  {'account': 'LMB73474977', 'orderType': 'limit', 'price': 4115, 'venue': u'LMJBEX', 'direction': 'buy', 'qty': 3, 'stock': u'PMII'}\n",
      "{u'ok': False, u'error': u'No venue exists with the symbol LMJBEX'}\n"
     ]
    },
    {
     "name": "stderr",
     "output_type": "stream",
     "text": [
      "INFO:requests.packages.urllib3.connectionpool:Starting new HTTPS connection (1): api.stockfighter.io\n",
      "DEBUG:requests.packages.urllib3.connectionpool:\"POST /ob/api/venues/LMJBEX/stocks/PMII/orders HTTP/1.1\" 404 62\n"
     ]
    },
    {
     "name": "stdout",
     "output_type": "stream",
     "text": [
      "42772 0 -6\n",
      "ordering with data:  {'account': 'LMB73474977', 'orderType': 'limit', 'price': 4115, 'venue': u'LMJBEX', 'direction': 'buy', 'qty': 3, 'stock': u'PMII'}\n",
      "{u'ok': False, u'error': u'No venue exists with the symbol LMJBEX'}\n"
     ]
    },
    {
     "name": "stderr",
     "output_type": "stream",
     "text": [
      "INFO:requests.packages.urllib3.connectionpool:Starting new HTTPS connection (1): api.stockfighter.io\n",
      "DEBUG:requests.packages.urllib3.connectionpool:\"POST /ob/api/venues/LMJBEX/stocks/PMII/orders HTTP/1.1\" 404 62\n"
     ]
    },
    {
     "name": "stdout",
     "output_type": "stream",
     "text": [
      "42772 0 -6\n",
      "ordering with data:  {'account': 'LMB73474977', 'orderType': 'limit', 'price': 4115, 'venue': u'LMJBEX', 'direction': 'buy', 'qty': 3, 'stock': u'PMII'}\n",
      "{u'ok': False, u'error': u'No venue exists with the symbol LMJBEX'}\n"
     ]
    },
    {
     "name": "stderr",
     "output_type": "stream",
     "text": [
      "INFO:requests.packages.urllib3.connectionpool:Starting new HTTPS connection (1): api.stockfighter.io\n",
      "DEBUG:requests.packages.urllib3.connectionpool:\"POST /ob/api/venues/LMJBEX/stocks/PMII/orders HTTP/1.1\" 404 62\n"
     ]
    },
    {
     "name": "stdout",
     "output_type": "stream",
     "text": [
      "42772 0 -6\n",
      "ordering with data:  {'account': 'LMB73474977', 'orderType': 'limit', 'price': 4115, 'venue': u'LMJBEX', 'direction': 'buy', 'qty': 3, 'stock': u'PMII'}\n",
      "{u'ok': False, u'error': u'No venue exists with the symbol LMJBEX'}\n"
     ]
    },
    {
     "name": "stderr",
     "output_type": "stream",
     "text": [
      "INFO:requests.packages.urllib3.connectionpool:Starting new HTTPS connection (1): api.stockfighter.io\n",
      "DEBUG:requests.packages.urllib3.connectionpool:\"POST /ob/api/venues/LMJBEX/stocks/PMII/orders HTTP/1.1\" 404 62\n"
     ]
    },
    {
     "name": "stdout",
     "output_type": "stream",
     "text": [
      "42772 0 -6\n",
      "ordering with data:  {'account': 'LMB73474977', 'orderType': 'limit', 'price': 4115, 'venue': u'LMJBEX', 'direction': 'buy', 'qty': 3, 'stock': u'PMII'}\n",
      "{u'ok': False, u'error': u'No venue exists with the symbol LMJBEX'}\n",
      "42772 0 -6\n"
     ]
    },
    {
     "name": "stderr",
     "output_type": "stream",
     "text": [
      "INFO:requests.packages.urllib3.connectionpool:Starting new HTTPS connection (1): api.stockfighter.io\n",
      "DEBUG:requests.packages.urllib3.connectionpool:\"POST /ob/api/venues/LMJBEX/stocks/PMII/orders HTTP/1.1\" 404 62\n"
     ]
    },
    {
     "name": "stdout",
     "output_type": "stream",
     "text": [
      "42772 0 -6\n",
      "42772 0 -6\n",
      "42772 0 -6\n",
      "42772 0 -6\n",
      "42772 0 -6\n",
      "42772 0 -6\n",
      "42772 0 -6\n",
      "42772 0 -6\n",
      "42772 0 -6\n",
      "42772 0 -6\n",
      "42772 0 -6\n",
      "ordering with data:  {'account': 'LMB73474977', 'orderType': 'limit', 'price': 4227, 'venue': u'LMJBEX', 'direction': 'buy', 'qty': 8, 'stock': u'PMII'}\n",
      "{u'ok': False, u'error': u'No venue exists with the symbol LMJBEX'}\n"
     ]
    },
    {
     "name": "stderr",
     "output_type": "stream",
     "text": [
      "INFO:requests.packages.urllib3.connectionpool:Starting new HTTPS connection (1): api.stockfighter.io\n",
      "DEBUG:requests.packages.urllib3.connectionpool:\"POST /ob/api/venues/LMJBEX/stocks/PMII/orders HTTP/1.1\" 404 62\n"
     ]
    },
    {
     "name": "stdout",
     "output_type": "stream",
     "text": [
      "42772 0 -6\n",
      "ordering with data:  {'account': 'LMB73474977', 'orderType': 'limit', 'price': 4227, 'venue': u'LMJBEX', 'direction': 'buy', 'qty': 8, 'stock': u'PMII'}\n",
      "{u'ok': False, u'error': u'No venue exists with the symbol LMJBEX'}\n"
     ]
    },
    {
     "name": "stderr",
     "output_type": "stream",
     "text": [
      "INFO:requests.packages.urllib3.connectionpool:Starting new HTTPS connection (1): api.stockfighter.io\n",
      "DEBUG:requests.packages.urllib3.connectionpool:\"POST /ob/api/venues/LMJBEX/stocks/PMII/orders HTTP/1.1\" 404 62\n"
     ]
    },
    {
     "name": "stdout",
     "output_type": "stream",
     "text": [
      "42772 0 -6\n",
      "ordering with data:  {'account': 'LMB73474977', 'orderType': 'limit', 'price': 4227, 'venue': u'LMJBEX', 'direction': 'buy', 'qty': 8, 'stock': u'PMII'}\n",
      "{u'ok': False, u'error': u'No venue exists with the symbol LMJBEX'}\n"
     ]
    },
    {
     "name": "stderr",
     "output_type": "stream",
     "text": [
      "INFO:requests.packages.urllib3.connectionpool:Starting new HTTPS connection (1): api.stockfighter.io\n",
      "DEBUG:requests.packages.urllib3.connectionpool:\"POST /ob/api/venues/LMJBEX/stocks/PMII/orders HTTP/1.1\" 404 62\n"
     ]
    },
    {
     "name": "stdout",
     "output_type": "stream",
     "text": [
      "42772 0 -6\n",
      "ordering with data:  {'account': 'LMB73474977', 'orderType': 'limit', 'price': 4138, 'venue': u'LMJBEX', 'direction': 'buy', 'qty': 8, 'stock': u'PMII'}\n",
      "{u'ok': False, u'error': u'No venue exists with the symbol LMJBEX'}\n"
     ]
    },
    {
     "name": "stderr",
     "output_type": "stream",
     "text": [
      "INFO:requests.packages.urllib3.connectionpool:Starting new HTTPS connection (1): api.stockfighter.io\n",
      "DEBUG:requests.packages.urllib3.connectionpool:\"POST /ob/api/venues/LMJBEX/stocks/PMII/orders HTTP/1.1\" 404 62\n"
     ]
    },
    {
     "name": "stdout",
     "output_type": "stream",
     "text": [
      "42772 0 -6\n",
      "ordering with data:  {'account': 'LMB73474977', 'orderType': 'limit', 'price': 4138, 'venue': u'LMJBEX', 'direction': 'buy', 'qty': 8, 'stock': u'PMII'}\n",
      "{u'ok': False, u'error': u'No venue exists with the symbol LMJBEX'}\n"
     ]
    },
    {
     "name": "stderr",
     "output_type": "stream",
     "text": [
      "INFO:requests.packages.urllib3.connectionpool:Starting new HTTPS connection (1): api.stockfighter.io\n",
      "DEBUG:requests.packages.urllib3.connectionpool:\"POST /ob/api/venues/LMJBEX/stocks/PMII/orders HTTP/1.1\" 404 62\n"
     ]
    },
    {
     "name": "stdout",
     "output_type": "stream",
     "text": [
      "42772 0 -6\n",
      "ordering with data:  {'account': 'LMB73474977', 'orderType': 'limit', 'price': 4138, 'venue': u'LMJBEX', 'direction': 'buy', 'qty': 8, 'stock': u'PMII'}\n",
      "{u'ok': False, u'error': u'No venue exists with the symbol LMJBEX'}\n"
     ]
    },
    {
     "name": "stderr",
     "output_type": "stream",
     "text": [
      "INFO:requests.packages.urllib3.connectionpool:Starting new HTTPS connection (1): api.stockfighter.io\n",
      "DEBUG:requests.packages.urllib3.connectionpool:\"POST /ob/api/venues/LMJBEX/stocks/PMII/orders HTTP/1.1\" 404 62\n"
     ]
    },
    {
     "name": "stdout",
     "output_type": "stream",
     "text": [
      "42772 0 -6\n",
      "ordering with data:  {'account': 'LMB73474977', 'orderType': 'limit', 'price': 4138, 'venue': u'LMJBEX', 'direction': 'buy', 'qty': 8, 'stock': u'PMII'}\n",
      "{u'ok': False, u'error': u'No venue exists with the symbol LMJBEX'}\n"
     ]
    },
    {
     "name": "stderr",
     "output_type": "stream",
     "text": [
      "INFO:requests.packages.urllib3.connectionpool:Starting new HTTPS connection (1): api.stockfighter.io\n",
      "DEBUG:requests.packages.urllib3.connectionpool:\"POST /ob/api/venues/LMJBEX/stocks/PMII/orders HTTP/1.1\" 404 62\n"
     ]
    },
    {
     "name": "stdout",
     "output_type": "stream",
     "text": [
      "42772 0 -6\n",
      "ordering with data:  {'account': 'LMB73474977', 'orderType': 'limit', 'price': 4138, 'venue': u'LMJBEX', 'direction': 'buy', 'qty': 8, 'stock': u'PMII'}\n",
      "{u'ok': False, u'error': u'No venue exists with the symbol LMJBEX'}\n"
     ]
    },
    {
     "name": "stderr",
     "output_type": "stream",
     "text": [
      "INFO:requests.packages.urllib3.connectionpool:Starting new HTTPS connection (1): api.stockfighter.io\n",
      "DEBUG:requests.packages.urllib3.connectionpool:\"POST /ob/api/venues/LMJBEX/stocks/PMII/orders HTTP/1.1\" 404 62\n"
     ]
    },
    {
     "name": "stdout",
     "output_type": "stream",
     "text": [
      "42772 0 -6\n",
      "ordering with data:  {'account': 'LMB73474977', 'orderType': 'limit', 'price': 4122, 'venue': u'LMJBEX', 'direction': 'buy', 'qty': 3, 'stock': u'PMII'}\n",
      "{u'ok': False, u'error': u'No venue exists with the symbol LMJBEX'}\n"
     ]
    },
    {
     "name": "stderr",
     "output_type": "stream",
     "text": [
      "INFO:requests.packages.urllib3.connectionpool:Starting new HTTPS connection (1): api.stockfighter.io\n",
      "DEBUG:requests.packages.urllib3.connectionpool:\"POST /ob/api/venues/LMJBEX/stocks/PMII/orders HTTP/1.1\" 404 62\n"
     ]
    },
    {
     "name": "stdout",
     "output_type": "stream",
     "text": [
      "42772 0 -6\n",
      "ordering with data:  {'account': 'LMB73474977', 'orderType': 'limit', 'price': 4102, 'venue': u'LMJBEX', 'direction': 'buy', 'qty': 3, 'stock': u'PMII'}\n",
      "{u'ok': False, u'error': u'No venue exists with the symbol LMJBEX'}\n"
     ]
    },
    {
     "name": "stderr",
     "output_type": "stream",
     "text": [
      "INFO:requests.packages.urllib3.connectionpool:Starting new HTTPS connection (1): api.stockfighter.io\n",
      "DEBUG:requests.packages.urllib3.connectionpool:\"POST /ob/api/venues/LMJBEX/stocks/PMII/orders HTTP/1.1\" 404 62\n"
     ]
    },
    {
     "name": "stdout",
     "output_type": "stream",
     "text": [
      "42772 0 -6\n",
      "ordering with data:  {'account': 'LMB73474977', 'orderType': 'limit', 'price': 4082, 'venue': u'LMJBEX', 'direction': 'buy', 'qty': 3, 'stock': u'PMII'}\n",
      "{u'ok': False, u'error': u'No venue exists with the symbol LMJBEX'}\n"
     ]
    },
    {
     "name": "stderr",
     "output_type": "stream",
     "text": [
      "INFO:requests.packages.urllib3.connectionpool:Starting new HTTPS connection (1): api.stockfighter.io\n",
      "DEBUG:requests.packages.urllib3.connectionpool:\"POST /ob/api/venues/LMJBEX/stocks/PMII/orders HTTP/1.1\" 404 62\n"
     ]
    },
    {
     "name": "stdout",
     "output_type": "stream",
     "text": [
      "42772 0 -6\n",
      "ordering with data:  {'account': 'LMB73474977', 'orderType': 'limit', 'price': 4082, 'venue': u'LMJBEX', 'direction': 'buy', 'qty': 3, 'stock': u'PMII'}\n",
      "{u'ok': False, u'error': u'No venue exists with the symbol LMJBEX'}\n"
     ]
    },
    {
     "name": "stderr",
     "output_type": "stream",
     "text": [
      "INFO:requests.packages.urllib3.connectionpool:Starting new HTTPS connection (1): api.stockfighter.io\n",
      "DEBUG:requests.packages.urllib3.connectionpool:\"POST /ob/api/venues/LMJBEX/stocks/PMII/orders HTTP/1.1\" 404 62\n"
     ]
    },
    {
     "name": "stdout",
     "output_type": "stream",
     "text": [
      "42772 0 -6\n",
      "ordering with data:  {'account': 'LMB73474977', 'orderType': 'limit', 'price': 4082, 'venue': u'LMJBEX', 'direction': 'buy', 'qty': 3, 'stock': u'PMII'}\n",
      "{u'ok': False, u'error': u'No venue exists with the symbol LMJBEX'}\n"
     ]
    },
    {
     "name": "stderr",
     "output_type": "stream",
     "text": [
      "INFO:requests.packages.urllib3.connectionpool:Starting new HTTPS connection (1): api.stockfighter.io\n",
      "DEBUG:requests.packages.urllib3.connectionpool:\"POST /ob/api/venues/LMJBEX/stocks/PMII/orders HTTP/1.1\" 404 62\n"
     ]
    },
    {
     "name": "stdout",
     "output_type": "stream",
     "text": [
      "42772 0 -6\n",
      "ordering with data:  {'account': 'LMB73474977', 'orderType': 'limit', 'price': 4082, 'venue': u'LMJBEX', 'direction': 'buy', 'qty': 3, 'stock': u'PMII'}\n",
      "{u'ok': False, u'error': u'No venue exists with the symbol LMJBEX'}\n"
     ]
    },
    {
     "name": "stderr",
     "output_type": "stream",
     "text": [
      "INFO:requests.packages.urllib3.connectionpool:Starting new HTTPS connection (1): api.stockfighter.io\n",
      "DEBUG:requests.packages.urllib3.connectionpool:\"POST /ob/api/venues/LMJBEX/stocks/PMII/orders HTTP/1.1\" 404 62\n"
     ]
    },
    {
     "name": "stdout",
     "output_type": "stream",
     "text": [
      "42772 0 -6\n",
      "ordering with data:  {'account': 'LMB73474977', 'orderType': 'limit', 'price': 4082, 'venue': u'LMJBEX', 'direction': 'buy', 'qty': 3, 'stock': u'PMII'}\n",
      "{u'ok': False, u'error': u'No venue exists with the symbol LMJBEX'}\n"
     ]
    },
    {
     "name": "stderr",
     "output_type": "stream",
     "text": [
      "INFO:requests.packages.urllib3.connectionpool:Starting new HTTPS connection (1): api.stockfighter.io\n",
      "DEBUG:requests.packages.urllib3.connectionpool:\"POST /ob/api/venues/LMJBEX/stocks/PMII/orders HTTP/1.1\" 404 62\n"
     ]
    },
    {
     "name": "stdout",
     "output_type": "stream",
     "text": [
      "42772 0 -6\n",
      "ordering with data:  {'account': 'LMB73474977', 'orderType': 'limit', 'price': 4082, 'venue': u'LMJBEX', 'direction': 'buy', 'qty': 3, 'stock': u'PMII'}\n",
      "{u'ok': False, u'error': u'No venue exists with the symbol LMJBEX'}\n"
     ]
    },
    {
     "name": "stderr",
     "output_type": "stream",
     "text": [
      "INFO:requests.packages.urllib3.connectionpool:Starting new HTTPS connection (1): api.stockfighter.io\n",
      "DEBUG:requests.packages.urllib3.connectionpool:\"POST /ob/api/venues/LMJBEX/stocks/PMII/orders HTTP/1.1\" 404 62\n"
     ]
    },
    {
     "name": "stdout",
     "output_type": "stream",
     "text": [
      "42772 0 -6\n",
      "ordering with data:  {'account': 'LMB73474977', 'orderType': 'limit', 'price': 4082, 'venue': u'LMJBEX', 'direction': 'buy', 'qty': 3, 'stock': u'PMII'}\n",
      "{u'ok': False, u'error': u'No venue exists with the symbol LMJBEX'}\n"
     ]
    },
    {
     "name": "stderr",
     "output_type": "stream",
     "text": [
      "INFO:requests.packages.urllib3.connectionpool:Starting new HTTPS connection (1): api.stockfighter.io\n",
      "DEBUG:requests.packages.urllib3.connectionpool:\"POST /ob/api/venues/LMJBEX/stocks/PMII/orders HTTP/1.1\" 404 62\n"
     ]
    },
    {
     "name": "stdout",
     "output_type": "stream",
     "text": [
      "42772 0 -6\n",
      "ordering with data:  {'account': 'LMB73474977', 'orderType': 'limit', 'price': 4082, 'venue': u'LMJBEX', 'direction': 'buy', 'qty': 3, 'stock': u'PMII'}\n",
      "{u'ok': False, u'error': u'No venue exists with the symbol LMJBEX'}\n"
     ]
    },
    {
     "name": "stderr",
     "output_type": "stream",
     "text": [
      "INFO:requests.packages.urllib3.connectionpool:Starting new HTTPS connection (1): api.stockfighter.io\n",
      "DEBUG:requests.packages.urllib3.connectionpool:\"POST /ob/api/venues/LMJBEX/stocks/PMII/orders HTTP/1.1\" 404 62\n"
     ]
    },
    {
     "name": "stdout",
     "output_type": "stream",
     "text": [
      "42772 0 -6\n",
      "ordering with data:  {'account': 'LMB73474977', 'orderType': 'limit', 'price': 4082, 'venue': u'LMJBEX', 'direction': 'buy', 'qty': 3, 'stock': u'PMII'}\n",
      "{u'ok': False, u'error': u'No venue exists with the symbol LMJBEX'}\n"
     ]
    },
    {
     "name": "stderr",
     "output_type": "stream",
     "text": [
      "INFO:requests.packages.urllib3.connectionpool:Starting new HTTPS connection (1): api.stockfighter.io\n",
      "DEBUG:requests.packages.urllib3.connectionpool:\"POST /ob/api/venues/LMJBEX/stocks/PMII/orders HTTP/1.1\" 404 62\n"
     ]
    },
    {
     "name": "stdout",
     "output_type": "stream",
     "text": [
      "42772 0 -6\n",
      "ordering with data:  {'account': 'LMB73474977', 'orderType': 'limit', 'price': 4082, 'venue': u'LMJBEX', 'direction': 'buy', 'qty': 3, 'stock': u'PMII'}\n",
      "{u'ok': False, u'error': u'No venue exists with the symbol LMJBEX'}\n"
     ]
    },
    {
     "name": "stderr",
     "output_type": "stream",
     "text": [
      "INFO:requests.packages.urllib3.connectionpool:Starting new HTTPS connection (1): api.stockfighter.io\n",
      "DEBUG:requests.packages.urllib3.connectionpool:\"POST /ob/api/venues/LMJBEX/stocks/PMII/orders HTTP/1.1\" 404 62\n"
     ]
    },
    {
     "name": "stdout",
     "output_type": "stream",
     "text": [
      "42772 0 -6\n",
      "ordering with data:  {'account': 'LMB73474977', 'orderType': 'limit', 'price': 4082, 'venue': u'LMJBEX', 'direction': 'buy', 'qty': 3, 'stock': u'PMII'}\n",
      "{u'ok': False, u'error': u'No venue exists with the symbol LMJBEX'}\n"
     ]
    },
    {
     "name": "stderr",
     "output_type": "stream",
     "text": [
      "INFO:requests.packages.urllib3.connectionpool:Starting new HTTPS connection (1): api.stockfighter.io\n",
      "DEBUG:requests.packages.urllib3.connectionpool:\"POST /ob/api/venues/LMJBEX/stocks/PMII/orders HTTP/1.1\" 404 62\n"
     ]
    },
    {
     "name": "stdout",
     "output_type": "stream",
     "text": [
      "42772 0 -6\n",
      "ordering with data:  {'account': 'LMB73474977', 'orderType': 'limit', 'price': 4082, 'venue': u'LMJBEX', 'direction': 'buy', 'qty': 3, 'stock': u'PMII'}\n",
      "{u'ok': False, u'error': u'No venue exists with the symbol LMJBEX'}\n"
     ]
    },
    {
     "name": "stderr",
     "output_type": "stream",
     "text": [
      "INFO:requests.packages.urllib3.connectionpool:Starting new HTTPS connection (1): api.stockfighter.io\n",
      "DEBUG:requests.packages.urllib3.connectionpool:\"POST /ob/api/venues/LMJBEX/stocks/PMII/orders HTTP/1.1\" 404 62\n"
     ]
    },
    {
     "name": "stdout",
     "output_type": "stream",
     "text": [
      "42772 0 -6\n",
      "ordering with data:  {'account': 'LMB73474977', 'orderType': 'limit', 'price': 4082, 'venue': u'LMJBEX', 'direction': 'buy', 'qty': 3, 'stock': u'PMII'}\n",
      "{u'ok': False, u'error': u'No venue exists with the symbol LMJBEX'}\n"
     ]
    },
    {
     "name": "stderr",
     "output_type": "stream",
     "text": [
      "INFO:requests.packages.urllib3.connectionpool:Starting new HTTPS connection (1): api.stockfighter.io\n",
      "DEBUG:requests.packages.urllib3.connectionpool:\"POST /ob/api/venues/LMJBEX/stocks/PMII/orders HTTP/1.1\" 404 62\n"
     ]
    },
    {
     "name": "stdout",
     "output_type": "stream",
     "text": [
      "42772 0 -6\n",
      "ordering with data:  {'account': 'LMB73474977', 'orderType': 'limit', 'price': 4227, 'venue': u'LMJBEX', 'direction': 'buy', 'qty': 8, 'stock': u'PMII'}\n",
      "{u'ok': False, u'error': u'No venue exists with the symbol LMJBEX'}\n"
     ]
    },
    {
     "name": "stderr",
     "output_type": "stream",
     "text": [
      "INFO:requests.packages.urllib3.connectionpool:Starting new HTTPS connection (1): api.stockfighter.io\n",
      "DEBUG:requests.packages.urllib3.connectionpool:\"POST /ob/api/venues/LMJBEX/stocks/PMII/orders HTTP/1.1\" 404 62\n"
     ]
    },
    {
     "name": "stdout",
     "output_type": "stream",
     "text": [
      "42772 0 -6\n",
      "ordering with data:  {'account': 'LMB73474977', 'orderType': 'limit', 'price': 4227, 'venue': u'LMJBEX', 'direction': 'buy', 'qty': 8, 'stock': u'PMII'}\n",
      "{u'ok': False, u'error': u'No venue exists with the symbol LMJBEX'}\n"
     ]
    },
    {
     "name": "stderr",
     "output_type": "stream",
     "text": [
      "INFO:requests.packages.urllib3.connectionpool:Starting new HTTPS connection (1): api.stockfighter.io\n",
      "DEBUG:requests.packages.urllib3.connectionpool:\"POST /ob/api/venues/LMJBEX/stocks/PMII/orders HTTP/1.1\" 404 62\n"
     ]
    },
    {
     "name": "stdout",
     "output_type": "stream",
     "text": [
      "42772 0 -6\n",
      "ordering with data:  {'account': 'LMB73474977', 'orderType': 'limit', 'price': 4227, 'venue': u'LMJBEX', 'direction': 'buy', 'qty': 8, 'stock': u'PMII'}\n",
      "{u'ok': False, u'error': u'No venue exists with the symbol LMJBEX'}\n",
      "42772 0 -6\n",
      "ordering with data:  {'account': 'LMB73474977', 'orderType': 'limit', 'price': 4227, 'venue': u'LMJBEX', 'direction': 'buy', 'qty': 8, 'stock': u'PMII'}\n"
     ]
    },
    {
     "name": "stderr",
     "output_type": "stream",
     "text": [
      "INFO:requests.packages.urllib3.connectionpool:Starting new HTTPS connection (1): api.stockfighter.io\n",
      "DEBUG:requests.packages.urllib3.connectionpool:\"POST /ob/api/venues/LMJBEX/stocks/PMII/orders HTTP/1.1\" 404 62\n",
      "INFO:requests.packages.urllib3.connectionpool:Starting new HTTPS connection (1): api.stockfighter.io\n",
      "DEBUG:requests.packages.urllib3.connectionpool:\"POST /ob/api/venues/LMJBEX/stocks/PMII/orders HTTP/1.1\" 404 62\n"
     ]
    },
    {
     "name": "stdout",
     "output_type": "stream",
     "text": [
      "{u'ok': False, u'error': u'No venue exists with the symbol LMJBEX'}\n",
      "42772 0 -6\n",
      "ordering with data:  {'account': 'LMB73474977', 'orderType': 'limit', 'price': 4227, 'venue': u'LMJBEX', 'direction': 'buy', 'qty': 8, 'stock': u'PMII'}\n",
      "{u'ok': False, u'error': u'No venue exists with the symbol LMJBEX'}\n"
     ]
    },
    {
     "name": "stderr",
     "output_type": "stream",
     "text": [
      "INFO:requests.packages.urllib3.connectionpool:Starting new HTTPS connection (1): api.stockfighter.io\n",
      "DEBUG:requests.packages.urllib3.connectionpool:\"POST /ob/api/venues/LMJBEX/stocks/PMII/orders HTTP/1.1\" 404 62\n"
     ]
    },
    {
     "name": "stdout",
     "output_type": "stream",
     "text": [
      "42772 0 -6\n",
      "ordering with data:  {'account': 'LMB73474977', 'orderType': 'limit', 'price': 4227, 'venue': u'LMJBEX', 'direction': 'buy', 'qty': 8, 'stock': u'PMII'}\n",
      "{u'ok': False, u'error': u'No venue exists with the symbol LMJBEX'}\n"
     ]
    },
    {
     "name": "stderr",
     "output_type": "stream",
     "text": [
      "INFO:requests.packages.urllib3.connectionpool:Starting new HTTPS connection (1): api.stockfighter.io\n",
      "DEBUG:requests.packages.urllib3.connectionpool:\"POST /ob/api/venues/LMJBEX/stocks/PMII/orders HTTP/1.1\" 404 62\n"
     ]
    },
    {
     "name": "stdout",
     "output_type": "stream",
     "text": [
      "42772 0 -6\n",
      "ordering with data:  {'account': 'LMB73474977', 'orderType': 'limit', 'price': 4227, 'venue': u'LMJBEX', 'direction': 'buy', 'qty': 8, 'stock': u'PMII'}\n",
      "{u'ok': False, u'error': u'No venue exists with the symbol LMJBEX'}\n"
     ]
    },
    {
     "name": "stderr",
     "output_type": "stream",
     "text": [
      "INFO:requests.packages.urllib3.connectionpool:Starting new HTTPS connection (1): api.stockfighter.io\n",
      "DEBUG:requests.packages.urllib3.connectionpool:\"POST /ob/api/venues/LMJBEX/stocks/PMII/orders HTTP/1.1\" 404 62\n"
     ]
    },
    {
     "name": "stdout",
     "output_type": "stream",
     "text": [
      "42772 0 -6\n",
      "ordering with data:  {'account': 'LMB73474977', 'orderType': 'limit', 'price': 4227, 'venue': u'LMJBEX', 'direction': 'buy', 'qty': 8, 'stock': u'PMII'}\n",
      "{u'ok': False, u'error': u'No venue exists with the symbol LMJBEX'}\n"
     ]
    },
    {
     "name": "stderr",
     "output_type": "stream",
     "text": [
      "INFO:requests.packages.urllib3.connectionpool:Starting new HTTPS connection (1): api.stockfighter.io\n",
      "DEBUG:requests.packages.urllib3.connectionpool:\"POST /ob/api/venues/LMJBEX/stocks/PMII/orders HTTP/1.1\" 404 62\n"
     ]
    },
    {
     "name": "stdout",
     "output_type": "stream",
     "text": [
      "42772 0 -6\n",
      "ordering with data:  {'account': 'LMB73474977', 'orderType': 'limit', 'price': 4227, 'venue': u'LMJBEX', 'direction': 'buy', 'qty': 8, 'stock': u'PMII'}\n",
      "{u'ok': False, u'error': u'No venue exists with the symbol LMJBEX'}\n"
     ]
    },
    {
     "name": "stderr",
     "output_type": "stream",
     "text": [
      "INFO:requests.packages.urllib3.connectionpool:Starting new HTTPS connection (1): api.stockfighter.io\n",
      "DEBUG:requests.packages.urllib3.connectionpool:\"POST /ob/api/venues/LMJBEX/stocks/PMII/orders HTTP/1.1\" 404 62\n"
     ]
    },
    {
     "name": "stdout",
     "output_type": "stream",
     "text": [
      "42772 0 -6\n",
      "ordering with data:  {'account': 'LMB73474977', 'orderType': 'limit', 'price': 4227, 'venue': u'LMJBEX', 'direction': 'buy', 'qty': 8, 'stock': u'PMII'}\n",
      "{u'ok': False, u'error': u'No venue exists with the symbol LMJBEX'}\n"
     ]
    },
    {
     "name": "stderr",
     "output_type": "stream",
     "text": [
      "INFO:requests.packages.urllib3.connectionpool:Starting new HTTPS connection (1): api.stockfighter.io\n",
      "DEBUG:requests.packages.urllib3.connectionpool:\"POST /ob/api/venues/LMJBEX/stocks/PMII/orders HTTP/1.1\" 404 62\n"
     ]
    },
    {
     "name": "stdout",
     "output_type": "stream",
     "text": [
      "42772 0 -6\n",
      "ordering with data:  {'account': 'LMB73474977', 'orderType': 'limit', 'price': 4227, 'venue': u'LMJBEX', 'direction': 'buy', 'qty': 8, 'stock': u'PMII'}\n",
      "{u'ok': False, u'error': u'No venue exists with the symbol LMJBEX'}\n"
     ]
    },
    {
     "name": "stderr",
     "output_type": "stream",
     "text": [
      "INFO:requests.packages.urllib3.connectionpool:Starting new HTTPS connection (1): api.stockfighter.io\n",
      "DEBUG:requests.packages.urllib3.connectionpool:\"POST /ob/api/venues/LMJBEX/stocks/PMII/orders HTTP/1.1\" 404 62\n"
     ]
    },
    {
     "name": "stdout",
     "output_type": "stream",
     "text": [
      "42772 0 -6\n",
      "ordering with data:  {'account': 'LMB73474977', 'orderType': 'limit', 'price': 4227, 'venue': u'LMJBEX', 'direction': 'buy', 'qty': 8, 'stock': u'PMII'}\n",
      "{u'ok': False, u'error': u'No venue exists with the symbol LMJBEX'}\n"
     ]
    },
    {
     "name": "stderr",
     "output_type": "stream",
     "text": [
      "INFO:requests.packages.urllib3.connectionpool:Starting new HTTPS connection (1): api.stockfighter.io\n",
      "DEBUG:requests.packages.urllib3.connectionpool:\"POST /ob/api/venues/LMJBEX/stocks/PMII/orders HTTP/1.1\" 404 62\n"
     ]
    },
    {
     "name": "stdout",
     "output_type": "stream",
     "text": [
      "42772 0 -6\n",
      "ordering with data:  {'account': 'LMB73474977', 'orderType': 'limit', 'price': 4227, 'venue': u'LMJBEX', 'direction': 'buy', 'qty': 8, 'stock': u'PMII'}\n",
      "{u'ok': False, u'error': u'No venue exists with the symbol LMJBEX'}\n"
     ]
    },
    {
     "name": "stderr",
     "output_type": "stream",
     "text": [
      "INFO:requests.packages.urllib3.connectionpool:Starting new HTTPS connection (1): api.stockfighter.io\n",
      "DEBUG:requests.packages.urllib3.connectionpool:\"POST /ob/api/venues/LMJBEX/stocks/PMII/orders HTTP/1.1\" 404 62\n"
     ]
    },
    {
     "name": "stdout",
     "output_type": "stream",
     "text": [
      "42772 0 -6\n",
      "ordering with data:  {'account': 'LMB73474977', 'orderType': 'limit', 'price': 4227, 'venue': u'LMJBEX', 'direction': 'buy', 'qty': 8, 'stock': u'PMII'}\n",
      "{u'ok': False, u'error': u'No venue exists with the symbol LMJBEX'}\n"
     ]
    },
    {
     "name": "stderr",
     "output_type": "stream",
     "text": [
      "INFO:requests.packages.urllib3.connectionpool:Starting new HTTPS connection (1): api.stockfighter.io\n",
      "DEBUG:requests.packages.urllib3.connectionpool:\"POST /ob/api/venues/LMJBEX/stocks/PMII/orders HTTP/1.1\" 404 62\n"
     ]
    },
    {
     "name": "stdout",
     "output_type": "stream",
     "text": [
      "42772 0 -6\n",
      "ordering with data:  {'account': 'LMB73474977', 'orderType': 'limit', 'price': 4227, 'venue': u'LMJBEX', 'direction': 'buy', 'qty': 8, 'stock': u'PMII'}\n",
      "{u'ok': False, u'error': u'No venue exists with the symbol LMJBEX'}\n"
     ]
    },
    {
     "name": "stderr",
     "output_type": "stream",
     "text": [
      "INFO:requests.packages.urllib3.connectionpool:Starting new HTTPS connection (1): api.stockfighter.io\n",
      "DEBUG:requests.packages.urllib3.connectionpool:\"POST /ob/api/venues/LMJBEX/stocks/PMII/orders HTTP/1.1\" 404 62\n"
     ]
    },
    {
     "name": "stdout",
     "output_type": "stream",
     "text": [
      "42772 0 -6\n",
      "ordering with data:  {'account': 'LMB73474977', 'orderType': 'limit', 'price': 4244, 'venue': u'LMJBEX', 'direction': 'buy', 'qty': 2, 'stock': u'PMII'}\n",
      "{u'ok': False, u'error': u'No venue exists with the symbol LMJBEX'}\n"
     ]
    },
    {
     "name": "stderr",
     "output_type": "stream",
     "text": [
      "INFO:requests.packages.urllib3.connectionpool:Starting new HTTPS connection (1): api.stockfighter.io\n",
      "DEBUG:requests.packages.urllib3.connectionpool:\"POST /ob/api/venues/LMJBEX/stocks/PMII/orders HTTP/1.1\" 404 62\n"
     ]
    },
    {
     "name": "stdout",
     "output_type": "stream",
     "text": [
      "42772 0 -6\n",
      "ordering with data:  {'account': 'LMB73474977', 'orderType': 'limit', 'price': 4286, 'venue': u'LMJBEX', 'direction': 'buy', 'qty': 2, 'stock': u'PMII'}\n",
      "{u'ok': False, u'error': u'No venue exists with the symbol LMJBEX'}\n"
     ]
    },
    {
     "name": "stderr",
     "output_type": "stream",
     "text": [
      "INFO:requests.packages.urllib3.connectionpool:Starting new HTTPS connection (1): api.stockfighter.io\n",
      "DEBUG:requests.packages.urllib3.connectionpool:\"POST /ob/api/venues/LMJBEX/stocks/PMII/orders HTTP/1.1\" 404 62\n"
     ]
    },
    {
     "name": "stdout",
     "output_type": "stream",
     "text": [
      "42772 0 -6\n",
      "ordering with data:  {'account': 'LMB73474977', 'orderType': 'limit', 'price': 4286, 'venue': u'LMJBEX', 'direction': 'buy', 'qty': 2, 'stock': u'PMII'}\n",
      "{u'ok': False, u'error': u'No venue exists with the symbol LMJBEX'}\n"
     ]
    },
    {
     "name": "stderr",
     "output_type": "stream",
     "text": [
      "INFO:requests.packages.urllib3.connectionpool:Starting new HTTPS connection (1): api.stockfighter.io\n",
      "DEBUG:requests.packages.urllib3.connectionpool:\"POST /ob/api/venues/LMJBEX/stocks/PMII/orders HTTP/1.1\" 404 62\n"
     ]
    },
    {
     "name": "stdout",
     "output_type": "stream",
     "text": [
      "42772 0 -6\n",
      "ordering with data:  {'account': 'LMB73474977', 'orderType': 'limit', 'price': 4286, 'venue': u'LMJBEX', 'direction': 'buy', 'qty': 2, 'stock': u'PMII'}\n",
      "{u'ok': False, u'error': u'No venue exists with the symbol LMJBEX'}\n"
     ]
    },
    {
     "name": "stderr",
     "output_type": "stream",
     "text": [
      "INFO:requests.packages.urllib3.connectionpool:Starting new HTTPS connection (1): api.stockfighter.io\n",
      "DEBUG:requests.packages.urllib3.connectionpool:\"POST /ob/api/venues/LMJBEX/stocks/PMII/orders HTTP/1.1\" 404 62\n"
     ]
    },
    {
     "name": "stdout",
     "output_type": "stream",
     "text": [
      "42772 0 -6\n",
      "ordering with data:  {'account': 'LMB73474977', 'orderType': 'limit', 'price': 4286, 'venue': u'LMJBEX', 'direction': 'buy', 'qty': 2, 'stock': u'PMII'}\n",
      "{u'ok': False, u'error': u'No venue exists with the symbol LMJBEX'}\n"
     ]
    },
    {
     "name": "stderr",
     "output_type": "stream",
     "text": [
      "INFO:requests.packages.urllib3.connectionpool:Starting new HTTPS connection (1): api.stockfighter.io\n",
      "DEBUG:requests.packages.urllib3.connectionpool:\"POST /ob/api/venues/LMJBEX/stocks/PMII/orders HTTP/1.1\" 404 62\n"
     ]
    },
    {
     "name": "stdout",
     "output_type": "stream",
     "text": [
      "42772 0 -6\n",
      "ordering with data:  {'account': 'LMB73474977', 'orderType': 'limit', 'price': 4286, 'venue': u'LMJBEX', 'direction': 'buy', 'qty': 2, 'stock': u'PMII'}\n",
      "{u'ok': False, u'error': u'No venue exists with the symbol LMJBEX'}\n"
     ]
    },
    {
     "name": "stderr",
     "output_type": "stream",
     "text": [
      "INFO:requests.packages.urllib3.connectionpool:Starting new HTTPS connection (1): api.stockfighter.io\n",
      "DEBUG:requests.packages.urllib3.connectionpool:\"POST /ob/api/venues/LMJBEX/stocks/PMII/orders HTTP/1.1\" 404 62\n"
     ]
    },
    {
     "name": "stdout",
     "output_type": "stream",
     "text": [
      "42772 0 -6\n",
      "42772 0 -6\n",
      "42772 0 -6\n",
      "42772 0 -6\n",
      "42772 0 -6\n",
      "ordering with data:  {'account': 'LMB73474977', 'orderType': 'limit', 'price': 4122, 'venue': u'LMJBEX', 'direction': 'buy', 'qty': 2, 'stock': u'PMII'}\n",
      "{u'ok': False, u'error': u'No venue exists with the symbol LMJBEX'}\n"
     ]
    },
    {
     "name": "stderr",
     "output_type": "stream",
     "text": [
      "INFO:requests.packages.urllib3.connectionpool:Starting new HTTPS connection (1): api.stockfighter.io\n",
      "DEBUG:requests.packages.urllib3.connectionpool:\"POST /ob/api/venues/LMJBEX/stocks/PMII/orders HTTP/1.1\" 404 62\n"
     ]
    },
    {
     "name": "stdout",
     "output_type": "stream",
     "text": [
      "42772 0 -6\n",
      "ordering with data:  {'account': 'LMB73474977', 'orderType': 'limit', 'price': 4102, 'venue': u'LMJBEX', 'direction': 'buy', 'qty': 2, 'stock': u'PMII'}\n",
      "{u'ok': False, u'error': u'No venue exists with the symbol LMJBEX'}\n"
     ]
    },
    {
     "name": "stderr",
     "output_type": "stream",
     "text": [
      "INFO:requests.packages.urllib3.connectionpool:Starting new HTTPS connection (1): api.stockfighter.io\n",
      "DEBUG:requests.packages.urllib3.connectionpool:\"POST /ob/api/venues/LMJBEX/stocks/PMII/orders HTTP/1.1\" 404 62\n"
     ]
    },
    {
     "name": "stdout",
     "output_type": "stream",
     "text": [
      "42772 0 -6\n",
      "ordering with data:  {'account': 'LMB73474977', 'orderType': 'limit', 'price': 4082, 'venue': u'LMJBEX', 'direction': 'buy', 'qty': 2, 'stock': u'PMII'}\n",
      "{u'ok': False, u'error': u'No venue exists with the symbol LMJBEX'}\n"
     ]
    },
    {
     "name": "stderr",
     "output_type": "stream",
     "text": [
      "INFO:requests.packages.urllib3.connectionpool:Starting new HTTPS connection (1): api.stockfighter.io\n",
      "DEBUG:requests.packages.urllib3.connectionpool:\"POST /ob/api/venues/LMJBEX/stocks/PMII/orders HTTP/1.1\" 404 62\n"
     ]
    },
    {
     "name": "stdout",
     "output_type": "stream",
     "text": [
      "42772 0 -6\n",
      "ordering with data:  {'account': 'LMB73474977', 'orderType': 'limit', 'price': 4082, 'venue': u'LMJBEX', 'direction': 'buy', 'qty': 2, 'stock': u'PMII'}\n",
      "{u'ok': False, u'error': u'No venue exists with the symbol LMJBEX'}\n"
     ]
    },
    {
     "name": "stderr",
     "output_type": "stream",
     "text": [
      "INFO:requests.packages.urllib3.connectionpool:Starting new HTTPS connection (1): api.stockfighter.io\n",
      "DEBUG:requests.packages.urllib3.connectionpool:\"POST /ob/api/venues/LMJBEX/stocks/PMII/orders HTTP/1.1\" 404 62\n"
     ]
    },
    {
     "name": "stdout",
     "output_type": "stream",
     "text": [
      "42772 0 -6\n",
      "ordering with data:  {'account': 'LMB73474977', 'orderType': 'limit', 'price': 4082, 'venue': u'LMJBEX', 'direction': 'buy', 'qty': 2, 'stock': u'PMII'}\n",
      "{u'ok': False, u'error': u'No venue exists with the symbol LMJBEX'}\n"
     ]
    },
    {
     "name": "stderr",
     "output_type": "stream",
     "text": [
      "INFO:requests.packages.urllib3.connectionpool:Starting new HTTPS connection (1): api.stockfighter.io\n",
      "DEBUG:requests.packages.urllib3.connectionpool:\"POST /ob/api/venues/LMJBEX/stocks/PMII/orders HTTP/1.1\" 404 62\n"
     ]
    },
    {
     "name": "stdout",
     "output_type": "stream",
     "text": [
      "42772 0 -6\n",
      "ordering with data:  {'account': 'LMB73474977', 'orderType': 'limit', 'price': 4082, 'venue': u'LMJBEX', 'direction': 'buy', 'qty': 2, 'stock': u'PMII'}\n",
      "{u'ok': False, u'error': u'No venue exists with the symbol LMJBEX'}\n"
     ]
    },
    {
     "name": "stderr",
     "output_type": "stream",
     "text": [
      "INFO:requests.packages.urllib3.connectionpool:Starting new HTTPS connection (1): api.stockfighter.io\n",
      "DEBUG:requests.packages.urllib3.connectionpool:\"POST /ob/api/venues/LMJBEX/stocks/PMII/orders HTTP/1.1\" 404 62\n"
     ]
    },
    {
     "name": "stdout",
     "output_type": "stream",
     "text": [
      "42772 0 -6\n",
      "ordering with data:  {'account': 'LMB73474977', 'orderType': 'limit', 'price': 4082, 'venue': u'LMJBEX', 'direction': 'buy', 'qty': 2, 'stock': u'PMII'}\n",
      "{u'ok': False, u'error': u'No venue exists with the symbol LMJBEX'}\n"
     ]
    },
    {
     "name": "stderr",
     "output_type": "stream",
     "text": [
      "INFO:requests.packages.urllib3.connectionpool:Starting new HTTPS connection (1): api.stockfighter.io\n",
      "DEBUG:requests.packages.urllib3.connectionpool:\"POST /ob/api/venues/LMJBEX/stocks/PMII/orders HTTP/1.1\" 404 62\n"
     ]
    },
    {
     "name": "stdout",
     "output_type": "stream",
     "text": [
      "42772 0 -6\n",
      "ordering with data:  {'account': 'LMB73474977', 'orderType': 'limit', 'price': 4082, 'venue': u'LMJBEX', 'direction': 'buy', 'qty': 2, 'stock': u'PMII'}\n",
      "{u'ok': False, u'error': u'No venue exists with the symbol LMJBEX'}\n"
     ]
    },
    {
     "name": "stderr",
     "output_type": "stream",
     "text": [
      "INFO:requests.packages.urllib3.connectionpool:Starting new HTTPS connection (1): api.stockfighter.io\n",
      "DEBUG:requests.packages.urllib3.connectionpool:\"POST /ob/api/venues/LMJBEX/stocks/PMII/orders HTTP/1.1\" 404 62\n"
     ]
    },
    {
     "name": "stdout",
     "output_type": "stream",
     "text": [
      "42772 0 -6\n",
      "ordering with data:  {'account': 'LMB73474977', 'orderType': 'limit', 'price': 4082, 'venue': u'LMJBEX', 'direction': 'buy', 'qty': 2, 'stock': u'PMII'}\n",
      "{u'ok': False, u'error': u'No venue exists with the symbol LMJBEX'}\n"
     ]
    },
    {
     "name": "stderr",
     "output_type": "stream",
     "text": [
      "INFO:requests.packages.urllib3.connectionpool:Starting new HTTPS connection (1): api.stockfighter.io\n",
      "DEBUG:requests.packages.urllib3.connectionpool:\"POST /ob/api/venues/LMJBEX/stocks/PMII/orders HTTP/1.1\" 404 62\n"
     ]
    },
    {
     "name": "stdout",
     "output_type": "stream",
     "text": [
      "42772 0 -6\n",
      "ordering with data:  {'account': 'LMB73474977', 'orderType': 'limit', 'price': 4082, 'venue': u'LMJBEX', 'direction': 'buy', 'qty': 2, 'stock': u'PMII'}\n",
      "{u'ok': False, u'error': u'No venue exists with the symbol LMJBEX'}\n"
     ]
    },
    {
     "name": "stderr",
     "output_type": "stream",
     "text": [
      "INFO:requests.packages.urllib3.connectionpool:Starting new HTTPS connection (1): api.stockfighter.io\n",
      "DEBUG:requests.packages.urllib3.connectionpool:\"POST /ob/api/venues/LMJBEX/stocks/PMII/orders HTTP/1.1\" 404 62\n"
     ]
    },
    {
     "name": "stdout",
     "output_type": "stream",
     "text": [
      "42772 0 -6\n",
      "ordering with data:  {'account': 'LMB73474977', 'orderType': 'limit', 'price': 4082, 'venue': u'LMJBEX', 'direction': 'buy', 'qty': 2, 'stock': u'PMII'}\n",
      "{u'ok': False, u'error': u'No venue exists with the symbol LMJBEX'}\n"
     ]
    },
    {
     "name": "stderr",
     "output_type": "stream",
     "text": [
      "INFO:requests.packages.urllib3.connectionpool:Starting new HTTPS connection (1): api.stockfighter.io\n",
      "DEBUG:requests.packages.urllib3.connectionpool:\"POST /ob/api/venues/LMJBEX/stocks/PMII/orders HTTP/1.1\" 404 62\n"
     ]
    },
    {
     "name": "stdout",
     "output_type": "stream",
     "text": [
      "42772 0 -6\n",
      "ordering with data:  {'account': 'LMB73474977', 'orderType': 'limit', 'price': 4082, 'venue': u'LMJBEX', 'direction': 'buy', 'qty': 2, 'stock': u'PMII'}\n",
      "{u'ok': False, u'error': u'No venue exists with the symbol LMJBEX'}\n"
     ]
    },
    {
     "name": "stderr",
     "output_type": "stream",
     "text": [
      "INFO:requests.packages.urllib3.connectionpool:Starting new HTTPS connection (1): api.stockfighter.io\n",
      "DEBUG:requests.packages.urllib3.connectionpool:\"POST /ob/api/venues/LMJBEX/stocks/PMII/orders HTTP/1.1\" 404 62\n"
     ]
    },
    {
     "name": "stdout",
     "output_type": "stream",
     "text": [
      "42772 0 -6\n",
      "42772 0 -6\n",
      "42772 0 -6\n",
      "42772 0 -6\n",
      "42772 0 -6\n",
      "42772 0 -6\n",
      "42772 0 -6\n",
      "42772 0 -6\n",
      "42772 0 -6\n",
      "42772 0 -6\n",
      "42772 0 -6\n",
      "42772 0 -6\n",
      "42772 0 -6\n",
      "ordering with data:  {'account': 'LMB73474977', 'orderType': 'limit', 'price': 4302, 'venue': u'LMJBEX', 'direction': 'buy', 'qty': 2, 'stock': u'PMII'}\n",
      "{u'ok': False, u'error': u'No venue exists with the symbol LMJBEX'}\n"
     ]
    },
    {
     "name": "stderr",
     "output_type": "stream",
     "text": [
      "INFO:requests.packages.urllib3.connectionpool:Starting new HTTPS connection (1): api.stockfighter.io\n",
      "DEBUG:requests.packages.urllib3.connectionpool:\"POST /ob/api/venues/LMJBEX/stocks/PMII/orders HTTP/1.1\" 404 62\n"
     ]
    },
    {
     "name": "stdout",
     "output_type": "stream",
     "text": [
      "42772 0 -6\n",
      "ordering with data:  {'account': 'LMB73474977', 'orderType': 'limit', 'price': 4281, 'venue': u'LMJBEX', 'direction': 'buy', 'qty': 2, 'stock': u'PMII'}\n",
      "{u'ok': False, u'error': u'No venue exists with the symbol LMJBEX'}\n"
     ]
    },
    {
     "name": "stderr",
     "output_type": "stream",
     "text": [
      "INFO:requests.packages.urllib3.connectionpool:Starting new HTTPS connection (1): api.stockfighter.io\n",
      "DEBUG:requests.packages.urllib3.connectionpool:\"POST /ob/api/venues/LMJBEX/stocks/PMII/orders HTTP/1.1\" 404 62\n"
     ]
    },
    {
     "name": "stdout",
     "output_type": "stream",
     "text": [
      "42772 0 -6\n",
      "ordering with data:  {'account': 'LMB73474977', 'orderType': 'limit', 'price': 4260, 'venue': u'LMJBEX', 'direction': 'buy', 'qty': 2, 'stock': u'PMII'}\n",
      "{u'ok': False, u'error': u'No venue exists with the symbol LMJBEX'}\n"
     ]
    },
    {
     "name": "stderr",
     "output_type": "stream",
     "text": [
      "INFO:requests.packages.urllib3.connectionpool:Starting new HTTPS connection (1): api.stockfighter.io\n",
      "DEBUG:requests.packages.urllib3.connectionpool:\"POST /ob/api/venues/LMJBEX/stocks/PMII/orders HTTP/1.1\" 404 62\n"
     ]
    },
    {
     "name": "stdout",
     "output_type": "stream",
     "text": [
      "42772 0 -6\n",
      "ordering with data:  {'account': 'LMB73474977', 'orderType': 'limit', 'price': 4260, 'venue': u'LMJBEX', 'direction': 'buy', 'qty': 2, 'stock': u'PMII'}\n",
      "{u'ok': False, u'error': u'No venue exists with the symbol LMJBEX'}\n"
     ]
    },
    {
     "name": "stderr",
     "output_type": "stream",
     "text": [
      "INFO:requests.packages.urllib3.connectionpool:Starting new HTTPS connection (1): api.stockfighter.io\n",
      "DEBUG:requests.packages.urllib3.connectionpool:\"POST /ob/api/venues/LMJBEX/stocks/PMII/orders HTTP/1.1\" 404 62\n"
     ]
    },
    {
     "name": "stdout",
     "output_type": "stream",
     "text": [
      "42772 0 -6\n",
      "ordering with data:  {'account': 'LMB73474977', 'orderType': 'limit', 'price': 4260, 'venue': u'LMJBEX', 'direction': 'buy', 'qty': 2, 'stock': u'PMII'}\n",
      "{u'ok': False, u'error': u'No venue exists with the symbol LMJBEX'}\n"
     ]
    },
    {
     "name": "stderr",
     "output_type": "stream",
     "text": [
      "INFO:requests.packages.urllib3.connectionpool:Starting new HTTPS connection (1): api.stockfighter.io\n",
      "DEBUG:requests.packages.urllib3.connectionpool:\"POST /ob/api/venues/LMJBEX/stocks/PMII/orders HTTP/1.1\" 404 62\n"
     ]
    },
    {
     "name": "stdout",
     "output_type": "stream",
     "text": [
      "42772 0 -6\n",
      "ordering with data:  {'account': 'LMB73474977', 'orderType': 'limit', 'price': 4260, 'venue': u'LMJBEX', 'direction': 'buy', 'qty': 2, 'stock': u'PMII'}\n",
      "{u'ok': False, u'error': u'No venue exists with the symbol LMJBEX'}\n"
     ]
    },
    {
     "name": "stderr",
     "output_type": "stream",
     "text": [
      "INFO:requests.packages.urllib3.connectionpool:Starting new HTTPS connection (1): api.stockfighter.io\n",
      "DEBUG:requests.packages.urllib3.connectionpool:\"POST /ob/api/venues/LMJBEX/stocks/PMII/orders HTTP/1.1\" 404 62\n"
     ]
    },
    {
     "name": "stdout",
     "output_type": "stream",
     "text": [
      "42772 0 -6\n",
      "ordering with data:  {'account': 'LMB73474977', 'orderType': 'limit', 'price': 4260, 'venue': u'LMJBEX', 'direction': 'buy', 'qty': 2, 'stock': u'PMII'}\n",
      "{u'ok': False, u'error': u'No venue exists with the symbol LMJBEX'}\n"
     ]
    },
    {
     "name": "stderr",
     "output_type": "stream",
     "text": [
      "INFO:requests.packages.urllib3.connectionpool:Starting new HTTPS connection (1): api.stockfighter.io\n",
      "DEBUG:requests.packages.urllib3.connectionpool:\"POST /ob/api/venues/LMJBEX/stocks/PMII/orders HTTP/1.1\" 404 62\n"
     ]
    },
    {
     "name": "stdout",
     "output_type": "stream",
     "text": [
      "42772 0 -6\n",
      "ordering with data:  {'account': 'LMB73474977', 'orderType': 'limit', 'price': 4260, 'venue': u'LMJBEX', 'direction': 'buy', 'qty': 2, 'stock': u'PMII'}\n",
      "{u'ok': False, u'error': u'No venue exists with the symbol LMJBEX'}\n"
     ]
    },
    {
     "name": "stderr",
     "output_type": "stream",
     "text": [
      "INFO:requests.packages.urllib3.connectionpool:Starting new HTTPS connection (1): api.stockfighter.io\n",
      "DEBUG:requests.packages.urllib3.connectionpool:\"POST /ob/api/venues/LMJBEX/stocks/PMII/orders HTTP/1.1\" 404 62\n"
     ]
    },
    {
     "name": "stdout",
     "output_type": "stream",
     "text": [
      "42772 0 -6\n",
      "ordering with data:  {'account': 'LMB73474977', 'orderType': 'limit', 'price': 4260, 'venue': u'LMJBEX', 'direction': 'buy', 'qty': 2, 'stock': u'PMII'}\n",
      "{u'ok': False, u'error': u'No venue exists with the symbol LMJBEX'}\n"
     ]
    },
    {
     "name": "stderr",
     "output_type": "stream",
     "text": [
      "INFO:requests.packages.urllib3.connectionpool:Starting new HTTPS connection (1): api.stockfighter.io\n",
      "DEBUG:requests.packages.urllib3.connectionpool:\"POST /ob/api/venues/LMJBEX/stocks/PMII/orders HTTP/1.1\" 404 62\n"
     ]
    },
    {
     "name": "stdout",
     "output_type": "stream",
     "text": [
      "42772 0 -6\n",
      "ordering with data:  {'account': 'LMB73474977', 'orderType': 'limit', 'price': 4260, 'venue': u'LMJBEX', 'direction': 'buy', 'qty': 2, 'stock': u'PMII'}\n",
      "{u'ok': False, u'error': u'No venue exists with the symbol LMJBEX'}\n"
     ]
    },
    {
     "name": "stderr",
     "output_type": "stream",
     "text": [
      "INFO:requests.packages.urllib3.connectionpool:Starting new HTTPS connection (1): api.stockfighter.io\n",
      "DEBUG:requests.packages.urllib3.connectionpool:\"POST /ob/api/venues/LMJBEX/stocks/PMII/orders HTTP/1.1\" 404 62\n"
     ]
    },
    {
     "name": "stdout",
     "output_type": "stream",
     "text": [
      "42772 0 -6\n",
      "ordering with data:  {'account': 'LMB73474977', 'orderType': 'limit', 'price': 4260, 'venue': u'LMJBEX', 'direction': 'buy', 'qty': 2, 'stock': u'PMII'}\n",
      "{u'ok': False, u'error': u'No venue exists with the symbol LMJBEX'}\n"
     ]
    },
    {
     "name": "stderr",
     "output_type": "stream",
     "text": [
      "INFO:requests.packages.urllib3.connectionpool:Starting new HTTPS connection (1): api.stockfighter.io\n",
      "DEBUG:requests.packages.urllib3.connectionpool:\"POST /ob/api/venues/LMJBEX/stocks/PMII/orders HTTP/1.1\" 404 62\n"
     ]
    },
    {
     "name": "stdout",
     "output_type": "stream",
     "text": [
      "42772 0 -6\n",
      "ordering with data:  {'account': 'LMB73474977', 'orderType': 'limit', 'price': 4260, 'venue': u'LMJBEX', 'direction': 'buy', 'qty': 2, 'stock': u'PMII'}\n",
      "{u'ok': False, u'error': u'No venue exists with the symbol LMJBEX'}\n"
     ]
    },
    {
     "name": "stderr",
     "output_type": "stream",
     "text": [
      "INFO:requests.packages.urllib3.connectionpool:Starting new HTTPS connection (1): api.stockfighter.io\n",
      "DEBUG:requests.packages.urllib3.connectionpool:\"POST /ob/api/venues/LMJBEX/stocks/PMII/orders HTTP/1.1\" 404 62\n"
     ]
    },
    {
     "name": "stdout",
     "output_type": "stream",
     "text": [
      "42772 0 -6\n",
      "ordering with data:  {'account': 'LMB73474977', 'orderType': 'limit', 'price': 4260, 'venue': u'LMJBEX', 'direction': 'buy', 'qty': 2, 'stock': u'PMII'}\n",
      "{u'ok': False, u'error': u'No venue exists with the symbol LMJBEX'}\n"
     ]
    },
    {
     "name": "stderr",
     "output_type": "stream",
     "text": [
      "INFO:requests.packages.urllib3.connectionpool:Starting new HTTPS connection (1): api.stockfighter.io\n",
      "DEBUG:requests.packages.urllib3.connectionpool:\"POST /ob/api/venues/LMJBEX/stocks/PMII/orders HTTP/1.1\" 404 62\n"
     ]
    },
    {
     "name": "stdout",
     "output_type": "stream",
     "text": [
      "42772 0 -6\n",
      "ordering with data:  {'account': 'LMB73474977', 'orderType': 'limit', 'price': 4260, 'venue': u'LMJBEX', 'direction': 'buy', 'qty': 2, 'stock': u'PMII'}\n",
      "{u'ok': False, u'error': u'No venue exists with the symbol LMJBEX'}\n"
     ]
    },
    {
     "name": "stderr",
     "output_type": "stream",
     "text": [
      "INFO:requests.packages.urllib3.connectionpool:Starting new HTTPS connection (1): api.stockfighter.io\n",
      "DEBUG:requests.packages.urllib3.connectionpool:\"POST /ob/api/venues/LMJBEX/stocks/PMII/orders HTTP/1.1\" 404 62\n"
     ]
    },
    {
     "name": "stdout",
     "output_type": "stream",
     "text": [
      "42772 0 -6\n",
      "ordering with data:  {'account': 'LMB73474977', 'orderType': 'limit', 'price': 4260, 'venue': u'LMJBEX', 'direction': 'buy', 'qty': 2, 'stock': u'PMII'}\n",
      "{u'ok': False, u'error': u'No venue exists with the symbol LMJBEX'}\n"
     ]
    },
    {
     "name": "stderr",
     "output_type": "stream",
     "text": [
      "INFO:requests.packages.urllib3.connectionpool:Starting new HTTPS connection (1): api.stockfighter.io\n",
      "DEBUG:requests.packages.urllib3.connectionpool:\"POST /ob/api/venues/LMJBEX/stocks/PMII/orders HTTP/1.1\" 404 62\n"
     ]
    },
    {
     "name": "stdout",
     "output_type": "stream",
     "text": [
      "42772 0 -6\n",
      "ordering with data:  {'account': 'LMB73474977', 'orderType': 'limit', 'price': 4260, 'venue': u'LMJBEX', 'direction': 'buy', 'qty': 2, 'stock': u'PMII'}\n",
      "{u'ok': False, u'error': u'No venue exists with the symbol LMJBEX'}\n"
     ]
    },
    {
     "name": "stderr",
     "output_type": "stream",
     "text": [
      "INFO:requests.packages.urllib3.connectionpool:Starting new HTTPS connection (1): api.stockfighter.io\n",
      "DEBUG:requests.packages.urllib3.connectionpool:\"POST /ob/api/venues/LMJBEX/stocks/PMII/orders HTTP/1.1\" 404 62\n"
     ]
    },
    {
     "name": "stdout",
     "output_type": "stream",
     "text": [
      "42772 0 -6\n",
      "ordering with data:  {'account': 'LMB73474977', 'orderType': 'limit', 'price': 4260, 'venue': u'LMJBEX', 'direction': 'buy', 'qty': 2, 'stock': u'PMII'}\n",
      "{u'ok': False, u'error': u'No venue exists with the symbol LMJBEX'}\n"
     ]
    },
    {
     "name": "stderr",
     "output_type": "stream",
     "text": [
      "INFO:requests.packages.urllib3.connectionpool:Starting new HTTPS connection (1): api.stockfighter.io\n",
      "DEBUG:requests.packages.urllib3.connectionpool:\"POST /ob/api/venues/LMJBEX/stocks/PMII/orders HTTP/1.1\" 404 62\n"
     ]
    },
    {
     "name": "stdout",
     "output_type": "stream",
     "text": [
      "42772 0 -6\n",
      "ordering with data:  {'account': 'LMB73474977', 'orderType': 'limit', 'price': 4281, 'venue': u'LMJBEX', 'direction': 'buy', 'qty': 2, 'stock': u'PMII'}\n",
      "{u'ok': False, u'error': u'No venue exists with the symbol LMJBEX'}\n"
     ]
    },
    {
     "name": "stderr",
     "output_type": "stream",
     "text": [
      "INFO:requests.packages.urllib3.connectionpool:Starting new HTTPS connection (1): api.stockfighter.io\n",
      "DEBUG:requests.packages.urllib3.connectionpool:\"POST /ob/api/venues/LMJBEX/stocks/PMII/orders HTTP/1.1\" 404 62\n"
     ]
    },
    {
     "name": "stdout",
     "output_type": "stream",
     "text": [
      "42772 0 -6\n",
      "ordering with data:  {'account': 'LMB73474977', 'orderType': 'limit', 'price': 4302, 'venue': u'LMJBEX', 'direction': 'buy', 'qty': 2, 'stock': u'PMII'}\n",
      "{u'ok': False, u'error': u'No venue exists with the symbol LMJBEX'}\n"
     ]
    },
    {
     "name": "stderr",
     "output_type": "stream",
     "text": [
      "INFO:requests.packages.urllib3.connectionpool:Starting new HTTPS connection (1): api.stockfighter.io\n",
      "DEBUG:requests.packages.urllib3.connectionpool:\"POST /ob/api/venues/LMJBEX/stocks/PMII/orders HTTP/1.1\" 404 62\n"
     ]
    },
    {
     "name": "stdout",
     "output_type": "stream",
     "text": [
      "42772 0 -6\n",
      "42772 0 -6\n",
      "42772 0 -6\n",
      "42772 0 -6\n",
      "42772 0 -6\n",
      "42772 0 -6\n",
      "42772 0 -6\n",
      "42772 0 -6\n",
      "42772 0 -6\n",
      "42772 0 -6\n",
      "ordering with data:  {'account': 'LMB73474977', 'orderType': 'limit', 'price': 4182, 'venue': u'LMJBEX', 'direction': 'buy', 'qty': 16, 'stock': u'PMII'}\n",
      "{u'ok': False, u'error': u'No venue exists with the symbol LMJBEX'}\n"
     ]
    },
    {
     "name": "stderr",
     "output_type": "stream",
     "text": [
      "INFO:requests.packages.urllib3.connectionpool:Starting new HTTPS connection (1): api.stockfighter.io\n",
      "DEBUG:requests.packages.urllib3.connectionpool:\"POST /ob/api/venues/LMJBEX/stocks/PMII/orders HTTP/1.1\" 404 62\n"
     ]
    },
    {
     "name": "stdout",
     "output_type": "stream",
     "text": [
      "42772 0 -6\n",
      "ordering with data:  {'account': 'LMB73474977', 'orderType': 'limit', 'price': 4010, 'venue': u'LMJBEX', 'direction': 'buy', 'qty': 80, 'stock': u'PMII'}\n",
      "{u'ok': False, u'error': u'No venue exists with the symbol LMJBEX'}\n"
     ]
    },
    {
     "name": "stderr",
     "output_type": "stream",
     "text": [
      "INFO:requests.packages.urllib3.connectionpool:Starting new HTTPS connection (1): api.stockfighter.io\n",
      "DEBUG:requests.packages.urllib3.connectionpool:\"POST /ob/api/venues/LMJBEX/stocks/PMII/orders HTTP/1.1\" 404 62\n"
     ]
    },
    {
     "name": "stdout",
     "output_type": "stream",
     "text": [
      "42772 0 -6\n",
      "ordering with data:  {'account': 'LMB73474977', 'orderType': 'limit', 'price': 4182, 'venue': u'LMJBEX', 'direction': 'buy', 'qty': 16, 'stock': u'PMII'}\n",
      "{u'ok': False, u'error': u'No venue exists with the symbol LMJBEX'}\n"
     ]
    },
    {
     "name": "stderr",
     "output_type": "stream",
     "text": [
      "INFO:requests.packages.urllib3.connectionpool:Starting new HTTPS connection (1): api.stockfighter.io\n",
      "DEBUG:requests.packages.urllib3.connectionpool:\"POST /ob/api/venues/LMJBEX/stocks/PMII/orders HTTP/1.1\" 404 62\n"
     ]
    },
    {
     "name": "stdout",
     "output_type": "stream",
     "text": [
      "42772 0 -6\n",
      "ordering with data:  {'account': 'LMB73474977', 'orderType': 'limit', 'price': 4182, 'venue': u'LMJBEX', 'direction': 'buy', 'qty': 16, 'stock': u'PMII'}\n",
      "{u'ok': False, u'error': u'No venue exists with the symbol LMJBEX'}\n"
     ]
    },
    {
     "name": "stderr",
     "output_type": "stream",
     "text": [
      "INFO:requests.packages.urllib3.connectionpool:Starting new HTTPS connection (1): api.stockfighter.io\n",
      "DEBUG:requests.packages.urllib3.connectionpool:\"POST /ob/api/venues/LMJBEX/stocks/PMII/orders HTTP/1.1\" 404 62\n"
     ]
    },
    {
     "name": "stdout",
     "output_type": "stream",
     "text": [
      "42772 0 -6\n",
      "42772 0 -6\n",
      "42772 0 -6\n",
      "ordering with data:  {'account': 'LMB73474977', 'orderType': 'limit', 'price': 4286, 'venue': u'LMJBEX', 'direction': 'buy', 'qty': 2, 'stock': u'PMII'}\n",
      "{u'ok': False, u'error': u'No venue exists with the symbol LMJBEX'}\n"
     ]
    },
    {
     "name": "stderr",
     "output_type": "stream",
     "text": [
      "INFO:requests.packages.urllib3.connectionpool:Starting new HTTPS connection (1): api.stockfighter.io\n",
      "DEBUG:requests.packages.urllib3.connectionpool:\"POST /ob/api/venues/LMJBEX/stocks/PMII/orders HTTP/1.1\" 404 62\n"
     ]
    },
    {
     "name": "stdout",
     "output_type": "stream",
     "text": [
      "42772 0 -6\n",
      "ordering with data:  {'account': 'LMB73474977', 'orderType': 'limit', 'price': 4265, 'venue': u'LMJBEX', 'direction': 'buy', 'qty': 2, 'stock': u'PMII'}\n",
      "{u'ok': False, u'error': u'No venue exists with the symbol LMJBEX'}\n"
     ]
    },
    {
     "name": "stderr",
     "output_type": "stream",
     "text": [
      "INFO:requests.packages.urllib3.connectionpool:Starting new HTTPS connection (1): api.stockfighter.io\n",
      "DEBUG:requests.packages.urllib3.connectionpool:\"POST /ob/api/venues/LMJBEX/stocks/PMII/orders HTTP/1.1\" 404 62\n"
     ]
    },
    {
     "name": "stdout",
     "output_type": "stream",
     "text": [
      "42772 0 -6\n",
      "ordering with data:  {'account': 'LMB73474977', 'orderType': 'limit', 'price': 4244, 'venue': u'LMJBEX', 'direction': 'buy', 'qty': 2, 'stock': u'PMII'}\n",
      "{u'ok': False, u'error': u'No venue exists with the symbol LMJBEX'}\n"
     ]
    },
    {
     "name": "stderr",
     "output_type": "stream",
     "text": [
      "INFO:requests.packages.urllib3.connectionpool:Starting new HTTPS connection (1): api.stockfighter.io\n",
      "DEBUG:requests.packages.urllib3.connectionpool:\"POST /ob/api/venues/LMJBEX/stocks/PMII/orders HTTP/1.1\" 404 62\n"
     ]
    },
    {
     "name": "stdout",
     "output_type": "stream",
     "text": [
      "42772 0 -6\n",
      "ordering with data:  {'account': 'LMB73474977', 'orderType': 'limit', 'price': 4244, 'venue': u'LMJBEX', 'direction': 'buy', 'qty': 2, 'stock': u'PMII'}\n",
      "{u'ok': False, u'error': u'No venue exists with the symbol LMJBEX'}\n"
     ]
    },
    {
     "name": "stderr",
     "output_type": "stream",
     "text": [
      "INFO:requests.packages.urllib3.connectionpool:Starting new HTTPS connection (1): api.stockfighter.io\n",
      "DEBUG:requests.packages.urllib3.connectionpool:\"POST /ob/api/venues/LMJBEX/stocks/PMII/orders HTTP/1.1\" 404 62\n"
     ]
    },
    {
     "name": "stdout",
     "output_type": "stream",
     "text": [
      "42772 0 -6\n",
      "ordering with data:  {'account': 'LMB73474977', 'orderType': 'limit', 'price': 4244, 'venue': u'LMJBEX', 'direction': 'buy', 'qty': 2, 'stock': u'PMII'}\n",
      "{u'ok': False, u'error': u'No venue exists with the symbol LMJBEX'}\n"
     ]
    },
    {
     "name": "stderr",
     "output_type": "stream",
     "text": [
      "INFO:requests.packages.urllib3.connectionpool:Starting new HTTPS connection (1): api.stockfighter.io\n",
      "DEBUG:requests.packages.urllib3.connectionpool:\"POST /ob/api/venues/LMJBEX/stocks/PMII/orders HTTP/1.1\" 404 62\n"
     ]
    },
    {
     "name": "stdout",
     "output_type": "stream",
     "text": [
      "42772 0 -6\n",
      "ordering with data:  {'account': 'LMB73474977', 'orderType': 'limit', 'price': 4244, 'venue': u'LMJBEX', 'direction': 'buy', 'qty': 2, 'stock': u'PMII'}\n",
      "{u'ok': False, u'error': u'No venue exists with the symbol LMJBEX'}\n"
     ]
    },
    {
     "name": "stderr",
     "output_type": "stream",
     "text": [
      "INFO:requests.packages.urllib3.connectionpool:Starting new HTTPS connection (1): api.stockfighter.io\n",
      "DEBUG:requests.packages.urllib3.connectionpool:\"POST /ob/api/venues/LMJBEX/stocks/PMII/orders HTTP/1.1\" 404 62\n"
     ]
    },
    {
     "name": "stdout",
     "output_type": "stream",
     "text": [
      "42772 0 -6\n",
      "ordering with data:  {'account': 'LMB73474977', 'orderType': 'limit', 'price': 4244, 'venue': u'LMJBEX', 'direction': 'buy', 'qty': 2, 'stock': u'PMII'}\n",
      "{u'ok': False, u'error': u'No venue exists with the symbol LMJBEX'}\n"
     ]
    },
    {
     "name": "stderr",
     "output_type": "stream",
     "text": [
      "INFO:requests.packages.urllib3.connectionpool:Starting new HTTPS connection (1): api.stockfighter.io\n",
      "DEBUG:requests.packages.urllib3.connectionpool:\"POST /ob/api/venues/LMJBEX/stocks/PMII/orders HTTP/1.1\" 404 62\n"
     ]
    },
    {
     "name": "stdout",
     "output_type": "stream",
     "text": [
      "42772 0 -6\n",
      "42772 0 -6\n",
      "42772 0 -6\n",
      "42772 0 -6\n",
      "42772 0 -6\n",
      "42772 0 -6\n",
      "42772 0 -6\n",
      "42772 0 -6\n",
      "42772 0 -6\n",
      "42772 0 -6\n",
      "42772 0 -6\n",
      "42772 0 -6\n",
      "42772 0 -6\n",
      "42772 0 -6\n",
      "42772 0 -6\n",
      "42772 0 -6\n",
      "42772 0 -6\n",
      "42772 0 -6\n",
      "42772 0 -6\n",
      "42772 0 -6\n",
      "42772 0 -6\n",
      "42772 0 -6\n",
      "42772 0 -6\n",
      "42772 0 -6\n",
      "42772 0 -6\n",
      "42772 0 -6\n",
      "42772 0 -6\n",
      "42772 0 -6\n",
      "42772 0 -6\n",
      "ordering with data:  {'account': 'LMB73474977', 'orderType': 'limit', 'price': 4339, 'venue': u'LMJBEX', 'direction': 'buy', 'qty': 1, 'stock': u'PMII'}\n",
      "{u'ok': False, u'error': u'No venue exists with the symbol LMJBEX'}\n"
     ]
    },
    {
     "name": "stderr",
     "output_type": "stream",
     "text": [
      "INFO:requests.packages.urllib3.connectionpool:Starting new HTTPS connection (1): api.stockfighter.io\n",
      "DEBUG:requests.packages.urllib3.connectionpool:\"POST /ob/api/venues/LMJBEX/stocks/PMII/orders HTTP/1.1\" 404 62\n"
     ]
    },
    {
     "name": "stdout",
     "output_type": "stream",
     "text": [
      "42772 0 -6\n",
      "ordering with data:  {'account': 'LMB73474977', 'orderType': 'limit', 'price': 4318, 'venue': u'LMJBEX', 'direction': 'buy', 'qty': 1, 'stock': u'PMII'}\n",
      "{u'ok': False, u'error': u'No venue exists with the symbol LMJBEX'}\n"
     ]
    },
    {
     "name": "stderr",
     "output_type": "stream",
     "text": [
      "INFO:requests.packages.urllib3.connectionpool:Starting new HTTPS connection (1): api.stockfighter.io\n",
      "DEBUG:requests.packages.urllib3.connectionpool:\"POST /ob/api/venues/LMJBEX/stocks/PMII/orders HTTP/1.1\" 404 62\n"
     ]
    },
    {
     "name": "stdout",
     "output_type": "stream",
     "text": [
      "42772 0 -6\n",
      "ordering with data:  {'account': 'LMB73474977', 'orderType': 'limit', 'price': 4297, 'venue': u'LMJBEX', 'direction': 'buy', 'qty': 1, 'stock': u'PMII'}\n",
      "{u'ok': False, u'error': u'No venue exists with the symbol LMJBEX'}\n"
     ]
    },
    {
     "name": "stderr",
     "output_type": "stream",
     "text": [
      "INFO:requests.packages.urllib3.connectionpool:Starting new HTTPS connection (1): api.stockfighter.io\n",
      "DEBUG:requests.packages.urllib3.connectionpool:\"POST /ob/api/venues/LMJBEX/stocks/PMII/orders HTTP/1.1\" 404 62\n"
     ]
    },
    {
     "name": "stdout",
     "output_type": "stream",
     "text": [
      "42772 0 -6\n",
      "ordering with data:  {'account': 'LMB73474977', 'orderType': 'limit', 'price': 4297, 'venue': u'LMJBEX', 'direction': 'buy', 'qty': 1, 'stock': u'PMII'}\n",
      "{u'ok': False, u'error': u'No venue exists with the symbol LMJBEX'}\n"
     ]
    },
    {
     "name": "stderr",
     "output_type": "stream",
     "text": [
      "INFO:requests.packages.urllib3.connectionpool:Starting new HTTPS connection (1): api.stockfighter.io\n",
      "DEBUG:requests.packages.urllib3.connectionpool:\"POST /ob/api/venues/LMJBEX/stocks/PMII/orders HTTP/1.1\" 404 62\n"
     ]
    },
    {
     "name": "stdout",
     "output_type": "stream",
     "text": [
      "42772 0 -6\n",
      "ordering with data:  {'account': 'LMB73474977', 'orderType': 'limit', 'price': 4297, 'venue': u'LMJBEX', 'direction': 'buy', 'qty': 1, 'stock': u'PMII'}\n",
      "{u'ok': False, u'error': u'No venue exists with the symbol LMJBEX'}\n"
     ]
    },
    {
     "name": "stderr",
     "output_type": "stream",
     "text": [
      "INFO:requests.packages.urllib3.connectionpool:Starting new HTTPS connection (1): api.stockfighter.io\n",
      "DEBUG:requests.packages.urllib3.connectionpool:\"POST /ob/api/venues/LMJBEX/stocks/PMII/orders HTTP/1.1\" 404 62\n"
     ]
    },
    {
     "name": "stdout",
     "output_type": "stream",
     "text": [
      "42772 0 -6\n",
      "ordering with data:  {'account': 'LMB73474977', 'orderType': 'limit', 'price': 4297, 'venue': u'LMJBEX', 'direction': 'buy', 'qty': 1, 'stock': u'PMII'}\n",
      "{u'ok': False, u'error': u'No venue exists with the symbol LMJBEX'}\n"
     ]
    },
    {
     "name": "stderr",
     "output_type": "stream",
     "text": [
      "INFO:requests.packages.urllib3.connectionpool:Starting new HTTPS connection (1): api.stockfighter.io\n",
      "DEBUG:requests.packages.urllib3.connectionpool:\"POST /ob/api/venues/LMJBEX/stocks/PMII/orders HTTP/1.1\" 404 62\n"
     ]
    },
    {
     "name": "stdout",
     "output_type": "stream",
     "text": [
      "42772 0 -6\n",
      "ordering with data:  {'account': 'LMB73474977', 'orderType': 'limit', 'price': 4297, 'venue': u'LMJBEX', 'direction': 'buy', 'qty': 1, 'stock': u'PMII'}\n",
      "{u'ok': False, u'error': u'No venue exists with the symbol LMJBEX'}\n"
     ]
    },
    {
     "name": "stderr",
     "output_type": "stream",
     "text": [
      "INFO:requests.packages.urllib3.connectionpool:Starting new HTTPS connection (1): api.stockfighter.io\n",
      "DEBUG:requests.packages.urllib3.connectionpool:\"POST /ob/api/venues/LMJBEX/stocks/PMII/orders HTTP/1.1\" 404 62\n"
     ]
    },
    {
     "name": "stdout",
     "output_type": "stream",
     "text": [
      "42772 0 -6\n",
      "ordering with data:  {'account': 'LMB73474977', 'orderType': 'limit', 'price': 4297, 'venue': u'LMJBEX', 'direction': 'buy', 'qty': 1, 'stock': u'PMII'}\n",
      "{u'ok': False, u'error': u'No venue exists with the symbol LMJBEX'}\n"
     ]
    },
    {
     "name": "stderr",
     "output_type": "stream",
     "text": [
      "INFO:requests.packages.urllib3.connectionpool:Starting new HTTPS connection (1): api.stockfighter.io\n",
      "DEBUG:requests.packages.urllib3.connectionpool:\"POST /ob/api/venues/LMJBEX/stocks/PMII/orders HTTP/1.1\" 404 62\n"
     ]
    },
    {
     "name": "stdout",
     "output_type": "stream",
     "text": [
      "42772 0 -6\n",
      "ordering with data:  {'account': 'LMB73474977', 'orderType': 'limit', 'price': 4297, 'venue': u'LMJBEX', 'direction': 'buy', 'qty': 1, 'stock': u'PMII'}\n",
      "{u'ok': False, u'error': u'No venue exists with the symbol LMJBEX'}\n"
     ]
    },
    {
     "name": "stderr",
     "output_type": "stream",
     "text": [
      "INFO:requests.packages.urllib3.connectionpool:Starting new HTTPS connection (1): api.stockfighter.io\n",
      "DEBUG:requests.packages.urllib3.connectionpool:\"POST /ob/api/venues/LMJBEX/stocks/PMII/orders HTTP/1.1\" 404 62\n"
     ]
    },
    {
     "name": "stdout",
     "output_type": "stream",
     "text": [
      "42772 0 -6\n",
      "ordering with data:  {'account': 'LMB73474977', 'orderType': 'limit', 'price': 4297, 'venue': u'LMJBEX', 'direction': 'buy', 'qty': 1, 'stock': u'PMII'}\n",
      "{u'ok': False, u'error': u'No venue exists with the symbol LMJBEX'}\n"
     ]
    },
    {
     "name": "stderr",
     "output_type": "stream",
     "text": [
      "INFO:requests.packages.urllib3.connectionpool:Starting new HTTPS connection (1): api.stockfighter.io\n",
      "DEBUG:requests.packages.urllib3.connectionpool:\"POST /ob/api/venues/LMJBEX/stocks/PMII/orders HTTP/1.1\" 404 62\n"
     ]
    },
    {
     "name": "stdout",
     "output_type": "stream",
     "text": [
      "42772 0 -6\n",
      "ordering with data:  {'account': 'LMB73474977', 'orderType': 'limit', 'price': 4297, 'venue': u'LMJBEX', 'direction': 'buy', 'qty': 1, 'stock': u'PMII'}\n",
      "{u'ok': False, u'error': u'No venue exists with the symbol LMJBEX'}\n"
     ]
    },
    {
     "name": "stderr",
     "output_type": "stream",
     "text": [
      "INFO:requests.packages.urllib3.connectionpool:Starting new HTTPS connection (1): api.stockfighter.io\n",
      "DEBUG:requests.packages.urllib3.connectionpool:\"POST /ob/api/venues/LMJBEX/stocks/PMII/orders HTTP/1.1\" 404 62\n"
     ]
    },
    {
     "name": "stdout",
     "output_type": "stream",
     "text": [
      "42772 0 -6\n",
      "ordering with data:  {'account': 'LMB73474977', 'orderType': 'limit', 'price': 4297, 'venue': u'LMJBEX', 'direction': 'buy', 'qty': 1, 'stock': u'PMII'}\n",
      "{u'ok': False, u'error': u'No venue exists with the symbol LMJBEX'}\n"
     ]
    },
    {
     "name": "stderr",
     "output_type": "stream",
     "text": [
      "INFO:requests.packages.urllib3.connectionpool:Starting new HTTPS connection (1): api.stockfighter.io\n",
      "DEBUG:requests.packages.urllib3.connectionpool:\"POST /ob/api/venues/LMJBEX/stocks/PMII/orders HTTP/1.1\" 404 62\n"
     ]
    },
    {
     "name": "stdout",
     "output_type": "stream",
     "text": [
      "42772 0 -6\n",
      "ordering with data:  {'account': 'LMB73474977', 'orderType': 'limit', 'price': 4297, 'venue': u'LMJBEX', 'direction': 'buy', 'qty': 1, 'stock': u'PMII'}\n",
      "{u'ok': False, u'error': u'No venue exists with the symbol LMJBEX'}\n"
     ]
    },
    {
     "name": "stderr",
     "output_type": "stream",
     "text": [
      "INFO:requests.packages.urllib3.connectionpool:Starting new HTTPS connection (1): api.stockfighter.io\n",
      "DEBUG:requests.packages.urllib3.connectionpool:\"POST /ob/api/venues/LMJBEX/stocks/PMII/orders HTTP/1.1\" 404 62\n"
     ]
    },
    {
     "name": "stdout",
     "output_type": "stream",
     "text": [
      "42772 0 -6\n",
      "ordering with data:  {'account': 'LMB73474977', 'orderType': 'limit', 'price': 4297, 'venue': u'LMJBEX', 'direction': 'buy', 'qty': 1, 'stock': u'PMII'}\n",
      "{u'ok': False, u'error': u'No venue exists with the symbol LMJBEX'}\n"
     ]
    },
    {
     "name": "stderr",
     "output_type": "stream",
     "text": [
      "INFO:requests.packages.urllib3.connectionpool:Starting new HTTPS connection (1): api.stockfighter.io\n",
      "DEBUG:requests.packages.urllib3.connectionpool:\"POST /ob/api/venues/LMJBEX/stocks/PMII/orders HTTP/1.1\" 404 62\n"
     ]
    },
    {
     "name": "stdout",
     "output_type": "stream",
     "text": [
      "42772 0 -6\n",
      "ordering with data:  {'account': 'LMB73474977', 'orderType': 'limit', 'price': 4297, 'venue': u'LMJBEX', 'direction': 'buy', 'qty': 1, 'stock': u'PMII'}\n",
      "{u'ok': False, u'error': u'No venue exists with the symbol LMJBEX'}\n"
     ]
    },
    {
     "name": "stderr",
     "output_type": "stream",
     "text": [
      "INFO:requests.packages.urllib3.connectionpool:Starting new HTTPS connection (1): api.stockfighter.io\n",
      "DEBUG:requests.packages.urllib3.connectionpool:\"POST /ob/api/venues/LMJBEX/stocks/PMII/orders HTTP/1.1\" 404 62\n"
     ]
    },
    {
     "name": "stdout",
     "output_type": "stream",
     "text": [
      "42772 0 -6\n",
      "ordering with data:  {'account': 'LMB73474977', 'orderType': 'limit', 'price': 4318, 'venue': u'LMJBEX', 'direction': 'buy', 'qty': 1, 'stock': u'PMII'}\n",
      "{u'ok': False, u'error': u'No venue exists with the symbol LMJBEX'}\n"
     ]
    },
    {
     "name": "stderr",
     "output_type": "stream",
     "text": [
      "INFO:requests.packages.urllib3.connectionpool:Starting new HTTPS connection (1): api.stockfighter.io\n",
      "DEBUG:requests.packages.urllib3.connectionpool:\"POST /ob/api/venues/LMJBEX/stocks/PMII/orders HTTP/1.1\" 404 62\n"
     ]
    },
    {
     "name": "stdout",
     "output_type": "stream",
     "text": [
      "42772 0 -6\n",
      "ordering with data:  {'account': 'LMB73474977', 'orderType': 'limit', 'price': 4339, 'venue': u'LMJBEX', 'direction': 'buy', 'qty': 1, 'stock': u'PMII'}\n",
      "{u'ok': False, u'error': u'No venue exists with the symbol LMJBEX'}\n"
     ]
    },
    {
     "name": "stderr",
     "output_type": "stream",
     "text": [
      "INFO:requests.packages.urllib3.connectionpool:Starting new HTTPS connection (1): api.stockfighter.io\n",
      "DEBUG:requests.packages.urllib3.connectionpool:\"POST /ob/api/venues/LMJBEX/stocks/PMII/orders HTTP/1.1\" 404 62\n"
     ]
    },
    {
     "name": "stdout",
     "output_type": "stream",
     "text": [
      "42772 0 -6\n",
      "42772 0 -6\n",
      "42772 0 -6\n",
      "42772 0 -6\n",
      "42772 0 -6\n",
      "ordering with data:  {'account': 'LMB73474977', 'orderType': 'limit', 'price': 4339, 'venue': u'LMJBEX', 'direction': 'buy', 'qty': 11, 'stock': u'PMII'}\n",
      "{u'ok': False, u'error': u'No venue exists with the symbol LMJBEX'}\n"
     ]
    },
    {
     "name": "stderr",
     "output_type": "stream",
     "text": [
      "INFO:requests.packages.urllib3.connectionpool:Starting new HTTPS connection (1): api.stockfighter.io\n",
      "DEBUG:requests.packages.urllib3.connectionpool:\"POST /ob/api/venues/LMJBEX/stocks/PMII/orders HTTP/1.1\" 404 62\n"
     ]
    },
    {
     "name": "stdout",
     "output_type": "stream",
     "text": [
      "42772 0 -6\n",
      "ordering with data:  {'account': 'LMB73474977', 'orderType': 'limit', 'price': 4318, 'venue': u'LMJBEX', 'direction': 'buy', 'qty': 11, 'stock': u'PMII'}\n",
      "{u'ok': False, u'error': u'No venue exists with the symbol LMJBEX'}\n"
     ]
    },
    {
     "name": "stderr",
     "output_type": "stream",
     "text": [
      "INFO:requests.packages.urllib3.connectionpool:Starting new HTTPS connection (1): api.stockfighter.io\n",
      "DEBUG:requests.packages.urllib3.connectionpool:\"POST /ob/api/venues/LMJBEX/stocks/PMII/orders HTTP/1.1\" 404 62\n"
     ]
    },
    {
     "name": "stdout",
     "output_type": "stream",
     "text": [
      "42772 0 -6\n",
      "ordering with data:  {'account': 'LMB73474977', 'orderType': 'limit', 'price': 4297, 'venue': u'LMJBEX', 'direction': 'buy', 'qty': 11, 'stock': u'PMII'}\n",
      "{u'ok': False, u'error': u'No venue exists with the symbol LMJBEX'}\n"
     ]
    },
    {
     "name": "stderr",
     "output_type": "stream",
     "text": [
      "INFO:requests.packages.urllib3.connectionpool:Starting new HTTPS connection (1): api.stockfighter.io\n",
      "DEBUG:requests.packages.urllib3.connectionpool:\"POST /ob/api/venues/LMJBEX/stocks/PMII/orders HTTP/1.1\" 404 62\n"
     ]
    },
    {
     "name": "stdout",
     "output_type": "stream",
     "text": [
      "42772 0 -6\n",
      "ordering with data:  {'account': 'LMB73474977', 'orderType': 'limit', 'price': 4318, 'venue': u'LMJBEX', 'direction': 'buy', 'qty': 2, 'stock': u'PMII'}\n",
      "{u'ok': False, u'error': u'No venue exists with the symbol LMJBEX'}\n"
     ]
    },
    {
     "name": "stderr",
     "output_type": "stream",
     "text": [
      "INFO:requests.packages.urllib3.connectionpool:Starting new HTTPS connection (1): api.stockfighter.io\n",
      "DEBUG:requests.packages.urllib3.connectionpool:\"POST /ob/api/venues/LMJBEX/stocks/PMII/orders HTTP/1.1\" 404 62\n"
     ]
    },
    {
     "name": "stdout",
     "output_type": "stream",
     "text": [
      "42772 0 -6\n",
      "ordering with data:  {'account': 'LMB73474977', 'orderType': 'limit', 'price': 4318, 'venue': u'LMJBEX', 'direction': 'buy', 'qty': 2, 'stock': u'PMII'}\n",
      "{u'ok': False, u'error': u'No venue exists with the symbol LMJBEX'}\n"
     ]
    },
    {
     "name": "stderr",
     "output_type": "stream",
     "text": [
      "INFO:requests.packages.urllib3.connectionpool:Starting new HTTPS connection (1): api.stockfighter.io\n",
      "DEBUG:requests.packages.urllib3.connectionpool:\"POST /ob/api/venues/LMJBEX/stocks/PMII/orders HTTP/1.1\" 404 62\n"
     ]
    },
    {
     "name": "stdout",
     "output_type": "stream",
     "text": [
      "42772 0 -6\n",
      "ordering with data:  {'account': 'LMB73474977', 'orderType': 'limit', 'price': 4318, 'venue': u'LMJBEX', 'direction': 'buy', 'qty': 2, 'stock': u'PMII'}\n",
      "{u'ok': False, u'error': u'No venue exists with the symbol LMJBEX'}\n"
     ]
    },
    {
     "name": "stderr",
     "output_type": "stream",
     "text": [
      "INFO:requests.packages.urllib3.connectionpool:Starting new HTTPS connection (1): api.stockfighter.io\n",
      "DEBUG:requests.packages.urllib3.connectionpool:\"POST /ob/api/venues/LMJBEX/stocks/PMII/orders HTTP/1.1\" 404 62\n"
     ]
    },
    {
     "name": "stdout",
     "output_type": "stream",
     "text": [
      "42772 0 -6\n",
      "42772 0 -6\n",
      "42772 0 -6\n",
      "42772 0 -6\n",
      "42772 0 -6\n",
      "ordering with data:  {'account': 'LMB73474977', 'orderType': 'limit', 'price': 4339, 'venue': u'LMJBEX', 'direction': 'buy', 'qty': 9, 'stock': u'PMII'}\n",
      "{u'ok': False, u'error': u'No venue exists with the symbol LMJBEX'}\n"
     ]
    },
    {
     "name": "stderr",
     "output_type": "stream",
     "text": [
      "INFO:requests.packages.urllib3.connectionpool:Starting new HTTPS connection (1): api.stockfighter.io\n",
      "DEBUG:requests.packages.urllib3.connectionpool:\"POST /ob/api/venues/LMJBEX/stocks/PMII/orders HTTP/1.1\" 404 62\n"
     ]
    },
    {
     "name": "stdout",
     "output_type": "stream",
     "text": [
      "42772 0 -6\n",
      "ordering with data:  {'account': 'LMB73474977', 'orderType': 'limit', 'price': 4318, 'venue': u'LMJBEX', 'direction': 'buy', 'qty': 9, 'stock': u'PMII'}\n",
      "{u'ok': False, u'error': u'No venue exists with the symbol LMJBEX'}\n"
     ]
    },
    {
     "name": "stderr",
     "output_type": "stream",
     "text": [
      "INFO:requests.packages.urllib3.connectionpool:Starting new HTTPS connection (1): api.stockfighter.io\n",
      "DEBUG:requests.packages.urllib3.connectionpool:\"POST /ob/api/venues/LMJBEX/stocks/PMII/orders HTTP/1.1\" 404 62\n"
     ]
    },
    {
     "name": "stdout",
     "output_type": "stream",
     "text": [
      "42772 0 -6\n",
      "ordering with data:  {'account': 'LMB73474977', 'orderType': 'limit', 'price': 4297, 'venue': u'LMJBEX', 'direction': 'buy', 'qty': 9, 'stock': u'PMII'}\n",
      "{u'ok': False, u'error': u'No venue exists with the symbol LMJBEX'}\n"
     ]
    },
    {
     "name": "stderr",
     "output_type": "stream",
     "text": [
      "INFO:requests.packages.urllib3.connectionpool:Starting new HTTPS connection (1): api.stockfighter.io\n",
      "DEBUG:requests.packages.urllib3.connectionpool:\"POST /ob/api/venues/LMJBEX/stocks/PMII/orders HTTP/1.1\" 404 62\n"
     ]
    },
    {
     "name": "stdout",
     "output_type": "stream",
     "text": [
      "42772 0 -6\n",
      "ordering with data:  {'account': 'LMB73474977', 'orderType': 'limit', 'price': 4297, 'venue': u'LMJBEX', 'direction': 'buy', 'qty': 9, 'stock': u'PMII'}\n",
      "{u'ok': False, u'error': u'No venue exists with the symbol LMJBEX'}\n"
     ]
    },
    {
     "name": "stderr",
     "output_type": "stream",
     "text": [
      "INFO:requests.packages.urllib3.connectionpool:Starting new HTTPS connection (1): api.stockfighter.io\n",
      "DEBUG:requests.packages.urllib3.connectionpool:\"POST /ob/api/venues/LMJBEX/stocks/PMII/orders HTTP/1.1\" 404 62\n"
     ]
    },
    {
     "name": "stdout",
     "output_type": "stream",
     "text": [
      "42772 0 -6\n",
      "ordering with data:  {'account': 'LMB73474977', 'orderType': 'limit', 'price': 4297, 'venue': u'LMJBEX', 'direction': 'buy', 'qty': 9, 'stock': u'PMII'}\n",
      "{u'ok': False, u'error': u'No venue exists with the symbol LMJBEX'}\n"
     ]
    },
    {
     "name": "stderr",
     "output_type": "stream",
     "text": [
      "INFO:requests.packages.urllib3.connectionpool:Starting new HTTPS connection (1): api.stockfighter.io\n",
      "DEBUG:requests.packages.urllib3.connectionpool:\"POST /ob/api/venues/LMJBEX/stocks/PMII/orders HTTP/1.1\" 404 62\n"
     ]
    },
    {
     "name": "stdout",
     "output_type": "stream",
     "text": [
      "42772 0 -6\n",
      "ordering with data:  {'account': 'LMB73474977', 'orderType': 'limit', 'price': 4297, 'venue': u'LMJBEX', 'direction': 'buy', 'qty': 9, 'stock': u'PMII'}\n",
      "{u'ok': False, u'error': u'No venue exists with the symbol LMJBEX'}\n"
     ]
    },
    {
     "name": "stderr",
     "output_type": "stream",
     "text": [
      "INFO:requests.packages.urllib3.connectionpool:Starting new HTTPS connection (1): api.stockfighter.io\n",
      "DEBUG:requests.packages.urllib3.connectionpool:\"POST /ob/api/venues/LMJBEX/stocks/PMII/orders HTTP/1.1\" 404 62\n"
     ]
    },
    {
     "name": "stdout",
     "output_type": "stream",
     "text": [
      "42772 0 -6\n",
      "ordering with data:  {'account': 'LMB73474977', 'orderType': 'limit', 'price': 4339, 'venue': u'LMJBEX', 'direction': 'buy', 'qty': 7, 'stock': u'PMII'}\n",
      "{u'ok': False, u'error': u'No venue exists with the symbol LMJBEX'}\n"
     ]
    },
    {
     "name": "stderr",
     "output_type": "stream",
     "text": [
      "INFO:requests.packages.urllib3.connectionpool:Starting new HTTPS connection (1): api.stockfighter.io\n",
      "DEBUG:requests.packages.urllib3.connectionpool:\"POST /ob/api/venues/LMJBEX/stocks/PMII/orders HTTP/1.1\" 404 62\n"
     ]
    },
    {
     "name": "stdout",
     "output_type": "stream",
     "text": [
      "42772 0 -6\n",
      "ordering with data:  {'account': 'LMB73474977', 'orderType': 'limit', 'price': 4339, 'venue': u'LMJBEX', 'direction': 'buy', 'qty': 7, 'stock': u'PMII'}\n",
      "{u'ok': False, u'error': u'No venue exists with the symbol LMJBEX'}\n"
     ]
    },
    {
     "name": "stderr",
     "output_type": "stream",
     "text": [
      "INFO:requests.packages.urllib3.connectionpool:Starting new HTTPS connection (1): api.stockfighter.io\n",
      "DEBUG:requests.packages.urllib3.connectionpool:\"POST /ob/api/venues/LMJBEX/stocks/PMII/orders HTTP/1.1\" 404 62\n"
     ]
    },
    {
     "name": "stdout",
     "output_type": "stream",
     "text": [
      "42772 0 -6\n",
      "ordering with data:  {'account': 'LMB73474977', 'orderType': 'limit', 'price': 4339, 'venue': u'LMJBEX', 'direction': 'buy', 'qty': 7, 'stock': u'PMII'}\n",
      "{u'ok': False, u'error': u'No venue exists with the symbol LMJBEX'}\n"
     ]
    },
    {
     "name": "stderr",
     "output_type": "stream",
     "text": [
      "INFO:requests.packages.urllib3.connectionpool:Starting new HTTPS connection (1): api.stockfighter.io\n",
      "DEBUG:requests.packages.urllib3.connectionpool:\"POST /ob/api/venues/LMJBEX/stocks/PMII/orders HTTP/1.1\" 404 62\n"
     ]
    },
    {
     "name": "stdout",
     "output_type": "stream",
     "text": [
      "42772 0 -6\n",
      "ordering with data:  {'account': 'LMB73474977', 'orderType': 'limit', 'price': 4339, 'venue': u'LMJBEX', 'direction': 'buy', 'qty': 7, 'stock': u'PMII'}\n",
      "{u'ok': False, u'error': u'No venue exists with the symbol LMJBEX'}\n"
     ]
    },
    {
     "name": "stderr",
     "output_type": "stream",
     "text": [
      "INFO:requests.packages.urllib3.connectionpool:Starting new HTTPS connection (1): api.stockfighter.io\n",
      "DEBUG:requests.packages.urllib3.connectionpool:\"POST /ob/api/venues/LMJBEX/stocks/PMII/orders HTTP/1.1\" 404 62\n"
     ]
    },
    {
     "name": "stdout",
     "output_type": "stream",
     "text": [
      "42772 0 -6\n",
      "42772 0 -6\n",
      "42772 0 -6\n",
      "42772 0 -6\n",
      "42772 0 -6\n",
      "42772 0 -6\n",
      "42772 0 -6\n",
      "42772 0 -6\n",
      "42772 0 -6\n",
      "42772 0 -6\n",
      "42772 0 -6\n",
      "42772 0 -6\n",
      "42772 0 -6\n",
      "42772 0 -6\n",
      "42772 0 -6\n",
      "42772 0 -6\n",
      "42772 0 -6\n",
      "42772 0 -6\n",
      "42772 0 -6\n",
      "42772 0 -6\n",
      "42772 0 -6\n",
      "42772 0 -6\n",
      "ordering with data:  {'account': 'LMB73474977', 'orderType': 'limit', 'price': 4318, 'venue': u'LMJBEX', 'direction': 'buy', 'qty': 11, 'stock': u'PMII'}\n",
      "{u'ok': False, u'error': u'No venue exists with the symbol LMJBEX'}\n"
     ]
    },
    {
     "name": "stderr",
     "output_type": "stream",
     "text": [
      "INFO:requests.packages.urllib3.connectionpool:Starting new HTTPS connection (1): api.stockfighter.io\n",
      "DEBUG:requests.packages.urllib3.connectionpool:\"POST /ob/api/venues/LMJBEX/stocks/PMII/orders HTTP/1.1\" 404 62\n"
     ]
    },
    {
     "name": "stdout",
     "output_type": "stream",
     "text": [
      "42772 0 -6\n",
      "ordering with data:  {'account': 'LMB73474977', 'orderType': 'limit', 'price': 4297, 'venue': u'LMJBEX', 'direction': 'buy', 'qty': 11, 'stock': u'PMII'}\n",
      "{u'ok': False, u'error': u'No venue exists with the symbol LMJBEX'}\n"
     ]
    },
    {
     "name": "stderr",
     "output_type": "stream",
     "text": [
      "INFO:requests.packages.urllib3.connectionpool:Starting new HTTPS connection (1): api.stockfighter.io\n",
      "DEBUG:requests.packages.urllib3.connectionpool:\"POST /ob/api/venues/LMJBEX/stocks/PMII/orders HTTP/1.1\" 404 62\n"
     ]
    },
    {
     "name": "stdout",
     "output_type": "stream",
     "text": [
      "42772 0 -6\n",
      "ordering with data:  {'account': 'LMB73474977', 'orderType': 'limit', 'price': 4276, 'venue': u'LMJBEX', 'direction': 'buy', 'qty': 11, 'stock': u'PMII'}\n",
      "{u'ok': False, u'error': u'No venue exists with the symbol LMJBEX'}\n"
     ]
    },
    {
     "name": "stderr",
     "output_type": "stream",
     "text": [
      "INFO:requests.packages.urllib3.connectionpool:Starting new HTTPS connection (1): api.stockfighter.io\n",
      "DEBUG:requests.packages.urllib3.connectionpool:\"POST /ob/api/venues/LMJBEX/stocks/PMII/orders HTTP/1.1\" 404 62\n"
     ]
    },
    {
     "name": "stdout",
     "output_type": "stream",
     "text": [
      "42772 0 -6\n",
      "ordering with data:  {'account': 'LMB73474977', 'orderType': 'limit', 'price': 4276, 'venue': u'LMJBEX', 'direction': 'buy', 'qty': 11, 'stock': u'PMII'}\n",
      "{u'ok': False, u'error': u'No venue exists with the symbol LMJBEX'}\n"
     ]
    },
    {
     "name": "stderr",
     "output_type": "stream",
     "text": [
      "INFO:requests.packages.urllib3.connectionpool:Starting new HTTPS connection (1): api.stockfighter.io\n",
      "DEBUG:requests.packages.urllib3.connectionpool:\"POST /ob/api/venues/LMJBEX/stocks/PMII/orders HTTP/1.1\" 404 62\n"
     ]
    },
    {
     "name": "stdout",
     "output_type": "stream",
     "text": [
      "42772 0 -6\n",
      "ordering with data:  {'account': 'LMB73474977', 'orderType': 'limit', 'price': 4276, 'venue': u'LMJBEX', 'direction': 'buy', 'qty': 11, 'stock': u'PMII'}\n",
      "{u'ok': False, u'error': u'No venue exists with the symbol LMJBEX'}\n"
     ]
    },
    {
     "name": "stderr",
     "output_type": "stream",
     "text": [
      "INFO:requests.packages.urllib3.connectionpool:Starting new HTTPS connection (1): api.stockfighter.io\n",
      "DEBUG:requests.packages.urllib3.connectionpool:\"POST /ob/api/venues/LMJBEX/stocks/PMII/orders HTTP/1.1\" 404 62\n"
     ]
    },
    {
     "name": "stdout",
     "output_type": "stream",
     "text": [
      "42772 0 -6\n",
      "ordering with data:  {'account': 'LMB73474977', 'orderType': 'limit', 'price': 4276, 'venue': u'LMJBEX', 'direction': 'buy', 'qty': 11, 'stock': u'PMII'}\n",
      "{u'ok': False, u'error': u'No venue exists with the symbol LMJBEX'}\n"
     ]
    },
    {
     "name": "stderr",
     "output_type": "stream",
     "text": [
      "INFO:requests.packages.urllib3.connectionpool:Starting new HTTPS connection (1): api.stockfighter.io\n",
      "DEBUG:requests.packages.urllib3.connectionpool:\"POST /ob/api/venues/LMJBEX/stocks/PMII/orders HTTP/1.1\" 404 62\n"
     ]
    },
    {
     "name": "stdout",
     "output_type": "stream",
     "text": [
      "42772 0 -6\n",
      "ordering with data:  {'account': 'LMB73474977', 'orderType': 'limit', 'price': 4276, 'venue': u'LMJBEX', 'direction': 'buy', 'qty': 11, 'stock': u'PMII'}\n",
      "{u'ok': False, u'error': u'No venue exists with the symbol LMJBEX'}\n"
     ]
    },
    {
     "name": "stderr",
     "output_type": "stream",
     "text": [
      "INFO:requests.packages.urllib3.connectionpool:Starting new HTTPS connection (1): api.stockfighter.io\n",
      "DEBUG:requests.packages.urllib3.connectionpool:\"POST /ob/api/venues/LMJBEX/stocks/PMII/orders HTTP/1.1\" 404 62\n"
     ]
    },
    {
     "name": "stdout",
     "output_type": "stream",
     "text": [
      "42772 0 -6\n",
      "ordering with data:  {'account': 'LMB73474977', 'orderType': 'limit', 'price': 4276, 'venue': u'LMJBEX', 'direction': 'buy', 'qty': 11, 'stock': u'PMII'}\n",
      "{u'ok': False, u'error': u'No venue exists with the symbol LMJBEX'}\n"
     ]
    },
    {
     "name": "stderr",
     "output_type": "stream",
     "text": [
      "INFO:requests.packages.urllib3.connectionpool:Starting new HTTPS connection (1): api.stockfighter.io\n",
      "DEBUG:requests.packages.urllib3.connectionpool:\"POST /ob/api/venues/LMJBEX/stocks/PMII/orders HTTP/1.1\" 404 62\n"
     ]
    },
    {
     "name": "stdout",
     "output_type": "stream",
     "text": [
      "42772 0 -6\n",
      "ordering with data:  {'account': 'LMB73474977', 'orderType': 'limit', 'price': 4130, 'venue': u'LMJBEX', 'direction': 'buy', 'qty': 28, 'stock': u'PMII'}\n",
      "{u'ok': False, u'error': u'No venue exists with the symbol LMJBEX'}\n"
     ]
    },
    {
     "name": "stderr",
     "output_type": "stream",
     "text": [
      "INFO:requests.packages.urllib3.connectionpool:Starting new HTTPS connection (1): api.stockfighter.io\n",
      "DEBUG:requests.packages.urllib3.connectionpool:\"POST /ob/api/venues/LMJBEX/stocks/PMII/orders HTTP/1.1\" 404 62\n"
     ]
    },
    {
     "name": "stdout",
     "output_type": "stream",
     "text": [
      "42772 0 -6\n",
      "ordering with data:  {'account': 'LMB73474977', 'orderType': 'limit', 'price': 4130, 'venue': u'LMJBEX', 'direction': 'buy', 'qty': 28, 'stock': u'PMII'}\n",
      "{u'ok': False, u'error': u'No venue exists with the symbol LMJBEX'}\n"
     ]
    },
    {
     "name": "stderr",
     "output_type": "stream",
     "text": [
      "INFO:requests.packages.urllib3.connectionpool:Starting new HTTPS connection (1): api.stockfighter.io\n",
      "DEBUG:requests.packages.urllib3.connectionpool:\"POST /ob/api/venues/LMJBEX/stocks/PMII/orders HTTP/1.1\" 404 62\n"
     ]
    },
    {
     "name": "stdout",
     "output_type": "stream",
     "text": [
      "42772 0 -6\n",
      "ordering with data:  {'account': 'LMB73474977', 'orderType': 'limit', 'price': 4130, 'venue': u'LMJBEX', 'direction': 'buy', 'qty': 28, 'stock': u'PMII'}\n",
      "{u'ok': False, u'error': u'No venue exists with the symbol LMJBEX'}\n"
     ]
    },
    {
     "name": "stderr",
     "output_type": "stream",
     "text": [
      "INFO:requests.packages.urllib3.connectionpool:Starting new HTTPS connection (1): api.stockfighter.io\n",
      "DEBUG:requests.packages.urllib3.connectionpool:\"POST /ob/api/venues/LMJBEX/stocks/PMII/orders HTTP/1.1\" 404 62\n"
     ]
    },
    {
     "name": "stdout",
     "output_type": "stream",
     "text": [
      "42772 0 -6\n",
      "ordering with data:  {'account': 'LMB73474977', 'orderType': 'limit', 'price': 4130, 'venue': u'LMJBEX', 'direction': 'buy', 'qty': 28, 'stock': u'PMII'}\n",
      "{u'ok': False, u'error': u'No venue exists with the symbol LMJBEX'}\n"
     ]
    },
    {
     "name": "stderr",
     "output_type": "stream",
     "text": [
      "INFO:requests.packages.urllib3.connectionpool:Starting new HTTPS connection (1): api.stockfighter.io\n",
      "DEBUG:requests.packages.urllib3.connectionpool:\"POST /ob/api/venues/LMJBEX/stocks/PMII/orders HTTP/1.1\" 404 62\n"
     ]
    },
    {
     "name": "stdout",
     "output_type": "stream",
     "text": [
      "42772 0 -6\n",
      "ordering with data:  {'account': 'LMB73474977', 'orderType': 'limit', 'price': 4106, 'venue': u'LMJBEX', 'direction': 'buy', 'qty': 64, 'stock': u'PMII'}\n",
      "{u'ok': False, u'error': u'No venue exists with the symbol LMJBEX'}\n"
     ]
    },
    {
     "name": "stderr",
     "output_type": "stream",
     "text": [
      "INFO:requests.packages.urllib3.connectionpool:Starting new HTTPS connection (1): api.stockfighter.io\n",
      "DEBUG:requests.packages.urllib3.connectionpool:\"POST /ob/api/venues/LMJBEX/stocks/PMII/orders HTTP/1.1\" 404 62\n"
     ]
    },
    {
     "name": "stdout",
     "output_type": "stream",
     "text": [
      "42772 0 -6\n",
      "ordering with data:  {'account': 'LMB73474977', 'orderType': 'limit', 'price': 4106, 'venue': u'LMJBEX', 'direction': 'buy', 'qty': 44, 'stock': u'PMII'}\n",
      "{u'ok': False, u'error': u'No venue exists with the symbol LMJBEX'}\n"
     ]
    },
    {
     "name": "stderr",
     "output_type": "stream",
     "text": [
      "INFO:requests.packages.urllib3.connectionpool:Starting new HTTPS connection (1): api.stockfighter.io\n",
      "DEBUG:requests.packages.urllib3.connectionpool:\"POST /ob/api/venues/LMJBEX/stocks/PMII/orders HTTP/1.1\" 404 62\n"
     ]
    },
    {
     "name": "stdout",
     "output_type": "stream",
     "text": [
      "42772 0 -6\n",
      "ordering with data:  {'account': 'LMB73474977', 'orderType': 'limit', 'price': 4106, 'venue': u'LMJBEX', 'direction': 'buy', 'qty': 44, 'stock': u'PMII'}\n",
      "{u'ok': False, u'error': u'No venue exists with the symbol LMJBEX'}\n"
     ]
    },
    {
     "name": "stderr",
     "output_type": "stream",
     "text": [
      "INFO:requests.packages.urllib3.connectionpool:Starting new HTTPS connection (1): api.stockfighter.io\n",
      "DEBUG:requests.packages.urllib3.connectionpool:\"POST /ob/api/venues/LMJBEX/stocks/PMII/orders HTTP/1.1\" 404 62\n"
     ]
    },
    {
     "name": "stdout",
     "output_type": "stream",
     "text": [
      "42772 0 -6\n",
      "ordering with data:  {'account': 'LMB73474977', 'orderType': 'limit', 'price': 4106, 'venue': u'LMJBEX', 'direction': 'buy', 'qty': 44, 'stock': u'PMII'}\n",
      "{u'ok': False, u'error': u'No venue exists with the symbol LMJBEX'}\n"
     ]
    },
    {
     "name": "stderr",
     "output_type": "stream",
     "text": [
      "INFO:requests.packages.urllib3.connectionpool:Starting new HTTPS connection (1): api.stockfighter.io\n",
      "DEBUG:requests.packages.urllib3.connectionpool:\"POST /ob/api/venues/LMJBEX/stocks/PMII/orders HTTP/1.1\" 404 62\n"
     ]
    },
    {
     "name": "stdout",
     "output_type": "stream",
     "text": [
      "42772 0 -6\n",
      "ordering with data:  {'account': 'LMB73474977', 'orderType': 'limit', 'price': 4095, 'venue': u'LMJBEX', 'direction': 'buy', 'qty': 32, 'stock': u'PMII'}\n",
      "{u'ok': False, u'error': u'No venue exists with the symbol LMJBEX'}\n"
     ]
    },
    {
     "name": "stderr",
     "output_type": "stream",
     "text": [
      "INFO:requests.packages.urllib3.connectionpool:Starting new HTTPS connection (1): api.stockfighter.io\n",
      "DEBUG:requests.packages.urllib3.connectionpool:\"POST /ob/api/venues/LMJBEX/stocks/PMII/orders HTTP/1.1\" 404 62\n"
     ]
    },
    {
     "name": "stdout",
     "output_type": "stream",
     "text": [
      "42772 0 -6\n",
      "ordering with data:  {'account': 'LMB73474977', 'orderType': 'limit', 'price': 4095, 'venue': u'LMJBEX', 'direction': 'buy', 'qty': 32, 'stock': u'PMII'}\n",
      "{u'ok': False, u'error': u'No venue exists with the symbol LMJBEX'}\n"
     ]
    },
    {
     "name": "stderr",
     "output_type": "stream",
     "text": [
      "INFO:requests.packages.urllib3.connectionpool:Starting new HTTPS connection (1): api.stockfighter.io\n",
      "DEBUG:requests.packages.urllib3.connectionpool:\"POST /ob/api/venues/LMJBEX/stocks/PMII/orders HTTP/1.1\" 404 62\n"
     ]
    },
    {
     "name": "stdout",
     "output_type": "stream",
     "text": [
      "42772 0 -6\n",
      "ordering with data:  {'account': 'LMB73474977', 'orderType': 'limit', 'price': 4095, 'venue': u'LMJBEX', 'direction': 'buy', 'qty': 32, 'stock': u'PMII'}\n",
      "{u'ok': False, u'error': u'No venue exists with the symbol LMJBEX'}\n"
     ]
    },
    {
     "name": "stderr",
     "output_type": "stream",
     "text": [
      "INFO:requests.packages.urllib3.connectionpool:Starting new HTTPS connection (1): api.stockfighter.io\n",
      "DEBUG:requests.packages.urllib3.connectionpool:\"POST /ob/api/venues/LMJBEX/stocks/PMII/orders HTTP/1.1\" 404 62\n"
     ]
    },
    {
     "name": "stdout",
     "output_type": "stream",
     "text": [
      "42772 0 -6\n",
      "ordering with data:  {'account': 'LMB73474977', 'orderType': 'limit', 'price': 4095, 'venue': u'LMJBEX', 'direction': 'buy', 'qty': 25, 'stock': u'PMII'}\n",
      "{u'ok': False, u'error': u'No venue exists with the symbol LMJBEX'}\n"
     ]
    },
    {
     "name": "stderr",
     "output_type": "stream",
     "text": [
      "INFO:requests.packages.urllib3.connectionpool:Starting new HTTPS connection (1): api.stockfighter.io\n",
      "DEBUG:requests.packages.urllib3.connectionpool:\"POST /ob/api/venues/LMJBEX/stocks/PMII/orders HTTP/1.1\" 404 62\n"
     ]
    },
    {
     "name": "stdout",
     "output_type": "stream",
     "text": [
      "42772 0 -6\n",
      "ordering with data:  {'account': 'LMB73474977', 'orderType': 'limit', 'price': 4095, 'venue': u'LMJBEX', 'direction': 'buy', 'qty': 25, 'stock': u'PMII'}\n",
      "{u'ok': False, u'error': u'No venue exists with the symbol LMJBEX'}\n"
     ]
    },
    {
     "name": "stderr",
     "output_type": "stream",
     "text": [
      "INFO:requests.packages.urllib3.connectionpool:Starting new HTTPS connection (1): api.stockfighter.io\n",
      "DEBUG:requests.packages.urllib3.connectionpool:\"POST /ob/api/venues/LMJBEX/stocks/PMII/orders HTTP/1.1\" 404 62\n"
     ]
    },
    {
     "name": "stdout",
     "output_type": "stream",
     "text": [
      "42772 0 -6\n",
      "ordering with data:  {'account': 'LMB73474977', 'orderType': 'limit', 'price': 4106, 'venue': u'LMJBEX', 'direction': 'buy', 'qty': 44, 'stock': u'PMII'}\n",
      "{u'ok': False, u'error': u'No venue exists with the symbol LMJBEX'}\n"
     ]
    },
    {
     "name": "stderr",
     "output_type": "stream",
     "text": [
      "INFO:requests.packages.urllib3.connectionpool:Starting new HTTPS connection (1): api.stockfighter.io\n",
      "DEBUG:requests.packages.urllib3.connectionpool:\"POST /ob/api/venues/LMJBEX/stocks/PMII/orders HTTP/1.1\" 404 62\n"
     ]
    },
    {
     "name": "stdout",
     "output_type": "stream",
     "text": [
      "42772 0 -6\n",
      "ordering with data:  {'account': 'LMB73474977', 'orderType': 'limit', 'price': 4124, 'venue': u'LMJBEX', 'direction': 'buy', 'qty': 32, 'stock': u'PMII'}\n",
      "{u'ok': False, u'error': u'No venue exists with the symbol LMJBEX'}\n"
     ]
    },
    {
     "name": "stderr",
     "output_type": "stream",
     "text": [
      "INFO:requests.packages.urllib3.connectionpool:Starting new HTTPS connection (1): api.stockfighter.io\n",
      "DEBUG:requests.packages.urllib3.connectionpool:\"POST /ob/api/venues/LMJBEX/stocks/PMII/orders HTTP/1.1\" 404 62\n"
     ]
    },
    {
     "name": "stdout",
     "output_type": "stream",
     "text": [
      "42772 0 -6\n",
      "ordering with data:  {'account': 'LMB73474977', 'orderType': 'limit', 'price': 4124, 'venue': u'LMJBEX', 'direction': 'buy', 'qty': 19, 'stock': u'PMII'}\n",
      "{u'ok': False, u'error': u'No venue exists with the symbol LMJBEX'}\n"
     ]
    },
    {
     "name": "stderr",
     "output_type": "stream",
     "text": [
      "INFO:requests.packages.urllib3.connectionpool:Starting new HTTPS connection (1): api.stockfighter.io\n",
      "DEBUG:requests.packages.urllib3.connectionpool:\"POST /ob/api/venues/LMJBEX/stocks/PMII/orders HTTP/1.1\" 404 62\n"
     ]
    },
    {
     "name": "stdout",
     "output_type": "stream",
     "text": [
      "42772 0 -6\n",
      "ordering with data:  {'account': 'LMB73474977', 'orderType': 'limit', 'price': 4124, 'venue': u'LMJBEX', 'direction': 'buy', 'qty': 19, 'stock': u'PMII'}\n",
      "{u'ok': False, u'error': u'No venue exists with the symbol LMJBEX'}\n"
     ]
    },
    {
     "name": "stderr",
     "output_type": "stream",
     "text": [
      "INFO:requests.packages.urllib3.connectionpool:Starting new HTTPS connection (1): api.stockfighter.io\n",
      "DEBUG:requests.packages.urllib3.connectionpool:\"POST /ob/api/venues/LMJBEX/stocks/PMII/orders HTTP/1.1\" 404 62\n"
     ]
    },
    {
     "name": "stdout",
     "output_type": "stream",
     "text": [
      "42772 0 -6\n",
      "ordering with data:  {'account': 'LMB73474977', 'orderType': 'limit', 'price': 4124, 'venue': u'LMJBEX', 'direction': 'buy', 'qty': 19, 'stock': u'PMII'}\n",
      "{u'ok': False, u'error': u'No venue exists with the symbol LMJBEX'}\n"
     ]
    },
    {
     "name": "stderr",
     "output_type": "stream",
     "text": [
      "INFO:requests.packages.urllib3.connectionpool:Starting new HTTPS connection (1): api.stockfighter.io\n",
      "DEBUG:requests.packages.urllib3.connectionpool:\"POST /ob/api/venues/LMJBEX/stocks/PMII/orders HTTP/1.1\" 404 62\n"
     ]
    },
    {
     "name": "stdout",
     "output_type": "stream",
     "text": [
      "42772 0 -6\n",
      "ordering with data:  {'account': 'LMB73474977', 'orderType': 'limit', 'price': 4211, 'venue': u'LMJBEX', 'direction': 'buy', 'qty': 4, 'stock': u'PMII'}\n",
      "{u'ok': False, u'error': u'No venue exists with the symbol LMJBEX'}\n"
     ]
    },
    {
     "name": "stderr",
     "output_type": "stream",
     "text": [
      "INFO:requests.packages.urllib3.connectionpool:Starting new HTTPS connection (1): api.stockfighter.io\n",
      "DEBUG:requests.packages.urllib3.connectionpool:\"POST /ob/api/venues/LMJBEX/stocks/PMII/orders HTTP/1.1\" 404 62\n"
     ]
    },
    {
     "name": "stdout",
     "output_type": "stream",
     "text": [
      "42772 0 -6\n",
      "ordering with data:  {'account': 'LMB73474977', 'orderType': 'limit', 'price': 4211, 'venue': u'LMJBEX', 'direction': 'buy', 'qty': 4, 'stock': u'PMII'}\n",
      "{u'ok': False, u'error': u'No venue exists with the symbol LMJBEX'}\n"
     ]
    },
    {
     "name": "stderr",
     "output_type": "stream",
     "text": [
      "INFO:requests.packages.urllib3.connectionpool:Starting new HTTPS connection (1): api.stockfighter.io\n",
      "DEBUG:requests.packages.urllib3.connectionpool:\"POST /ob/api/venues/LMJBEX/stocks/PMII/orders HTTP/1.1\" 404 62\n"
     ]
    },
    {
     "name": "stdout",
     "output_type": "stream",
     "text": [
      "42772 0 -6\n",
      "ordering with data:  {'account': 'LMB73474977', 'orderType': 'limit', 'price': 4276, 'venue': u'LMJBEX', 'direction': 'buy', 'qty': 11, 'stock': u'PMII'}\n",
      "{u'ok': False, u'error': u'No venue exists with the symbol LMJBEX'}\n"
     ]
    },
    {
     "name": "stderr",
     "output_type": "stream",
     "text": [
      "INFO:requests.packages.urllib3.connectionpool:Starting new HTTPS connection (1): api.stockfighter.io\n",
      "DEBUG:requests.packages.urllib3.connectionpool:\"POST /ob/api/venues/LMJBEX/stocks/PMII/orders HTTP/1.1\" 404 62\n"
     ]
    },
    {
     "name": "stdout",
     "output_type": "stream",
     "text": [
      "42772 0 -6\n",
      "ordering with data:  {'account': 'LMB73474977', 'orderType': 'limit', 'price': 4276, 'venue': u'LMJBEX', 'direction': 'buy', 'qty': 11, 'stock': u'PMII'}\n",
      "{u'ok': False, u'error': u'No venue exists with the symbol LMJBEX'}\n"
     ]
    },
    {
     "name": "stderr",
     "output_type": "stream",
     "text": [
      "INFO:requests.packages.urllib3.connectionpool:Starting new HTTPS connection (1): api.stockfighter.io\n",
      "DEBUG:requests.packages.urllib3.connectionpool:\"POST /ob/api/venues/LMJBEX/stocks/PMII/orders HTTP/1.1\" 404 62\n"
     ]
    },
    {
     "name": "stdout",
     "output_type": "stream",
     "text": [
      "42772 0 -6\n",
      "ordering with data:  {'account': 'LMB73474977', 'orderType': 'limit', 'price': 4297, 'venue': u'LMJBEX', 'direction': 'buy', 'qty': 11, 'stock': u'PMII'}\n",
      "{u'ok': False, u'error': u'No venue exists with the symbol LMJBEX'}\n"
     ]
    },
    {
     "name": "stderr",
     "output_type": "stream",
     "text": [
      "INFO:requests.packages.urllib3.connectionpool:Starting new HTTPS connection (1): api.stockfighter.io\n",
      "DEBUG:requests.packages.urllib3.connectionpool:\"POST /ob/api/venues/LMJBEX/stocks/PMII/orders HTTP/1.1\" 404 62\n"
     ]
    },
    {
     "name": "stdout",
     "output_type": "stream",
     "text": [
      "42772 0 -6\n",
      "ordering with data:  {'account': 'LMB73474977', 'orderType': 'limit', 'price': 4318, 'venue': u'LMJBEX', 'direction': 'buy', 'qty': 11, 'stock': u'PMII'}\n",
      "{u'ok': False, u'error': u'No venue exists with the symbol LMJBEX'}\n"
     ]
    },
    {
     "name": "stderr",
     "output_type": "stream",
     "text": [
      "INFO:requests.packages.urllib3.connectionpool:Starting new HTTPS connection (1): api.stockfighter.io\n",
      "DEBUG:requests.packages.urllib3.connectionpool:\"POST /ob/api/venues/LMJBEX/stocks/PMII/orders HTTP/1.1\" 404 62\n"
     ]
    },
    {
     "name": "stdout",
     "output_type": "stream",
     "text": [
      "42772 0 -6\n",
      "42772 0 -6\n",
      "42772 0 -6\n",
      "42772 0 -6\n",
      "42772 0 -6\n",
      "ordering with data:  {'account': 'LMB73474977', 'orderType': 'limit', 'price': 4316, 'venue': u'LMJBEX', 'direction': 'buy', 'qty': 25, 'stock': u'PMII'}\n",
      "{u'ok': False, u'error': u'No venue exists with the symbol LMJBEX'}\n"
     ]
    },
    {
     "name": "stderr",
     "output_type": "stream",
     "text": [
      "INFO:requests.packages.urllib3.connectionpool:Starting new HTTPS connection (1): api.stockfighter.io\n",
      "DEBUG:requests.packages.urllib3.connectionpool:\"POST /ob/api/venues/LMJBEX/stocks/PMII/orders HTTP/1.1\" 404 62\n"
     ]
    },
    {
     "name": "stdout",
     "output_type": "stream",
     "text": [
      "42772 0 -6\n",
      "ordering with data:  {'account': 'LMB73474977', 'orderType': 'limit', 'price': 4295, 'venue': u'LMJBEX', 'direction': 'buy', 'qty': 25, 'stock': u'PMII'}\n",
      "{u'ok': False, u'error': u'No venue exists with the symbol LMJBEX'}\n"
     ]
    },
    {
     "name": "stderr",
     "output_type": "stream",
     "text": [
      "INFO:requests.packages.urllib3.connectionpool:Starting new HTTPS connection (1): api.stockfighter.io\n",
      "DEBUG:requests.packages.urllib3.connectionpool:\"POST /ob/api/venues/LMJBEX/stocks/PMII/orders HTTP/1.1\" 404 62\n"
     ]
    },
    {
     "name": "stdout",
     "output_type": "stream",
     "text": [
      "42772 0 -6\n",
      "ordering with data:  {'account': 'LMB73474977', 'orderType': 'limit', 'price': 4274, 'venue': u'LMJBEX', 'direction': 'buy', 'qty': 25, 'stock': u'PMII'}\n",
      "{u'ok': False, u'error': u'No venue exists with the symbol LMJBEX'}\n"
     ]
    },
    {
     "name": "stderr",
     "output_type": "stream",
     "text": [
      "INFO:requests.packages.urllib3.connectionpool:Starting new HTTPS connection (1): api.stockfighter.io\n",
      "DEBUG:requests.packages.urllib3.connectionpool:\"POST /ob/api/venues/LMJBEX/stocks/PMII/orders HTTP/1.1\" 404 62\n"
     ]
    },
    {
     "name": "stdout",
     "output_type": "stream",
     "text": [
      "42772 0 -6\n",
      "ordering with data:  {'account': 'LMB73474977', 'orderType': 'limit', 'price': 4274, 'venue': u'LMJBEX', 'direction': 'buy', 'qty': 25, 'stock': u'PMII'}\n",
      "{u'ok': False, u'error': u'No venue exists with the symbol LMJBEX'}\n"
     ]
    },
    {
     "name": "stderr",
     "output_type": "stream",
     "text": [
      "INFO:requests.packages.urllib3.connectionpool:Starting new HTTPS connection (1): api.stockfighter.io\n",
      "DEBUG:requests.packages.urllib3.connectionpool:\"POST /ob/api/venues/LMJBEX/stocks/PMII/orders HTTP/1.1\" 404 62\n"
     ]
    },
    {
     "name": "stdout",
     "output_type": "stream",
     "text": [
      "42772 0 -6\n",
      "ordering with data:  {'account': 'LMB73474977', 'orderType': 'limit', 'price': 4295, 'venue': u'LMJBEX', 'direction': 'buy', 'qty': 25, 'stock': u'PMII'}\n",
      "{u'ok': False, u'error': u'No venue exists with the symbol LMJBEX'}\n"
     ]
    },
    {
     "name": "stderr",
     "output_type": "stream",
     "text": [
      "INFO:requests.packages.urllib3.connectionpool:Starting new HTTPS connection (1): api.stockfighter.io\n",
      "DEBUG:requests.packages.urllib3.connectionpool:\"POST /ob/api/venues/LMJBEX/stocks/PMII/orders HTTP/1.1\" 404 62\n"
     ]
    },
    {
     "name": "stdout",
     "output_type": "stream",
     "text": [
      "42772 0 -6\n",
      "ordering with data:  {'account': 'LMB73474977', 'orderType': 'limit', 'price': 4316, 'venue': u'LMJBEX', 'direction': 'buy', 'qty': 25, 'stock': u'PMII'}\n",
      "{u'ok': False, u'error': u'No venue exists with the symbol LMJBEX'}\n"
     ]
    },
    {
     "name": "stderr",
     "output_type": "stream",
     "text": [
      "INFO:requests.packages.urllib3.connectionpool:Starting new HTTPS connection (1): api.stockfighter.io\n",
      "DEBUG:requests.packages.urllib3.connectionpool:\"POST /ob/api/venues/LMJBEX/stocks/PMII/orders HTTP/1.1\" 404 62\n"
     ]
    },
    {
     "name": "stdout",
     "output_type": "stream",
     "text": [
      "42772 0 -6\n",
      "42772 0 -6\n",
      "ordering with data:  {'account': 'LMB73474977', 'orderType': 'limit', 'price': 4231, 'venue': u'LMJBEX', 'direction': 'buy', 'qty': 25, 'stock': u'PMII'}\n",
      "{u'ok': False, u'error': u'No venue exists with the symbol LMJBEX'}\n"
     ]
    },
    {
     "name": "stderr",
     "output_type": "stream",
     "text": [
      "INFO:requests.packages.urllib3.connectionpool:Starting new HTTPS connection (1): api.stockfighter.io\n",
      "DEBUG:requests.packages.urllib3.connectionpool:\"POST /ob/api/venues/LMJBEX/stocks/PMII/orders HTTP/1.1\" 404 62\n"
     ]
    },
    {
     "name": "stdout",
     "output_type": "stream",
     "text": [
      "42772 0 -6\n",
      "ordering with data:  {'account': 'LMB73474977', 'orderType': 'limit', 'price': 4211, 'venue': u'LMJBEX', 'direction': 'buy', 'qty': 25, 'stock': u'PMII'}\n",
      "{u'ok': False, u'error': u'No venue exists with the symbol LMJBEX'}\n"
     ]
    },
    {
     "name": "stderr",
     "output_type": "stream",
     "text": [
      "INFO:requests.packages.urllib3.connectionpool:Starting new HTTPS connection (1): api.stockfighter.io\n",
      "DEBUG:requests.packages.urllib3.connectionpool:\"POST /ob/api/venues/LMJBEX/stocks/PMII/orders HTTP/1.1\" 404 62\n"
     ]
    },
    {
     "name": "stdout",
     "output_type": "stream",
     "text": [
      "42772 0 -6\n",
      "ordering with data:  {'account': 'LMB73474977', 'orderType': 'limit', 'price': 4191, 'venue': u'LMJBEX', 'direction': 'buy', 'qty': 25, 'stock': u'PMII'}\n",
      "{u'ok': False, u'error': u'No venue exists with the symbol LMJBEX'}\n"
     ]
    },
    {
     "name": "stderr",
     "output_type": "stream",
     "text": [
      "INFO:requests.packages.urllib3.connectionpool:Starting new HTTPS connection (1): api.stockfighter.io\n",
      "DEBUG:requests.packages.urllib3.connectionpool:\"POST /ob/api/venues/LMJBEX/stocks/PMII/orders HTTP/1.1\" 404 62\n"
     ]
    },
    {
     "name": "stdout",
     "output_type": "stream",
     "text": [
      "42772 0 -6\n",
      "ordering with data:  {'account': 'LMB73474977', 'orderType': 'limit', 'price': 4191, 'venue': u'LMJBEX', 'direction': 'buy', 'qty': 25, 'stock': u'PMII'}\n",
      "{u'ok': False, u'error': u'No venue exists with the symbol LMJBEX'}\n"
     ]
    },
    {
     "name": "stderr",
     "output_type": "stream",
     "text": [
      "INFO:requests.packages.urllib3.connectionpool:Starting new HTTPS connection (1): api.stockfighter.io\n",
      "DEBUG:requests.packages.urllib3.connectionpool:\"POST /ob/api/venues/LMJBEX/stocks/PMII/orders HTTP/1.1\" 404 62\n"
     ]
    },
    {
     "name": "stdout",
     "output_type": "stream",
     "text": [
      "42772 0 -6\n",
      "ordering with data:  {'account': 'LMB73474977', 'orderType': 'limit', 'price': 4191, 'venue': u'LMJBEX', 'direction': 'buy', 'qty': 25, 'stock': u'PMII'}\n",
      "{u'ok': False, u'error': u'No venue exists with the symbol LMJBEX'}\n"
     ]
    },
    {
     "name": "stderr",
     "output_type": "stream",
     "text": [
      "INFO:requests.packages.urllib3.connectionpool:Starting new HTTPS connection (1): api.stockfighter.io\n",
      "DEBUG:requests.packages.urllib3.connectionpool:\"POST /ob/api/venues/LMJBEX/stocks/PMII/orders HTTP/1.1\" 404 62\n"
     ]
    },
    {
     "name": "stdout",
     "output_type": "stream",
     "text": [
      "42772 0 -6\n",
      "ordering with data:  {'account': 'LMB73474977', 'orderType': 'limit', 'price': 4191, 'venue': u'LMJBEX', 'direction': 'buy', 'qty': 25, 'stock': u'PMII'}\n",
      "{u'ok': False, u'error': u'No venue exists with the symbol LMJBEX'}\n"
     ]
    },
    {
     "name": "stderr",
     "output_type": "stream",
     "text": [
      "INFO:requests.packages.urllib3.connectionpool:Starting new HTTPS connection (1): api.stockfighter.io\n",
      "DEBUG:requests.packages.urllib3.connectionpool:\"POST /ob/api/venues/LMJBEX/stocks/PMII/orders HTTP/1.1\" 404 62\n"
     ]
    },
    {
     "name": "stdout",
     "output_type": "stream",
     "text": [
      "42772 0 -6\n",
      "ordering with data:  {'account': 'LMB73474977', 'orderType': 'limit', 'price': 4191, 'venue': u'LMJBEX', 'direction': 'buy', 'qty': 25, 'stock': u'PMII'}\n",
      "{u'ok': False, u'error': u'No venue exists with the symbol LMJBEX'}\n"
     ]
    },
    {
     "name": "stderr",
     "output_type": "stream",
     "text": [
      "INFO:requests.packages.urllib3.connectionpool:Starting new HTTPS connection (1): api.stockfighter.io\n",
      "DEBUG:requests.packages.urllib3.connectionpool:\"POST /ob/api/venues/LMJBEX/stocks/PMII/orders HTTP/1.1\" 404 62\n"
     ]
    },
    {
     "name": "stdout",
     "output_type": "stream",
     "text": [
      "42772 0 -6\n",
      "ordering with data:  {'account': 'LMB73474977', 'orderType': 'limit', 'price': 4191, 'venue': u'LMJBEX', 'direction': 'buy', 'qty': 16, 'stock': u'PMII'}\n",
      "{u'ok': False, u'error': u'No venue exists with the symbol LMJBEX'}\n"
     ]
    },
    {
     "name": "stderr",
     "output_type": "stream",
     "text": [
      "INFO:requests.packages.urllib3.connectionpool:Starting new HTTPS connection (1): api.stockfighter.io\n",
      "DEBUG:requests.packages.urllib3.connectionpool:\"POST /ob/api/venues/LMJBEX/stocks/PMII/orders HTTP/1.1\" 404 62\n"
     ]
    },
    {
     "name": "stdout",
     "output_type": "stream",
     "text": [
      "42772 0 -6\n",
      "ordering with data:  {'account': 'LMB73474977', 'orderType': 'limit', 'price': 4191, 'venue': u'LMJBEX', 'direction': 'buy', 'qty': 16, 'stock': u'PMII'}\n",
      "{u'ok': False, u'error': u'No venue exists with the symbol LMJBEX'}\n"
     ]
    },
    {
     "name": "stderr",
     "output_type": "stream",
     "text": [
      "INFO:requests.packages.urllib3.connectionpool:Starting new HTTPS connection (1): api.stockfighter.io\n",
      "DEBUG:requests.packages.urllib3.connectionpool:\"POST /ob/api/venues/LMJBEX/stocks/PMII/orders HTTP/1.1\" 404 62\n"
     ]
    },
    {
     "name": "stdout",
     "output_type": "stream",
     "text": [
      "42772 0 -6\n",
      "ordering with data:  {'account': 'LMB73474977', 'orderType': 'limit', 'price': 4174, 'venue': u'LMJBEX', 'direction': 'buy', 'qty': 55, 'stock': u'PMII'}\n",
      "{u'ok': False, u'error': u'No venue exists with the symbol LMJBEX'}\n"
     ]
    },
    {
     "name": "stderr",
     "output_type": "stream",
     "text": [
      "INFO:requests.packages.urllib3.connectionpool:Starting new HTTPS connection (1): api.stockfighter.io\n",
      "DEBUG:requests.packages.urllib3.connectionpool:\"POST /ob/api/venues/LMJBEX/stocks/PMII/orders HTTP/1.1\" 404 62\n"
     ]
    },
    {
     "name": "stdout",
     "output_type": "stream",
     "text": [
      "42772 0 -6\n",
      "ordering with data:  {'account': 'LMB73474977', 'orderType': 'limit', 'price': 4174, 'venue': u'LMJBEX', 'direction': 'buy', 'qty': 110, 'stock': u'PMII'}\n",
      "{u'ok': False, u'error': u'No venue exists with the symbol LMJBEX'}\n"
     ]
    },
    {
     "name": "stderr",
     "output_type": "stream",
     "text": [
      "INFO:requests.packages.urllib3.connectionpool:Starting new HTTPS connection (1): api.stockfighter.io\n",
      "DEBUG:requests.packages.urllib3.connectionpool:\"POST /ob/api/venues/LMJBEX/stocks/PMII/orders HTTP/1.1\" 404 62\n"
     ]
    },
    {
     "name": "stdout",
     "output_type": "stream",
     "text": [
      "42772 0 -6\n",
      "ordering with data:  {'account': 'LMB73474977', 'orderType': 'limit', 'price': 4174, 'venue': u'LMJBEX', 'direction': 'buy', 'qty': 165, 'stock': u'PMII'}\n",
      "{u'ok': False, u'error': u'No venue exists with the symbol LMJBEX'}\n"
     ]
    },
    {
     "name": "stderr",
     "output_type": "stream",
     "text": [
      "INFO:requests.packages.urllib3.connectionpool:Starting new HTTPS connection (1): api.stockfighter.io\n",
      "DEBUG:requests.packages.urllib3.connectionpool:\"POST /ob/api/venues/LMJBEX/stocks/PMII/orders HTTP/1.1\" 404 62\n"
     ]
    },
    {
     "name": "stdout",
     "output_type": "stream",
     "text": [
      "42772 0 -6\n",
      "42772 0 -6\n",
      "42772 0 -6\n",
      "42772 0 -6\n",
      "42772 0 -6\n",
      "42772 0 -6\n",
      "42772 0 -6\n",
      "42772 0 -6\n",
      "42772 0 -6\n",
      "42772 0 -6\n",
      "42772 0 -6\n",
      "42772 0 -6\n",
      "42772 0 -6\n",
      "ordering with data:  {'account': 'LMB73474977', 'orderType': 'limit', 'price': 4416, 'venue': u'LMJBEX', 'direction': 'buy', 'qty': 17, 'stock': u'PMII'}\n",
      "{u'ok': False, u'error': u'No venue exists with the symbol LMJBEX'}\n"
     ]
    },
    {
     "name": "stderr",
     "output_type": "stream",
     "text": [
      "INFO:requests.packages.urllib3.connectionpool:Starting new HTTPS connection (1): api.stockfighter.io\n",
      "DEBUG:requests.packages.urllib3.connectionpool:\"POST /ob/api/venues/LMJBEX/stocks/PMII/orders HTTP/1.1\" 404 62\n"
     ]
    },
    {
     "name": "stdout",
     "output_type": "stream",
     "text": [
      "42772 0 -6\n",
      "ordering with data:  {'account': 'LMB73474977', 'orderType': 'limit', 'price': 4395, 'venue': u'LMJBEX', 'direction': 'buy', 'qty': 17, 'stock': u'PMII'}\n",
      "{u'ok': False, u'error': u'No venue exists with the symbol LMJBEX'}\n"
     ]
    },
    {
     "name": "stderr",
     "output_type": "stream",
     "text": [
      "INFO:requests.packages.urllib3.connectionpool:Starting new HTTPS connection (1): api.stockfighter.io\n",
      "DEBUG:requests.packages.urllib3.connectionpool:\"POST /ob/api/venues/LMJBEX/stocks/PMII/orders HTTP/1.1\" 404 62\n"
     ]
    },
    {
     "name": "stdout",
     "output_type": "stream",
     "text": [
      "42772 0 -6\n",
      "ordering with data:  {'account': 'LMB73474977', 'orderType': 'limit', 'price': 4374, 'venue': u'LMJBEX', 'direction': 'buy', 'qty': 17, 'stock': u'PMII'}\n",
      "{u'ok': False, u'error': u'No venue exists with the symbol LMJBEX'}\n"
     ]
    },
    {
     "name": "stderr",
     "output_type": "stream",
     "text": [
      "INFO:requests.packages.urllib3.connectionpool:Starting new HTTPS connection (1): api.stockfighter.io\n",
      "DEBUG:requests.packages.urllib3.connectionpool:\"POST /ob/api/venues/LMJBEX/stocks/PMII/orders HTTP/1.1\" 404 62\n"
     ]
    },
    {
     "name": "stdout",
     "output_type": "stream",
     "text": [
      "42772 0 -6\n",
      "ordering with data:  {'account': 'LMB73474977', 'orderType': 'limit', 'price': 4374, 'venue': u'LMJBEX', 'direction': 'buy', 'qty': 17, 'stock': u'PMII'}\n",
      "{u'ok': False, u'error': u'No venue exists with the symbol LMJBEX'}\n"
     ]
    },
    {
     "name": "stderr",
     "output_type": "stream",
     "text": [
      "INFO:requests.packages.urllib3.connectionpool:Starting new HTTPS connection (1): api.stockfighter.io\n",
      "DEBUG:requests.packages.urllib3.connectionpool:\"POST /ob/api/venues/LMJBEX/stocks/PMII/orders HTTP/1.1\" 404 62\n"
     ]
    },
    {
     "name": "stdout",
     "output_type": "stream",
     "text": [
      "42772 0 -6\n",
      "ordering with data:  {'account': 'LMB73474977', 'orderType': 'limit', 'price': 4374, 'venue': u'LMJBEX', 'direction': 'buy', 'qty': 17, 'stock': u'PMII'}\n",
      "{u'ok': False, u'error': u'No venue exists with the symbol LMJBEX'}\n"
     ]
    },
    {
     "name": "stderr",
     "output_type": "stream",
     "text": [
      "INFO:requests.packages.urllib3.connectionpool:Starting new HTTPS connection (1): api.stockfighter.io\n",
      "DEBUG:requests.packages.urllib3.connectionpool:\"POST /ob/api/venues/LMJBEX/stocks/PMII/orders HTTP/1.1\" 404 62\n"
     ]
    },
    {
     "name": "stdout",
     "output_type": "stream",
     "text": [
      "42772 0 -6\n",
      "ordering with data:  {'account': 'LMB73474977', 'orderType': 'limit', 'price': 4374, 'venue': u'LMJBEX', 'direction': 'buy', 'qty': 17, 'stock': u'PMII'}\n",
      "{u'ok': False, u'error': u'No venue exists with the symbol LMJBEX'}\n"
     ]
    },
    {
     "name": "stderr",
     "output_type": "stream",
     "text": [
      "INFO:requests.packages.urllib3.connectionpool:Starting new HTTPS connection (1): api.stockfighter.io\n",
      "DEBUG:requests.packages.urllib3.connectionpool:\"POST /ob/api/venues/LMJBEX/stocks/PMII/orders HTTP/1.1\" 404 62\n"
     ]
    },
    {
     "name": "stdout",
     "output_type": "stream",
     "text": [
      "42772 0 -6\n",
      "ordering with data:  {'account': 'LMB73474977', 'orderType': 'limit', 'price': 4374, 'venue': u'LMJBEX', 'direction': 'buy', 'qty': 17, 'stock': u'PMII'}\n",
      "{u'ok': False, u'error': u'No venue exists with the symbol LMJBEX'}\n"
     ]
    },
    {
     "name": "stderr",
     "output_type": "stream",
     "text": [
      "INFO:requests.packages.urllib3.connectionpool:Starting new HTTPS connection (1): api.stockfighter.io\n",
      "DEBUG:requests.packages.urllib3.connectionpool:\"POST /ob/api/venues/LMJBEX/stocks/PMII/orders HTTP/1.1\" 404 62\n"
     ]
    },
    {
     "name": "stdout",
     "output_type": "stream",
     "text": [
      "42772 0 -6\n",
      "ordering with data:  {'account': 'LMB73474977', 'orderType': 'limit', 'price': 4374, 'venue': u'LMJBEX', 'direction': 'buy', 'qty': 17, 'stock': u'PMII'}\n",
      "{u'ok': False, u'error': u'No venue exists with the symbol LMJBEX'}\n"
     ]
    },
    {
     "name": "stderr",
     "output_type": "stream",
     "text": [
      "INFO:requests.packages.urllib3.connectionpool:Starting new HTTPS connection (1): api.stockfighter.io\n",
      "DEBUG:requests.packages.urllib3.connectionpool:\"POST /ob/api/venues/LMJBEX/stocks/PMII/orders HTTP/1.1\" 404 62\n"
     ]
    },
    {
     "name": "stdout",
     "output_type": "stream",
     "text": [
      "42772 0 -6\n",
      "ordering with data:  {'account': 'LMB73474977', 'orderType': 'limit', 'price': 4374, 'venue': u'LMJBEX', 'direction': 'buy', 'qty': 17, 'stock': u'PMII'}\n",
      "{u'ok': False, u'error': u'No venue exists with the symbol LMJBEX'}\n"
     ]
    },
    {
     "name": "stderr",
     "output_type": "stream",
     "text": [
      "INFO:requests.packages.urllib3.connectionpool:Starting new HTTPS connection (1): api.stockfighter.io\n",
      "DEBUG:requests.packages.urllib3.connectionpool:\"POST /ob/api/venues/LMJBEX/stocks/PMII/orders HTTP/1.1\" 404 62\n"
     ]
    },
    {
     "name": "stdout",
     "output_type": "stream",
     "text": [
      "42772 0 -6\n",
      "ordering with data:  {'account': 'LMB73474977', 'orderType': 'limit', 'price': 4374, 'venue': u'LMJBEX', 'direction': 'buy', 'qty': 17, 'stock': u'PMII'}\n",
      "{u'ok': False, u'error': u'No venue exists with the symbol LMJBEX'}\n"
     ]
    },
    {
     "name": "stderr",
     "output_type": "stream",
     "text": [
      "INFO:requests.packages.urllib3.connectionpool:Starting new HTTPS connection (1): api.stockfighter.io\n",
      "DEBUG:requests.packages.urllib3.connectionpool:\"POST /ob/api/venues/LMJBEX/stocks/PMII/orders HTTP/1.1\" 404 62\n"
     ]
    },
    {
     "name": "stdout",
     "output_type": "stream",
     "text": [
      "42772 0 -6\n",
      "ordering with data:  {'account': 'LMB73474977', 'orderType': 'limit', 'price': 4374, 'venue': u'LMJBEX', 'direction': 'buy', 'qty': 17, 'stock': u'PMII'}\n",
      "{u'ok': False, u'error': u'No venue exists with the symbol LMJBEX'}\n"
     ]
    },
    {
     "name": "stderr",
     "output_type": "stream",
     "text": [
      "INFO:requests.packages.urllib3.connectionpool:Starting new HTTPS connection (1): api.stockfighter.io\n",
      "DEBUG:requests.packages.urllib3.connectionpool:\"POST /ob/api/venues/LMJBEX/stocks/PMII/orders HTTP/1.1\" 404 62\n"
     ]
    },
    {
     "name": "stdout",
     "output_type": "stream",
     "text": [
      "42772 0 -6\n",
      "ordering with data:  {'account': 'LMB73474977', 'orderType': 'limit', 'price': 4374, 'venue': u'LMJBEX', 'direction': 'buy', 'qty': 17, 'stock': u'PMII'}\n",
      "{u'ok': False, u'error': u'No venue exists with the symbol LMJBEX'}\n"
     ]
    },
    {
     "name": "stderr",
     "output_type": "stream",
     "text": [
      "INFO:requests.packages.urllib3.connectionpool:Starting new HTTPS connection (1): api.stockfighter.io\n",
      "DEBUG:requests.packages.urllib3.connectionpool:\"POST /ob/api/venues/LMJBEX/stocks/PMII/orders HTTP/1.1\" 404 62\n"
     ]
    },
    {
     "name": "stdout",
     "output_type": "stream",
     "text": [
      "42772 0 -6\n",
      "ordering with data:  {'account': 'LMB73474977', 'orderType': 'limit', 'price': 4374, 'venue': u'LMJBEX', 'direction': 'buy', 'qty': 17, 'stock': u'PMII'}\n",
      "{u'ok': False, u'error': u'No venue exists with the symbol LMJBEX'}\n"
     ]
    },
    {
     "name": "stderr",
     "output_type": "stream",
     "text": [
      "INFO:requests.packages.urllib3.connectionpool:Starting new HTTPS connection (1): api.stockfighter.io\n",
      "DEBUG:requests.packages.urllib3.connectionpool:\"POST /ob/api/venues/LMJBEX/stocks/PMII/orders HTTP/1.1\" 404 62\n"
     ]
    },
    {
     "name": "stdout",
     "output_type": "stream",
     "text": [
      "42772 0 -6\n",
      "ordering with data:  {'account': 'LMB73474977', 'orderType': 'limit', 'price': 4374, 'venue': u'LMJBEX', 'direction': 'buy', 'qty': 17, 'stock': u'PMII'}\n",
      "{u'ok': False, u'error': u'No venue exists with the symbol LMJBEX'}\n"
     ]
    },
    {
     "name": "stderr",
     "output_type": "stream",
     "text": [
      "INFO:requests.packages.urllib3.connectionpool:Starting new HTTPS connection (1): api.stockfighter.io\n",
      "DEBUG:requests.packages.urllib3.connectionpool:\"POST /ob/api/venues/LMJBEX/stocks/PMII/orders HTTP/1.1\" 404 62\n"
     ]
    },
    {
     "name": "stdout",
     "output_type": "stream",
     "text": [
      "42772 0 -6\n",
      "ordering with data:  {'account': 'LMB73474977', 'orderType': 'limit', 'price': 4374, 'venue': u'LMJBEX', 'direction': 'buy', 'qty': 17, 'stock': u'PMII'}\n",
      "{u'ok': False, u'error': u'No venue exists with the symbol LMJBEX'}\n"
     ]
    },
    {
     "name": "stderr",
     "output_type": "stream",
     "text": [
      "INFO:requests.packages.urllib3.connectionpool:Starting new HTTPS connection (1): api.stockfighter.io\n",
      "DEBUG:requests.packages.urllib3.connectionpool:\"POST /ob/api/venues/LMJBEX/stocks/PMII/orders HTTP/1.1\" 404 62\n"
     ]
    },
    {
     "name": "stdout",
     "output_type": "stream",
     "text": [
      "42772 0 -6\n",
      "ordering with data:  {'account': 'LMB73474977', 'orderType': 'limit', 'price': 4374, 'venue': u'LMJBEX', 'direction': 'buy', 'qty': 17, 'stock': u'PMII'}\n",
      "{u'ok': False, u'error': u'No venue exists with the symbol LMJBEX'}\n"
     ]
    },
    {
     "name": "stderr",
     "output_type": "stream",
     "text": [
      "INFO:requests.packages.urllib3.connectionpool:Starting new HTTPS connection (1): api.stockfighter.io\n",
      "DEBUG:requests.packages.urllib3.connectionpool:\"POST /ob/api/venues/LMJBEX/stocks/PMII/orders HTTP/1.1\" 404 62\n"
     ]
    },
    {
     "name": "stdout",
     "output_type": "stream",
     "text": [
      "42772 0 -6\n",
      "ordering with data:  {'account': 'LMB73474977', 'orderType': 'limit', 'price': 4374, 'venue': u'LMJBEX', 'direction': 'buy', 'qty': 17, 'stock': u'PMII'}\n",
      "{u'ok': False, u'error': u'No venue exists with the symbol LMJBEX'}\n"
     ]
    },
    {
     "name": "stderr",
     "output_type": "stream",
     "text": [
      "INFO:requests.packages.urllib3.connectionpool:Starting new HTTPS connection (1): api.stockfighter.io\n",
      "DEBUG:requests.packages.urllib3.connectionpool:\"POST /ob/api/venues/LMJBEX/stocks/PMII/orders HTTP/1.1\" 404 62\n"
     ]
    },
    {
     "name": "stdout",
     "output_type": "stream",
     "text": [
      "42772 0 -6\n",
      "ordering with data:  {'account': 'LMB73474977', 'orderType': 'limit', 'price': 4395, 'venue': u'LMJBEX', 'direction': 'buy', 'qty': 17, 'stock': u'PMII'}\n",
      "{u'ok': False, u'error': u'No venue exists with the symbol LMJBEX'}\n"
     ]
    },
    {
     "name": "stderr",
     "output_type": "stream",
     "text": [
      "INFO:requests.packages.urllib3.connectionpool:Starting new HTTPS connection (1): api.stockfighter.io\n",
      "DEBUG:requests.packages.urllib3.connectionpool:\"POST /ob/api/venues/LMJBEX/stocks/PMII/orders HTTP/1.1\" 404 62\n"
     ]
    },
    {
     "name": "stdout",
     "output_type": "stream",
     "text": [
      "42772 0 -6\n",
      "ordering with data:  {'account': 'LMB73474977', 'orderType': 'limit', 'price': 4416, 'venue': u'LMJBEX', 'direction': 'buy', 'qty': 17, 'stock': u'PMII'}\n",
      "{u'ok': False, u'error': u'No venue exists with the symbol LMJBEX'}\n"
     ]
    },
    {
     "name": "stderr",
     "output_type": "stream",
     "text": [
      "INFO:requests.packages.urllib3.connectionpool:Starting new HTTPS connection (1): api.stockfighter.io\n",
      "DEBUG:requests.packages.urllib3.connectionpool:\"POST /ob/api/venues/LMJBEX/stocks/PMII/orders HTTP/1.1\" 404 62\n"
     ]
    },
    {
     "name": "stdout",
     "output_type": "stream",
     "text": [
      "42772 0 -6\n",
      "42772 0 -6\n",
      "42772 0 -6\n",
      "42772 0 -6\n",
      "42772 0 -6\n",
      "ordering with data:  {'account': 'LMB73474977', 'orderType': 'limit', 'price': 4377, 'venue': u'LMJBEX', 'direction': 'buy', 'qty': 17, 'stock': u'PMII'}\n",
      "{u'ok': False, u'error': u'No venue exists with the symbol LMJBEX'}\n"
     ]
    },
    {
     "name": "stderr",
     "output_type": "stream",
     "text": [
      "INFO:requests.packages.urllib3.connectionpool:Starting new HTTPS connection (1): api.stockfighter.io\n",
      "DEBUG:requests.packages.urllib3.connectionpool:\"POST /ob/api/venues/LMJBEX/stocks/PMII/orders HTTP/1.1\" 404 62\n"
     ]
    },
    {
     "name": "stdout",
     "output_type": "stream",
     "text": [
      "42772 0 -6\n",
      "ordering with data:  {'account': 'LMB73474977', 'orderType': 'limit', 'price': 4356, 'venue': u'LMJBEX', 'direction': 'buy', 'qty': 17, 'stock': u'PMII'}\n",
      "{u'ok': False, u'error': u'No venue exists with the symbol LMJBEX'}\n"
     ]
    },
    {
     "name": "stderr",
     "output_type": "stream",
     "text": [
      "INFO:requests.packages.urllib3.connectionpool:Starting new HTTPS connection (1): api.stockfighter.io\n",
      "DEBUG:requests.packages.urllib3.connectionpool:\"POST /ob/api/venues/LMJBEX/stocks/PMII/orders HTTP/1.1\" 404 62\n"
     ]
    },
    {
     "name": "stdout",
     "output_type": "stream",
     "text": [
      "42772 0 -6\n",
      "ordering with data:  {'account': 'LMB73474977', 'orderType': 'limit', 'price': 4335, 'venue': u'LMJBEX', 'direction': 'buy', 'qty': 17, 'stock': u'PMII'}\n",
      "{u'ok': False, u'error': u'No venue exists with the symbol LMJBEX'}\n"
     ]
    },
    {
     "name": "stderr",
     "output_type": "stream",
     "text": [
      "INFO:requests.packages.urllib3.connectionpool:Starting new HTTPS connection (1): api.stockfighter.io\n",
      "DEBUG:requests.packages.urllib3.connectionpool:\"POST /ob/api/venues/LMJBEX/stocks/PMII/orders HTTP/1.1\" 404 62\n"
     ]
    },
    {
     "name": "stdout",
     "output_type": "stream",
     "text": [
      "42772 0 -6\n",
      "ordering with data:  {'account': 'LMB73474977', 'orderType': 'limit', 'price': 4335, 'venue': u'LMJBEX', 'direction': 'buy', 'qty': 17, 'stock': u'PMII'}\n",
      "{u'ok': False, u'error': u'No venue exists with the symbol LMJBEX'}\n"
     ]
    },
    {
     "name": "stderr",
     "output_type": "stream",
     "text": [
      "INFO:requests.packages.urllib3.connectionpool:Starting new HTTPS connection (1): api.stockfighter.io\n",
      "DEBUG:requests.packages.urllib3.connectionpool:\"POST /ob/api/venues/LMJBEX/stocks/PMII/orders HTTP/1.1\" 404 62\n"
     ]
    },
    {
     "name": "stdout",
     "output_type": "stream",
     "text": [
      "42772 0 -6\n",
      "ordering with data:  {'account': 'LMB73474977', 'orderType': 'limit', 'price': 4335, 'venue': u'LMJBEX', 'direction': 'buy', 'qty': 17, 'stock': u'PMII'}\n",
      "{u'ok': False, u'error': u'No venue exists with the symbol LMJBEX'}\n"
     ]
    },
    {
     "name": "stderr",
     "output_type": "stream",
     "text": [
      "INFO:requests.packages.urllib3.connectionpool:Starting new HTTPS connection (1): api.stockfighter.io\n",
      "DEBUG:requests.packages.urllib3.connectionpool:\"POST /ob/api/venues/LMJBEX/stocks/PMII/orders HTTP/1.1\" 404 62\n"
     ]
    },
    {
     "name": "stdout",
     "output_type": "stream",
     "text": [
      "42772 0 -6\n",
      "ordering with data:  {'account': 'LMB73474977', 'orderType': 'limit', 'price': 4335, 'venue': u'LMJBEX', 'direction': 'buy', 'qty': 17, 'stock': u'PMII'}\n",
      "{u'ok': False, u'error': u'No venue exists with the symbol LMJBEX'}\n",
      "42772 0 -6\n",
      "ordering with data:  {'account': 'LMB73474977', 'orderType': 'limit', 'price': 4335, 'venue': u'LMJBEX', 'direction': 'buy', 'qty': 17, 'stock': u'PMII'}\n"
     ]
    },
    {
     "name": "stderr",
     "output_type": "stream",
     "text": [
      "INFO:requests.packages.urllib3.connectionpool:Starting new HTTPS connection (1): api.stockfighter.io\n",
      "DEBUG:requests.packages.urllib3.connectionpool:\"POST /ob/api/venues/LMJBEX/stocks/PMII/orders HTTP/1.1\" 404 62\n",
      "INFO:requests.packages.urllib3.connectionpool:Starting new HTTPS connection (1): api.stockfighter.io\n",
      "DEBUG:requests.packages.urllib3.connectionpool:\"POST /ob/api/venues/LMJBEX/stocks/PMII/orders HTTP/1.1\" 404 62\n"
     ]
    },
    {
     "name": "stdout",
     "output_type": "stream",
     "text": [
      "{u'ok': False, u'error': u'No venue exists with the symbol LMJBEX'}\n",
      "42772 0 -6\n",
      "ordering with data:  {'account': 'LMB73474977', 'orderType': 'limit', 'price': 4335, 'venue': u'LMJBEX', 'direction': 'buy', 'qty': 17, 'stock': u'PMII'}\n",
      "{u'ok': False, u'error': u'No venue exists with the symbol LMJBEX'}\n"
     ]
    },
    {
     "name": "stderr",
     "output_type": "stream",
     "text": [
      "INFO:requests.packages.urllib3.connectionpool:Starting new HTTPS connection (1): api.stockfighter.io\n",
      "DEBUG:requests.packages.urllib3.connectionpool:\"POST /ob/api/venues/LMJBEX/stocks/PMII/orders HTTP/1.1\" 404 62\n"
     ]
    },
    {
     "name": "stdout",
     "output_type": "stream",
     "text": [
      "42772 0 -6\n",
      "ordering with data:  {'account': 'LMB73474977', 'orderType': 'limit', 'price': 4335, 'venue': u'LMJBEX', 'direction': 'buy', 'qty': 17, 'stock': u'PMII'}\n",
      "{u'ok': False, u'error': u'No venue exists with the symbol LMJBEX'}\n"
     ]
    },
    {
     "name": "stderr",
     "output_type": "stream",
     "text": [
      "INFO:requests.packages.urllib3.connectionpool:Starting new HTTPS connection (1): api.stockfighter.io\n",
      "DEBUG:requests.packages.urllib3.connectionpool:\"POST /ob/api/venues/LMJBEX/stocks/PMII/orders HTTP/1.1\" 404 62\n"
     ]
    },
    {
     "name": "stdout",
     "output_type": "stream",
     "text": [
      "42772 0 -6\n",
      "ordering with data:  {'account': 'LMB73474977', 'orderType': 'limit', 'price': 4335, 'venue': u'LMJBEX', 'direction': 'buy', 'qty': 17, 'stock': u'PMII'}\n",
      "{u'ok': False, u'error': u'No venue exists with the symbol LMJBEX'}\n"
     ]
    },
    {
     "name": "stderr",
     "output_type": "stream",
     "text": [
      "INFO:requests.packages.urllib3.connectionpool:Starting new HTTPS connection (1): api.stockfighter.io\n",
      "DEBUG:requests.packages.urllib3.connectionpool:\"POST /ob/api/venues/LMJBEX/stocks/PMII/orders HTTP/1.1\" 404 62\n"
     ]
    },
    {
     "name": "stdout",
     "output_type": "stream",
     "text": [
      "42772 0 -6\n",
      "ordering with data:  {'account': 'LMB73474977', 'orderType': 'limit', 'price': 4335, 'venue': u'LMJBEX', 'direction': 'buy', 'qty': 17, 'stock': u'PMII'}\n",
      "{u'ok': False, u'error': u'No venue exists with the symbol LMJBEX'}\n"
     ]
    },
    {
     "name": "stderr",
     "output_type": "stream",
     "text": [
      "INFO:requests.packages.urllib3.connectionpool:Starting new HTTPS connection (1): api.stockfighter.io\n",
      "DEBUG:requests.packages.urllib3.connectionpool:\"POST /ob/api/venues/LMJBEX/stocks/PMII/orders HTTP/1.1\" 404 62\n"
     ]
    },
    {
     "name": "stdout",
     "output_type": "stream",
     "text": [
      "42772 0 -6\n",
      "ordering with data:  {'account': 'LMB73474977', 'orderType': 'limit', 'price': 4335, 'venue': u'LMJBEX', 'direction': 'buy', 'qty': 17, 'stock': u'PMII'}\n",
      "{u'ok': False, u'error': u'No venue exists with the symbol LMJBEX'}\n"
     ]
    },
    {
     "name": "stderr",
     "output_type": "stream",
     "text": [
      "INFO:requests.packages.urllib3.connectionpool:Starting new HTTPS connection (1): api.stockfighter.io\n",
      "DEBUG:requests.packages.urllib3.connectionpool:\"POST /ob/api/venues/LMJBEX/stocks/PMII/orders HTTP/1.1\" 404 62\n"
     ]
    },
    {
     "name": "stdout",
     "output_type": "stream",
     "text": [
      "42772 0 -6\n",
      "ordering with data:  {'account': 'LMB73474977', 'orderType': 'limit', 'price': 4335, 'venue': u'LMJBEX', 'direction': 'buy', 'qty': 17, 'stock': u'PMII'}\n",
      "{u'ok': False, u'error': u'No venue exists with the symbol LMJBEX'}\n"
     ]
    },
    {
     "name": "stderr",
     "output_type": "stream",
     "text": [
      "INFO:requests.packages.urllib3.connectionpool:Starting new HTTPS connection (1): api.stockfighter.io\n",
      "DEBUG:requests.packages.urllib3.connectionpool:\"POST /ob/api/venues/LMJBEX/stocks/PMII/orders HTTP/1.1\" 404 62\n"
     ]
    },
    {
     "name": "stdout",
     "output_type": "stream",
     "text": [
      "42772 0 -6\n",
      "ordering with data:  {'account': 'LMB73474977', 'orderType': 'limit', 'price': 4356, 'venue': u'LMJBEX', 'direction': 'buy', 'qty': 17, 'stock': u'PMII'}\n",
      "{u'ok': False, u'error': u'No venue exists with the symbol LMJBEX'}\n"
     ]
    },
    {
     "name": "stderr",
     "output_type": "stream",
     "text": [
      "INFO:requests.packages.urllib3.connectionpool:Starting new HTTPS connection (1): api.stockfighter.io\n",
      "DEBUG:requests.packages.urllib3.connectionpool:\"POST /ob/api/venues/LMJBEX/stocks/PMII/orders HTTP/1.1\" 404 62\n"
     ]
    },
    {
     "name": "stdout",
     "output_type": "stream",
     "text": [
      "42772 0 -6\n",
      "ordering with data:  {'account': 'LMB73474977', 'orderType': 'limit', 'price': 4377, 'venue': u'LMJBEX', 'direction': 'buy', 'qty': 17, 'stock': u'PMII'}\n",
      "{u'ok': False, u'error': u'No venue exists with the symbol LMJBEX'}\n"
     ]
    },
    {
     "name": "stderr",
     "output_type": "stream",
     "text": [
      "INFO:requests.packages.urllib3.connectionpool:Starting new HTTPS connection (1): api.stockfighter.io\n",
      "DEBUG:requests.packages.urllib3.connectionpool:\"POST /ob/api/venues/LMJBEX/stocks/PMII/orders HTTP/1.1\" 404 62\n"
     ]
    },
    {
     "name": "stdout",
     "output_type": "stream",
     "text": [
      "42772 0 -6\n",
      "42772 0 -6\n",
      "ordering with data:  {'account': 'LMB73474977', 'orderType': 'limit', 'price': 4227, 'venue': u'LMJBEX', 'direction': 'buy', 'qty': 17, 'stock': u'PMII'}\n",
      "{u'ok': False, u'error': u'No venue exists with the symbol LMJBEX'}\n"
     ]
    },
    {
     "name": "stderr",
     "output_type": "stream",
     "text": [
      "INFO:requests.packages.urllib3.connectionpool:Starting new HTTPS connection (1): api.stockfighter.io\n",
      "DEBUG:requests.packages.urllib3.connectionpool:\"POST /ob/api/venues/LMJBEX/stocks/PMII/orders HTTP/1.1\" 404 62\n"
     ]
    },
    {
     "name": "stdout",
     "output_type": "stream",
     "text": [
      "42772 0 -6\n",
      "ordering with data:  {'account': 'LMB73474977', 'orderType': 'limit', 'price': 4207, 'venue': u'LMJBEX', 'direction': 'buy', 'qty': 17, 'stock': u'PMII'}\n",
      "{u'ok': False, u'error': u'No venue exists with the symbol LMJBEX'}\n"
     ]
    },
    {
     "name": "stderr",
     "output_type": "stream",
     "text": [
      "INFO:requests.packages.urllib3.connectionpool:Starting new HTTPS connection (1): api.stockfighter.io\n",
      "DEBUG:requests.packages.urllib3.connectionpool:\"POST /ob/api/venues/LMJBEX/stocks/PMII/orders HTTP/1.1\" 404 62\n"
     ]
    },
    {
     "name": "stdout",
     "output_type": "stream",
     "text": [
      "42772 0 -6\n",
      "ordering with data:  {'account': 'LMB73474977', 'orderType': 'limit', 'price': 4187, 'venue': u'LMJBEX', 'direction': 'buy', 'qty': 17, 'stock': u'PMII'}\n",
      "{u'ok': False, u'error': u'No venue exists with the symbol LMJBEX'}\n"
     ]
    },
    {
     "name": "stderr",
     "output_type": "stream",
     "text": [
      "INFO:requests.packages.urllib3.connectionpool:Starting new HTTPS connection (1): api.stockfighter.io\n",
      "DEBUG:requests.packages.urllib3.connectionpool:\"POST /ob/api/venues/LMJBEX/stocks/PMII/orders HTTP/1.1\" 404 62\n"
     ]
    },
    {
     "name": "stdout",
     "output_type": "stream",
     "text": [
      "42772 0 -6\n",
      "ordering with data:  {'account': 'LMB73474977', 'orderType': 'limit', 'price': 4187, 'venue': u'LMJBEX', 'direction': 'buy', 'qty': 17, 'stock': u'PMII'}\n",
      "{u'ok': False, u'error': u'No venue exists with the symbol LMJBEX'}\n"
     ]
    },
    {
     "name": "stderr",
     "output_type": "stream",
     "text": [
      "INFO:requests.packages.urllib3.connectionpool:Starting new HTTPS connection (1): api.stockfighter.io\n",
      "DEBUG:requests.packages.urllib3.connectionpool:\"POST /ob/api/venues/LMJBEX/stocks/PMII/orders HTTP/1.1\" 404 62\n"
     ]
    },
    {
     "name": "stdout",
     "output_type": "stream",
     "text": [
      "42772 0 -6\n",
      "ordering with data:  {'account': 'LMB73474977', 'orderType': 'limit', 'price': 4187, 'venue': u'LMJBEX', 'direction': 'buy', 'qty': 17, 'stock': u'PMII'}\n",
      "{u'ok': False, u'error': u'No venue exists with the symbol LMJBEX'}\n"
     ]
    },
    {
     "name": "stderr",
     "output_type": "stream",
     "text": [
      "INFO:requests.packages.urllib3.connectionpool:Starting new HTTPS connection (1): api.stockfighter.io\n",
      "DEBUG:requests.packages.urllib3.connectionpool:\"POST /ob/api/venues/LMJBEX/stocks/PMII/orders HTTP/1.1\" 404 62\n"
     ]
    },
    {
     "name": "stdout",
     "output_type": "stream",
     "text": [
      "42772 0 -6\n",
      "ordering with data:  {'account': 'LMB73474977', 'orderType': 'limit', 'price': 4187, 'venue': u'LMJBEX', 'direction': 'buy', 'qty': 17, 'stock': u'PMII'}\n",
      "{u'ok': False, u'error': u'No venue exists with the symbol LMJBEX'}\n"
     ]
    },
    {
     "name": "stderr",
     "output_type": "stream",
     "text": [
      "INFO:requests.packages.urllib3.connectionpool:Starting new HTTPS connection (1): api.stockfighter.io\n",
      "DEBUG:requests.packages.urllib3.connectionpool:\"POST /ob/api/venues/LMJBEX/stocks/PMII/orders HTTP/1.1\" 404 62\n"
     ]
    },
    {
     "name": "stdout",
     "output_type": "stream",
     "text": [
      "42772 0 -6\n",
      "ordering with data:  {'account': 'LMB73474977', 'orderType': 'limit', 'price': 4187, 'venue': u'LMJBEX', 'direction': 'buy', 'qty': 17, 'stock': u'PMII'}\n",
      "{u'ok': False, u'error': u'No venue exists with the symbol LMJBEX'}\n"
     ]
    },
    {
     "name": "stderr",
     "output_type": "stream",
     "text": [
      "INFO:requests.packages.urllib3.connectionpool:Starting new HTTPS connection (1): api.stockfighter.io\n",
      "DEBUG:requests.packages.urllib3.connectionpool:\"POST /ob/api/venues/LMJBEX/stocks/PMII/orders HTTP/1.1\" 404 62\n"
     ]
    },
    {
     "name": "stdout",
     "output_type": "stream",
     "text": [
      "42772 0 -6\n",
      "ordering with data:  {'account': 'LMB73474977', 'orderType': 'limit', 'price': 4174, 'venue': u'LMJBEX', 'direction': 'buy', 'qty': 55, 'stock': u'PMII'}\n",
      "{u'ok': False, u'error': u'No venue exists with the symbol LMJBEX'}\n"
     ]
    },
    {
     "name": "stderr",
     "output_type": "stream",
     "text": [
      "INFO:requests.packages.urllib3.connectionpool:Starting new HTTPS connection (1): api.stockfighter.io\n",
      "DEBUG:requests.packages.urllib3.connectionpool:\"POST /ob/api/venues/LMJBEX/stocks/PMII/orders HTTP/1.1\" 404 62\n"
     ]
    },
    {
     "name": "stdout",
     "output_type": "stream",
     "text": [
      "42772 0 -6\n",
      "ordering with data:  {'account': 'LMB73474977', 'orderType': 'limit', 'price': 4174, 'venue': u'LMJBEX', 'direction': 'buy', 'qty': 55, 'stock': u'PMII'}\n",
      "{u'ok': False, u'error': u'No venue exists with the symbol LMJBEX'}\n"
     ]
    },
    {
     "name": "stderr",
     "output_type": "stream",
     "text": [
      "INFO:requests.packages.urllib3.connectionpool:Starting new HTTPS connection (1): api.stockfighter.io\n",
      "DEBUG:requests.packages.urllib3.connectionpool:\"POST /ob/api/venues/LMJBEX/stocks/PMII/orders HTTP/1.1\" 404 62\n"
     ]
    },
    {
     "name": "stdout",
     "output_type": "stream",
     "text": [
      "42772 0 -6\n",
      "ordering with data:  {'account': 'LMB73474977', 'orderType': 'limit', 'price': 4174, 'venue': u'LMJBEX', 'direction': 'buy', 'qty': 46, 'stock': u'PMII'}\n",
      "{u'ok': False, u'error': u'No venue exists with the symbol LMJBEX'}\n"
     ]
    },
    {
     "name": "stderr",
     "output_type": "stream",
     "text": [
      "INFO:requests.packages.urllib3.connectionpool:Starting new HTTPS connection (1): api.stockfighter.io\n",
      "DEBUG:requests.packages.urllib3.connectionpool:\"POST /ob/api/venues/LMJBEX/stocks/PMII/orders HTTP/1.1\" 404 62\n"
     ]
    },
    {
     "name": "stdout",
     "output_type": "stream",
     "text": [
      "42772 0 -6\n",
      "ordering with data:  {'account': 'LMB73474977', 'orderType': 'limit', 'price': 4174, 'venue': u'LMJBEX', 'direction': 'buy', 'qty': 46, 'stock': u'PMII'}\n",
      "{u'ok': False, u'error': u'No venue exists with the symbol LMJBEX'}\n"
     ]
    },
    {
     "name": "stderr",
     "output_type": "stream",
     "text": [
      "INFO:requests.packages.urllib3.connectionpool:Starting new HTTPS connection (1): api.stockfighter.io\n",
      "DEBUG:requests.packages.urllib3.connectionpool:\"POST /ob/api/venues/LMJBEX/stocks/PMII/orders HTTP/1.1\" 404 62\n"
     ]
    },
    {
     "name": "stdout",
     "output_type": "stream",
     "text": [
      "42772 0 -6\n",
      "ordering with data:  {'account': 'LMB73474977', 'orderType': 'limit', 'price': 4174, 'venue': u'LMJBEX', 'direction': 'buy', 'qty': 46, 'stock': u'PMII'}\n",
      "{u'ok': False, u'error': u'No venue exists with the symbol LMJBEX'}\n"
     ]
    },
    {
     "name": "stderr",
     "output_type": "stream",
     "text": [
      "INFO:requests.packages.urllib3.connectionpool:Starting new HTTPS connection (1): api.stockfighter.io\n",
      "DEBUG:requests.packages.urllib3.connectionpool:\"POST /ob/api/venues/LMJBEX/stocks/PMII/orders HTTP/1.1\" 404 62\n"
     ]
    },
    {
     "name": "stdout",
     "output_type": "stream",
     "text": [
      "42772 0 -6\n",
      "ordering with data:  {'account': 'LMB73474977', 'orderType': 'limit', 'price': 4174, 'venue': u'LMJBEX', 'direction': 'buy', 'qty': 37, 'stock': u'PMII'}\n",
      "{u'ok': False, u'error': u'No venue exists with the symbol LMJBEX'}\n"
     ]
    },
    {
     "name": "stderr",
     "output_type": "stream",
     "text": [
      "INFO:requests.packages.urllib3.connectionpool:Starting new HTTPS connection (1): api.stockfighter.io\n",
      "DEBUG:requests.packages.urllib3.connectionpool:\"POST /ob/api/venues/LMJBEX/stocks/PMII/orders HTTP/1.1\" 404 62\n"
     ]
    },
    {
     "name": "stdout",
     "output_type": "stream",
     "text": [
      "42772 0 -6\n",
      "ordering with data:  {'account': 'LMB73474977', 'orderType': 'limit', 'price': 4174, 'venue': u'LMJBEX', 'direction': 'buy', 'qty': 37, 'stock': u'PMII'}\n",
      "{u'ok': False, u'error': u'No venue exists with the symbol LMJBEX'}\n"
     ]
    },
    {
     "name": "stderr",
     "output_type": "stream",
     "text": [
      "INFO:requests.packages.urllib3.connectionpool:Starting new HTTPS connection (1): api.stockfighter.io\n",
      "DEBUG:requests.packages.urllib3.connectionpool:\"POST /ob/api/venues/LMJBEX/stocks/PMII/orders HTTP/1.1\" 404 62\n"
     ]
    },
    {
     "name": "stdout",
     "output_type": "stream",
     "text": [
      "42772 0 -6\n",
      "ordering with data:  {'account': 'LMB73474977', 'orderType': 'limit', 'price': 4174, 'venue': u'LMJBEX', 'direction': 'buy', 'qty': 37, 'stock': u'PMII'}\n",
      "{u'ok': False, u'error': u'No venue exists with the symbol LMJBEX'}\n"
     ]
    },
    {
     "name": "stderr",
     "output_type": "stream",
     "text": [
      "INFO:requests.packages.urllib3.connectionpool:Starting new HTTPS connection (1): api.stockfighter.io\n",
      "DEBUG:requests.packages.urllib3.connectionpool:\"POST /ob/api/venues/LMJBEX/stocks/PMII/orders HTTP/1.1\" 404 62\n"
     ]
    },
    {
     "name": "stdout",
     "output_type": "stream",
     "text": [
      "42772 0 -6\n",
      "ordering with data:  {'account': 'LMB73474977', 'orderType': 'limit', 'price': 4174, 'venue': u'LMJBEX', 'direction': 'buy', 'qty': 28, 'stock': u'PMII'}\n",
      "{u'ok': False, u'error': u'No venue exists with the symbol LMJBEX'}\n"
     ]
    },
    {
     "name": "stderr",
     "output_type": "stream",
     "text": [
      "INFO:requests.packages.urllib3.connectionpool:Starting new HTTPS connection (1): api.stockfighter.io\n",
      "DEBUG:requests.packages.urllib3.connectionpool:\"POST /ob/api/venues/LMJBEX/stocks/PMII/orders HTTP/1.1\" 404 62\n"
     ]
    },
    {
     "name": "stdout",
     "output_type": "stream",
     "text": [
      "42772 0 -6\n",
      "ordering with data:  {'account': 'LMB73474977', 'orderType': 'limit', 'price': 4174, 'venue': u'LMJBEX', 'direction': 'buy', 'qty': 28, 'stock': u'PMII'}\n",
      "{u'ok': False, u'error': u'No venue exists with the symbol LMJBEX'}\n"
     ]
    },
    {
     "name": "stderr",
     "output_type": "stream",
     "text": [
      "INFO:requests.packages.urllib3.connectionpool:Starting new HTTPS connection (1): api.stockfighter.io\n",
      "DEBUG:requests.packages.urllib3.connectionpool:\"POST /ob/api/venues/LMJBEX/stocks/PMII/orders HTTP/1.1\" 404 62\n"
     ]
    },
    {
     "name": "stdout",
     "output_type": "stream",
     "text": [
      "42772 0 -6\n",
      "ordering with data:  {'account': 'LMB73474977', 'orderType': 'limit', 'price': 4174, 'venue': u'LMJBEX', 'direction': 'buy', 'qty': 28, 'stock': u'PMII'}\n",
      "{u'ok': False, u'error': u'No venue exists with the symbol LMJBEX'}\n"
     ]
    },
    {
     "name": "stderr",
     "output_type": "stream",
     "text": [
      "INFO:requests.packages.urllib3.connectionpool:Starting new HTTPS connection (1): api.stockfighter.io\n",
      "DEBUG:requests.packages.urllib3.connectionpool:\"POST /ob/api/venues/LMJBEX/stocks/PMII/orders HTTP/1.1\" 404 62\n"
     ]
    },
    {
     "name": "stdout",
     "output_type": "stream",
     "text": [
      "42772 0 -6\n",
      "ordering with data:  {'account': 'LMB73474977', 'orderType': 'limit', 'price': 4174, 'venue': u'LMJBEX', 'direction': 'buy', 'qty': 28, 'stock': u'PMII'}\n",
      "{u'ok': False, u'error': u'No venue exists with the symbol LMJBEX'}\n"
     ]
    },
    {
     "name": "stderr",
     "output_type": "stream",
     "text": [
      "INFO:requests.packages.urllib3.connectionpool:Starting new HTTPS connection (1): api.stockfighter.io\n",
      "DEBUG:requests.packages.urllib3.connectionpool:\"POST /ob/api/venues/LMJBEX/stocks/PMII/orders HTTP/1.1\" 404 62\n"
     ]
    },
    {
     "name": "stdout",
     "output_type": "stream",
     "text": [
      "42772 0 -6\n",
      "ordering with data:  {'account': 'LMB73474977', 'orderType': 'limit', 'price': 4174, 'venue': u'LMJBEX', 'direction': 'buy', 'qty': 28, 'stock': u'PMII'}\n",
      "{u'ok': False, u'error': u'No venue exists with the symbol LMJBEX'}\n"
     ]
    },
    {
     "name": "stderr",
     "output_type": "stream",
     "text": [
      "INFO:requests.packages.urllib3.connectionpool:Starting new HTTPS connection (1): api.stockfighter.io\n",
      "DEBUG:requests.packages.urllib3.connectionpool:\"POST /ob/api/venues/LMJBEX/stocks/PMII/orders HTTP/1.1\" 404 62\n"
     ]
    },
    {
     "name": "stdout",
     "output_type": "stream",
     "text": [
      "42772 0 -6\n",
      "ordering with data:  {'account': 'LMB73474977', 'orderType': 'limit', 'price': 4174, 'venue': u'LMJBEX', 'direction': 'buy', 'qty': 28, 'stock': u'PMII'}\n",
      "{u'ok': False, u'error': u'No venue exists with the symbol LMJBEX'}\n"
     ]
    },
    {
     "name": "stderr",
     "output_type": "stream",
     "text": [
      "INFO:requests.packages.urllib3.connectionpool:Starting new HTTPS connection (1): api.stockfighter.io\n",
      "DEBUG:requests.packages.urllib3.connectionpool:\"POST /ob/api/venues/LMJBEX/stocks/PMII/orders HTTP/1.1\" 404 62\n"
     ]
    },
    {
     "name": "stdout",
     "output_type": "stream",
     "text": [
      "42772 0 -6\n",
      "ordering with data:  {'account': 'LMB73474977', 'orderType': 'limit', 'price': 4174, 'venue': u'LMJBEX', 'direction': 'buy', 'qty': 28, 'stock': u'PMII'}\n",
      "{u'ok': False, u'error': u'No venue exists with the symbol LMJBEX'}\n"
     ]
    },
    {
     "name": "stderr",
     "output_type": "stream",
     "text": [
      "INFO:requests.packages.urllib3.connectionpool:Starting new HTTPS connection (1): api.stockfighter.io\n",
      "DEBUG:requests.packages.urllib3.connectionpool:\"POST /ob/api/venues/LMJBEX/stocks/PMII/orders HTTP/1.1\" 404 62\n"
     ]
    },
    {
     "name": "stdout",
     "output_type": "stream",
     "text": [
      "42772 0 -6\n",
      "ordering with data:  {'account': 'LMB73474977', 'orderType': 'limit', 'price': 4174, 'venue': u'LMJBEX', 'direction': 'buy', 'qty': 28, 'stock': u'PMII'}\n",
      "{u'ok': False, u'error': u'No venue exists with the symbol LMJBEX'}\n"
     ]
    },
    {
     "name": "stderr",
     "output_type": "stream",
     "text": [
      "INFO:requests.packages.urllib3.connectionpool:Starting new HTTPS connection (1): api.stockfighter.io\n",
      "DEBUG:requests.packages.urllib3.connectionpool:\"POST /ob/api/venues/LMJBEX/stocks/PMII/orders HTTP/1.1\" 404 62\n"
     ]
    },
    {
     "name": "stdout",
     "output_type": "stream",
     "text": [
      "42772 0 -6\n",
      "ordering with data:  {'account': 'LMB73474977', 'orderType': 'limit', 'price': 4174, 'venue': u'LMJBEX', 'direction': 'buy', 'qty': 28, 'stock': u'PMII'}\n",
      "{u'ok': False, u'error': u'No venue exists with the symbol LMJBEX'}\n"
     ]
    },
    {
     "name": "stderr",
     "output_type": "stream",
     "text": [
      "INFO:requests.packages.urllib3.connectionpool:Starting new HTTPS connection (1): api.stockfighter.io\n",
      "DEBUG:requests.packages.urllib3.connectionpool:\"POST /ob/api/venues/LMJBEX/stocks/PMII/orders HTTP/1.1\" 404 62\n"
     ]
    },
    {
     "name": "stdout",
     "output_type": "stream",
     "text": [
      "42772 0 -6\n",
      "ordering with data:  {'account': 'LMB73474977', 'orderType': 'limit', 'price': 4174, 'venue': u'LMJBEX', 'direction': 'buy', 'qty': 28, 'stock': u'PMII'}\n",
      "{u'ok': False, u'error': u'No venue exists with the symbol LMJBEX'}\n"
     ]
    },
    {
     "name": "stderr",
     "output_type": "stream",
     "text": [
      "INFO:requests.packages.urllib3.connectionpool:Starting new HTTPS connection (1): api.stockfighter.io\n",
      "DEBUG:requests.packages.urllib3.connectionpool:\"POST /ob/api/venues/LMJBEX/stocks/PMII/orders HTTP/1.1\" 404 62\n"
     ]
    },
    {
     "name": "stdout",
     "output_type": "stream",
     "text": [
      "42772 0 -6\n",
      "ordering with data:  {'account': 'LMB73474977', 'orderType': 'limit', 'price': 4174, 'venue': u'LMJBEX', 'direction': 'buy', 'qty': 28, 'stock': u'PMII'}\n",
      "{u'ok': False, u'error': u'No venue exists with the symbol LMJBEX'}\n"
     ]
    },
    {
     "name": "stderr",
     "output_type": "stream",
     "text": [
      "INFO:requests.packages.urllib3.connectionpool:Starting new HTTPS connection (1): api.stockfighter.io\n",
      "DEBUG:requests.packages.urllib3.connectionpool:\"POST /ob/api/venues/LMJBEX/stocks/PMII/orders HTTP/1.1\" 404 62\n"
     ]
    },
    {
     "name": "stdout",
     "output_type": "stream",
     "text": [
      "42772 0 -6\n",
      "ordering with data:  {'account': 'LMB73474977', 'orderType': 'limit', 'price': 4174, 'venue': u'LMJBEX', 'direction': 'buy', 'qty': 28, 'stock': u'PMII'}\n",
      "{u'ok': False, u'error': u'No venue exists with the symbol LMJBEX'}\n"
     ]
    },
    {
     "name": "stderr",
     "output_type": "stream",
     "text": [
      "INFO:requests.packages.urllib3.connectionpool:Starting new HTTPS connection (1): api.stockfighter.io\n",
      "DEBUG:requests.packages.urllib3.connectionpool:\"POST /ob/api/venues/LMJBEX/stocks/PMII/orders HTTP/1.1\" 404 62\n"
     ]
    },
    {
     "name": "stdout",
     "output_type": "stream",
     "text": [
      "42772 0 -6\n",
      "ordering with data:  {'account': 'LMB73474977', 'orderType': 'limit', 'price': 4174, 'venue': u'LMJBEX', 'direction': 'buy', 'qty': 28, 'stock': u'PMII'}\n",
      "{u'ok': False, u'error': u'No venue exists with the symbol LMJBEX'}\n"
     ]
    },
    {
     "name": "stderr",
     "output_type": "stream",
     "text": [
      "INFO:requests.packages.urllib3.connectionpool:Starting new HTTPS connection (1): api.stockfighter.io\n",
      "DEBUG:requests.packages.urllib3.connectionpool:\"POST /ob/api/venues/LMJBEX/stocks/PMII/orders HTTP/1.1\" 404 62\n"
     ]
    },
    {
     "name": "stdout",
     "output_type": "stream",
     "text": [
      "42772 0 -6\n",
      "ordering with data:  {'account': 'LMB73474977', 'orderType': 'limit', 'price': 4174, 'venue': u'LMJBEX', 'direction': 'buy', 'qty': 28, 'stock': u'PMII'}\n",
      "{u'ok': False, u'error': u'No venue exists with the symbol LMJBEX'}\n"
     ]
    },
    {
     "name": "stderr",
     "output_type": "stream",
     "text": [
      "INFO:requests.packages.urllib3.connectionpool:Starting new HTTPS connection (1): api.stockfighter.io\n",
      "DEBUG:requests.packages.urllib3.connectionpool:\"POST /ob/api/venues/LMJBEX/stocks/PMII/orders HTTP/1.1\" 404 62\n"
     ]
    },
    {
     "name": "stdout",
     "output_type": "stream",
     "text": [
      "42772 0 -6\n",
      "ordering with data:  {'account': 'LMB73474977', 'orderType': 'limit', 'price': 4174, 'venue': u'LMJBEX', 'direction': 'buy', 'qty': 28, 'stock': u'PMII'}\n",
      "{u'ok': False, u'error': u'No venue exists with the symbol LMJBEX'}\n"
     ]
    },
    {
     "name": "stderr",
     "output_type": "stream",
     "text": [
      "INFO:requests.packages.urllib3.connectionpool:Starting new HTTPS connection (1): api.stockfighter.io\n",
      "DEBUG:requests.packages.urllib3.connectionpool:\"POST /ob/api/venues/LMJBEX/stocks/PMII/orders HTTP/1.1\" 404 62\n"
     ]
    },
    {
     "name": "stdout",
     "output_type": "stream",
     "text": [
      "42772 0 -6\n",
      "ordering with data:  {'account': 'LMB73474977', 'orderType': 'limit', 'price': 4174, 'venue': u'LMJBEX', 'direction': 'buy', 'qty': 28, 'stock': u'PMII'}\n",
      "{u'ok': False, u'error': u'No venue exists with the symbol LMJBEX'}\n"
     ]
    },
    {
     "name": "stderr",
     "output_type": "stream",
     "text": [
      "INFO:requests.packages.urllib3.connectionpool:Starting new HTTPS connection (1): api.stockfighter.io\n",
      "DEBUG:requests.packages.urllib3.connectionpool:\"POST /ob/api/venues/LMJBEX/stocks/PMII/orders HTTP/1.1\" 404 62\n"
     ]
    },
    {
     "name": "stdout",
     "output_type": "stream",
     "text": [
      "42772 0 -6\n",
      "ordering with data:  {'account': 'LMB73474977', 'orderType': 'limit', 'price': 4174, 'venue': u'LMJBEX', 'direction': 'buy', 'qty': 28, 'stock': u'PMII'}\n",
      "{u'ok': False, u'error': u'No venue exists with the symbol LMJBEX'}\n"
     ]
    },
    {
     "name": "stderr",
     "output_type": "stream",
     "text": [
      "INFO:requests.packages.urllib3.connectionpool:Starting new HTTPS connection (1): api.stockfighter.io\n",
      "DEBUG:requests.packages.urllib3.connectionpool:\"POST /ob/api/venues/LMJBEX/stocks/PMII/orders HTTP/1.1\" 404 62\n"
     ]
    },
    {
     "name": "stdout",
     "output_type": "stream",
     "text": [
      "42772 0 -6\n",
      "ordering with data:  {'account': 'LMB73474977', 'orderType': 'limit', 'price': 4174, 'venue': u'LMJBEX', 'direction': 'buy', 'qty': 28, 'stock': u'PMII'}\n",
      "{u'ok': False, u'error': u'No venue exists with the symbol LMJBEX'}\n"
     ]
    },
    {
     "name": "stderr",
     "output_type": "stream",
     "text": [
      "INFO:requests.packages.urllib3.connectionpool:Starting new HTTPS connection (1): api.stockfighter.io\n",
      "DEBUG:requests.packages.urllib3.connectionpool:\"POST /ob/api/venues/LMJBEX/stocks/PMII/orders HTTP/1.1\" 404 62\n"
     ]
    },
    {
     "name": "stdout",
     "output_type": "stream",
     "text": [
      "42772 0 -6\n",
      "ordering with data:  {'account': 'LMB73474977', 'orderType': 'limit', 'price': 4174, 'venue': u'LMJBEX', 'direction': 'buy', 'qty': 28, 'stock': u'PMII'}\n",
      "{u'ok': False, u'error': u'No venue exists with the symbol LMJBEX'}\n"
     ]
    },
    {
     "name": "stderr",
     "output_type": "stream",
     "text": [
      "INFO:requests.packages.urllib3.connectionpool:Starting new HTTPS connection (1): api.stockfighter.io\n",
      "DEBUG:requests.packages.urllib3.connectionpool:\"POST /ob/api/venues/LMJBEX/stocks/PMII/orders HTTP/1.1\" 404 62\n"
     ]
    },
    {
     "name": "stdout",
     "output_type": "stream",
     "text": [
      "42772 0 -6\n",
      "ordering with data:  {'account': 'LMB73474977', 'orderType': 'limit', 'price': 4174, 'venue': u'LMJBEX', 'direction': 'buy', 'qty': 28, 'stock': u'PMII'}\n",
      "{u'ok': False, u'error': u'No venue exists with the symbol LMJBEX'}\n"
     ]
    },
    {
     "name": "stderr",
     "output_type": "stream",
     "text": [
      "INFO:requests.packages.urllib3.connectionpool:Starting new HTTPS connection (1): api.stockfighter.io\n",
      "DEBUG:requests.packages.urllib3.connectionpool:\"POST /ob/api/venues/LMJBEX/stocks/PMII/orders HTTP/1.1\" 404 62\n"
     ]
    },
    {
     "name": "stdout",
     "output_type": "stream",
     "text": [
      "42772 0 -6\n",
      "ordering with data:  {'account': 'LMB73474977', 'orderType': 'limit', 'price': 4174, 'venue': u'LMJBEX', 'direction': 'buy', 'qty': 28, 'stock': u'PMII'}\n",
      "{u'ok': False, u'error': u'No venue exists with the symbol LMJBEX'}\n"
     ]
    },
    {
     "name": "stderr",
     "output_type": "stream",
     "text": [
      "INFO:requests.packages.urllib3.connectionpool:Starting new HTTPS connection (1): api.stockfighter.io\n",
      "DEBUG:requests.packages.urllib3.connectionpool:\"POST /ob/api/venues/LMJBEX/stocks/PMII/orders HTTP/1.1\" 404 62\n"
     ]
    },
    {
     "name": "stdout",
     "output_type": "stream",
     "text": [
      "42772 0 -6\n",
      "ordering with data:  {'account': 'LMB73474977', 'orderType': 'limit', 'price': 4174, 'venue': u'LMJBEX', 'direction': 'buy', 'qty': 28, 'stock': u'PMII'}\n",
      "{u'ok': False, u'error': u'No venue exists with the symbol LMJBEX'}\n"
     ]
    },
    {
     "name": "stderr",
     "output_type": "stream",
     "text": [
      "INFO:requests.packages.urllib3.connectionpool:Starting new HTTPS connection (1): api.stockfighter.io\n",
      "DEBUG:requests.packages.urllib3.connectionpool:\"POST /ob/api/venues/LMJBEX/stocks/PMII/orders HTTP/1.1\" 404 62\n"
     ]
    },
    {
     "name": "stdout",
     "output_type": "stream",
     "text": [
      "42772 0 -6\n",
      "ordering with data:  {'account': 'LMB73474977', 'orderType': 'limit', 'price': 4174, 'venue': u'LMJBEX', 'direction': 'buy', 'qty': 28, 'stock': u'PMII'}\n",
      "{u'ok': False, u'error': u'No venue exists with the symbol LMJBEX'}\n"
     ]
    },
    {
     "name": "stderr",
     "output_type": "stream",
     "text": [
      "INFO:requests.packages.urllib3.connectionpool:Starting new HTTPS connection (1): api.stockfighter.io\n",
      "DEBUG:requests.packages.urllib3.connectionpool:\"POST /ob/api/venues/LMJBEX/stocks/PMII/orders HTTP/1.1\" 404 62\n"
     ]
    },
    {
     "name": "stdout",
     "output_type": "stream",
     "text": [
      "42772 0 -6\n",
      "ordering with data:  {'account': 'LMB73474977', 'orderType': 'limit', 'price': 4174, 'venue': u'LMJBEX', 'direction': 'buy', 'qty': 28, 'stock': u'PMII'}\n",
      "{u'ok': False, u'error': u'No venue exists with the symbol LMJBEX'}\n"
     ]
    },
    {
     "name": "stderr",
     "output_type": "stream",
     "text": [
      "INFO:requests.packages.urllib3.connectionpool:Starting new HTTPS connection (1): api.stockfighter.io\n",
      "DEBUG:requests.packages.urllib3.connectionpool:\"POST /ob/api/venues/LMJBEX/stocks/PMII/orders HTTP/1.1\" 404 62\n"
     ]
    },
    {
     "name": "stdout",
     "output_type": "stream",
     "text": [
      "42772 0 -6\n",
      "42772 0 -6\n",
      "42772 0 -6\n",
      "42772 0 -6\n",
      "42772 0 -6\n",
      "42772 0 -6\n",
      "42772 0 -6\n",
      "42772 0 -6\n",
      "42772 0 -6\n",
      "42772 0 -6\n",
      "42772 0 -6\n",
      "42772 0 -6\n",
      "42772 0 -6\n",
      "42772 0 -6\n",
      "42772 0 -6\n",
      "ordering with data:  {'account': 'LMB73474977', 'orderType': 'limit', 'price': 4428, 'venue': u'LMJBEX', 'direction': 'buy', 'qty': 32, 'stock': u'PMII'}\n",
      "{u'ok': False, u'error': u'No venue exists with the symbol LMJBEX'}\n"
     ]
    },
    {
     "name": "stderr",
     "output_type": "stream",
     "text": [
      "INFO:requests.packages.urllib3.connectionpool:Starting new HTTPS connection (1): api.stockfighter.io\n",
      "DEBUG:requests.packages.urllib3.connectionpool:\"POST /ob/api/venues/LMJBEX/stocks/PMII/orders HTTP/1.1\" 404 62\n"
     ]
    },
    {
     "name": "stdout",
     "output_type": "stream",
     "text": [
      "42772 0 -6\n",
      "ordering with data:  {'account': 'LMB73474977', 'orderType': 'limit', 'price': 4407, 'venue': u'LMJBEX', 'direction': 'buy', 'qty': 32, 'stock': u'PMII'}\n",
      "{u'ok': False, u'error': u'No venue exists with the symbol LMJBEX'}\n"
     ]
    },
    {
     "name": "stderr",
     "output_type": "stream",
     "text": [
      "INFO:requests.packages.urllib3.connectionpool:Starting new HTTPS connection (1): api.stockfighter.io\n",
      "DEBUG:requests.packages.urllib3.connectionpool:\"POST /ob/api/venues/LMJBEX/stocks/PMII/orders HTTP/1.1\" 404 62\n"
     ]
    },
    {
     "name": "stdout",
     "output_type": "stream",
     "text": [
      "42772 0 -6\n",
      "ordering with data:  {'account': 'LMB73474977', 'orderType': 'limit', 'price': 4386, 'venue': u'LMJBEX', 'direction': 'buy', 'qty': 32, 'stock': u'PMII'}\n",
      "{u'ok': False, u'error': u'No venue exists with the symbol LMJBEX'}\n"
     ]
    },
    {
     "name": "stderr",
     "output_type": "stream",
     "text": [
      "INFO:requests.packages.urllib3.connectionpool:Starting new HTTPS connection (1): api.stockfighter.io\n",
      "DEBUG:requests.packages.urllib3.connectionpool:\"POST /ob/api/venues/LMJBEX/stocks/PMII/orders HTTP/1.1\" 404 62\n"
     ]
    },
    {
     "name": "stdout",
     "output_type": "stream",
     "text": [
      "42772 0 -6\n",
      "ordering with data:  {'account': 'LMB73474977', 'orderType': 'limit', 'price': 4386, 'venue': u'LMJBEX', 'direction': 'buy', 'qty': 32, 'stock': u'PMII'}\n",
      "{u'ok': False, u'error': u'No venue exists with the symbol LMJBEX'}\n"
     ]
    },
    {
     "name": "stderr",
     "output_type": "stream",
     "text": [
      "INFO:requests.packages.urllib3.connectionpool:Starting new HTTPS connection (1): api.stockfighter.io\n",
      "DEBUG:requests.packages.urllib3.connectionpool:\"POST /ob/api/venues/LMJBEX/stocks/PMII/orders HTTP/1.1\" 404 62\n"
     ]
    },
    {
     "name": "stdout",
     "output_type": "stream",
     "text": [
      "42772 0 -6\n",
      "ordering with data:  {'account': 'LMB73474977', 'orderType': 'limit', 'price': 4386, 'venue': u'LMJBEX', 'direction': 'buy', 'qty': 32, 'stock': u'PMII'}\n",
      "{u'ok': False, u'error': u'No venue exists with the symbol LMJBEX'}\n"
     ]
    },
    {
     "name": "stderr",
     "output_type": "stream",
     "text": [
      "INFO:requests.packages.urllib3.connectionpool:Starting new HTTPS connection (1): api.stockfighter.io\n",
      "DEBUG:requests.packages.urllib3.connectionpool:\"POST /ob/api/venues/LMJBEX/stocks/PMII/orders HTTP/1.1\" 404 62\n"
     ]
    },
    {
     "name": "stdout",
     "output_type": "stream",
     "text": [
      "42772 0 -6\n",
      "ordering with data:  {'account': 'LMB73474977', 'orderType': 'limit', 'price': 4386, 'venue': u'LMJBEX', 'direction': 'buy', 'qty': 32, 'stock': u'PMII'}\n",
      "{u'ok': False, u'error': u'No venue exists with the symbol LMJBEX'}\n"
     ]
    },
    {
     "name": "stderr",
     "output_type": "stream",
     "text": [
      "INFO:requests.packages.urllib3.connectionpool:Starting new HTTPS connection (1): api.stockfighter.io\n",
      "DEBUG:requests.packages.urllib3.connectionpool:\"POST /ob/api/venues/LMJBEX/stocks/PMII/orders HTTP/1.1\" 404 62\n"
     ]
    },
    {
     "name": "stdout",
     "output_type": "stream",
     "text": [
      "42772 0 -6\n",
      "ordering with data:  {'account': 'LMB73474977', 'orderType': 'limit', 'price': 4386, 'venue': u'LMJBEX', 'direction': 'buy', 'qty': 32, 'stock': u'PMII'}\n",
      "{u'ok': False, u'error': u'No venue exists with the symbol LMJBEX'}\n"
     ]
    },
    {
     "name": "stderr",
     "output_type": "stream",
     "text": [
      "INFO:requests.packages.urllib3.connectionpool:Starting new HTTPS connection (1): api.stockfighter.io\n",
      "DEBUG:requests.packages.urllib3.connectionpool:\"POST /ob/api/venues/LMJBEX/stocks/PMII/orders HTTP/1.1\" 404 62\n"
     ]
    },
    {
     "name": "stdout",
     "output_type": "stream",
     "text": [
      "42772 0 -6\n",
      "ordering with data:  {'account': 'LMB73474977', 'orderType': 'limit', 'price': 4386, 'venue': u'LMJBEX', 'direction': 'buy', 'qty': 32, 'stock': u'PMII'}\n",
      "{u'ok': False, u'error': u'No venue exists with the symbol LMJBEX'}\n"
     ]
    },
    {
     "name": "stderr",
     "output_type": "stream",
     "text": [
      "INFO:requests.packages.urllib3.connectionpool:Starting new HTTPS connection (1): api.stockfighter.io\n",
      "DEBUG:requests.packages.urllib3.connectionpool:\"POST /ob/api/venues/LMJBEX/stocks/PMII/orders HTTP/1.1\" 404 62\n"
     ]
    },
    {
     "name": "stdout",
     "output_type": "stream",
     "text": [
      "42772 0 -6\n",
      "ordering with data:  {'account': 'LMB73474977', 'orderType': 'limit', 'price': 4386, 'venue': u'LMJBEX', 'direction': 'buy', 'qty': 32, 'stock': u'PMII'}\n",
      "{u'ok': False, u'error': u'No venue exists with the symbol LMJBEX'}\n"
     ]
    },
    {
     "name": "stderr",
     "output_type": "stream",
     "text": [
      "INFO:requests.packages.urllib3.connectionpool:Starting new HTTPS connection (1): api.stockfighter.io\n",
      "DEBUG:requests.packages.urllib3.connectionpool:\"POST /ob/api/venues/LMJBEX/stocks/PMII/orders HTTP/1.1\" 404 62\n"
     ]
    },
    {
     "name": "stdout",
     "output_type": "stream",
     "text": [
      "42772 0 -6\n",
      "ordering with data:  {'account': 'LMB73474977', 'orderType': 'limit', 'price': 4386, 'venue': u'LMJBEX', 'direction': 'buy', 'qty': 32, 'stock': u'PMII'}\n",
      "{u'ok': False, u'error': u'No venue exists with the symbol LMJBEX'}\n"
     ]
    },
    {
     "name": "stderr",
     "output_type": "stream",
     "text": [
      "INFO:requests.packages.urllib3.connectionpool:Starting new HTTPS connection (1): api.stockfighter.io\n",
      "DEBUG:requests.packages.urllib3.connectionpool:\"POST /ob/api/venues/LMJBEX/stocks/PMII/orders HTTP/1.1\" 404 62\n"
     ]
    },
    {
     "name": "stdout",
     "output_type": "stream",
     "text": [
      "42772 0 -6\n",
      "ordering with data:  {'account': 'LMB73474977', 'orderType': 'limit', 'price': 4386, 'venue': u'LMJBEX', 'direction': 'buy', 'qty': 32, 'stock': u'PMII'}\n",
      "{u'ok': False, u'error': u'No venue exists with the symbol LMJBEX'}\n"
     ]
    },
    {
     "name": "stderr",
     "output_type": "stream",
     "text": [
      "INFO:requests.packages.urllib3.connectionpool:Starting new HTTPS connection (1): api.stockfighter.io\n",
      "DEBUG:requests.packages.urllib3.connectionpool:\"POST /ob/api/venues/LMJBEX/stocks/PMII/orders HTTP/1.1\" 404 62\n"
     ]
    },
    {
     "name": "stdout",
     "output_type": "stream",
     "text": [
      "42772 0 -6\n",
      "ordering with data:  {'account': 'LMB73474977', 'orderType': 'limit', 'price': 4386, 'venue': u'LMJBEX', 'direction': 'buy', 'qty': 32, 'stock': u'PMII'}\n",
      "{u'ok': False, u'error': u'No venue exists with the symbol LMJBEX'}\n"
     ]
    },
    {
     "name": "stderr",
     "output_type": "stream",
     "text": [
      "INFO:requests.packages.urllib3.connectionpool:Starting new HTTPS connection (1): api.stockfighter.io\n",
      "DEBUG:requests.packages.urllib3.connectionpool:\"POST /ob/api/venues/LMJBEX/stocks/PMII/orders HTTP/1.1\" 404 62\n"
     ]
    },
    {
     "name": "stdout",
     "output_type": "stream",
     "text": [
      "42772 0 -6\n",
      "ordering with data:  {'account': 'LMB73474977', 'orderType': 'limit', 'price': 4386, 'venue': u'LMJBEX', 'direction': 'buy', 'qty': 32, 'stock': u'PMII'}\n",
      "{u'ok': False, u'error': u'No venue exists with the symbol LMJBEX'}\n"
     ]
    },
    {
     "name": "stderr",
     "output_type": "stream",
     "text": [
      "INFO:requests.packages.urllib3.connectionpool:Starting new HTTPS connection (1): api.stockfighter.io\n",
      "DEBUG:requests.packages.urllib3.connectionpool:\"POST /ob/api/venues/LMJBEX/stocks/PMII/orders HTTP/1.1\" 404 62\n"
     ]
    },
    {
     "name": "stdout",
     "output_type": "stream",
     "text": [
      "42772 0 -6\n",
      "ordering with data:  {'account': 'LMB73474977', 'orderType': 'limit', 'price': 4407, 'venue': u'LMJBEX', 'direction': 'buy', 'qty': 32, 'stock': u'PMII'}\n",
      "{u'ok': False, u'error': u'No venue exists with the symbol LMJBEX'}\n"
     ]
    },
    {
     "name": "stderr",
     "output_type": "stream",
     "text": [
      "INFO:requests.packages.urllib3.connectionpool:Starting new HTTPS connection (1): api.stockfighter.io\n",
      "DEBUG:requests.packages.urllib3.connectionpool:\"POST /ob/api/venues/LMJBEX/stocks/PMII/orders HTTP/1.1\" 404 62\n"
     ]
    },
    {
     "name": "stdout",
     "output_type": "stream",
     "text": [
      "42772 0 -6\n",
      "ordering with data:  {'account': 'LMB73474977', 'orderType': 'limit', 'price': 4428, 'venue': u'LMJBEX', 'direction': 'buy', 'qty': 32, 'stock': u'PMII'}\n",
      "{u'ok': False, u'error': u'No venue exists with the symbol LMJBEX'}\n"
     ]
    },
    {
     "name": "stderr",
     "output_type": "stream",
     "text": [
      "INFO:requests.packages.urllib3.connectionpool:Starting new HTTPS connection (1): api.stockfighter.io\n",
      "DEBUG:requests.packages.urllib3.connectionpool:\"POST /ob/api/venues/LMJBEX/stocks/PMII/orders HTTP/1.1\" 404 62\n"
     ]
    },
    {
     "name": "stdout",
     "output_type": "stream",
     "text": [
      "42772 0 -6\n",
      "42772 0 -6\n",
      "42772 0 -6\n",
      "42772 0 -6\n",
      "42772 0 -6\n",
      "ordering with data:  {'account': 'LMB73474977', 'orderType': 'limit', 'price': 4248, 'venue': u'LMJBEX', 'direction': 'buy', 'qty': 32, 'stock': u'PMII'}\n",
      "{u'ok': False, u'error': u'No venue exists with the symbol LMJBEX'}\n"
     ]
    },
    {
     "name": "stderr",
     "output_type": "stream",
     "text": [
      "INFO:requests.packages.urllib3.connectionpool:Starting new HTTPS connection (1): api.stockfighter.io\n",
      "DEBUG:requests.packages.urllib3.connectionpool:\"POST /ob/api/venues/LMJBEX/stocks/PMII/orders HTTP/1.1\" 404 62\n"
     ]
    },
    {
     "name": "stdout",
     "output_type": "stream",
     "text": [
      "42772 0 -6\n",
      "ordering with data:  {'account': 'LMB73474977', 'orderType': 'limit', 'price': 4228, 'venue': u'LMJBEX', 'direction': 'buy', 'qty': 32, 'stock': u'PMII'}\n",
      "{u'ok': False, u'error': u'No venue exists with the symbol LMJBEX'}\n"
     ]
    },
    {
     "name": "stderr",
     "output_type": "stream",
     "text": [
      "INFO:requests.packages.urllib3.connectionpool:Starting new HTTPS connection (1): api.stockfighter.io\n",
      "DEBUG:requests.packages.urllib3.connectionpool:\"POST /ob/api/venues/LMJBEX/stocks/PMII/orders HTTP/1.1\" 404 62\n"
     ]
    },
    {
     "name": "stdout",
     "output_type": "stream",
     "text": [
      "42772 0 -6\n",
      "ordering with data:  {'account': 'LMB73474977', 'orderType': 'limit', 'price': 4208, 'venue': u'LMJBEX', 'direction': 'buy', 'qty': 32, 'stock': u'PMII'}\n",
      "{u'ok': False, u'error': u'No venue exists with the symbol LMJBEX'}\n"
     ]
    },
    {
     "name": "stderr",
     "output_type": "stream",
     "text": [
      "INFO:requests.packages.urllib3.connectionpool:Starting new HTTPS connection (1): api.stockfighter.io\n",
      "DEBUG:requests.packages.urllib3.connectionpool:\"POST /ob/api/venues/LMJBEX/stocks/PMII/orders HTTP/1.1\" 404 62\n"
     ]
    },
    {
     "name": "stdout",
     "output_type": "stream",
     "text": [
      "42772 0 -6\n",
      "ordering with data:  {'account': 'LMB73474977', 'orderType': 'limit', 'price': 4208, 'venue': u'LMJBEX', 'direction': 'buy', 'qty': 23, 'stock': u'PMII'}\n",
      "{u'ok': False, u'error': u'No venue exists with the symbol LMJBEX'}\n"
     ]
    },
    {
     "name": "stderr",
     "output_type": "stream",
     "text": [
      "INFO:requests.packages.urllib3.connectionpool:Starting new HTTPS connection (1): api.stockfighter.io\n",
      "DEBUG:requests.packages.urllib3.connectionpool:\"POST /ob/api/venues/LMJBEX/stocks/PMII/orders HTTP/1.1\" 404 62\n"
     ]
    },
    {
     "name": "stdout",
     "output_type": "stream",
     "text": [
      "42772 0 -6\n",
      "ordering with data:  {'account': 'LMB73474977', 'orderType': 'limit', 'price': 4208, 'venue': u'LMJBEX', 'direction': 'buy', 'qty': 23, 'stock': u'PMII'}\n",
      "{u'ok': False, u'error': u'No venue exists with the symbol LMJBEX'}\n"
     ]
    },
    {
     "name": "stderr",
     "output_type": "stream",
     "text": [
      "INFO:requests.packages.urllib3.connectionpool:Starting new HTTPS connection (1): api.stockfighter.io\n",
      "DEBUG:requests.packages.urllib3.connectionpool:\"POST /ob/api/venues/LMJBEX/stocks/PMII/orders HTTP/1.1\" 404 62\n"
     ]
    },
    {
     "name": "stdout",
     "output_type": "stream",
     "text": [
      "42772 0 -6\n",
      "ordering with data:  {'account': 'LMB73474977', 'orderType': 'limit', 'price': 4208, 'venue': u'LMJBEX', 'direction': 'buy', 'qty': 23, 'stock': u'PMII'}\n",
      "{u'ok': False, u'error': u'No venue exists with the symbol LMJBEX'}\n"
     ]
    },
    {
     "name": "stderr",
     "output_type": "stream",
     "text": [
      "INFO:requests.packages.urllib3.connectionpool:Starting new HTTPS connection (1): api.stockfighter.io\n",
      "DEBUG:requests.packages.urllib3.connectionpool:\"POST /ob/api/venues/LMJBEX/stocks/PMII/orders HTTP/1.1\" 404 62\n"
     ]
    },
    {
     "name": "stdout",
     "output_type": "stream",
     "text": [
      "42772 0 -6\n",
      "ordering with data:  {'account': 'LMB73474977', 'orderType': 'limit', 'price': 4208, 'venue': u'LMJBEX', 'direction': 'buy', 'qty': 14, 'stock': u'PMII'}\n",
      "{u'ok': False, u'error': u'No venue exists with the symbol LMJBEX'}\n",
      "42772 0 -6\n",
      "ordering with data:  {'account': 'LMB73474977', 'orderType': 'limit', 'price': 4208, 'venue': u'LMJBEX', 'direction': 'buy', 'qty': 14, 'stock': u'PMII'}\n"
     ]
    },
    {
     "name": "stderr",
     "output_type": "stream",
     "text": [
      "INFO:requests.packages.urllib3.connectionpool:Starting new HTTPS connection (1): api.stockfighter.io\n",
      "DEBUG:requests.packages.urllib3.connectionpool:\"POST /ob/api/venues/LMJBEX/stocks/PMII/orders HTTP/1.1\" 404 62\n",
      "INFO:requests.packages.urllib3.connectionpool:Starting new HTTPS connection (1): api.stockfighter.io\n",
      "DEBUG:requests.packages.urllib3.connectionpool:\"POST /ob/api/venues/LMJBEX/stocks/PMII/orders HTTP/1.1\" 404 62\n"
     ]
    },
    {
     "name": "stdout",
     "output_type": "stream",
     "text": [
      "{u'ok': False, u'error': u'No venue exists with the symbol LMJBEX'}\n",
      "42772 0 -6\n",
      "ordering with data:  {'account': 'LMB73474977', 'orderType': 'limit', 'price': 4208, 'venue': u'LMJBEX', 'direction': 'buy', 'qty': 14, 'stock': u'PMII'}\n",
      "{u'ok': False, u'error': u'No venue exists with the symbol LMJBEX'}\n"
     ]
    },
    {
     "name": "stderr",
     "output_type": "stream",
     "text": [
      "INFO:requests.packages.urllib3.connectionpool:Starting new HTTPS connection (1): api.stockfighter.io\n",
      "DEBUG:requests.packages.urllib3.connectionpool:\"POST /ob/api/venues/LMJBEX/stocks/PMII/orders HTTP/1.1\" 404 62\n"
     ]
    },
    {
     "name": "stdout",
     "output_type": "stream",
     "text": [
      "42772 0 -6\n",
      "ordering with data:  {'account': 'LMB73474977', 'orderType': 'limit', 'price': 4208, 'venue': u'LMJBEX', 'direction': 'buy', 'qty': 5, 'stock': u'PMII'}\n",
      "{u'ok': False, u'error': u'No venue exists with the symbol LMJBEX'}\n"
     ]
    },
    {
     "name": "stderr",
     "output_type": "stream",
     "text": [
      "INFO:requests.packages.urllib3.connectionpool:Starting new HTTPS connection (1): api.stockfighter.io\n",
      "DEBUG:requests.packages.urllib3.connectionpool:\"POST /ob/api/venues/LMJBEX/stocks/PMII/orders HTTP/1.1\" 404 62\n"
     ]
    },
    {
     "name": "stdout",
     "output_type": "stream",
     "text": [
      "42772 0 -6\n",
      "ordering with data:  {'account': 'LMB73474977', 'orderType': 'limit', 'price': 4208, 'venue': u'LMJBEX', 'direction': 'buy', 'qty': 5, 'stock': u'PMII'}\n",
      "{u'ok': False, u'error': u'No venue exists with the symbol LMJBEX'}\n"
     ]
    },
    {
     "name": "stderr",
     "output_type": "stream",
     "text": [
      "INFO:requests.packages.urllib3.connectionpool:Starting new HTTPS connection (1): api.stockfighter.io\n",
      "DEBUG:requests.packages.urllib3.connectionpool:\"POST /ob/api/venues/LMJBEX/stocks/PMII/orders HTTP/1.1\" 404 62\n"
     ]
    },
    {
     "name": "stdout",
     "output_type": "stream",
     "text": [
      "42772 0 -6\n",
      "ordering with data:  {'account': 'LMB73474977', 'orderType': 'limit', 'price': 4208, 'venue': u'LMJBEX', 'direction': 'buy', 'qty': 5, 'stock': u'PMII'}\n",
      "{u'ok': False, u'error': u'No venue exists with the symbol LMJBEX'}\n"
     ]
    },
    {
     "name": "stderr",
     "output_type": "stream",
     "text": [
      "INFO:requests.packages.urllib3.connectionpool:Starting new HTTPS connection (1): api.stockfighter.io\n",
      "DEBUG:requests.packages.urllib3.connectionpool:\"POST /ob/api/venues/LMJBEX/stocks/PMII/orders HTTP/1.1\" 404 62\n"
     ]
    },
    {
     "name": "stdout",
     "output_type": "stream",
     "text": [
      "42772 0 -6\n",
      "ordering with data:  {'account': 'LMB73474977', 'orderType': 'limit', 'price': 4228, 'venue': u'LMJBEX', 'direction': 'buy', 'qty': 28, 'stock': u'PMII'}\n",
      "{u'ok': False, u'error': u'No venue exists with the symbol LMJBEX'}\n"
     ]
    },
    {
     "name": "stderr",
     "output_type": "stream",
     "text": [
      "INFO:requests.packages.urllib3.connectionpool:Starting new HTTPS connection (1): api.stockfighter.io\n",
      "DEBUG:requests.packages.urllib3.connectionpool:\"POST /ob/api/venues/LMJBEX/stocks/PMII/orders HTTP/1.1\" 404 62\n"
     ]
    },
    {
     "name": "stdout",
     "output_type": "stream",
     "text": [
      "42772 0 -6\n",
      "ordering with data:  {'account': 'LMB73474977', 'orderType': 'limit', 'price': 4228, 'venue': u'LMJBEX', 'direction': 'buy', 'qty': 28, 'stock': u'PMII'}\n",
      "{u'ok': False, u'error': u'No venue exists with the symbol LMJBEX'}\n"
     ]
    },
    {
     "name": "stderr",
     "output_type": "stream",
     "text": [
      "INFO:requests.packages.urllib3.connectionpool:Starting new HTTPS connection (1): api.stockfighter.io\n",
      "DEBUG:requests.packages.urllib3.connectionpool:\"POST /ob/api/venues/LMJBEX/stocks/PMII/orders HTTP/1.1\" 404 62\n"
     ]
    },
    {
     "name": "stdout",
     "output_type": "stream",
     "text": [
      "42772 0 -6\n",
      "ordering with data:  {'account': 'LMB73474977', 'orderType': 'limit', 'price': 4228, 'venue': u'LMJBEX', 'direction': 'buy', 'qty': 28, 'stock': u'PMII'}\n",
      "{u'ok': False, u'error': u'No venue exists with the symbol LMJBEX'}\n"
     ]
    },
    {
     "name": "stderr",
     "output_type": "stream",
     "text": [
      "INFO:requests.packages.urllib3.connectionpool:Starting new HTTPS connection (1): api.stockfighter.io\n",
      "DEBUG:requests.packages.urllib3.connectionpool:\"POST /ob/api/venues/LMJBEX/stocks/PMII/orders HTTP/1.1\" 404 62\n"
     ]
    },
    {
     "name": "stdout",
     "output_type": "stream",
     "text": [
      "42772 0 -6\n",
      "ordering with data:  {'account': 'LMB73474977', 'orderType': 'limit', 'price': 4248, 'venue': u'LMJBEX', 'direction': 'buy', 'qty': 32, 'stock': u'PMII'}\n",
      "{u'ok': False, u'error': u'No venue exists with the symbol LMJBEX'}\n"
     ]
    },
    {
     "name": "stderr",
     "output_type": "stream",
     "text": [
      "INFO:requests.packages.urllib3.connectionpool:Starting new HTTPS connection (1): api.stockfighter.io\n",
      "DEBUG:requests.packages.urllib3.connectionpool:\"POST /ob/api/venues/LMJBEX/stocks/PMII/orders HTTP/1.1\" 404 62\n"
     ]
    },
    {
     "name": "stdout",
     "output_type": "stream",
     "text": [
      "42772 0 -6\n",
      "42772 0 -6\n",
      "ordering with data:  {'account': 'LMB73474977', 'orderType': 'limit', 'price': 4136, 'venue': u'LMJBEX', 'direction': 'buy', 'qty': 29, 'stock': u'PMII'}\n",
      "{u'ok': False, u'error': u'No venue exists with the symbol LMJBEX'}\n"
     ]
    },
    {
     "name": "stderr",
     "output_type": "stream",
     "text": [
      "INFO:requests.packages.urllib3.connectionpool:Starting new HTTPS connection (1): api.stockfighter.io\n",
      "DEBUG:requests.packages.urllib3.connectionpool:\"POST /ob/api/venues/LMJBEX/stocks/PMII/orders HTTP/1.1\" 404 62\n"
     ]
    },
    {
     "name": "stdout",
     "output_type": "stream",
     "text": [
      "42772 0 -6\n",
      "ordering with data:  {'account': 'LMB73474977', 'orderType': 'limit', 'price': 4116, 'venue': u'LMJBEX', 'direction': 'buy', 'qty': 29, 'stock': u'PMII'}\n",
      "{u'ok': False, u'error': u'No venue exists with the symbol LMJBEX'}\n"
     ]
    },
    {
     "name": "stderr",
     "output_type": "stream",
     "text": [
      "INFO:requests.packages.urllib3.connectionpool:Starting new HTTPS connection (1): api.stockfighter.io\n",
      "DEBUG:requests.packages.urllib3.connectionpool:\"POST /ob/api/venues/LMJBEX/stocks/PMII/orders HTTP/1.1\" 404 62\n"
     ]
    },
    {
     "name": "stdout",
     "output_type": "stream",
     "text": [
      "42772 0 -6\n",
      "ordering with data:  {'account': 'LMB73474977', 'orderType': 'limit', 'price': 4096, 'venue': u'LMJBEX', 'direction': 'buy', 'qty': 29, 'stock': u'PMII'}\n",
      "{u'ok': False, u'error': u'No venue exists with the symbol LMJBEX'}\n"
     ]
    },
    {
     "name": "stderr",
     "output_type": "stream",
     "text": [
      "INFO:requests.packages.urllib3.connectionpool:Starting new HTTPS connection (1): api.stockfighter.io\n",
      "DEBUG:requests.packages.urllib3.connectionpool:\"POST /ob/api/venues/LMJBEX/stocks/PMII/orders HTTP/1.1\" 404 62\n"
     ]
    },
    {
     "name": "stdout",
     "output_type": "stream",
     "text": [
      "42772 0 -6\n",
      "ordering with data:  {'account': 'LMB73474977', 'orderType': 'limit', 'price': 4096, 'venue': u'LMJBEX', 'direction': 'buy', 'qty': 29, 'stock': u'PMII'}\n",
      "{u'ok': False, u'error': u'No venue exists with the symbol LMJBEX'}\n"
     ]
    },
    {
     "name": "stderr",
     "output_type": "stream",
     "text": [
      "INFO:requests.packages.urllib3.connectionpool:Starting new HTTPS connection (1): api.stockfighter.io\n",
      "DEBUG:requests.packages.urllib3.connectionpool:\"POST /ob/api/venues/LMJBEX/stocks/PMII/orders HTTP/1.1\" 404 62\n"
     ]
    },
    {
     "name": "stdout",
     "output_type": "stream",
     "text": [
      "42772 0 -6\n",
      "ordering with data:  {'account': 'LMB73474977', 'orderType': 'limit', 'price': 4096, 'venue': u'LMJBEX', 'direction': 'buy', 'qty': 29, 'stock': u'PMII'}\n",
      "{u'ok': False, u'error': u'No venue exists with the symbol LMJBEX'}\n"
     ]
    },
    {
     "name": "stderr",
     "output_type": "stream",
     "text": [
      "INFO:requests.packages.urllib3.connectionpool:Starting new HTTPS connection (1): api.stockfighter.io\n",
      "DEBUG:requests.packages.urllib3.connectionpool:\"POST /ob/api/venues/LMJBEX/stocks/PMII/orders HTTP/1.1\" 404 62\n"
     ]
    },
    {
     "name": "stdout",
     "output_type": "stream",
     "text": [
      "42772 0 -6\n",
      "ordering with data:  {'account': 'LMB73474977', 'orderType': 'limit', 'price': 4096, 'venue': u'LMJBEX', 'direction': 'buy', 'qty': 29, 'stock': u'PMII'}\n",
      "{u'ok': False, u'error': u'No venue exists with the symbol LMJBEX'}\n"
     ]
    },
    {
     "name": "stderr",
     "output_type": "stream",
     "text": [
      "INFO:requests.packages.urllib3.connectionpool:Starting new HTTPS connection (1): api.stockfighter.io\n",
      "DEBUG:requests.packages.urllib3.connectionpool:\"POST /ob/api/venues/LMJBEX/stocks/PMII/orders HTTP/1.1\" 404 62\n"
     ]
    },
    {
     "name": "stdout",
     "output_type": "stream",
     "text": [
      "42772 0 -6\n",
      "42772 0 -6\n",
      "42772 0 -6\n",
      "42772 0 -6\n",
      "42772 0 -6\n",
      "42772 0 -6\n",
      "42772 0 -6\n",
      "42772 0 -6\n",
      "42772 0 -6\n",
      "42772 0 -6\n",
      "42772 0 -6\n",
      "42772 0 -6\n",
      "42772 0 -6\n",
      "42772 0 -6\n",
      "42772 0 -6\n",
      "42772 0 -6\n",
      "42772 0 -6\n",
      "42772 0 -6\n",
      "42772 0 -6\n",
      "42772 0 -6\n",
      "42772 0 -6\n",
      "42772 0 -6\n",
      "42772 0 -6\n",
      "42772 0 -6\n",
      "42772 0 -6\n",
      "42772 0 -6\n",
      "42772 0 -6\n",
      "42772 0 -6\n",
      "42772 0 -6\n",
      "ordering with data:  {'account': 'LMB73474977', 'orderType': 'limit', 'price': 4136, 'venue': u'LMJBEX', 'direction': 'buy', 'qty': 20, 'stock': u'PMII'}\n",
      "{u'ok': False, u'error': u'No venue exists with the symbol LMJBEX'}\n"
     ]
    },
    {
     "name": "stderr",
     "output_type": "stream",
     "text": [
      "INFO:requests.packages.urllib3.connectionpool:Starting new HTTPS connection (1): api.stockfighter.io\n",
      "DEBUG:requests.packages.urllib3.connectionpool:\"POST /ob/api/venues/LMJBEX/stocks/PMII/orders HTTP/1.1\" 404 62\n"
     ]
    },
    {
     "name": "stdout",
     "output_type": "stream",
     "text": [
      "42772 0 -6\n",
      "ordering with data:  {'account': 'LMB73474977', 'orderType': 'limit', 'price': 4116, 'venue': u'LMJBEX', 'direction': 'buy', 'qty': 20, 'stock': u'PMII'}\n",
      "{u'ok': False, u'error': u'No venue exists with the symbol LMJBEX'}\n"
     ]
    },
    {
     "name": "stderr",
     "output_type": "stream",
     "text": [
      "INFO:requests.packages.urllib3.connectionpool:Starting new HTTPS connection (1): api.stockfighter.io\n",
      "DEBUG:requests.packages.urllib3.connectionpool:\"POST /ob/api/venues/LMJBEX/stocks/PMII/orders HTTP/1.1\" 404 62\n"
     ]
    },
    {
     "name": "stdout",
     "output_type": "stream",
     "text": [
      "42772 0 -6\n",
      "ordering with data:  {'account': 'LMB73474977', 'orderType': 'limit', 'price': 4096, 'venue': u'LMJBEX', 'direction': 'buy', 'qty': 20, 'stock': u'PMII'}\n",
      "{u'ok': False, u'error': u'No venue exists with the symbol LMJBEX'}\n"
     ]
    },
    {
     "name": "stderr",
     "output_type": "stream",
     "text": [
      "INFO:requests.packages.urllib3.connectionpool:Starting new HTTPS connection (1): api.stockfighter.io\n",
      "DEBUG:requests.packages.urllib3.connectionpool:\"POST /ob/api/venues/LMJBEX/stocks/PMII/orders HTTP/1.1\" 404 62\n"
     ]
    },
    {
     "name": "stdout",
     "output_type": "stream",
     "text": [
      "42772 0 -6\n",
      "ordering with data:  {'account': 'LMB73474977', 'orderType': 'limit', 'price': 4096, 'venue': u'LMJBEX', 'direction': 'buy', 'qty': 20, 'stock': u'PMII'}\n",
      "{u'ok': False, u'error': u'No venue exists with the symbol LMJBEX'}\n"
     ]
    },
    {
     "name": "stderr",
     "output_type": "stream",
     "text": [
      "INFO:requests.packages.urllib3.connectionpool:Starting new HTTPS connection (1): api.stockfighter.io\n",
      "DEBUG:requests.packages.urllib3.connectionpool:\"POST /ob/api/venues/LMJBEX/stocks/PMII/orders HTTP/1.1\" 404 62\n"
     ]
    },
    {
     "name": "stdout",
     "output_type": "stream",
     "text": [
      "42772 0 -6\n",
      "ordering with data:  {'account': 'LMB73474977', 'orderType': 'limit', 'price': 4096, 'venue': u'LMJBEX', 'direction': 'buy', 'qty': 20, 'stock': u'PMII'}\n",
      "{u'ok': False, u'error': u'No venue exists with the symbol LMJBEX'}\n"
     ]
    },
    {
     "name": "stderr",
     "output_type": "stream",
     "text": [
      "INFO:requests.packages.urllib3.connectionpool:Starting new HTTPS connection (1): api.stockfighter.io\n",
      "DEBUG:requests.packages.urllib3.connectionpool:\"POST /ob/api/venues/LMJBEX/stocks/PMII/orders HTTP/1.1\" 404 62\n"
     ]
    },
    {
     "name": "stdout",
     "output_type": "stream",
     "text": [
      "42772 0 -6\n",
      "ordering with data:  {'account': 'LMB73474977', 'orderType': 'limit', 'price': 4096, 'venue': u'LMJBEX', 'direction': 'buy', 'qty': 20, 'stock': u'PMII'}\n",
      "{u'ok': False, u'error': u'No venue exists with the symbol LMJBEX'}\n"
     ]
    },
    {
     "name": "stderr",
     "output_type": "stream",
     "text": [
      "INFO:requests.packages.urllib3.connectionpool:Starting new HTTPS connection (1): api.stockfighter.io\n",
      "DEBUG:requests.packages.urllib3.connectionpool:\"POST /ob/api/venues/LMJBEX/stocks/PMII/orders HTTP/1.1\" 404 62\n"
     ]
    },
    {
     "name": "stdout",
     "output_type": "stream",
     "text": [
      "42772 0 -6\n",
      "ordering with data:  {'account': 'LMB73474977', 'orderType': 'limit', 'price': 4096, 'venue': u'LMJBEX', 'direction': 'buy', 'qty': 20, 'stock': u'PMII'}\n",
      "{u'ok': False, u'error': u'No venue exists with the symbol LMJBEX'}\n"
     ]
    },
    {
     "name": "stderr",
     "output_type": "stream",
     "text": [
      "INFO:requests.packages.urllib3.connectionpool:Starting new HTTPS connection (1): api.stockfighter.io\n",
      "DEBUG:requests.packages.urllib3.connectionpool:\"POST /ob/api/venues/LMJBEX/stocks/PMII/orders HTTP/1.1\" 404 62\n"
     ]
    },
    {
     "name": "stdout",
     "output_type": "stream",
     "text": [
      "42772 0 -6\n",
      "ordering with data:  {'account': 'LMB73474977', 'orderType': 'limit', 'price': 4116, 'venue': u'LMJBEX', 'direction': 'buy', 'qty': 20, 'stock': u'PMII'}\n",
      "{u'ok': False, u'error': u'No venue exists with the symbol LMJBEX'}\n"
     ]
    },
    {
     "name": "stderr",
     "output_type": "stream",
     "text": [
      "INFO:requests.packages.urllib3.connectionpool:Starting new HTTPS connection (1): api.stockfighter.io\n",
      "DEBUG:requests.packages.urllib3.connectionpool:\"POST /ob/api/venues/LMJBEX/stocks/PMII/orders HTTP/1.1\" 404 62\n"
     ]
    },
    {
     "name": "stdout",
     "output_type": "stream",
     "text": [
      "42772 0 -6\n",
      "ordering with data:  {'account': 'LMB73474977', 'orderType': 'limit', 'price': 4136, 'venue': u'LMJBEX', 'direction': 'buy', 'qty': 20, 'stock': u'PMII'}\n",
      "{u'ok': False, u'error': u'No venue exists with the symbol LMJBEX'}\n"
     ]
    },
    {
     "name": "stderr",
     "output_type": "stream",
     "text": [
      "INFO:requests.packages.urllib3.connectionpool:Starting new HTTPS connection (1): api.stockfighter.io\n",
      "DEBUG:requests.packages.urllib3.connectionpool:\"POST /ob/api/venues/LMJBEX/stocks/PMII/orders HTTP/1.1\" 404 62\n"
     ]
    },
    {
     "name": "stdout",
     "output_type": "stream",
     "text": [
      "42772 0 -6\n",
      "42772 0 -6\n",
      "42772 0 -6\n",
      "42772 0 -6\n",
      "42772 0 -6\n",
      "42772 0 -6\n",
      "42772 0 -6\n",
      "42772 0 -6\n",
      "42772 0 -6\n",
      "42772 0 -6\n",
      "42772 0 -6\n",
      "42772 0 -6\n",
      "42772 0 -6\n",
      "42772 0 -6\n",
      "42772 0 -6\n",
      "42772 0 -6\n",
      "42772 0 -6\n",
      "42772 0 -6\n",
      "42772 0 -6\n",
      "42772 0 -6\n",
      "42772 0 -6\n",
      "42772 0 -6\n",
      "42772 0 -6\n",
      "ordering with data:  {'account': 'LMB73474977', 'orderType': 'limit', 'price': 4426, 'venue': u'LMJBEX', 'direction': 'buy', 'qty': 20, 'stock': u'PMII'}\n",
      "{u'ok': False, u'error': u'No venue exists with the symbol LMJBEX'}\n"
     ]
    },
    {
     "name": "stderr",
     "output_type": "stream",
     "text": [
      "INFO:requests.packages.urllib3.connectionpool:Starting new HTTPS connection (1): api.stockfighter.io\n",
      "DEBUG:requests.packages.urllib3.connectionpool:\"POST /ob/api/venues/LMJBEX/stocks/PMII/orders HTTP/1.1\" 404 62\n"
     ]
    },
    {
     "name": "stdout",
     "output_type": "stream",
     "text": [
      "42772 0 -6\n",
      "ordering with data:  {'account': 'LMB73474977', 'orderType': 'limit', 'price': 4405, 'venue': u'LMJBEX', 'direction': 'buy', 'qty': 20, 'stock': u'PMII'}\n",
      "{u'ok': False, u'error': u'No venue exists with the symbol LMJBEX'}\n"
     ]
    },
    {
     "name": "stderr",
     "output_type": "stream",
     "text": [
      "INFO:requests.packages.urllib3.connectionpool:Starting new HTTPS connection (1): api.stockfighter.io\n",
      "DEBUG:requests.packages.urllib3.connectionpool:\"POST /ob/api/venues/LMJBEX/stocks/PMII/orders HTTP/1.1\" 404 62\n"
     ]
    },
    {
     "name": "stdout",
     "output_type": "stream",
     "text": [
      "42772 0 -6\n",
      "ordering with data:  {'account': 'LMB73474977', 'orderType': 'limit', 'price': 4384, 'venue': u'LMJBEX', 'direction': 'buy', 'qty': 20, 'stock': u'PMII'}\n",
      "{u'ok': False, u'error': u'No venue exists with the symbol LMJBEX'}\n"
     ]
    },
    {
     "name": "stderr",
     "output_type": "stream",
     "text": [
      "INFO:requests.packages.urllib3.connectionpool:Starting new HTTPS connection (1): api.stockfighter.io\n",
      "DEBUG:requests.packages.urllib3.connectionpool:\"POST /ob/api/venues/LMJBEX/stocks/PMII/orders HTTP/1.1\" 404 62\n"
     ]
    },
    {
     "name": "stdout",
     "output_type": "stream",
     "text": [
      "42772 0 -6\n",
      "ordering with data:  {'account': 'LMB73474977', 'orderType': 'limit', 'price': 4384, 'venue': u'LMJBEX', 'direction': 'buy', 'qty': 20, 'stock': u'PMII'}\n",
      "{u'ok': False, u'error': u'No venue exists with the symbol LMJBEX'}\n"
     ]
    },
    {
     "name": "stderr",
     "output_type": "stream",
     "text": [
      "INFO:requests.packages.urllib3.connectionpool:Starting new HTTPS connection (1): api.stockfighter.io\n",
      "DEBUG:requests.packages.urllib3.connectionpool:\"POST /ob/api/venues/LMJBEX/stocks/PMII/orders HTTP/1.1\" 404 62\n"
     ]
    },
    {
     "name": "stdout",
     "output_type": "stream",
     "text": [
      "42772 0 -6\n",
      "ordering with data:  {'account': 'LMB73474977', 'orderType': 'limit', 'price': 4384, 'venue': u'LMJBEX', 'direction': 'buy', 'qty': 20, 'stock': u'PMII'}\n",
      "{u'ok': False, u'error': u'No venue exists with the symbol LMJBEX'}\n"
     ]
    },
    {
     "name": "stderr",
     "output_type": "stream",
     "text": [
      "INFO:requests.packages.urllib3.connectionpool:Starting new HTTPS connection (1): api.stockfighter.io\n",
      "DEBUG:requests.packages.urllib3.connectionpool:\"POST /ob/api/venues/LMJBEX/stocks/PMII/orders HTTP/1.1\" 404 62\n"
     ]
    },
    {
     "name": "stdout",
     "output_type": "stream",
     "text": [
      "42772 0 -6\n",
      "ordering with data:  {'account': 'LMB73474977', 'orderType': 'limit', 'price': 4384, 'venue': u'LMJBEX', 'direction': 'buy', 'qty': 20, 'stock': u'PMII'}\n",
      "{u'ok': False, u'error': u'No venue exists with the symbol LMJBEX'}\n"
     ]
    },
    {
     "name": "stderr",
     "output_type": "stream",
     "text": [
      "INFO:requests.packages.urllib3.connectionpool:Starting new HTTPS connection (1): api.stockfighter.io\n",
      "DEBUG:requests.packages.urllib3.connectionpool:\"POST /ob/api/venues/LMJBEX/stocks/PMII/orders HTTP/1.1\" 404 62\n"
     ]
    },
    {
     "name": "stdout",
     "output_type": "stream",
     "text": [
      "42772 0 -6\n",
      "ordering with data:  {'account': 'LMB73474977', 'orderType': 'limit', 'price': 4384, 'venue': u'LMJBEX', 'direction': 'buy', 'qty': 20, 'stock': u'PMII'}\n",
      "{u'ok': False, u'error': u'No venue exists with the symbol LMJBEX'}\n"
     ]
    },
    {
     "name": "stderr",
     "output_type": "stream",
     "text": [
      "INFO:requests.packages.urllib3.connectionpool:Starting new HTTPS connection (1): api.stockfighter.io\n",
      "DEBUG:requests.packages.urllib3.connectionpool:\"POST /ob/api/venues/LMJBEX/stocks/PMII/orders HTTP/1.1\" 404 62\n"
     ]
    },
    {
     "name": "stdout",
     "output_type": "stream",
     "text": [
      "42772 0 -6\n",
      "ordering with data:  {'account': 'LMB73474977', 'orderType': 'limit', 'price': 4384, 'venue': u'LMJBEX', 'direction': 'buy', 'qty': 20, 'stock': u'PMII'}\n",
      "{u'ok': False, u'error': u'No venue exists with the symbol LMJBEX'}\n"
     ]
    },
    {
     "name": "stderr",
     "output_type": "stream",
     "text": [
      "INFO:requests.packages.urllib3.connectionpool:Starting new HTTPS connection (1): api.stockfighter.io\n",
      "DEBUG:requests.packages.urllib3.connectionpool:\"POST /ob/api/venues/LMJBEX/stocks/PMII/orders HTTP/1.1\" 404 62\n"
     ]
    },
    {
     "name": "stdout",
     "output_type": "stream",
     "text": [
      "42772 0 -6\n",
      "ordering with data:  {'account': 'LMB73474977', 'orderType': 'limit', 'price': 4384, 'venue': u'LMJBEX', 'direction': 'buy', 'qty': 20, 'stock': u'PMII'}\n",
      "{u'ok': False, u'error': u'No venue exists with the symbol LMJBEX'}\n"
     ]
    },
    {
     "name": "stderr",
     "output_type": "stream",
     "text": [
      "INFO:requests.packages.urllib3.connectionpool:Starting new HTTPS connection (1): api.stockfighter.io\n",
      "DEBUG:requests.packages.urllib3.connectionpool:\"POST /ob/api/venues/LMJBEX/stocks/PMII/orders HTTP/1.1\" 404 62\n",
      "INFO:requests.packages.urllib3.connectionpool:Starting new HTTPS connection (1): api.stockfighter.io\n"
     ]
    },
    {
     "name": "stdout",
     "output_type": "stream",
     "text": [
      "42772 0 -6\n",
      "ordering with data:  {'account': 'LMB73474977', 'orderType': 'limit', 'price': 4384, 'venue': u'LMJBEX', 'direction': 'buy', 'qty': 20, 'stock': u'PMII'}\n",
      "{u'ok': False, u'error': u'No venue exists with the symbol LMJBEX'}\n",
      "42772 0 -6\n",
      "ordering with data:  {'account': 'LMB73474977', 'orderType': 'limit', 'price': 4384, 'venue': u'LMJBEX', 'direction': 'buy', 'qty': 20, 'stock': u'PMII'}\n"
     ]
    },
    {
     "name": "stderr",
     "output_type": "stream",
     "text": [
      "DEBUG:requests.packages.urllib3.connectionpool:\"POST /ob/api/venues/LMJBEX/stocks/PMII/orders HTTP/1.1\" 404 62\n",
      "INFO:requests.packages.urllib3.connectionpool:Starting new HTTPS connection (1): api.stockfighter.io\n",
      "DEBUG:requests.packages.urllib3.connectionpool:\"POST /ob/api/venues/LMJBEX/stocks/PMII/orders HTTP/1.1\" 404 62\n"
     ]
    },
    {
     "name": "stdout",
     "output_type": "stream",
     "text": [
      "{u'ok': False, u'error': u'No venue exists with the symbol LMJBEX'}\n",
      "42772 0 -6\n",
      "ordering with data:  {'account': 'LMB73474977', 'orderType': 'limit', 'price': 4384, 'venue': u'LMJBEX', 'direction': 'buy', 'qty': 20, 'stock': u'PMII'}\n",
      "{u'ok': False, u'error': u'No venue exists with the symbol LMJBEX'}\n"
     ]
    },
    {
     "name": "stderr",
     "output_type": "stream",
     "text": [
      "INFO:requests.packages.urllib3.connectionpool:Starting new HTTPS connection (1): api.stockfighter.io\n",
      "DEBUG:requests.packages.urllib3.connectionpool:\"POST /ob/api/venues/LMJBEX/stocks/PMII/orders HTTP/1.1\" 404 62\n"
     ]
    },
    {
     "name": "stdout",
     "output_type": "stream",
     "text": [
      "42772 0 -6\n",
      "ordering with data:  {'account': 'LMB73474977', 'orderType': 'limit', 'price': 4384, 'venue': u'LMJBEX', 'direction': 'buy', 'qty': 20, 'stock': u'PMII'}\n",
      "{u'ok': False, u'error': u'No venue exists with the symbol LMJBEX'}\n"
     ]
    },
    {
     "name": "stderr",
     "output_type": "stream",
     "text": [
      "INFO:requests.packages.urllib3.connectionpool:Starting new HTTPS connection (1): api.stockfighter.io\n",
      "DEBUG:requests.packages.urllib3.connectionpool:\"POST /ob/api/venues/LMJBEX/stocks/PMII/orders HTTP/1.1\" 404 62\n"
     ]
    },
    {
     "name": "stdout",
     "output_type": "stream",
     "text": [
      "42772 0 -6\n",
      "ordering with data:  {'account': 'LMB73474977', 'orderType': 'limit', 'price': 4384, 'venue': u'LMJBEX', 'direction': 'buy', 'qty': 20, 'stock': u'PMII'}\n",
      "{u'ok': False, u'error': u'No venue exists with the symbol LMJBEX'}\n"
     ]
    },
    {
     "name": "stderr",
     "output_type": "stream",
     "text": [
      "INFO:requests.packages.urllib3.connectionpool:Starting new HTTPS connection (1): api.stockfighter.io\n",
      "DEBUG:requests.packages.urllib3.connectionpool:\"POST /ob/api/venues/LMJBEX/stocks/PMII/orders HTTP/1.1\" 404 62\n"
     ]
    },
    {
     "name": "stdout",
     "output_type": "stream",
     "text": [
      "42772 0 -6\n",
      "ordering with data:  {'account': 'LMB73474977', 'orderType': 'limit', 'price': 4384, 'venue': u'LMJBEX', 'direction': 'buy', 'qty': 20, 'stock': u'PMII'}\n",
      "{u'ok': False, u'error': u'No venue exists with the symbol LMJBEX'}\n"
     ]
    },
    {
     "name": "stderr",
     "output_type": "stream",
     "text": [
      "INFO:requests.packages.urllib3.connectionpool:Starting new HTTPS connection (1): api.stockfighter.io\n",
      "DEBUG:requests.packages.urllib3.connectionpool:\"POST /ob/api/venues/LMJBEX/stocks/PMII/orders HTTP/1.1\" 404 62\n"
     ]
    },
    {
     "name": "stdout",
     "output_type": "stream",
     "text": [
      "42772 0 -6\n",
      "ordering with data:  {'account': 'LMB73474977', 'orderType': 'limit', 'price': 4384, 'venue': u'LMJBEX', 'direction': 'buy', 'qty': 20, 'stock': u'PMII'}\n",
      "{u'ok': False, u'error': u'No venue exists with the symbol LMJBEX'}\n"
     ]
    },
    {
     "name": "stderr",
     "output_type": "stream",
     "text": [
      "INFO:requests.packages.urllib3.connectionpool:Starting new HTTPS connection (1): api.stockfighter.io\n",
      "DEBUG:requests.packages.urllib3.connectionpool:\"POST /ob/api/venues/LMJBEX/stocks/PMII/orders HTTP/1.1\" 404 62\n"
     ]
    },
    {
     "name": "stdout",
     "output_type": "stream",
     "text": [
      "42772 0 -6\n",
      "ordering with data:  {'account': 'LMB73474977', 'orderType': 'limit', 'price': 4384, 'venue': u'LMJBEX', 'direction': 'buy', 'qty': 20, 'stock': u'PMII'}\n",
      "{u'ok': False, u'error': u'No venue exists with the symbol LMJBEX'}\n"
     ]
    },
    {
     "name": "stderr",
     "output_type": "stream",
     "text": [
      "INFO:requests.packages.urllib3.connectionpool:Starting new HTTPS connection (1): api.stockfighter.io\n",
      "DEBUG:requests.packages.urllib3.connectionpool:\"POST /ob/api/venues/LMJBEX/stocks/PMII/orders HTTP/1.1\" 404 62\n"
     ]
    },
    {
     "name": "stdout",
     "output_type": "stream",
     "text": [
      "42772 0 -6\n",
      "ordering with data:  {'account': 'LMB73474977', 'orderType': 'limit', 'price': 4182, 'venue': u'LMJBEX', 'direction': 'buy', 'qty': 40, 'stock': u'PMII'}\n",
      "{u'ok': False, u'error': u'No venue exists with the symbol LMJBEX'}\n"
     ]
    },
    {
     "name": "stderr",
     "output_type": "stream",
     "text": [
      "INFO:requests.packages.urllib3.connectionpool:Starting new HTTPS connection (1): api.stockfighter.io\n",
      "DEBUG:requests.packages.urllib3.connectionpool:\"POST /ob/api/venues/LMJBEX/stocks/PMII/orders HTTP/1.1\" 404 62\n"
     ]
    },
    {
     "name": "stdout",
     "output_type": "stream",
     "text": [
      "42772 0 -6\n",
      "ordering with data:  {'account': 'LMB73474977', 'orderType': 'limit', 'price': 4182, 'venue': u'LMJBEX', 'direction': 'buy', 'qty': 40, 'stock': u'PMII'}\n",
      "{u'ok': False, u'error': u'No venue exists with the symbol LMJBEX'}\n"
     ]
    },
    {
     "name": "stderr",
     "output_type": "stream",
     "text": [
      "INFO:requests.packages.urllib3.connectionpool:Starting new HTTPS connection (1): api.stockfighter.io\n",
      "DEBUG:requests.packages.urllib3.connectionpool:\"POST /ob/api/venues/LMJBEX/stocks/PMII/orders HTTP/1.1\" 404 62\n"
     ]
    },
    {
     "name": "stdout",
     "output_type": "stream",
     "text": [
      "42772 0 -6\n",
      "ordering with data:  {'account': 'LMB73474977', 'orderType': 'limit', 'price': 4182, 'venue': u'LMJBEX', 'direction': 'buy', 'qty': 40, 'stock': u'PMII'}\n",
      "{u'ok': False, u'error': u'No venue exists with the symbol LMJBEX'}\n"
     ]
    },
    {
     "name": "stderr",
     "output_type": "stream",
     "text": [
      "INFO:requests.packages.urllib3.connectionpool:Starting new HTTPS connection (1): api.stockfighter.io\n",
      "DEBUG:requests.packages.urllib3.connectionpool:\"POST /ob/api/venues/LMJBEX/stocks/PMII/orders HTTP/1.1\" 404 62\n"
     ]
    },
    {
     "name": "stdout",
     "output_type": "stream",
     "text": [
      "42772 0 -6\n",
      "ordering with data:  {'account': 'LMB73474977', 'orderType': 'limit', 'price': 4182, 'venue': u'LMJBEX', 'direction': 'buy', 'qty': 40, 'stock': u'PMII'}\n",
      "{u'ok': False, u'error': u'No venue exists with the symbol LMJBEX'}\n"
     ]
    },
    {
     "name": "stderr",
     "output_type": "stream",
     "text": [
      "INFO:requests.packages.urllib3.connectionpool:Starting new HTTPS connection (1): api.stockfighter.io\n",
      "DEBUG:requests.packages.urllib3.connectionpool:\"POST /ob/api/venues/LMJBEX/stocks/PMII/orders HTTP/1.1\" 404 62\n"
     ]
    },
    {
     "name": "stdout",
     "output_type": "stream",
     "text": [
      "42772 0 -6\n",
      "ordering with data:  {'account': 'LMB73474977', 'orderType': 'limit', 'price': 4182, 'venue': u'LMJBEX', 'direction': 'buy', 'qty': 40, 'stock': u'PMII'}\n",
      "{u'ok': False, u'error': u'No venue exists with the symbol LMJBEX'}\n"
     ]
    },
    {
     "name": "stderr",
     "output_type": "stream",
     "text": [
      "INFO:requests.packages.urllib3.connectionpool:Starting new HTTPS connection (1): api.stockfighter.io\n",
      "DEBUG:requests.packages.urllib3.connectionpool:\"POST /ob/api/venues/LMJBEX/stocks/PMII/orders HTTP/1.1\" 404 62\n"
     ]
    },
    {
     "name": "stdout",
     "output_type": "stream",
     "text": [
      "42772 0 -6\n",
      "ordering with data:  {'account': 'LMB73474977', 'orderType': 'limit', 'price': 4182, 'venue': u'LMJBEX', 'direction': 'buy', 'qty': 40, 'stock': u'PMII'}\n",
      "{u'ok': False, u'error': u'No venue exists with the symbol LMJBEX'}\n"
     ]
    },
    {
     "name": "stderr",
     "output_type": "stream",
     "text": [
      "INFO:requests.packages.urllib3.connectionpool:Starting new HTTPS connection (1): api.stockfighter.io\n",
      "DEBUG:requests.packages.urllib3.connectionpool:\"POST /ob/api/venues/LMJBEX/stocks/PMII/orders HTTP/1.1\" 404 62\n"
     ]
    },
    {
     "name": "stdout",
     "output_type": "stream",
     "text": [
      "42772 0 -6\n",
      "ordering with data:  {'account': 'LMB73474977', 'orderType': 'limit', 'price': 4182, 'venue': u'LMJBEX', 'direction': 'buy', 'qty': 40, 'stock': u'PMII'}\n",
      "{u'ok': False, u'error': u'No venue exists with the symbol LMJBEX'}\n"
     ]
    },
    {
     "name": "stderr",
     "output_type": "stream",
     "text": [
      "INFO:requests.packages.urllib3.connectionpool:Starting new HTTPS connection (1): api.stockfighter.io\n",
      "DEBUG:requests.packages.urllib3.connectionpool:\"POST /ob/api/venues/LMJBEX/stocks/PMII/orders HTTP/1.1\" 404 62\n"
     ]
    },
    {
     "name": "stdout",
     "output_type": "stream",
     "text": [
      "42772 0 -6\n",
      "ordering with data:  {'account': 'LMB73474977', 'orderType': 'limit', 'price': 4182, 'venue': u'LMJBEX', 'direction': 'buy', 'qty': 40, 'stock': u'PMII'}\n",
      "{u'ok': False, u'error': u'No venue exists with the symbol LMJBEX'}\n"
     ]
    },
    {
     "name": "stderr",
     "output_type": "stream",
     "text": [
      "INFO:requests.packages.urllib3.connectionpool:Starting new HTTPS connection (1): api.stockfighter.io\n",
      "DEBUG:requests.packages.urllib3.connectionpool:\"POST /ob/api/venues/LMJBEX/stocks/PMII/orders HTTP/1.1\" 404 62\n"
     ]
    },
    {
     "name": "stdout",
     "output_type": "stream",
     "text": [
      "42772 0 -6\n",
      "ordering with data:  {'account': 'LMB73474977', 'orderType': 'limit', 'price': 4182, 'venue': u'LMJBEX', 'direction': 'buy', 'qty': 40, 'stock': u'PMII'}\n",
      "{u'ok': False, u'error': u'No venue exists with the symbol LMJBEX'}\n"
     ]
    },
    {
     "name": "stderr",
     "output_type": "stream",
     "text": [
      "INFO:requests.packages.urllib3.connectionpool:Starting new HTTPS connection (1): api.stockfighter.io\n",
      "DEBUG:requests.packages.urllib3.connectionpool:\"POST /ob/api/venues/LMJBEX/stocks/PMII/orders HTTP/1.1\" 404 62\n"
     ]
    },
    {
     "name": "stdout",
     "output_type": "stream",
     "text": [
      "42772 0 -6\n",
      "ordering with data:  {'account': 'LMB73474977', 'orderType': 'limit', 'price': 4182, 'venue': u'LMJBEX', 'direction': 'buy', 'qty': 40, 'stock': u'PMII'}\n",
      "{u'ok': False, u'error': u'No venue exists with the symbol LMJBEX'}\n"
     ]
    },
    {
     "name": "stderr",
     "output_type": "stream",
     "text": [
      "INFO:requests.packages.urllib3.connectionpool:Starting new HTTPS connection (1): api.stockfighter.io\n",
      "DEBUG:requests.packages.urllib3.connectionpool:\"POST /ob/api/venues/LMJBEX/stocks/PMII/orders HTTP/1.1\" 404 62\n"
     ]
    },
    {
     "name": "stdout",
     "output_type": "stream",
     "text": [
      "42772 0 -6\n",
      "ordering with data:  {'account': 'LMB73474977', 'orderType': 'limit', 'price': 4182, 'venue': u'LMJBEX', 'direction': 'buy', 'qty': 40, 'stock': u'PMII'}\n",
      "{u'ok': False, u'error': u'No venue exists with the symbol LMJBEX'}\n"
     ]
    },
    {
     "name": "stderr",
     "output_type": "stream",
     "text": [
      "INFO:requests.packages.urllib3.connectionpool:Starting new HTTPS connection (1): api.stockfighter.io\n",
      "DEBUG:requests.packages.urllib3.connectionpool:\"POST /ob/api/venues/LMJBEX/stocks/PMII/orders HTTP/1.1\" 404 62\n"
     ]
    },
    {
     "name": "stdout",
     "output_type": "stream",
     "text": [
      "42772 0 -6\n",
      "ordering with data:  {'account': 'LMB73474977', 'orderType': 'limit', 'price': 4182, 'venue': u'LMJBEX', 'direction': 'buy', 'qty': 40, 'stock': u'PMII'}\n",
      "{u'ok': False, u'error': u'No venue exists with the symbol LMJBEX'}\n"
     ]
    },
    {
     "name": "stderr",
     "output_type": "stream",
     "text": [
      "INFO:requests.packages.urllib3.connectionpool:Starting new HTTPS connection (1): api.stockfighter.io\n",
      "DEBUG:requests.packages.urllib3.connectionpool:\"POST /ob/api/venues/LMJBEX/stocks/PMII/orders HTTP/1.1\" 404 62\n"
     ]
    },
    {
     "name": "stdout",
     "output_type": "stream",
     "text": [
      "42772 0 -6\n",
      "ordering with data:  {'account': 'LMB73474977', 'orderType': 'limit', 'price': 4182, 'venue': u'LMJBEX', 'direction': 'buy', 'qty': 40, 'stock': u'PMII'}\n",
      "{u'ok': False, u'error': u'No venue exists with the symbol LMJBEX'}\n"
     ]
    },
    {
     "name": "stderr",
     "output_type": "stream",
     "text": [
      "INFO:requests.packages.urllib3.connectionpool:Starting new HTTPS connection (1): api.stockfighter.io\n",
      "DEBUG:requests.packages.urllib3.connectionpool:\"POST /ob/api/venues/LMJBEX/stocks/PMII/orders HTTP/1.1\" 404 62\n"
     ]
    },
    {
     "name": "stdout",
     "output_type": "stream",
     "text": [
      "42772 0 -6\n",
      "ordering with data:  {'account': 'LMB73474977', 'orderType': 'limit', 'price': 4182, 'venue': u'LMJBEX', 'direction': 'buy', 'qty': 40, 'stock': u'PMII'}\n",
      "{u'ok': False, u'error': u'No venue exists with the symbol LMJBEX'}\n"
     ]
    },
    {
     "name": "stderr",
     "output_type": "stream",
     "text": [
      "INFO:requests.packages.urllib3.connectionpool:Starting new HTTPS connection (1): api.stockfighter.io\n",
      "DEBUG:requests.packages.urllib3.connectionpool:\"POST /ob/api/venues/LMJBEX/stocks/PMII/orders HTTP/1.1\" 404 62\n"
     ]
    },
    {
     "name": "stdout",
     "output_type": "stream",
     "text": [
      "42772 0 -6\n",
      "ordering with data:  {'account': 'LMB73474977', 'orderType': 'limit', 'price': 4199, 'venue': u'LMJBEX', 'direction': 'buy', 'qty': 30, 'stock': u'PMII'}\n",
      "{u'ok': False, u'error': u'No venue exists with the symbol LMJBEX'}\n"
     ]
    },
    {
     "name": "stderr",
     "output_type": "stream",
     "text": [
      "INFO:requests.packages.urllib3.connectionpool:Starting new HTTPS connection (1): api.stockfighter.io\n",
      "DEBUG:requests.packages.urllib3.connectionpool:\"POST /ob/api/venues/LMJBEX/stocks/PMII/orders HTTP/1.1\" 404 62\n"
     ]
    },
    {
     "name": "stdout",
     "output_type": "stream",
     "text": [
      "42772 0 -6\n",
      "ordering with data:  {'account': 'LMB73474977', 'orderType': 'limit', 'price': 4239, 'venue': u'LMJBEX', 'direction': 'buy', 'qty': 30, 'stock': u'PMII'}\n",
      "{u'ok': False, u'error': u'No venue exists with the symbol LMJBEX'}\n"
     ]
    },
    {
     "name": "stderr",
     "output_type": "stream",
     "text": [
      "INFO:requests.packages.urllib3.connectionpool:Starting new HTTPS connection (1): api.stockfighter.io\n",
      "DEBUG:requests.packages.urllib3.connectionpool:\"POST /ob/api/venues/LMJBEX/stocks/PMII/orders HTTP/1.1\" 404 62\n"
     ]
    },
    {
     "name": "stdout",
     "output_type": "stream",
     "text": [
      "42772 0 -6\n",
      "ordering with data:  {'account': 'LMB73474977', 'orderType': 'limit', 'price': 4239, 'venue': u'LMJBEX', 'direction': 'buy', 'qty': 30, 'stock': u'PMII'}\n",
      "{u'ok': False, u'error': u'No venue exists with the symbol LMJBEX'}\n"
     ]
    },
    {
     "name": "stderr",
     "output_type": "stream",
     "text": [
      "INFO:requests.packages.urllib3.connectionpool:Starting new HTTPS connection (1): api.stockfighter.io\n",
      "DEBUG:requests.packages.urllib3.connectionpool:\"POST /ob/api/venues/LMJBEX/stocks/PMII/orders HTTP/1.1\" 404 62\n"
     ]
    },
    {
     "name": "stdout",
     "output_type": "stream",
     "text": [
      "42772 0 -6\n",
      "ordering with data:  {'account': 'LMB73474977', 'orderType': 'limit', 'price': 4239, 'venue': u'LMJBEX', 'direction': 'buy', 'qty': 30, 'stock': u'PMII'}\n",
      "{u'ok': False, u'error': u'No venue exists with the symbol LMJBEX'}\n"
     ]
    },
    {
     "name": "stderr",
     "output_type": "stream",
     "text": [
      "INFO:requests.packages.urllib3.connectionpool:Starting new HTTPS connection (1): api.stockfighter.io\n",
      "DEBUG:requests.packages.urllib3.connectionpool:\"POST /ob/api/venues/LMJBEX/stocks/PMII/orders HTTP/1.1\" 404 62\n"
     ]
    },
    {
     "name": "stdout",
     "output_type": "stream",
     "text": [
      "42772 0 -6\n",
      "42772 0 -6\n",
      "ordering with data:  {'account': 'LMB73474977', 'orderType': 'limit', 'price': 4286, 'venue': u'LMJBEX', 'direction': 'buy', 'qty': 24, 'stock': u'PMII'}\n",
      "{u'ok': False, u'error': u'No venue exists with the symbol LMJBEX'}\n"
     ]
    },
    {
     "name": "stderr",
     "output_type": "stream",
     "text": [
      "INFO:requests.packages.urllib3.connectionpool:Starting new HTTPS connection (1): api.stockfighter.io\n",
      "DEBUG:requests.packages.urllib3.connectionpool:\"POST /ob/api/venues/LMJBEX/stocks/PMII/orders HTTP/1.1\" 404 62\n"
     ]
    },
    {
     "name": "stdout",
     "output_type": "stream",
     "text": [
      "42772 0 -6\n",
      "ordering with data:  {'account': 'LMB73474977', 'orderType': 'limit', 'price': 4265, 'venue': u'LMJBEX', 'direction': 'buy', 'qty': 24, 'stock': u'PMII'}\n",
      "{u'ok': False, u'error': u'No venue exists with the symbol LMJBEX'}\n"
     ]
    },
    {
     "name": "stderr",
     "output_type": "stream",
     "text": [
      "INFO:requests.packages.urllib3.connectionpool:Starting new HTTPS connection (1): api.stockfighter.io\n",
      "DEBUG:requests.packages.urllib3.connectionpool:\"POST /ob/api/venues/LMJBEX/stocks/PMII/orders HTTP/1.1\" 404 62\n"
     ]
    },
    {
     "name": "stdout",
     "output_type": "stream",
     "text": [
      "42772 0 -6\n",
      "ordering with data:  {'account': 'LMB73474977', 'orderType': 'limit', 'price': 4244, 'venue': u'LMJBEX', 'direction': 'buy', 'qty': 24, 'stock': u'PMII'}\n",
      "{u'ok': False, u'error': u'No venue exists with the symbol LMJBEX'}\n"
     ]
    },
    {
     "name": "stderr",
     "output_type": "stream",
     "text": [
      "INFO:requests.packages.urllib3.connectionpool:Starting new HTTPS connection (1): api.stockfighter.io\n",
      "DEBUG:requests.packages.urllib3.connectionpool:\"POST /ob/api/venues/LMJBEX/stocks/PMII/orders HTTP/1.1\" 404 62\n"
     ]
    },
    {
     "name": "stdout",
     "output_type": "stream",
     "text": [
      "42772 0 -6\n",
      "ordering with data:  {'account': 'LMB73474977', 'orderType': 'limit', 'price': 4244, 'venue': u'LMJBEX', 'direction': 'buy', 'qty': 24, 'stock': u'PMII'}\n",
      "{u'ok': False, u'error': u'No venue exists with the symbol LMJBEX'}\n"
     ]
    },
    {
     "name": "stderr",
     "output_type": "stream",
     "text": [
      "INFO:requests.packages.urllib3.connectionpool:Starting new HTTPS connection (1): api.stockfighter.io\n",
      "DEBUG:requests.packages.urllib3.connectionpool:\"POST /ob/api/venues/LMJBEX/stocks/PMII/orders HTTP/1.1\" 404 62\n"
     ]
    },
    {
     "name": "stdout",
     "output_type": "stream",
     "text": [
      "42772 0 -6\n",
      "ordering with data:  {'account': 'LMB73474977', 'orderType': 'limit', 'price': 4244, 'venue': u'LMJBEX', 'direction': 'buy', 'qty': 24, 'stock': u'PMII'}\n",
      "{u'ok': False, u'error': u'No venue exists with the symbol LMJBEX'}\n"
     ]
    },
    {
     "name": "stderr",
     "output_type": "stream",
     "text": [
      "INFO:requests.packages.urllib3.connectionpool:Starting new HTTPS connection (1): api.stockfighter.io\n",
      "DEBUG:requests.packages.urllib3.connectionpool:\"POST /ob/api/venues/LMJBEX/stocks/PMII/orders HTTP/1.1\" 404 62\n"
     ]
    },
    {
     "name": "stdout",
     "output_type": "stream",
     "text": [
      "42772 0 -6\n",
      "ordering with data:  {'account': 'LMB73474977', 'orderType': 'limit', 'price': 4244, 'venue': u'LMJBEX', 'direction': 'buy', 'qty': 24, 'stock': u'PMII'}\n",
      "{u'ok': False, u'error': u'No venue exists with the symbol LMJBEX'}\n"
     ]
    },
    {
     "name": "stderr",
     "output_type": "stream",
     "text": [
      "INFO:requests.packages.urllib3.connectionpool:Starting new HTTPS connection (1): api.stockfighter.io\n",
      "DEBUG:requests.packages.urllib3.connectionpool:\"POST /ob/api/venues/LMJBEX/stocks/PMII/orders HTTP/1.1\" 404 62\n"
     ]
    },
    {
     "name": "stdout",
     "output_type": "stream",
     "text": [
      "42772 0 -6\n",
      "ordering with data:  {'account': 'LMB73474977', 'orderType': 'limit', 'price': 4244, 'venue': u'LMJBEX', 'direction': 'buy', 'qty': 24, 'stock': u'PMII'}\n",
      "{u'ok': False, u'error': u'No venue exists with the symbol LMJBEX'}\n"
     ]
    },
    {
     "name": "stderr",
     "output_type": "stream",
     "text": [
      "INFO:requests.packages.urllib3.connectionpool:Starting new HTTPS connection (1): api.stockfighter.io\n",
      "DEBUG:requests.packages.urllib3.connectionpool:\"POST /ob/api/venues/LMJBEX/stocks/PMII/orders HTTP/1.1\" 404 62\n"
     ]
    },
    {
     "name": "stdout",
     "output_type": "stream",
     "text": [
      "42772 0 -6\n",
      "ordering with data:  {'account': 'LMB73474977', 'orderType': 'limit', 'price': 4244, 'venue': u'LMJBEX', 'direction': 'buy', 'qty': 24, 'stock': u'PMII'}\n",
      "{u'ok': False, u'error': u'No venue exists with the symbol LMJBEX'}\n"
     ]
    },
    {
     "name": "stderr",
     "output_type": "stream",
     "text": [
      "INFO:requests.packages.urllib3.connectionpool:Starting new HTTPS connection (1): api.stockfighter.io\n",
      "DEBUG:requests.packages.urllib3.connectionpool:\"POST /ob/api/venues/LMJBEX/stocks/PMII/orders HTTP/1.1\" 404 62\n"
     ]
    },
    {
     "name": "stdout",
     "output_type": "stream",
     "text": [
      "42772 0 -6\n",
      "ordering with data:  {'account': 'LMB73474977', 'orderType': 'limit', 'price': 4244, 'venue': u'LMJBEX', 'direction': 'buy', 'qty': 24, 'stock': u'PMII'}\n",
      "{u'ok': False, u'error': u'No venue exists with the symbol LMJBEX'}\n"
     ]
    },
    {
     "name": "stderr",
     "output_type": "stream",
     "text": [
      "DEBUG:root:send: '\\x8a\\x80W\\xaf\\x19\\xf2'\n",
      "DEBUG:root:send: '\\x88\\x829\\xca\\xc8P:\"'\n"
     ]
    }
   ],
   "source": [
    "quote_websocket(account, venue, stock, functools.partial(quote_listener, account))"
   ]
  },
  {
   "cell_type": "code",
   "execution_count": 46,
   "metadata": {
    "collapsed": false
   },
   "outputs": [
    {
     "data": {
      "text/plain": [
       "<Thread(Thread-8, started daemon 139811898119936)>"
      ]
     },
     "execution_count": 46,
     "metadata": {},
     "output_type": "execute_result"
    },
    {
     "name": "stderr",
     "output_type": "stream",
     "text": [
      "DEBUG:requests.packages.urllib3.connectionpool:\"POST /ob/api/venues/LMJBEX/stocks/PMII/orders HTTP/1.1\" 200 289\n",
      "INFO:requests.packages.urllib3.connectionpool:Starting new HTTPS connection (1): api.stockfighter.io\n"
     ]
    }
   ],
   "source": [
    "fills_websocket(account, venue, stock, functools.partial(fills_listener, account))"
   ]
  },
  {
   "cell_type": "code",
   "execution_count": 31,
   "metadata": {
    "collapsed": false
   },
   "outputs": [
    {
     "data": {
      "text/plain": [
       "(-1525849, 0, 467)"
      ]
     },
     "execution_count": 31,
     "metadata": {},
     "output_type": "execute_result"
    },
    {
     "name": "stderr",
     "output_type": "stream",
     "text": [
      "DEBUG:root:send: '\\x8a\\x80\\xa5&\\xf2)'\n"
     ]
    }
   ],
   "source": [
    "get_status(conn, account)"
   ]
  },
  {
   "cell_type": "code",
   "execution_count": null,
   "metadata": {
    "collapsed": true
   },
   "outputs": [],
   "source": [
    "def cancel_all(account, venue, stock):\n",
    "    "
   ]
  }
 ],
 "metadata": {
  "kernelspec": {
   "display_name": "Python 2",
   "language": "python",
   "name": "python2"
  },
  "language_info": {
   "codemirror_mode": {
    "name": "ipython",
    "version": 2
   },
   "file_extension": ".py",
   "mimetype": "text/x-python",
   "name": "python",
   "nbconvert_exporter": "python",
   "pygments_lexer": "ipython2",
   "version": "2.7.11"
  }
 },
 "nbformat": 4,
 "nbformat_minor": 0
}
