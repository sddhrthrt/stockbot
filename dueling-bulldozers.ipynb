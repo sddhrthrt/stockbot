{
 "cells": [
  {
   "cell_type": "code",
   "execution_count": 9,
   "metadata": {
    "collapsed": false
   },
   "outputs": [],
   "source": [
    "from bidder import *\n",
    "import websocket\n",
    "import json\n",
    "account = \"MKS43148972\"\n",
    "venue = \"CEX\"\n",
    "stock = \"AVYO\"\n",
    "header['X-Starfighter-Authorization'] = \"c8bbc206d27988125aa25e396f2f290f22109dbe\"\n",
    "\n",
    "import functools\n",
    "import random"
   ]
  },
  {
   "cell_type": "code",
   "execution_count": 10,
   "metadata": {
    "collapsed": true
   },
   "outputs": [],
   "source": [
    "amount, position = 0, 0\n",
    "avgasksize, avgbidsize = 0, 0"
   ]
  },
  {
   "cell_type": "code",
   "execution_count": null,
   "metadata": {
    "collapsed": true
   },
   "outputs": [],
   "source": [
    "amount = "
   ]
  },
  {
   "cell_type": "code",
   "execution_count": 11,
   "metadata": {
    "collapsed": false
   },
   "outputs": [],
   "source": [
    "def check_anamoly(ordersize, avgsize):\n",
    "    avgsize = (avgsize + ordersize + 0.00)/2\n",
    "    if ordersize/avgsize < 0.1:\n",
    "        return True, avgsize\n",
    "    return False, avgsize"
   ]
  },
  {
   "cell_type": "code",
   "execution_count": 12,
   "metadata": {
    "collapsed": false
   },
   "outputs": [],
   "source": [
    "def quote_listener(account, ws, message):\n",
    "    global amount, position, avgasksize, avgbidsize\n",
    "    quote = json.loads(message).get('quote', None)\n",
    "    if quote is None:\n",
    "        return\n",
    "    \n",
    "    myrate = abs(amount/position) if not position == 0 else 0\n",
    "    \n",
    "    if position < 200:\n",
    "        if 'ask' in quote:\n",
    "            anamoly, avgasksize = check_anamoly(avgasksize, quote['ask'])\n",
    "            if not anamoly and quote['ask'] < myrate - 400:\n",
    "                size = quote['askSize'] if (position - quote['askSize']) < 200 else 200\n",
    "                res = buy(account, venue, stock, quote['ask'], size, 'immediate-or-cancel')\n",
    "                if res['ok']:\n",
    "                    amount -= res['totalFilled'] * res['price']\n",
    "                    position += res['totalFilled']\n",
    "                \n",
    "    if position > -200:\n",
    "        if 'bid' in quote:\n",
    "            anamoly, avgbidsize = check_anamoly(avgbidsize, quote['bid'])\n",
    "            if not anamoly and quote['bid'] > myrate + 400:\n",
    "                size = quote['bidSize'] if (position - quote['bidSize']) > -200 else 200\n",
    "                res = sell(account, venue, stock, quote['bid'], size, 'immediate-or-cancel')\n",
    "                if res['ok']:\n",
    "                    amount += res['totalFilled'] * res['price']\n",
    "                    position -= res['totalFilled']\n",
    "    \n",
    "    "
   ]
  },
  {
   "cell_type": "code",
   "execution_count": 13,
   "metadata": {
    "collapsed": false
   },
   "outputs": [
    {
     "data": {
      "text/plain": [
       "<Thread(Thread-4, started daemon 140231621736192)>"
      ]
     },
     "execution_count": 13,
     "metadata": {},
     "output_type": "execute_result"
    },
    {
     "data": {
      "text/plain": [
       "<Thread(Thread-4, started daemon 140231621736192)>"
      ]
     },
     "execution_count": 13,
     "metadata": {},
     "output_type": "execute_result"
    },
    {
     "name": "stderr",
     "output_type": "stream",
     "text": [
      "DEBUG:root:--- request header ---\n",
      "DEBUG:root:GET /ob/api/ws/MKS43148972/venues/CEX/tickertape/stocks/AVYO HTTP/1.1\n",
      "Upgrade: websocket\n",
      "Connection: Upgrade\n",
      "Host: api.stockfighter.io:443\n",
      "Origin: http://api.stockfighter.io:443\n",
      "Sec-WebSocket-Key: iGX4AjaiwKtUff+brVUTJA==\n",
      "Sec-WebSocket-Version: 13\n",
      "\n",
      "\n",
      "DEBUG:root:--- request header ---\n",
      "DEBUG:root:GET /ob/api/ws/MKS43148972/venues/CEX/tickertape/stocks/AVYO HTTP/1.1\n",
      "Upgrade: websocket\n",
      "Connection: Upgrade\n",
      "Host: api.stockfighter.io:443\n",
      "Origin: http://api.stockfighter.io:443\n",
      "Sec-WebSocket-Key: iGX4AjaiwKtUff+brVUTJA==\n",
      "Sec-WebSocket-Version: 13\n",
      "\n",
      "\n",
      "DEBUG:root:-----------------------\n",
      "DEBUG:root:--- response header ---\n",
      "DEBUG:root:-----------------------\n",
      "DEBUG:root:--- response header ---\n",
      "DEBUG:root:HTTP/1.1 101 Switching Protocols\n",
      "DEBUG:root:HTTP/1.1 101 Switching Protocols\n",
      "DEBUG:root:Server: nginx/1.8.0\n",
      "DEBUG:root:Server: nginx/1.8.0\n",
      "DEBUG:root:Date: Wed, 20 Jan 2016 12:52:15 GMT\n",
      "DEBUG:root:Date: Wed, 20 Jan 2016 12:52:15 GMT\n",
      "DEBUG:root:Connection: upgrade\n",
      "DEBUG:root:Upgrade: websocket\n",
      "DEBUG:root:Connection: upgrade\n",
      "DEBUG:root:Upgrade: websocket\n",
      "DEBUG:root:Sec-WebSocket-Accept: g1E+NapTuLucvDkA+Q2ZdT6DKI4=\n",
      "DEBUG:root:-----------------------\n",
      "DEBUG:root:Sec-WebSocket-Accept: g1E+NapTuLucvDkA+Q2ZdT6DKI4=\n",
      "DEBUG:root:-----------------------\n",
      "INFO:requests.packages.urllib3.connectionpool:Starting new HTTPS connection (1): api.stockfighter.io\n",
      "INFO:requests.packages.urllib3.connectionpool:Starting new HTTPS connection (1): api.stockfighter.io\n",
      "DEBUG:requests.packages.urllib3.connectionpool:\"POST /ob/api/venues/CEX/stocks/AVYO/orders HTTP/1.1\" 200 401\n",
      "DEBUG:requests.packages.urllib3.connectionpool:\"POST /ob/api/venues/CEX/stocks/AVYO/orders HTTP/1.1\" 200 401\n",
      "DEBUG:root:send: '\\x8a\\x80\\xe3k\\xec\\x93'\n",
      "DEBUG:root:send: '\\x8a\\x80\\xe3k\\xec\\x93'\n",
      "DEBUG:root:send: '\\x8a\\x80\\xe6{\\xc6)'\n",
      "DEBUG:root:send: '\\x8a\\x80\\xe6{\\xc6)'\n"
     ]
    }
   ],
   "source": [
    "quote_websocket(account, venue, stock, functools.partial(quote_listener, account))"
   ]
  }
 ],
 "metadata": {
  "kernelspec": {
   "display_name": "Python 2",
   "language": "python",
   "name": "python2"
  },
  "language_info": {
   "codemirror_mode": {
    "name": "ipython",
    "version": 2
   },
   "file_extension": ".py",
   "mimetype": "text/x-python",
   "name": "python",
   "nbconvert_exporter": "python",
   "pygments_lexer": "ipython2",
   "version": "2.7.11"
  }
 },
 "nbformat": 4,
 "nbformat_minor": 0
}
